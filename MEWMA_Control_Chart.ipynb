{
  "nbformat": 4,
  "nbformat_minor": 0,
  "metadata": {
    "colab": {
      "name": "MEWMA Control Chart.ipynb",
      "provenance": [],
      "collapsed_sections": [],
      "authorship_tag": "ABX9TyP1uoklW8OvcYsRojNojWz4",
      "include_colab_link": true
    },
    "kernelspec": {
      "name": "python3",
      "display_name": "Python 3"
    },
    "language_info": {
      "name": "python"
    }
  },
  "cells": [
    {
      "cell_type": "markdown",
      "metadata": {
        "id": "view-in-github",
        "colab_type": "text"
      },
      "source": [
        "<a href=\"https://colab.research.google.com/github/changsksu/IMSE_Data_Science/blob/main/MEWMA_Control_Chart.ipynb\" target=\"_parent\"><img src=\"https://colab.research.google.com/assets/colab-badge.svg\" alt=\"Open In Colab\"/></a>"
      ]
    },
    {
      "cell_type": "markdown",
      "metadata": {
        "id": "e-5Qgbn8Drpq"
      },
      "source": [
        "# This code demonstrates how you can plot MEWMA control Chart when n=1 using the T2 statistic.\n",
        "\n",
        "---\n",
        "\n",
        "Note that this code should work for the Phase I and II of the control charting.\n",
        "Just make sure mu and sigma are estimated from the Phase I dataset."
      ]
    },
    {
      "cell_type": "code",
      "metadata": {
        "id": "-3_WWwTZwrro"
      },
      "source": [
        "# Import required libraries\n",
        "from scipy.stats import beta\n",
        "from scipy.stats import f\n",
        "from scipy.stats import multivariate_normal\n",
        "import numpy as np\n",
        "import statistics\n",
        "import matplotlib.pyplot as plt\n",
        "from matplotlib.ticker import PercentFormatter\n",
        "import seaborn as sns\n",
        "import pandas as pd\n",
        "plt.style.use('seaborn-colorblind')"
      ],
      "execution_count": null,
      "outputs": []
    },
    {
      "cell_type": "code",
      "metadata": {
        "colab": {
          "base_uri": "https://localhost:8080/"
        },
        "id": "LEs7F25yhoUD",
        "outputId": "845de852-5c8d-4c2f-bbc5-5fa61a2ff961"
      },
      "source": [
        "# retrive data for Drug Effect data k=3\n",
        "data = pd.read_csv('https://raw.githubusercontent.com/changsksu/K-State-IMSE641/master/Hotelling_T2.csv', sep=',', na_values=\".\")\n",
        "#generate the Phase I data using filter\n",
        "#use the first 18 observations to setup the control charts\n",
        "dataI= [data[['Fever', 'Pressure', 'Aches']][data['ID'] == \"Placebo\"]]\n",
        "\n",
        "#retrieve the Phase II data\n",
        "dataII= [data[['Fever', 'Pressure', 'Aches']][data['ID'] == \"Drug\"]]\n",
        "\n",
        "#all data points; the data type is a list\n",
        "dataAll=[data[['Fever', 'Pressure', 'Aches']]]\n",
        "\n",
        "dataI"
      ],
      "execution_count": null,
      "outputs": [
        {
          "output_type": "execute_result",
          "data": {
            "text/plain": [
              "[    Fever  Pressure  Aches\n",
              " 0    40.9        54     14\n",
              " 1    39.5        75     18\n",
              " 2    39.4        57     24\n",
              " 3    38.2        71     24\n",
              " 4    39.7        65     22\n",
              " 5    38.9        49     30\n",
              " 6    38.6        58     25\n",
              " 7    39.9        52     17\n",
              " 8    41.3        62     18\n",
              " 9    38.1        57     20\n",
              " 10   39.6        78     19\n",
              " 11   37.1        92     15\n",
              " 12   39.5        63     13\n",
              " 13   40.3        52     25\n",
              " 14   41.5        46     27\n",
              " 15   39.3        56     14\n",
              " 16   37.6        86     16\n",
              " 17   40.6        48     21]"
            ]
          },
          "metadata": {},
          "execution_count": 2
        }
      ]
    },
    {
      "cell_type": "code",
      "source": [
        "# this np.reshape convert the list dataI into the proper subgroup and m=18\n",
        "x1=np.reshape(dataI, (18,3))"
      ],
      "metadata": {
        "id": "yC9Gues2io6H"
      },
      "execution_count": null,
      "outputs": []
    },
    {
      "cell_type": "code",
      "metadata": {
        "id": "9kwCuRwjlp4k"
      },
      "source": [
        "# this np.reshape convert the list dataI into the proper subgroup and m=38\n",
        "x3=np.reshape(dataAll, (38,3))\n",
        "x3"
      ],
      "execution_count": null,
      "outputs": []
    },
    {
      "cell_type": "code",
      "source": [
        "# compute column means since x1 is the Phase I data\n",
        "mean1=np.mean(x1, axis=0)\n",
        "mean1"
      ],
      "metadata": {
        "colab": {
          "base_uri": "https://localhost:8080/"
        },
        "id": "gYP6p3Y9LKx8",
        "outputId": "b508be5c-d2ab-4a95-e82f-868ceae64ab1"
      },
      "execution_count": null,
      "outputs": [
        {
          "output_type": "execute_result",
          "data": {
            "text/plain": [
              "array([39.44444444, 62.27777778, 20.11111111])"
            ]
          },
          "metadata": {},
          "execution_count": 23
        }
      ]
    },
    {
      "cell_type": "code",
      "source": [
        "# compute the covariance matrix based on Phase I data\n",
        "matcov1 = np.cov(x1.T)\n",
        "matcov1"
      ],
      "metadata": {
        "colab": {
          "base_uri": "https://localhost:8080/"
        },
        "id": "eg-ledmjMFt9",
        "outputId": "0dba1f4e-3a96-478a-8891-5e08c655944d"
      },
      "execution_count": null,
      "outputs": [
        {
          "output_type": "execute_result",
          "data": {
            "text/plain": [
              "array([[  1.49673203, -10.43071895,   0.64771242],\n",
              "       [-10.43071895, 175.15359477, -28.5620915 ],\n",
              "       [  0.64771242, -28.5620915 ,  24.45751634]])"
            ]
          },
          "metadata": {},
          "execution_count": 24
        }
      ]
    },
    {
      "cell_type": "code",
      "source": [
        "x1[0]"
      ],
      "metadata": {
        "colab": {
          "base_uri": "https://localhost:8080/"
        },
        "id": "u0N7ScNI154o",
        "outputId": "46db1823-c78d-4399-87d5-20c5eb699ffe"
      },
      "execution_count": null,
      "outputs": [
        {
          "output_type": "execute_result",
          "data": {
            "text/plain": [
              "array([40.9, 54. , 14. ])"
            ]
          },
          "metadata": {},
          "execution_count": 26
        }
      ]
    },
    {
      "cell_type": "code",
      "source": [
        "dif=x1[0]-mean1\n",
        "dif"
      ],
      "metadata": {
        "colab": {
          "base_uri": "https://localhost:8080/"
        },
        "id": "6X99UysM2Cpe",
        "outputId": "7e994def-21d9-4c24-81b0-de21365bf035"
      },
      "execution_count": null,
      "outputs": [
        {
          "output_type": "execute_result",
          "data": {
            "text/plain": [
              "array([ 1.45555556, -8.27777778, -6.11111111])"
            ]
          },
          "metadata": {},
          "execution_count": 28
        }
      ]
    },
    {
      "cell_type": "code",
      "source": [
        "lam=0.15\n",
        "Ztminus1=0\n",
        "Zt= lam * dif + (1-lam) * Ztminus1\n",
        "Zt"
      ],
      "metadata": {
        "colab": {
          "base_uri": "https://localhost:8080/"
        },
        "id": "ffIlOlWA2SY3",
        "outputId": "96bbbc5e-db1e-4166-90b6-11061c778b59"
      },
      "execution_count": null,
      "outputs": [
        {
          "output_type": "execute_result",
          "data": {
            "text/plain": [
              "array([ 0.17333333, -2.14166667,  0.13333333])"
            ]
          },
          "metadata": {},
          "execution_count": 58
        }
      ]
    },
    {
      "cell_type": "code",
      "source": [
        " # validating the computational results in the function def fit(self, data, lam, H, mu, sigma):\n",
        " Z = []\n",
        " DIF=[]\n",
        "Ztminus1=np.zeros(3)\n",
        "for sample in x1:\n",
        "    dif = sample - mean1\n",
        "    Zt= lam * dif + (1-lam) * Ztminus1\n",
        "    Z.append(Zt)\n",
        "    Ztminus1=Zt\n",
        "    DIF.append(dif)\n",
        "DIF"
      ],
      "metadata": {
        "colab": {
          "base_uri": "https://localhost:8080/"
        },
        "id": "OVL1wOc89SzX",
        "outputId": "ab627fdf-6f30-467a-f16a-feae830e7a63"
      },
      "execution_count": null,
      "outputs": [
        {
          "output_type": "execute_result",
          "data": {
            "text/plain": [
              "[array([ 1.45555556, -8.27777778, -6.11111111]),\n",
              " array([ 0.05555556, 12.72222222, -2.11111111]),\n",
              " array([-0.04444444, -5.27777778,  3.88888889]),\n",
              " array([-1.24444444,  8.72222222,  3.88888889]),\n",
              " array([0.25555556, 2.72222222, 1.88888889]),\n",
              " array([ -0.54444444, -13.27777778,   9.88888889]),\n",
              " array([-0.84444444, -4.27777778,  4.88888889]),\n",
              " array([  0.45555556, -10.27777778,  -3.11111111]),\n",
              " array([ 1.85555556, -0.27777778, -2.11111111]),\n",
              " array([-1.34444444, -5.27777778, -0.11111111]),\n",
              " array([ 0.15555556, 15.72222222, -1.11111111]),\n",
              " array([-2.34444444, 29.72222222, -5.11111111]),\n",
              " array([ 0.05555556,  0.72222222, -7.11111111]),\n",
              " array([  0.85555556, -10.27777778,   4.88888889]),\n",
              " array([  2.05555556, -16.27777778,   6.88888889]),\n",
              " array([-0.14444444, -6.27777778, -6.11111111]),\n",
              " array([-1.84444444, 23.72222222, -4.11111111]),\n",
              " array([  1.15555556, -14.27777778,   0.88888889])]"
            ]
          },
          "metadata": {},
          "execution_count": 59
        }
      ]
    },
    {
      "cell_type": "code",
      "source": [
        "# compute the center line of the MEWMA chart\n",
        "matcov =lam/(2-lam) * matcov1\n",
        "matinv = np.linalg.inv(matcov)  \n",
        "dif_avgs=np.mean(DIF, axis=0)  \n",
        "dif_avgs"
      ],
      "metadata": {
        "colab": {
          "base_uri": "https://localhost:8080/"
        },
        "id": "aCMdbUGx2IOd",
        "outputId": "764f6e6f-b751-411d-acbb-0e0026924667"
      },
      "execution_count": null,
      "outputs": [
        {
          "output_type": "execute_result",
          "data": {
            "text/plain": [
              "array([ 1.57898386e-15, -7.89491929e-16,  3.94745964e-16])"
            ]
          },
          "metadata": {},
          "execution_count": 60
        }
      ]
    },
    {
      "cell_type": "code",
      "source": [
        "matinv.dot(dif_avgs.T).dot(dif_avgs)"
      ],
      "metadata": {
        "colab": {
          "base_uri": "https://localhost:8080/"
        },
        "id": "1A99JBL0_JqJ",
        "outputId": "f4b92d17-db71-4c05-fd2f-e59b001d8f2d"
      },
      "execution_count": null,
      "outputs": [
        {
          "output_type": "execute_result",
          "data": {
            "text/plain": [
              "3.606250652791537e-29"
            ]
          },
          "metadata": {},
          "execution_count": 61
        }
      ]
    },
    {
      "cell_type": "code",
      "source": [
        "class MEWMA:\n",
        "\n",
        "    _title = \"MEWMA Control Chart\"\n",
        "\n",
        "    def fit(self, data, lam, H, mu, sigma):\n",
        "        # H is the upper control limits & lam is the EWMA coef lambda\n",
        "        self.data = np.array(data)\n",
        "        self.numsample = len(data)\n",
        "        #size is p the number of variates\n",
        "        self.size=len(np.mean(x1, axis=0))\n",
        "        self.lam=lam\n",
        "        self.H=H\n",
        "        Z = []\n",
        "        DIF=[]\n",
        "        Ztminus1=np.zeros(self.size)\n",
        "        for sample in data:\n",
        "            dif = sample - mu\n",
        "            Zt= lam * dif + (1-lam) * Ztminus1\n",
        "            Z.append(Zt)\n",
        "            Ztminus1=Zt\n",
        "            DIF.append(dif)\n",
        "\n",
        "        # compute EWMA and T2 statistics\n",
        "        colmean = np.mean(data, axis=0)\n",
        "        values = []\n",
        "        i=1\n",
        "        for zi in Z:\n",
        "            matcov = lam*(1-(1-lam)**(2*i))/(2-lam) * sigma\n",
        "            matinv = np.linalg.inv(matcov)      \n",
        "            value = matinv.dot(zi.T).dot(zi)\n",
        "            values.append(value)\n",
        "            i+=1 \n",
        "        \n",
        "        matcov = lam/(2-lam) * sigma\n",
        "        matinv = np.linalg.inv(matcov)  \n",
        "        dif_avgs=np.mean(DIF, axis=0)    \n",
        "       \n",
        "        self.T2=values\n",
        "        self.lcl = 0\n",
        "        self.center = matinv.dot(dif_avgs.T).dot(dif_avgs)\n",
        "        self.ucl = H\n",
        "\n",
        "        #return (values, center, lcl, ucl, self._title)\n",
        "\n",
        "    def ControlChart(self):\n",
        "        ucl = np.zeros(self.numsample)\n",
        "        lcl = np.zeros(self.numsample)\n",
        "              \n",
        "        for i in range(self.numsample):\n",
        "            lcl[i] = self.lcl\n",
        "            ucl[i] = self.ucl\n",
        "              \n",
        "        plt.figure(figsize=(15,5))\n",
        "        plt.plot(self.T2,marker=\"o\",color=\"k\",label=\"T2\")\n",
        "        plt.plot([self.center]*self.numsample,color=\"k\",alpha=0.35)\n",
        "        plt.plot(ucl,color=\"r\",label=\"UCL {}\".format(ucl[len(ucl)-1].round(2)))\n",
        "        plt.plot(lcl,color=\"r\",label=\"LCL {}\".format(lcl[len(lcl)-1].round(2)))\n",
        "        plt.title(\"MEWMA Conrol Chart\")\n",
        "        plt.legend(loc=\"upper left\")\n",
        "        plt.show()\n"
      ],
      "metadata": {
        "id": "utFnZWP9hMPn"
      },
      "execution_count": null,
      "outputs": []
    },
    {
      "cell_type": "code",
      "source": [
        "# This chart is for Phase I or Phase II assuming all mean and sigma are estimated\n",
        "# In this block, only Phase I data is plotted\n",
        "# size is the number of variables\n",
        "chart = MEWMA()\n",
        "# use lambda=0.15 H=11 for delta=1.5 Ref Prabhu and Runger 1997\n",
        "chart.fit(data=x1, lam=0.2, H=11, mu=mean1, sigma=matcov1)\n",
        "chart.ControlChart()"
      ],
      "metadata": {
        "id": "xT_idpTtrfDX",
        "colab": {
          "base_uri": "https://localhost:8080/",
          "height": 336
        },
        "outputId": "bee54a5d-6ce3-4769-82c6-3dbbd295e83c"
      },
      "execution_count": null,
      "outputs": [
        {
          "output_type": "display_data",
          "data": {
            "text/plain": [
              "<Figure size 1080x360 with 1 Axes>"
            ],
            "image/png": "[encoded data removed]"
          },
          "metadata": {
            "needs_background": "light"
          }
        }
      ]
    },
    {
      "cell_type": "markdown",
      "source": [
        "# **Now we will use the mean and sigma estimated from the Phase I process above and plot all data**"
      ],
      "metadata": {
        "id": "uQd15eVG7LD5"
      }
    },
    {
      "cell_type": "markdown",
      "metadata": {
        "id": "YkyyjyeOEEwU"
      },
      "source": [
        "Your turn: how do you control the mean and std so that only the Phase I data is used? Note that the following chart should use the same control limits as the phase I chart."
      ]
    },
    {
      "cell_type": "code",
      "source": [
        "# all data is converted into a proper matrix\n",
        "x3=np.reshape(dataAll, (38,3))"
      ],
      "metadata": {
        "id": "xXObcmaNTKf6"
      },
      "execution_count": null,
      "outputs": []
    },
    {
      "cell_type": "code",
      "source": [
        "# Now plot Phase II assuming all mean and sigma are estimated from Phase I data set\n",
        "chart = MEWMA()\n",
        "# use lambda=0.15 H=11 for delta=1.5 Ref Prabhu and Runger 1997\n",
        "chart.fit(data=x3, lam=0.2, H=11, mu=mean1, sigma=matcov1)\n",
        "chart.ControlChart()"
      ],
      "metadata": {
        "colab": {
          "base_uri": "https://localhost:8080/",
          "height": 336
        },
        "id": "myjtzibXS-Eq",
        "outputId": "f8da14bf-13af-467c-e6f8-3c53bc468aa8"
      },
      "execution_count": null,
      "outputs": [
        {
          "output_type": "display_data",
          "data": {
            "text/plain": [
              "<Figure size 1080x360 with 1 Axes>"
            ],
            "image/png": "[encoded data removed]"
          },
          "metadata": {
            "needs_background": "light"
          }
        }
      ]
    },
    {
      "cell_type": "markdown",
      "source": [
        "Note that the first 18 samples are for patients with placebo while the last 20 observations are ptients with drug treamtment. The MEWMA allows the minor differences in each sample to become prominent "
      ],
      "metadata": {
        "id": "MXsGJxrG43TI"
      }
    }
  ]
}