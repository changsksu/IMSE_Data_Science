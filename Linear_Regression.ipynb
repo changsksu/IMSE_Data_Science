{
  "nbformat": 4,
  "nbformat_minor": 0,
  "metadata": {
    "colab": {
      "provenance": [],
      "collapsed_sections": [],
      "authorship_tag": "ABX9TyO7quJ7ob8d6MqRosr8vDGE",
      "include_colab_link": true
    },
    "kernelspec": {
      "name": "python3",
      "display_name": "Python 3"
    },
    "language_info": {
      "name": "python"
    }
  },
  "cells": [
    {
      "cell_type": "markdown",
      "metadata": {
        "id": "view-in-github",
        "colab_type": "text"
      },
      "source": [
        "<a href=\"https://colab.research.google.com/github/changsksu/IMSE_Data_Science/blob/main/Linear_Regression.ipynb\" target=\"_parent\"><img src=\"https://colab.research.google.com/assets/colab-badge.svg\" alt=\"Open In Colab\"/></a>"
      ]
    },
    {
      "cell_type": "markdown",
      "source": [
        "#This notebook demonstrates the use of simple and multiple linear regression"
      ],
      "metadata": {
        "id": "qjTtABaFb1Oy"
      }
    },
    {
      "cell_type": "code",
      "metadata": {
        "id": "DVXUw7fRXYeb"
      },
      "source": [
        "import math\n",
        "import statistics\n",
        "import numpy as np\n",
        "import scipy.stats\n",
        "from scipy import stats\n",
        "from scipy.stats import f_oneway\n",
        "import pandas as pd\n",
        "import matplotlib.pyplot as plt\n",
        "import statsmodels.api as sm\n",
        "from statsmodels.formula.api import ols\n",
        "import statsmodels.stats.multicomp as mc"
      ],
      "execution_count": 6,
      "outputs": []
    },
    {
      "cell_type": "markdown",
      "source": [
        "# Example 1. Simple Regression (one Factor)"
      ],
      "metadata": {
        "id": "frGVAbHZgirI"
      }
    },
    {
      "cell_type": "code",
      "metadata": {
        "colab": {
          "base_uri": "https://localhost:8080/",
          "height": 802
        },
        "id": "rPRS3xfqXmRl",
        "outputId": "1bd77b81-ff83-403a-fad2-a41088cead0d"
      },
      "source": [
        "# the data file is in Github\n",
        "# Montgomery 7ed Example 4.5.1\n",
        "data = pd.read_csv('https://raw.githubusercontent.com/changsksu/KState_IMSE541/main/paper%20strength%20one-way%20ANOVA.csv', sep=',', na_values=\".\")\n",
        "\n",
        "data  "
      ],
      "execution_count": 7,
      "outputs": [
        {
          "output_type": "execute_result",
          "data": {
            "text/plain": [
              "    Obs  Conc  Strength\n",
              "0     1     5         7\n",
              "1     2     5         8\n",
              "2     3     5        15\n",
              "3     4     5        11\n",
              "4     5     5         9\n",
              "5     6     5        10\n",
              "6     1    10        12\n",
              "7     2    10        17\n",
              "8     3    10        13\n",
              "9     4    10        18\n",
              "10    5    10        19\n",
              "11    6    10        15\n",
              "12    1    15        14\n",
              "13    2    15        18\n",
              "14    3    15        19\n",
              "15    4    15        17\n",
              "16    5    15        16\n",
              "17    6    15        18\n",
              "18    1    20        19\n",
              "19    2    20        25\n",
              "20    3    20        22\n",
              "21    4    20        23\n",
              "22    5    20        18\n",
              "23    6    20        20"
            ],
            "text/html": [
              "\n",
              "  <div id=\"df-3d81b741-3246-4683-8a0a-6ae2574117d4\">\n",
              "    <div class=\"colab-df-container\">\n",
              "      <div>\n",
              "<style scoped>\n",
              "    .dataframe tbody tr th:only-of-type {\n",
              "        vertical-align: middle;\n",
              "    }\n",
              "\n",
              "    .dataframe tbody tr th {\n",
              "        vertical-align: top;\n",
              "    }\n",
              "\n",
              "    .dataframe thead th {\n",
              "        text-align: right;\n",
              "    }\n",
              "</style>\n",
              "<table border=\"1\" class=\"dataframe\">\n",
              "  <thead>\n",
              "    <tr style=\"text-align: right;\">\n",
              "      <th></th>\n",
              "      <th>Obs</th>\n",
              "      <th>Conc</th>\n",
              "      <th>Strength</th>\n",
              "    </tr>\n",
              "  </thead>\n",
              "  <tbody>\n",
              "    <tr>\n",
              "      <th>0</th>\n",
              "      <td>1</td>\n",
              "      <td>5</td>\n",
              "      <td>7</td>\n",
              "    </tr>\n",
              "    <tr>\n",
              "      <th>1</th>\n",
              "      <td>2</td>\n",
              "      <td>5</td>\n",
              "      <td>8</td>\n",
              "    </tr>\n",
              "    <tr>\n",
              "      <th>2</th>\n",
              "      <td>3</td>\n",
              "      <td>5</td>\n",
              "      <td>15</td>\n",
              "    </tr>\n",
              "    <tr>\n",
              "      <th>3</th>\n",
              "      <td>4</td>\n",
              "      <td>5</td>\n",
              "      <td>11</td>\n",
              "    </tr>\n",
              "    <tr>\n",
              "      <th>4</th>\n",
              "      <td>5</td>\n",
              "      <td>5</td>\n",
              "      <td>9</td>\n",
              "    </tr>\n",
              "    <tr>\n",
              "      <th>5</th>\n",
              "      <td>6</td>\n",
              "      <td>5</td>\n",
              "      <td>10</td>\n",
              "    </tr>\n",
              "    <tr>\n",
              "      <th>6</th>\n",
              "      <td>1</td>\n",
              "      <td>10</td>\n",
              "      <td>12</td>\n",
              "    </tr>\n",
              "    <tr>\n",
              "      <th>7</th>\n",
              "      <td>2</td>\n",
              "      <td>10</td>\n",
              "      <td>17</td>\n",
              "    </tr>\n",
              "    <tr>\n",
              "      <th>8</th>\n",
              "      <td>3</td>\n",
              "      <td>10</td>\n",
              "      <td>13</td>\n",
              "    </tr>\n",
              "    <tr>\n",
              "      <th>9</th>\n",
              "      <td>4</td>\n",
              "      <td>10</td>\n",
              "      <td>18</td>\n",
              "    </tr>\n",
              "    <tr>\n",
              "      <th>10</th>\n",
              "      <td>5</td>\n",
              "      <td>10</td>\n",
              "      <td>19</td>\n",
              "    </tr>\n",
              "    <tr>\n",
              "      <th>11</th>\n",
              "      <td>6</td>\n",
              "      <td>10</td>\n",
              "      <td>15</td>\n",
              "    </tr>\n",
              "    <tr>\n",
              "      <th>12</th>\n",
              "      <td>1</td>\n",
              "      <td>15</td>\n",
              "      <td>14</td>\n",
              "    </tr>\n",
              "    <tr>\n",
              "      <th>13</th>\n",
              "      <td>2</td>\n",
              "      <td>15</td>\n",
              "      <td>18</td>\n",
              "    </tr>\n",
              "    <tr>\n",
              "      <th>14</th>\n",
              "      <td>3</td>\n",
              "      <td>15</td>\n",
              "      <td>19</td>\n",
              "    </tr>\n",
              "    <tr>\n",
              "      <th>15</th>\n",
              "      <td>4</td>\n",
              "      <td>15</td>\n",
              "      <td>17</td>\n",
              "    </tr>\n",
              "    <tr>\n",
              "      <th>16</th>\n",
              "      <td>5</td>\n",
              "      <td>15</td>\n",
              "      <td>16</td>\n",
              "    </tr>\n",
              "    <tr>\n",
              "      <th>17</th>\n",
              "      <td>6</td>\n",
              "      <td>15</td>\n",
              "      <td>18</td>\n",
              "    </tr>\n",
              "    <tr>\n",
              "      <th>18</th>\n",
              "      <td>1</td>\n",
              "      <td>20</td>\n",
              "      <td>19</td>\n",
              "    </tr>\n",
              "    <tr>\n",
              "      <th>19</th>\n",
              "      <td>2</td>\n",
              "      <td>20</td>\n",
              "      <td>25</td>\n",
              "    </tr>\n",
              "    <tr>\n",
              "      <th>20</th>\n",
              "      <td>3</td>\n",
              "      <td>20</td>\n",
              "      <td>22</td>\n",
              "    </tr>\n",
              "    <tr>\n",
              "      <th>21</th>\n",
              "      <td>4</td>\n",
              "      <td>20</td>\n",
              "      <td>23</td>\n",
              "    </tr>\n",
              "    <tr>\n",
              "      <th>22</th>\n",
              "      <td>5</td>\n",
              "      <td>20</td>\n",
              "      <td>18</td>\n",
              "    </tr>\n",
              "    <tr>\n",
              "      <th>23</th>\n",
              "      <td>6</td>\n",
              "      <td>20</td>\n",
              "      <td>20</td>\n",
              "    </tr>\n",
              "  </tbody>\n",
              "</table>\n",
              "</div>\n",
              "      <button class=\"colab-df-convert\" onclick=\"convertToInteractive('df-3d81b741-3246-4683-8a0a-6ae2574117d4')\"\n",
              "              title=\"Convert this dataframe to an interactive table.\"\n",
              "              style=\"display:none;\">\n",
              "        \n",
              "  <svg xmlns=\"http://www.w3.org/2000/svg\" height=\"24px\"viewBox=\"0 0 24 24\"\n",
              "       width=\"24px\">\n",
              "    <path d=\"M0 0h24v24H0V0z\" fill=\"none\"/>\n",
              "    <path d=\"M18.56 5.44l.94 2.06.94-2.06 2.06-.94-2.06-.94-.94-2.06-.94 2.06-2.06.94zm-11 1L8.5 8.5l.94-2.06 2.06-.94-2.06-.94L8.5 2.5l-.94 2.06-2.06.94zm10 10l.94 2.06.94-2.06 2.06-.94-2.06-.94-.94-2.06-.94 2.06-2.06.94z\"/><path d=\"M17.41 7.96l-1.37-1.37c-.4-.4-.92-.59-1.43-.59-.52 0-1.04.2-1.43.59L10.3 9.45l-7.72 7.72c-.78.78-.78 2.05 0 2.83L4 21.41c.39.39.9.59 1.41.59.51 0 1.02-.2 1.41-.59l7.78-7.78 2.81-2.81c.8-.78.8-2.07 0-2.86zM5.41 20L4 18.59l7.72-7.72 1.47 1.35L5.41 20z\"/>\n",
              "  </svg>\n",
              "      </button>\n",
              "      \n",
              "  <style>\n",
              "    .colab-df-container {\n",
              "      display:flex;\n",
              "      flex-wrap:wrap;\n",
              "      gap: 12px;\n",
              "    }\n",
              "\n",
              "    .colab-df-convert {\n",
              "      background-color: #E8F0FE;\n",
              "      border: none;\n",
              "      border-radius: 50%;\n",
              "      cursor: pointer;\n",
              "      display: none;\n",
              "      fill: #1967D2;\n",
              "      height: 32px;\n",
              "      padding: 0 0 0 0;\n",
              "      width: 32px;\n",
              "    }\n",
              "\n",
              "    .colab-df-convert:hover {\n",
              "      background-color: #E2EBFA;\n",
              "      box-shadow: 0px 1px 2px rgba(60, 64, 67, 0.3), 0px 1px 3px 1px rgba(60, 64, 67, 0.15);\n",
              "      fill: #174EA6;\n",
              "    }\n",
              "\n",
              "    [theme=dark] .colab-df-convert {\n",
              "      background-color: #3B4455;\n",
              "      fill: #D2E3FC;\n",
              "    }\n",
              "\n",
              "    [theme=dark] .colab-df-convert:hover {\n",
              "      background-color: #434B5C;\n",
              "      box-shadow: 0px 1px 3px 1px rgba(0, 0, 0, 0.15);\n",
              "      filter: drop-shadow(0px 1px 2px rgba(0, 0, 0, 0.3));\n",
              "      fill: #FFFFFF;\n",
              "    }\n",
              "  </style>\n",
              "\n",
              "      <script>\n",
              "        const buttonEl =\n",
              "          document.querySelector('#df-3d81b741-3246-4683-8a0a-6ae2574117d4 button.colab-df-convert');\n",
              "        buttonEl.style.display =\n",
              "          google.colab.kernel.accessAllowed ? 'block' : 'none';\n",
              "\n",
              "        async function convertToInteractive(key) {\n",
              "          const element = document.querySelector('#df-3d81b741-3246-4683-8a0a-6ae2574117d4');\n",
              "          const dataTable =\n",
              "            await google.colab.kernel.invokeFunction('convertToInteractive',\n",
              "                                                     [key], {});\n",
              "          if (!dataTable) return;\n",
              "\n",
              "          const docLinkHtml = 'Like what you see? Visit the ' +\n",
              "            '<a target=\"_blank\" href=https://colab.research.google.com/notebooks/data_table.ipynb>data table notebook</a>'\n",
              "            + ' to learn more about interactive tables.';\n",
              "          element.innerHTML = '';\n",
              "          dataTable['output_type'] = 'display_data';\n",
              "          await google.colab.output.renderOutput(dataTable, element);\n",
              "          const docLink = document.createElement('div');\n",
              "          docLink.innerHTML = docLinkHtml;\n",
              "          element.appendChild(docLink);\n",
              "        }\n",
              "      </script>\n",
              "    </div>\n",
              "  </div>\n",
              "  "
            ]
          },
          "metadata": {},
          "execution_count": 7
        }
      ]
    },
    {
      "cell_type": "code",
      "metadata": {
        "colab": {
          "base_uri": "https://localhost:8080/"
        },
        "id": "yVQmlTtVX1oO",
        "outputId": "425dbce5-30a8-42be-d824-1a26a3607745"
      },
      "source": [
        "#1st example: simple linear regression with one variable\n",
        "#there is only variable or factor: hardwood conceptration; \n",
        "#you can also use C(Conc) in the model statement to generate a more specific output\n",
        "#response: strength\n",
        "\n",
        "model = ols('Strength ~ Conc', data).fit()\n",
        "print(model.summary())"
      ],
      "execution_count": 8,
      "outputs": [
        {
          "output_type": "stream",
          "name": "stdout",
          "text": [
            "                            OLS Regression Results                            \n",
            "==============================================================================\n",
            "Dep. Variable:               Strength   R-squared:                       0.710\n",
            "Model:                            OLS   Adj. R-squared:                  0.696\n",
            "Method:                 Least Squares   F-statistic:                     53.76\n",
            "Date:                Tue, 20 Sep 2022   Prob (F-statistic):           2.43e-07\n",
            "Time:                        20:08:54   Log-Likelihood:                -55.961\n",
            "No. Observations:                  24   AIC:                             115.9\n",
            "Df Residuals:                      22   BIC:                             118.3\n",
            "Df Model:                           1                                         \n",
            "Covariance Type:            nonrobust                                         \n",
            "==============================================================================\n",
            "                 coef    std err          t      P>|t|      [0.025      0.975]\n",
            "------------------------------------------------------------------------------\n",
            "Intercept      7.2500      1.301      5.573      0.000       4.552       9.948\n",
            "Conc           0.6967      0.095      7.332      0.000       0.500       0.894\n",
            "==============================================================================\n",
            "Omnibus:                        1.760   Durbin-Watson:                   1.903\n",
            "Prob(Omnibus):                  0.415   Jarque-Bera (JB):                1.325\n",
            "Skew:                           0.368   Prob(JB):                        0.515\n",
            "Kurtosis:                       2.116   Cond. No.                         33.7\n",
            "==============================================================================\n",
            "\n",
            "Notes:\n",
            "[1] Standard Errors assume that the covariance matrix of the errors is correctly specified.\n"
          ]
        }
      ]
    },
    {
      "cell_type": "markdown",
      "source": [
        "# The p value for factor Conc is 0.000 so that its beta is significant at 100% level. It means Concentration level afftects paper strength. This is similar to F test used in the One-Way ANOVA table that H0: mu5=mu10=mu15=mu20 is rejected."
      ],
      "metadata": {
        "id": "Pp4xJInIcG3j"
      }
    },
    {
      "cell_type": "markdown",
      "source": [
        "# Example 2. Multiple Regression (more than one Factor)"
      ],
      "metadata": {
        "id": "3ukz4Q60gtCZ"
      }
    },
    {
      "cell_type": "code",
      "metadata": {
        "colab": {
          "base_uri": "https://localhost:8080/",
          "height": 551
        },
        "id": "saZyBBY0dO16",
        "outputId": "9e349c23-b3ee-430e-9fe3-557aea29f7e2"
      },
      "source": [
        "#Example 4.13 is from Montgomery 7ed pp 161 for fitting linear regression for two factors \n",
        "data2 = pd.read_csv('https://raw.githubusercontent.com/changsksu/KState_IMSE541/main/Example4_13.csv', sep=',', na_values=\".\")\n",
        "\n",
        "data2 "
      ],
      "execution_count": 9,
      "outputs": [
        {
          "output_type": "execute_result",
          "data": {
            "text/plain": [
              "     x1  x2  Cost\n",
              "0    80   8  2256\n",
              "1    93   9  2340\n",
              "2   100  10  2426\n",
              "3    82  12  2293\n",
              "4    90  11  2330\n",
              "5    99   8  2368\n",
              "6    81   8  2250\n",
              "7    96  10  2409\n",
              "8    94  12  2364\n",
              "9    93  11  2379\n",
              "10   97  13  2440\n",
              "11   95  11  2364\n",
              "12  100   8  2404\n",
              "13   85  12  2317\n",
              "14   86   9  2309\n",
              "15   87  12  2328"
            ],
            "text/html": [
              "\n",
              "  <div id=\"df-f8d7ba26-97ff-4a8c-b1fd-ea2c6d732153\">\n",
              "    <div class=\"colab-df-container\">\n",
              "      <div>\n",
              "<style scoped>\n",
              "    .dataframe tbody tr th:only-of-type {\n",
              "        vertical-align: middle;\n",
              "    }\n",
              "\n",
              "    .dataframe tbody tr th {\n",
              "        vertical-align: top;\n",
              "    }\n",
              "\n",
              "    .dataframe thead th {\n",
              "        text-align: right;\n",
              "    }\n",
              "</style>\n",
              "<table border=\"1\" class=\"dataframe\">\n",
              "  <thead>\n",
              "    <tr style=\"text-align: right;\">\n",
              "      <th></th>\n",
              "      <th>x1</th>\n",
              "      <th>x2</th>\n",
              "      <th>Cost</th>\n",
              "    </tr>\n",
              "  </thead>\n",
              "  <tbody>\n",
              "    <tr>\n",
              "      <th>0</th>\n",
              "      <td>80</td>\n",
              "      <td>8</td>\n",
              "      <td>2256</td>\n",
              "    </tr>\n",
              "    <tr>\n",
              "      <th>1</th>\n",
              "      <td>93</td>\n",
              "      <td>9</td>\n",
              "      <td>2340</td>\n",
              "    </tr>\n",
              "    <tr>\n",
              "      <th>2</th>\n",
              "      <td>100</td>\n",
              "      <td>10</td>\n",
              "      <td>2426</td>\n",
              "    </tr>\n",
              "    <tr>\n",
              "      <th>3</th>\n",
              "      <td>82</td>\n",
              "      <td>12</td>\n",
              "      <td>2293</td>\n",
              "    </tr>\n",
              "    <tr>\n",
              "      <th>4</th>\n",
              "      <td>90</td>\n",
              "      <td>11</td>\n",
              "      <td>2330</td>\n",
              "    </tr>\n",
              "    <tr>\n",
              "      <th>5</th>\n",
              "      <td>99</td>\n",
              "      <td>8</td>\n",
              "      <td>2368</td>\n",
              "    </tr>\n",
              "    <tr>\n",
              "      <th>6</th>\n",
              "      <td>81</td>\n",
              "      <td>8</td>\n",
              "      <td>2250</td>\n",
              "    </tr>\n",
              "    <tr>\n",
              "      <th>7</th>\n",
              "      <td>96</td>\n",
              "      <td>10</td>\n",
              "      <td>2409</td>\n",
              "    </tr>\n",
              "    <tr>\n",
              "      <th>8</th>\n",
              "      <td>94</td>\n",
              "      <td>12</td>\n",
              "      <td>2364</td>\n",
              "    </tr>\n",
              "    <tr>\n",
              "      <th>9</th>\n",
              "      <td>93</td>\n",
              "      <td>11</td>\n",
              "      <td>2379</td>\n",
              "    </tr>\n",
              "    <tr>\n",
              "      <th>10</th>\n",
              "      <td>97</td>\n",
              "      <td>13</td>\n",
              "      <td>2440</td>\n",
              "    </tr>\n",
              "    <tr>\n",
              "      <th>11</th>\n",
              "      <td>95</td>\n",
              "      <td>11</td>\n",
              "      <td>2364</td>\n",
              "    </tr>\n",
              "    <tr>\n",
              "      <th>12</th>\n",
              "      <td>100</td>\n",
              "      <td>8</td>\n",
              "      <td>2404</td>\n",
              "    </tr>\n",
              "    <tr>\n",
              "      <th>13</th>\n",
              "      <td>85</td>\n",
              "      <td>12</td>\n",
              "      <td>2317</td>\n",
              "    </tr>\n",
              "    <tr>\n",
              "      <th>14</th>\n",
              "      <td>86</td>\n",
              "      <td>9</td>\n",
              "      <td>2309</td>\n",
              "    </tr>\n",
              "    <tr>\n",
              "      <th>15</th>\n",
              "      <td>87</td>\n",
              "      <td>12</td>\n",
              "      <td>2328</td>\n",
              "    </tr>\n",
              "  </tbody>\n",
              "</table>\n",
              "</div>\n",
              "      <button class=\"colab-df-convert\" onclick=\"convertToInteractive('df-f8d7ba26-97ff-4a8c-b1fd-ea2c6d732153')\"\n",
              "              title=\"Convert this dataframe to an interactive table.\"\n",
              "              style=\"display:none;\">\n",
              "        \n",
              "  <svg xmlns=\"http://www.w3.org/2000/svg\" height=\"24px\"viewBox=\"0 0 24 24\"\n",
              "       width=\"24px\">\n",
              "    <path d=\"M0 0h24v24H0V0z\" fill=\"none\"/>\n",
              "    <path d=\"M18.56 5.44l.94 2.06.94-2.06 2.06-.94-2.06-.94-.94-2.06-.94 2.06-2.06.94zm-11 1L8.5 8.5l.94-2.06 2.06-.94-2.06-.94L8.5 2.5l-.94 2.06-2.06.94zm10 10l.94 2.06.94-2.06 2.06-.94-2.06-.94-.94-2.06-.94 2.06-2.06.94z\"/><path d=\"M17.41 7.96l-1.37-1.37c-.4-.4-.92-.59-1.43-.59-.52 0-1.04.2-1.43.59L10.3 9.45l-7.72 7.72c-.78.78-.78 2.05 0 2.83L4 21.41c.39.39.9.59 1.41.59.51 0 1.02-.2 1.41-.59l7.78-7.78 2.81-2.81c.8-.78.8-2.07 0-2.86zM5.41 20L4 18.59l7.72-7.72 1.47 1.35L5.41 20z\"/>\n",
              "  </svg>\n",
              "      </button>\n",
              "      \n",
              "  <style>\n",
              "    .colab-df-container {\n",
              "      display:flex;\n",
              "      flex-wrap:wrap;\n",
              "      gap: 12px;\n",
              "    }\n",
              "\n",
              "    .colab-df-convert {\n",
              "      background-color: #E8F0FE;\n",
              "      border: none;\n",
              "      border-radius: 50%;\n",
              "      cursor: pointer;\n",
              "      display: none;\n",
              "      fill: #1967D2;\n",
              "      height: 32px;\n",
              "      padding: 0 0 0 0;\n",
              "      width: 32px;\n",
              "    }\n",
              "\n",
              "    .colab-df-convert:hover {\n",
              "      background-color: #E2EBFA;\n",
              "      box-shadow: 0px 1px 2px rgba(60, 64, 67, 0.3), 0px 1px 3px 1px rgba(60, 64, 67, 0.15);\n",
              "      fill: #174EA6;\n",
              "    }\n",
              "\n",
              "    [theme=dark] .colab-df-convert {\n",
              "      background-color: #3B4455;\n",
              "      fill: #D2E3FC;\n",
              "    }\n",
              "\n",
              "    [theme=dark] .colab-df-convert:hover {\n",
              "      background-color: #434B5C;\n",
              "      box-shadow: 0px 1px 3px 1px rgba(0, 0, 0, 0.15);\n",
              "      filter: drop-shadow(0px 1px 2px rgba(0, 0, 0, 0.3));\n",
              "      fill: #FFFFFF;\n",
              "    }\n",
              "  </style>\n",
              "\n",
              "      <script>\n",
              "        const buttonEl =\n",
              "          document.querySelector('#df-f8d7ba26-97ff-4a8c-b1fd-ea2c6d732153 button.colab-df-convert');\n",
              "        buttonEl.style.display =\n",
              "          google.colab.kernel.accessAllowed ? 'block' : 'none';\n",
              "\n",
              "        async function convertToInteractive(key) {\n",
              "          const element = document.querySelector('#df-f8d7ba26-97ff-4a8c-b1fd-ea2c6d732153');\n",
              "          const dataTable =\n",
              "            await google.colab.kernel.invokeFunction('convertToInteractive',\n",
              "                                                     [key], {});\n",
              "          if (!dataTable) return;\n",
              "\n",
              "          const docLinkHtml = 'Like what you see? Visit the ' +\n",
              "            '<a target=\"_blank\" href=https://colab.research.google.com/notebooks/data_table.ipynb>data table notebook</a>'\n",
              "            + ' to learn more about interactive tables.';\n",
              "          element.innerHTML = '';\n",
              "          dataTable['output_type'] = 'display_data';\n",
              "          await google.colab.output.renderOutput(dataTable, element);\n",
              "          const docLink = document.createElement('div');\n",
              "          docLink.innerHTML = docLinkHtml;\n",
              "          element.appendChild(docLink);\n",
              "        }\n",
              "      </script>\n",
              "    </div>\n",
              "  </div>\n",
              "  "
            ]
          },
          "metadata": {},
          "execution_count": 9
        }
      ]
    },
    {
      "cell_type": "code",
      "metadata": {
        "colab": {
          "base_uri": "https://localhost:8080/"
        },
        "id": "LcJ2asImdciJ",
        "outputId": "0f7cfa1c-06c8-4e35-82b5-617ca667a110"
      },
      "source": [
        "# fit the two factor linear regression\n",
        "model2 = ols('Cost ~ x1 + x2', data2).fit()\n",
        "print(model2.summary())"
      ],
      "execution_count": 10,
      "outputs": [
        {
          "output_type": "stream",
          "name": "stdout",
          "text": [
            "                            OLS Regression Results                            \n",
            "==============================================================================\n",
            "Dep. Variable:                   Cost   R-squared:                       0.927\n",
            "Model:                            OLS   Adj. R-squared:                  0.916\n",
            "Method:                 Least Squares   F-statistic:                     82.50\n",
            "Date:                Tue, 20 Sep 2022   Prob (F-statistic):           4.10e-08\n",
            "Time:                        20:08:54   Log-Likelihood:                -65.758\n",
            "No. Observations:                  16   AIC:                             137.5\n",
            "Df Residuals:                      13   BIC:                             139.8\n",
            "Df Model:                           2                                         \n",
            "Covariance Type:            nonrobust                                         \n",
            "==============================================================================\n",
            "                 coef    std err          t      P>|t|      [0.025      0.975]\n",
            "------------------------------------------------------------------------------\n",
            "Intercept   1566.0778     61.592     25.427      0.000    1433.017    1699.139\n",
            "x1             7.6213      0.618     12.324      0.000       6.285       8.957\n",
            "x2             8.5848      2.439      3.520      0.004       3.316      13.853\n",
            "==============================================================================\n",
            "Omnibus:                        1.215   Durbin-Watson:                   2.607\n",
            "Prob(Omnibus):                  0.545   Jarque-Bera (JB):                0.779\n",
            "Skew:                          -0.004   Prob(JB):                        0.677\n",
            "Kurtosis:                       1.919   Cond. No.                     1.38e+03\n",
            "==============================================================================\n",
            "\n",
            "Notes:\n",
            "[1] Standard Errors assume that the covariance matrix of the errors is correctly specified.\n",
            "[2] The condition number is large, 1.38e+03. This might indicate that there are\n",
            "strong multicollinearity or other numerical problems.\n"
          ]
        },
        {
          "output_type": "stream",
          "name": "stderr",
          "text": [
            "/usr/local/lib/python3.7/dist-packages/scipy/stats/stats.py:1542: UserWarning: kurtosistest only valid for n>=20 ... continuing anyway, n=16\n",
            "  \"anyway, n=%i\" % int(n))\n"
          ]
        }
      ]
    },
    {
      "cell_type": "markdown",
      "source": [
        "# Your Turn\n",
        "1. Is factor X1 significant?\n",
        "2. Is factor x2 significant?\n",
        "3. What is the y-hat equation to estimate cost?\n",
        "3. What is the estimated cost for (x1, x2)=(100, 9)"
      ],
      "metadata": {
        "id": "pJx8k52Cd2Ki"
      }
    },
    {
      "cell_type": "code",
      "metadata": {
        "colab": {
          "base_uri": "https://localhost:8080/",
          "height": 585
        },
        "id": "i1V4tdNlehz5",
        "outputId": "8f039b68-23c9-4025-d0de-fd16159e0cc4"
      },
      "source": [
        "#Residual plot based on the first variable x1\n",
        "#define figure size\n",
        "fig = plt.figure(figsize=(12,8))\n",
        "\n",
        "#produce regression plots\n",
        "fig = sm.graphics.plot_regress_exog(model2, 'x1', fig=fig)"
      ],
      "execution_count": 11,
      "outputs": [
        {
          "output_type": "display_data",
          "data": {
            "text/plain": [
              "<Figure size 864x576 with 4 Axes>"
            ],
            "image/png": "[encoded data removed]"
          },
          "metadata": {
            "needs_background": "light"
          }
        }
      ]
    },
    {
      "cell_type": "code",
      "metadata": {
        "colab": {
          "base_uri": "https://localhost:8080/",
          "height": 585
        },
        "id": "lLUHMdf8f6Yd",
        "outputId": "21320b49-8a79-4161-91ca-3972d63916e7"
      },
      "source": [
        "#Residual plot based on the second variable x2\n",
        "#define figure size\n",
        "fig = plt.figure(figsize=(12,8))\n",
        "\n",
        "#produce regression plots\n",
        "fig = sm.graphics.plot_regress_exog(model2, 'x2', fig=fig)"
      ],
      "execution_count": 12,
      "outputs": [
        {
          "output_type": "display_data",
          "data": {
            "text/plain": [
              "<Figure size 864x576 with 4 Axes>"
            ],
            "image/png": "[encoded data removed]"
          },
          "metadata": {
            "needs_background": "light"
          }
        }
      ]
    },
    {
      "cell_type": "markdown",
      "metadata": {
        "id": "JmpNfK7JUSh-"
      },
      "source": [
        "Three tests should be performed based on residual analysis. 1. Normal Probabilty Plot for normality check 2. Residual vs x1 and residuals vs x2 plots for considant variance and 3. residual vs time order of data collection for independence. Note that the third check requires the knowledge of when each observation is collected. The above res vs x1 and x2 plots show constant variance"
      ]
    },
    {
      "cell_type": "code",
      "metadata": {
        "id": "9OLw4Y3zVJ6H"
      },
      "source": [
        "# obtain residuals\n",
        "\n",
        "eij=model2.resid"
      ],
      "execution_count": 13,
      "outputs": []
    },
    {
      "cell_type": "code",
      "metadata": {
        "colab": {
          "base_uri": "https://localhost:8080/",
          "height": 295
        },
        "id": "31CXoIj9Waxl",
        "outputId": "ee790935-5e69-417a-a849-0232cdee89b3"
      },
      "source": [
        "# probability plot for one variable\n",
        "# stats.probplot use the default distribution normal prob if not specified\n",
        "\n",
        "fig = plt.figure()\n",
        "ax = fig.add_subplot(111)\n",
        "res = stats.probplot(eij, plot=ax)\n",
        "ax.set_title(\"Probplot for Residual\")\n",
        "plt.show()"
      ],
      "execution_count": 14,
      "outputs": [
        {
          "output_type": "display_data",
          "data": {
            "text/plain": [
              "<Figure size 432x288 with 1 Axes>"
            ],
            "image/png": "[encoded data removed]"
          },
          "metadata": {
            "needs_background": "light"
          }
        }
      ]
    },
    {
      "cell_type": "code",
      "metadata": {
        "colab": {
          "base_uri": "https://localhost:8080/"
        },
        "id": "HjGEcIInYo3w",
        "outputId": "74128ec1-966b-4419-d090-3e45352c06e4"
      },
      "source": [
        "# testing the random oder for collecting observations\n",
        "# Minitab call the order variable, run order\n",
        "import random\n",
        "c=list(range(1, 17))\n",
        "order=random.sample(c, 16)\n",
        "print('order of observations/residuals is')\n",
        "print(order)"
      ],
      "execution_count": 15,
      "outputs": [
        {
          "output_type": "stream",
          "name": "stdout",
          "text": [
            "order of observations/residuals is\n",
            "[7, 13, 9, 11, 4, 6, 8, 5, 14, 2, 16, 3, 1, 12, 10, 15]\n"
          ]
        }
      ]
    },
    {
      "cell_type": "code",
      "metadata": {
        "colab": {
          "base_uri": "https://localhost:8080/",
          "height": 282
        },
        "id": "L68dhHi5V-o9",
        "outputId": "0b222084-2b8f-426f-d465-621add184d5e"
      },
      "source": [
        "# assume that this random order is how we collected the data in time sequence\n",
        "# if there is no pattern in the scatter plot, then don't reject independence assumption\n",
        "import random\n",
        "N = len(eij)\n",
        "c = list(range(1, 17))\n",
        "x = random.sample(c, 16) #this should be replaced by the exact run order\n",
        "y = eij\n",
        "\n",
        "plt.scatter(x, y)\n",
        "#plt.show()"
      ],
      "execution_count": 16,
      "outputs": [
        {
          "output_type": "execute_result",
          "data": {
            "text/plain": [
              "<matplotlib.collections.PathCollection at 0x7f92d11244d0>"
            ]
          },
          "metadata": {},
          "execution_count": 16
        },
        {
          "output_type": "display_data",
          "data": {
            "text/plain": [
              "<Figure size 432x288 with 1 Axes>"
            ],
            "image/png": "[encoded data removed]"
          },
          "metadata": {
            "needs_background": "light"
          }
        }
      ]
    },
    {
      "cell_type": "code",
      "metadata": {
        "colab": {
          "base_uri": "https://localhost:8080/"
        },
        "id": "LPatZ-F_RsoY",
        "outputId": "e66279ab-2cec-452f-c4d9-383cc5a9537f"
      },
      "source": [
        "# use linear algebra to estimate beta\n",
        "# first create a column of 1s but it is list\n",
        "# conver the list into an array\n",
        "# Example 4.13 pp 161 Montgomery 7ed\n",
        "one=np.array([1]*16)\n",
        "one\n"
      ],
      "execution_count": 17,
      "outputs": [
        {
          "output_type": "execute_result",
          "data": {
            "text/plain": [
              "array([1, 1, 1, 1, 1, 1, 1, 1, 1, 1, 1, 1, 1, 1, 1, 1])"
            ]
          },
          "metadata": {},
          "execution_count": 17
        }
      ]
    },
    {
      "cell_type": "code",
      "metadata": {
        "colab": {
          "base_uri": "https://localhost:8080/"
        },
        "id": "9sKZobRbSTcB",
        "outputId": "b9a88a02-f351-44b0-b92a-f4013633fcab"
      },
      "source": [
        "x1=np.array(data2['x1'])\n",
        "x2=np.array(data2['x2'])\n",
        "Xp=np.asmatrix([one, x1, x2])\n",
        "Xp"
      ],
      "execution_count": 18,
      "outputs": [
        {
          "output_type": "execute_result",
          "data": {
            "text/plain": [
              "matrix([[  1,   1,   1,   1,   1,   1,   1,   1,   1,   1,   1,   1,   1,\n",
              "           1,   1,   1],\n",
              "        [ 80,  93, 100,  82,  90,  99,  81,  96,  94,  93,  97,  95, 100,\n",
              "          85,  86,  87],\n",
              "        [  8,   9,  10,  12,  11,   8,   8,  10,  12,  11,  13,  11,   8,\n",
              "          12,   9,  12]])"
            ]
          },
          "metadata": {},
          "execution_count": 18
        }
      ]
    },
    {
      "cell_type": "code",
      "metadata": {
        "colab": {
          "base_uri": "https://localhost:8080/"
        },
        "id": "9IztEhnLVXcX",
        "outputId": "054fe59b-e730-46ac-d94f-8114cf76c67c"
      },
      "source": [
        "X=Xp.transpose()\n",
        "X"
      ],
      "execution_count": 19,
      "outputs": [
        {
          "output_type": "execute_result",
          "data": {
            "text/plain": [
              "matrix([[  1,  80,   8],\n",
              "        [  1,  93,   9],\n",
              "        [  1, 100,  10],\n",
              "        [  1,  82,  12],\n",
              "        [  1,  90,  11],\n",
              "        [  1,  99,   8],\n",
              "        [  1,  81,   8],\n",
              "        [  1,  96,  10],\n",
              "        [  1,  94,  12],\n",
              "        [  1,  93,  11],\n",
              "        [  1,  97,  13],\n",
              "        [  1,  95,  11],\n",
              "        [  1, 100,   8],\n",
              "        [  1,  85,  12],\n",
              "        [  1,  86,   9],\n",
              "        [  1,  87,  12]])"
            ]
          },
          "metadata": {},
          "execution_count": 19
        }
      ]
    },
    {
      "cell_type": "code",
      "metadata": {
        "colab": {
          "base_uri": "https://localhost:8080/"
        },
        "id": "nsdjAGxPVi4_",
        "outputId": "501f7df4-a367-408d-a9d7-78d7ac822f6b"
      },
      "source": [
        "XpX=np.matmul(Xp, X)\n",
        "XpX"
      ],
      "execution_count": 20,
      "outputs": [
        {
          "output_type": "execute_result",
          "data": {
            "text/plain": [
              "matrix([[    16,   1458,    164],\n",
              "        [  1458, 133560,  14946],\n",
              "        [   164,  14946,   1726]])"
            ]
          },
          "metadata": {},
          "execution_count": 20
        }
      ]
    },
    {
      "cell_type": "code",
      "metadata": {
        "colab": {
          "base_uri": "https://localhost:8080/"
        },
        "id": "sCXhv0gvVu2G",
        "outputId": "289aa582-a1ff-4a6b-9436-85e4a28c2cb5"
      },
      "source": [
        "Y=np.array(data2['Cost'])\n",
        "Y=Y.transpose()\n",
        "XpY= np.matmul(Xp, Y)\n",
        "XpY"
      ],
      "execution_count": 21,
      "outputs": [
        {
          "output_type": "execute_result",
          "data": {
            "text/plain": [
              "matrix([[  37577, 3429550,  385562]])"
            ]
          },
          "metadata": {},
          "execution_count": 21
        }
      ]
    },
    {
      "cell_type": "code",
      "metadata": {
        "id": "DXBgrxLAXgIF"
      },
      "source": [
        "# inverse of the X' * X matrix\n",
        "XXinv=np.linalg.inv(XpX)"
      ],
      "execution_count": 22,
      "outputs": []
    },
    {
      "cell_type": "code",
      "metadata": {
        "colab": {
          "base_uri": "https://localhost:8080/"
        },
        "id": "kcXj8LjEWssG",
        "outputId": "491a8e2d-1739-44f8-fe70-745ffd44af0d"
      },
      "source": [
        "# compute the beta estimation\n",
        "beta=np.matmul(XXinv, XpY.transpose())\n",
        "beta"
      ],
      "execution_count": 23,
      "outputs": [
        {
          "output_type": "execute_result",
          "data": {
            "text/plain": [
              "matrix([[1566.07777143],\n",
              "        [   7.62129008],\n",
              "        [   8.58484589]])"
            ]
          },
          "metadata": {},
          "execution_count": 23
        }
      ]
    },
    {
      "cell_type": "code",
      "metadata": {
        "colab": {
          "base_uri": "https://localhost:8080/"
        },
        "id": "kI3KMw7ArWDF",
        "outputId": "31747ddc-0826-4827-a826-0f336f2fbdfa"
      },
      "source": [
        "beta.shape"
      ],
      "execution_count": 24,
      "outputs": [
        {
          "output_type": "execute_result",
          "data": {
            "text/plain": [
              "(3, 1)"
            ]
          },
          "metadata": {},
          "execution_count": 24
        }
      ]
    },
    {
      "cell_type": "code",
      "metadata": {
        "colab": {
          "base_uri": "https://localhost:8080/"
        },
        "id": "p05WmMeGrfdg",
        "outputId": "80d86695-5de4-47fe-eed7-7ad95242ccc3"
      },
      "source": [
        "betap=beta.transpose()\n",
        "betap.shape"
      ],
      "execution_count": 25,
      "outputs": [
        {
          "output_type": "execute_result",
          "data": {
            "text/plain": [
              "(1, 3)"
            ]
          },
          "metadata": {},
          "execution_count": 25
        }
      ]
    },
    {
      "cell_type": "code",
      "metadata": {
        "id": "FEeo34D9po7f"
      },
      "source": [
        "# SSR\n",
        "Y=np.array(data2['Cost'])\n",
        "#np.matmul(Y.transpose(), Y)\n",
        "B=np.matmul(Y, Y)"
      ],
      "execution_count": 26,
      "outputs": []
    },
    {
      "cell_type": "code",
      "metadata": {
        "id": "hcEBds_TqqTR"
      },
      "source": [
        "# beta' * X'Y\n",
        "C=np.matmul(beta.transpose(), XpY.transpose())"
      ],
      "execution_count": 27,
      "outputs": []
    },
    {
      "cell_type": "code",
      "metadata": {
        "colab": {
          "base_uri": "https://localhost:8080/"
        },
        "id": "cojtb-oPr0Kc",
        "outputId": "44330829-4ba0-40ff-94ec-46d389719b6c"
      },
      "source": [
        "# MSE\n",
        "SSE=B-C\n",
        "n=16\n",
        "p=3\n",
        "MSE= SSE/(n-p)\n",
        "\n",
        "print('MSE=SSE/(n-p)= %s' %MSE)"
      ],
      "execution_count": 28,
      "outputs": [
        {
          "output_type": "stream",
          "name": "stdout",
          "text": [
            "MSE=SSE/(n-p)= [[267.60392024]]\n"
          ]
        }
      ]
    },
    {
      "cell_type": "code",
      "metadata": {
        "colab": {
          "base_uri": "https://localhost:8080/"
        },
        "id": "aR7G6PKDB9zw",
        "outputId": "b173e094-cae7-4078-eb60-8bc040a285e3"
      },
      "source": [
        "# SST\n",
        "D = Y*Y\n",
        "D= D.sum()\n",
        "E=(Y.sum())**2/n\n",
        "SST = D-E\n",
        "SSR= SST - SSE\n",
        "\n",
        "print('SSR= %s' %SSR)\n",
        "print('SSE= %s' %SSE)\n",
        "print('SST= %s' %SST)"
      ],
      "execution_count": 29,
      "outputs": [
        {
          "output_type": "stream",
          "name": "stdout",
          "text": [
            "SSR= [[44157.08653685]]\n",
            "SSE= [[3478.85096315]]\n",
            "SST= 47635.9375\n"
          ]
        }
      ]
    },
    {
      "cell_type": "code",
      "metadata": {
        "colab": {
          "base_uri": "https://localhost:8080/"
        },
        "id": "bdbAQsLwDlvL",
        "outputId": "51e4002f-0050-40a0-cbb2-bf0927e44e86"
      },
      "source": [
        "# MSR & F/pval\n",
        "# this result provides the ANOVA table for this multiple linear regression\n",
        "MSR = SSR/(p-1)\n",
        "F0=MSR/MSE\n",
        "# compute p value of F0\n",
        "pval=1-scipy.stats.f.cdf(F0,p-1, n-p) #find p-value of F test statistics\n",
        "print('MSR= %s' %MSR)\n",
        "print('F0= %s' %F0)\n",
        "print('p val= %s' %pval)"
      ],
      "execution_count": 30,
      "outputs": [
        {
          "output_type": "stream",
          "name": "stdout",
          "text": [
            "MSR= [[22078.54326843]]\n",
            "F0= [[82.50455841]]\n",
            "p val= [[4.0997483e-08]]\n"
          ]
        }
      ]
    },
    {
      "cell_type": "markdown",
      "metadata": {
        "id": "-8w2Mf1KGLOS"
      },
      "source": [
        "# The F test shows that at least one of the betas is non-zero so the factors affect the cost"
      ]
    }
  ]
}