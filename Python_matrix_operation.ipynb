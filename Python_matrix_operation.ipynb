{
  "nbformat": 4,
  "nbformat_minor": 0,
  "metadata": {
    "colab": {
      "name": "Python matrix_operation.ipynb",
      "provenance": [],
      "collapsed_sections": [],
      "authorship_tag": "ABX9TyMnkqRmV69Prw9ERtXmZLq1",
      "include_colab_link": true
    },
    "kernelspec": {
      "name": "python3",
      "display_name": "Python 3"
    },
    "language_info": {
      "name": "python"
    }
  },
  "cells": [
    {
      "cell_type": "markdown",
      "metadata": {
        "id": "view-in-github",
        "colab_type": "text"
      },
      "source": [
        "<a href=\"https://colab.research.google.com/github/changsksu/IMSE_Data_Science/blob/main/Python_matrix_operation.ipynb\" target=\"_parent\"><img src=\"https://colab.research.google.com/assets/colab-badge.svg\" alt=\"Open In Colab\"/></a>"
      ]
    },
    {
      "cell_type": "markdown",
      "metadata": {
        "id": "7fIAXg9ouzic"
      },
      "source": [
        "This notebook outlines the use of np array and matrix operations.  \n",
        "Ref. https://numpy.org/doc/stable/reference/generated/numpy.mat.html "
      ]
    },
    {
      "cell_type": "code",
      "metadata": {
        "colab": {
          "base_uri": "https://localhost:8080/"
        },
        "id": "WOj6xHxntLR3",
        "outputId": "7d4d4c1a-040a-48d1-f43d-6a279e3e73ea"
      },
      "source": [
        "import numpy as np\n",
        "x = np.array([[1, 2], [3, 4]])\n",
        "x"
      ],
      "execution_count": null,
      "outputs": [
        {
          "output_type": "execute_result",
          "data": {
            "text/plain": [
              "array([[1, 2],\n",
              "       [3, 4]])"
            ]
          },
          "metadata": {},
          "execution_count": 1
        }
      ]
    },
    {
      "cell_type": "code",
      "metadata": {
        "colab": {
          "base_uri": "https://localhost:8080/"
        },
        "id": "iBu_GxwXt6eS",
        "outputId": "df9a145e-e360-4521-d4ea-48565c2c4d47"
      },
      "source": [
        " #convert an array into a matrix\n",
        " m = np.asmatrix(x)\n",
        " m"
      ],
      "execution_count": null,
      "outputs": [
        {
          "output_type": "execute_result",
          "data": {
            "text/plain": [
              "matrix([[1, 2],\n",
              "        [3, 4]])"
            ]
          },
          "metadata": {},
          "execution_count": 2
        }
      ]
    },
    {
      "cell_type": "code",
      "metadata": {
        "colab": {
          "base_uri": "https://localhost:8080/"
        },
        "id": "XuSU3emZuB3V",
        "outputId": "cc0c812b-6293-4d23-a012-196afa4b52d8"
      },
      "source": [
        "x[0,0] = 5\n",
        "x"
      ],
      "execution_count": null,
      "outputs": [
        {
          "output_type": "execute_result",
          "data": {
            "text/plain": [
              "array([[5, 2],\n",
              "       [3, 4]])"
            ]
          },
          "metadata": {},
          "execution_count": 13
        }
      ]
    },
    {
      "cell_type": "code",
      "metadata": {
        "colab": {
          "base_uri": "https://localhost:8080/"
        },
        "id": "CJNdidvOuJbm",
        "outputId": "0dbb4020-2a51-471c-c75c-c69ef8e4a2b2"
      },
      "source": [
        "m[0,1]"
      ],
      "execution_count": null,
      "outputs": [
        {
          "output_type": "execute_result",
          "data": {
            "text/plain": [
              "2"
            ]
          },
          "metadata": {},
          "execution_count": 12
        }
      ]
    },
    {
      "cell_type": "code",
      "metadata": {
        "colab": {
          "base_uri": "https://localhost:8080/"
        },
        "id": "FTTUyOHMuN91",
        "outputId": "ba93eb42-aef8-48d6-ba03-1b48634fbb20"
      },
      "source": [
        "# note that the element in m changed as well since m is based on array x\n",
        "# when x is changed so is matrix m\n",
        "m[0,0]"
      ],
      "execution_count": null,
      "outputs": [
        {
          "output_type": "execute_result",
          "data": {
            "text/plain": [
              "5"
            ]
          },
          "metadata": {},
          "execution_count": 5
        }
      ]
    },
    {
      "cell_type": "code",
      "metadata": {
        "colab": {
          "base_uri": "https://localhost:8080/"
        },
        "id": "nPz5kugHLVSl",
        "outputId": "e56dd8df-df0e-4dcc-ee83-ed56186ce702"
      },
      "source": [
        "# transpose\n",
        "mp=m.transpose()\n",
        "mp"
      ],
      "execution_count": null,
      "outputs": [
        {
          "output_type": "execute_result",
          "data": {
            "text/plain": [
              "matrix([[1, 3],\n",
              "        [2, 4]])"
            ]
          },
          "metadata": {},
          "execution_count": 6
        }
      ]
    },
    {
      "cell_type": "code",
      "metadata": {
        "colab": {
          "base_uri": "https://localhost:8080/"
        },
        "id": "N1cN5RZZMMX7",
        "outputId": "4a07a246-32f7-409b-da6f-53c7b137ef30"
      },
      "source": [
        "# matrix multiplication\n",
        "mpm=np.matmul(mp, m)\n",
        "mpm"
      ],
      "execution_count": null,
      "outputs": [
        {
          "output_type": "execute_result",
          "data": {
            "text/plain": [
              "matrix([[10, 14],\n",
              "        [14, 20]])"
            ]
          },
          "metadata": {},
          "execution_count": 8
        }
      ]
    },
    {
      "cell_type": "code",
      "metadata": {
        "id": "UL96vcgruuBC",
        "colab": {
          "base_uri": "https://localhost:8080/"
        },
        "outputId": "a09d688a-7876-4e92-c44e-c76668dd6a4f"
      },
      "source": [
        "# matrix inverse\n",
        "print(np.linalg.inv(mpm))"
      ],
      "execution_count": null,
      "outputs": [
        {
          "output_type": "stream",
          "name": "stdout",
          "text": [
            "[[ 5.  -3.5]\n",
            " [-3.5  2.5]]\n"
          ]
        }
      ]
    }
  ]
}