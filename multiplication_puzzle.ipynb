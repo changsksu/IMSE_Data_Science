{
  "nbformat": 4,
  "nbformat_minor": 0,
  "metadata": {
    "colab": {
      "provenance": [],
      "authorship_tag": "ABX9TyPxDN3OUIeuaDV0s6XHyfMw",
      "include_colab_link": true
    },
    "kernelspec": {
      "name": "python3",
      "display_name": "Python 3"
    },
    "language_info": {
      "name": "python"
    }
  },
  "cells": [
    {
      "cell_type": "markdown",
      "metadata": {
        "id": "view-in-github",
        "colab_type": "text"
      },
      "source": [
        "<a href=\"https://colab.research.google.com/github/changsksu/IMSE_Data_Science/blob/main/multiplication_puzzle.ipynb\" target=\"_parent\"><img src=\"https://colab.research.google.com/assets/colab-badge.svg\" alt=\"Open In Colab\"/></a>"
      ]
    },
    {
      "cell_type": "markdown",
      "source": [
        "A product of four-digit number is produced by a four- digit number multiplying one digit. All digits should composed of 1-9 without replicate."
      ],
      "metadata": {
        "id": "3XFRecTBuPOv"
      }
    },
    {
      "cell_type": "code",
      "execution_count": 1,
      "metadata": {
        "colab": {
          "base_uri": "https://localhost:8080/"
        },
        "id": "3xIepaMfuLzc",
        "outputId": "9d78332e-7433-4338-8531-79e4c9d3e5a3"
      },
      "outputs": [
        {
          "output_type": "stream",
          "name": "stdout",
          "text": [
            "Multiplicand: 1738, Multiplier: 4, Product: 6952\n",
            "Multiplicand: 1963, Multiplier: 4, Product: 7852\n"
          ]
        }
      ],
      "source": [
        "# coded by Matt Hale in the SP 2025 big data class 5/7/2025\n",
        "# Find and print all 1-9 pandigital multiplicand, multiplier, product sets\n",
        "results = []\n",
        "\n",
        "for i in range(1234, 5001):\n",
        "    for j in range(2, 9):\n",
        "        prod = i * j\n",
        "        combined = f\"{i}{j}{prod}\"\n",
        "        if len(combined) == 9 and set(combined) == set(\"123456789\"):\n",
        "            results.append((i, j, prod))\n",
        "\n",
        "# Print all found combinations\n",
        "for multiplicand, multiplier, product in results:\n",
        "    print(f\"Multiplicand: {multiplicand}, Multiplier: {multiplier}, Product: {product}\")\n",
        "\n",
        "# Output:\n",
        "# Multiplicand: 1738, Multiplier: 4, Product: 6952\n",
        "# Multiplicand: 1963, Multiplier: 4, Product: 7852"
      ]
    }
  ]
}