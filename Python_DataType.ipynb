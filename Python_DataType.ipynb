{
  "cells": [
    {
      "cell_type": "markdown",
      "metadata": {
        "id": "view-in-github",
        "colab_type": "text"
      },
      "source": [
        "<a href=\"https://colab.research.google.com/github/changsksu/IMSE_Data_Science/blob/main/Python_DataType.ipynb\" target=\"_parent\"><img src=\"https://colab.research.google.com/assets/colab-badge.svg\" alt=\"Open In Colab\"/></a>"
      ]
    },
    {
      "cell_type": "markdown",
      "id": "d0ab3a96",
      "metadata": {
        "id": "d0ab3a96"
      },
      "source": [
        "# Some basic python jupyter notebook commands:\n",
        "- Use ctrl + enter key to run each cell.\n",
        "- Use shift + enter key to run each cell and go to next cell\n",
        "- Use alt + enter key to run each cell and create a new cell \n",
        "- Change format of each cell to:\n",
        "\n",
        "    1\\. Code: to run it as a code.\n",
        "    \n",
        "    2\\. Markdown to convert Markdown text to HTML. \n",
        "    \n",
        "    3\\. Raw NBConvert; to render different code formats into HTML or LaTeX\n",
        "    \n"
      ]
    },
    {
      "cell_type": "markdown",
      "source": [
        "This material is for IMSE 441 students created by Mohammad Najjartabar Bisheh"
      ],
      "metadata": {
        "id": "4wz4ZxNFKub0"
      },
      "id": "4wz4ZxNFKub0"
    },
    {
      "cell_type": "markdown",
      "id": "61b31b07",
      "metadata": {
        "id": "61b31b07"
      },
      "source": [
        "## Please use markdown in your assignments.\n",
        "### Here is a great cheetsheet: (http://nestacms.com/docs/creating-content/markdown-cheat-sheet)"
      ]
    },
    {
      "cell_type": "code",
      "execution_count": null,
      "id": "dc1ceeba",
      "metadata": {
        "id": "dc1ceeba"
      },
      "outputs": [],
      "source": [
        "print ('hello '); print ('world... '); print ('bye ') "
      ]
    },
    {
      "cell_type": "markdown",
      "id": "a5541c39",
      "metadata": {
        "id": "a5541c39"
      },
      "source": [
        "# Python Libreries\n",
        "# this is for those who uses Jupiter notebook on local machines\n"
      ]
    },
    {
      "cell_type": "code",
      "execution_count": null,
      "id": "caa5deb3",
      "metadata": {
        "id": "caa5deb3"
      },
      "outputs": [],
      "source": [
        "pip list"
      ]
    },
    {
      "cell_type": "code",
      "execution_count": null,
      "id": "477e9aa1",
      "metadata": {
        "id": "477e9aa1"
      },
      "outputs": [],
      "source": [
        "conda list"
      ]
    },
    {
      "cell_type": "markdown",
      "id": "5bfefd42",
      "metadata": {
        "id": "5bfefd42"
      },
      "source": [
        "# Variables"
      ]
    },
    {
      "cell_type": "code",
      "execution_count": null,
      "id": "43c19359",
      "metadata": {
        "id": "43c19359"
      },
      "outputs": [],
      "source": [
        "a = '23354.4'\n",
        "b = int(float(a))\n",
        "c = float (b)"
      ]
    },
    {
      "cell_type": "code",
      "execution_count": null,
      "id": "2102d277",
      "metadata": {
        "id": "2102d277"
      },
      "outputs": [],
      "source": [
        "print(type(a))\n",
        "print(type(b))\n",
        "print(type(c))"
      ]
    },
    {
      "cell_type": "markdown",
      "id": "92b08a94",
      "metadata": {
        "id": "92b08a94"
      },
      "source": [
        "# Data Types"
      ]
    },
    {
      "cell_type": "markdown",
      "id": "adad3a62",
      "metadata": {
        "id": "adad3a62"
      },
      "source": [
        "#### 1- Do not use reserved names such as if, while, def, class, elif, finally, ... as your variable name!\n",
        "\n"
      ]
    },
    {
      "cell_type": "markdown",
      "id": "68a4f6f1",
      "metadata": {
        "id": "68a4f6f1"
      },
      "source": [
        "#### 2- Your variable name should not include special characters like  $ # @ ! ^ - \n"
      ]
    },
    {
      "cell_type": "markdown",
      "id": "0f5b1feb",
      "metadata": {
        "id": "0f5b1feb"
      },
      "source": [
        "#### 3- Variable names must start with a letter!"
      ]
    },
    {
      "cell_type": "code",
      "execution_count": 1,
      "id": "1977b5ca",
      "metadata": {
        "colab": {
          "base_uri": "https://localhost:8080/"
        },
        "id": "1977b5ca",
        "outputId": "dae8a287-2904-4511-8fe7-3f2065595f2e"
      },
      "outputs": [
        {
          "output_type": "execute_result",
          "data": {
            "text/plain": [
              "NoneType"
            ]
          },
          "metadata": {},
          "execution_count": 1
        }
      ],
      "source": [
        "d = None\n",
        "type(d)"
      ]
    },
    {
      "cell_type": "markdown",
      "id": "6212a9b5",
      "metadata": {
        "id": "6212a9b5"
      },
      "source": [
        "## Integers"
      ]
    },
    {
      "cell_type": "code",
      "execution_count": 2,
      "id": "85473a75",
      "metadata": {
        "colab": {
          "base_uri": "https://localhost:8080/"
        },
        "id": "85473a75",
        "outputId": "3413a8e6-dd06-4c63-a9ac-429c0f6385c7"
      },
      "outputs": [
        {
          "output_type": "stream",
          "name": "stdout",
          "text": [
            "14\n",
            "<class 'int'>\n"
          ]
        }
      ],
      "source": [
        "a = 14\n",
        "print(a)\n",
        "print(type(a))"
      ]
    },
    {
      "cell_type": "markdown",
      "id": "ecd42884",
      "metadata": {
        "id": "ecd42884"
      },
      "source": [
        "## Float"
      ]
    },
    {
      "cell_type": "code",
      "execution_count": 3,
      "id": "e33af1f5",
      "metadata": {
        "colab": {
          "base_uri": "https://localhost:8080/"
        },
        "id": "e33af1f5",
        "outputId": "16de88db-79e5-48f5-d104-d3c231cfe79e"
      },
      "outputs": [
        {
          "output_type": "stream",
          "name": "stdout",
          "text": [
            "3.14159265359\n",
            "<class 'float'>\n"
          ]
        }
      ],
      "source": [
        "pi = 3.14159265359\n",
        "print(pi)\n",
        "print(type(pi))"
      ]
    },
    {
      "cell_type": "code",
      "execution_count": 4,
      "id": "8e204dbc",
      "metadata": {
        "id": "8e204dbc"
      },
      "outputs": [],
      "source": [
        "a = 5\n",
        "b = 8.33333333"
      ]
    },
    {
      "cell_type": "code",
      "execution_count": 5,
      "id": "ca5815a4",
      "metadata": {
        "colab": {
          "base_uri": "https://localhost:8080/"
        },
        "id": "ca5815a4",
        "outputId": "8f6b8bc3-28e4-4fce-e50a-f6063a221495"
      },
      "outputs": [
        {
          "output_type": "stream",
          "name": "stdout",
          "text": [
            "13.33333333\n",
            "13.33\n"
          ]
        }
      ],
      "source": [
        "sum = a + b\n",
        "print(sum)\n",
        "print(\"%.2f\" % sum)"
      ]
    },
    {
      "cell_type": "markdown",
      "id": "4c34170a",
      "metadata": {
        "id": "4c34170a"
      },
      "source": [
        "## Strings"
      ]
    },
    {
      "cell_type": "code",
      "execution_count": 6,
      "id": "d75a8233",
      "metadata": {
        "colab": {
          "base_uri": "https://localhost:8080/"
        },
        "id": "d75a8233",
        "outputId": "4c636e16-0c0e-4ee6-e910-9949478f49d5"
      },
      "outputs": [
        {
          "output_type": "stream",
          "name": "stdout",
          "text": [
            "Two there are who are never satisfied -- the lover of the world and the lover of knowledge ---> Rumi\n",
            "<class 'str'>\n"
          ]
        }
      ],
      "source": [
        "quote = 'Two there are who are never satisfied -- the lover of the world and the lover of knowledge'\n",
        "author = \"Rumi\"\n",
        "print(quote, \"--->\", author)\n",
        "print(type(quote))"
      ]
    },
    {
      "cell_type": "code",
      "execution_count": 7,
      "id": "d01e9e1b",
      "metadata": {
        "colab": {
          "base_uri": "https://localhost:8080/"
        },
        "id": "d01e9e1b",
        "outputId": "5d4717e9-c8a1-4b78-9129-eba06b03d017"
      },
      "outputs": [
        {
          "output_type": "stream",
          "name": "stdout",
          "text": [
            "hello world\n",
            "hello wo\n",
            "<class 'str'>\n"
          ]
        }
      ],
      "source": [
        "s = \"hello world\"\n",
        "print(s)\n",
        "print(s[:8])\n",
        "print(type(s))\n"
      ]
    },
    {
      "cell_type": "code",
      "execution_count": 8,
      "id": "2b31568e",
      "metadata": {
        "id": "2b31568e"
      },
      "outputs": [],
      "source": [
        "# Print the last letter in s \n",
        "\n",
        "\n"
      ]
    },
    {
      "cell_type": "code",
      "execution_count": 9,
      "id": "a14cb0fe",
      "metadata": {
        "colab": {
          "base_uri": "https://localhost:8080/"
        },
        "id": "a14cb0fe",
        "outputId": "b1389e20-4339-4b9e-c3f7-c544688bdfa4"
      },
      "outputs": [
        {
          "output_type": "stream",
          "name": "stdout",
          "text": [
            "Mohammad is 177 cm tall\n"
          ]
        }
      ],
      "source": [
        "\n",
        "my_name = \"Mohammad\"\n",
        "my_height = 177\n",
        "\n",
        "print (\"%s is %s cm tall\" % (my_name, my_height) )"
      ]
    },
    {
      "cell_type": "code",
      "execution_count": null,
      "id": "5e0c8d30",
      "metadata": {
        "id": "5e0c8d30"
      },
      "outputs": [],
      "source": [
        "# Create three variables (string, integer, float)\n",
        "# display them\n",
        "# display the sum of integer and float\n",
        "# concantenate all three values in a single line\n",
        "\n",
        "\n",
        "\n",
        "\n"
      ]
    },
    {
      "cell_type": "markdown",
      "id": "d6ea1697",
      "metadata": {
        "id": "d6ea1697"
      },
      "source": [
        "## Booleans (to be or not to be)"
      ]
    },
    {
      "cell_type": "markdown",
      "id": "041173e1",
      "metadata": {
        "id": "041173e1"
      },
      "source": [
        "### Boolean logical operators:\n",
        "\n",
        "#### and: Will evaluate to True only if both statements are True\n",
        "\n",
        "#### or: Will evaluate to True if at least one (but not necessarily both) statements is True\n",
        "\n",
        "#### not: Reverses the result of the statement\n",
        "\n",
        "\n",
        "\n",
        "\n",
        "\n"
      ]
    },
    {
      "cell_type": "code",
      "execution_count": null,
      "id": "164b36fd",
      "metadata": {
        "id": "164b36fd"
      },
      "outputs": [],
      "source": [
        "a = 2\n",
        "b = 5\n",
        "a == b"
      ]
    },
    {
      "cell_type": "code",
      "execution_count": null,
      "id": "4bce6478",
      "metadata": {
        "scrolled": true,
        "id": "4bce6478"
      },
      "outputs": [],
      "source": [
        "type(a == b)"
      ]
    },
    {
      "cell_type": "code",
      "execution_count": null,
      "id": "95a984c0",
      "metadata": {
        "id": "95a984c0"
      },
      "outputs": [],
      "source": [
        "# Changing data type\n",
        "print(a)\n",
        "print(type(a))\n",
        "a_str = str(a)\n",
        "print (a_str)\n",
        "print(type(a_str))\n",
        "a_float = float(a_str)\n",
        "print(a_float)\n",
        "print(type(a_float))\n"
      ]
    },
    {
      "cell_type": "markdown",
      "id": "bb04dd9d",
      "metadata": {
        "id": "bb04dd9d"
      },
      "source": [
        "# Python in-built data Structure\n",
        "- List\n",
        "- Tuple\n",
        "- Set\n",
        "- Dictionary\n"
      ]
    },
    {
      "cell_type": "markdown",
      "id": "a1df8f4a",
      "metadata": {
        "id": "a1df8f4a"
      },
      "source": [
        "## List\n",
        "\n",
        "### List items are ordered, changeable, and allow duplicate values."
      ]
    },
    {
      "cell_type": "code",
      "execution_count": null,
      "id": "6d5b5ef9",
      "metadata": {
        "id": "6d5b5ef9"
      },
      "outputs": [],
      "source": [
        "Mylist = [\"Quality\", \"Time\", \"Cost\"]\n",
        "print(Mylist)"
      ]
    },
    {
      "cell_type": "code",
      "execution_count": null,
      "id": "312ce29b",
      "metadata": {
        "id": "312ce29b"
      },
      "outputs": [],
      "source": [
        "Mylist[2]"
      ]
    },
    {
      "cell_type": "code",
      "execution_count": null,
      "id": "469692ff",
      "metadata": {
        "id": "469692ff"
      },
      "outputs": [],
      "source": [
        "# Nested List\n",
        "nested_list = ['A', 2022, 'A',[\"Quality\", \"Time\", \"Cost\"]]"
      ]
    },
    {
      "cell_type": "code",
      "execution_count": null,
      "id": "6883ef09",
      "metadata": {
        "id": "6883ef09"
      },
      "outputs": [],
      "source": [
        "#CHangable\n",
        "Mylist[2] = \"Speed\"\n",
        "Mylist"
      ]
    },
    {
      "cell_type": "code",
      "execution_count": null,
      "id": "43758da8",
      "metadata": {
        "id": "43758da8"
      },
      "outputs": [],
      "source": [
        "# Use list and create a 3x3 matrix\n",
        "\n"
      ]
    },
    {
      "cell_type": "markdown",
      "id": "43d7c07e",
      "metadata": {
        "id": "43d7c07e"
      },
      "source": [
        "## Tuple\n",
        "\n",
        "### Tuple items are ordered, unchangeable, and allow duplicate values."
      ]
    },
    {
      "cell_type": "code",
      "execution_count": null,
      "id": "5ae0d289",
      "metadata": {
        "id": "5ae0d289"
      },
      "outputs": [],
      "source": [
        "Mytuple = [\"Quality\", \"Time\", \"Cost\"]\n",
        "print(Mytuple)"
      ]
    },
    {
      "cell_type": "code",
      "execution_count": null,
      "id": "5c82af80",
      "metadata": {
        "id": "5c82af80"
      },
      "outputs": [],
      "source": [
        "# How to change a tuple? simply convert it to a list and then do whatever you want!\n",
        "\n",
        "Mytuple = list(Mytuple)"
      ]
    },
    {
      "cell_type": "markdown",
      "id": "80b7717f",
      "metadata": {
        "id": "80b7717f"
      },
      "source": [
        "## Set\n",
        "\n",
        "### Set items are unordered, unchangeable, and do not allow duplicate values."
      ]
    },
    {
      "cell_type": "code",
      "execution_count": null,
      "id": "f57fa618",
      "metadata": {
        "id": "f57fa618"
      },
      "outputs": [],
      "source": [
        "Myset = {\"Quality\", \"Time\", \"Cost\"}\n",
        "print(Myset)"
      ]
    },
    {
      "cell_type": "markdown",
      "id": "3998815c",
      "metadata": {
        "id": "3998815c"
      },
      "source": [
        "## Dictionaries\n",
        "\n",
        "### Dictionaries are used to store data values in key:value pairs.\n",
        "\n",
        "### A dictionary is a collection which is ordered*, changeable and do not allow duplicates."
      ]
    },
    {
      "cell_type": "code",
      "execution_count": null,
      "id": "b89cf1ef",
      "metadata": {
        "id": "b89cf1ef"
      },
      "outputs": [],
      "source": [
        "Mydict = {\"Quality\": \"9\", \"Time\": \"10\", \"Cost\": \"6\"}\n",
        "print(Mydict)"
      ]
    },
    {
      "cell_type": "code",
      "execution_count": null,
      "id": "8d112b8e",
      "metadata": {
        "id": "8d112b8e"
      },
      "outputs": [],
      "source": [
        "# Dictionary Length\n",
        "\n",
        "print(len(Mydict))"
      ]
    },
    {
      "cell_type": "code",
      "execution_count": null,
      "id": "610bcdf6",
      "metadata": {
        "id": "610bcdf6"
      },
      "outputs": [],
      "source": [
        "# Create two lists, tuples, sets, and dictionaries and try to join them together in a new variable\n",
        "# For list and tuple you can simply sum them up and for set you need to use function 'union'\n",
        "\n"
      ]
    }
  ],
  "metadata": {
    "kernelspec": {
      "display_name": "Python 3 (ipykernel)",
      "language": "python",
      "name": "python3"
    },
    "language_info": {
      "codemirror_mode": {
        "name": "ipython",
        "version": 3
      },
      "file_extension": ".py",
      "mimetype": "text/x-python",
      "name": "python",
      "nbconvert_exporter": "python",
      "pygments_lexer": "ipython3",
      "version": "3.9.7"
    },
    "colab": {
      "name": "Python_DataType.ipynb",
      "provenance": [],
      "collapsed_sections": [],
      "include_colab_link": true
    }
  },
  "nbformat": 4,
  "nbformat_minor": 5
}