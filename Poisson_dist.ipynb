{
  "nbformat": 4,
  "nbformat_minor": 0,
  "metadata": {
    "colab": {
      "provenance": [],
      "collapsed_sections": [],
      "authorship_tag": "ABX9TyMIFyDT4FxM3FyVyqiZDeio",
      "include_colab_link": true
    },
    "kernelspec": {
      "name": "python3",
      "display_name": "Python 3"
    },
    "language_info": {
      "name": "python"
    }
  },
  "cells": [
    {
      "cell_type": "markdown",
      "metadata": {
        "id": "view-in-github",
        "colab_type": "text"
      },
      "source": [
        "<a href=\"https://colab.research.google.com/github/changsksu/IMSE_Data_Science/blob/main/Poisson_dist.ipynb\" target=\"_parent\"><img src=\"https://colab.research.google.com/assets/colab-badge.svg\" alt=\"Open In Colab\"/></a>"
      ]
    },
    {
      "cell_type": "markdown",
      "source": [
        "**Poisson distribtion using scipy**"
      ],
      "metadata": {
        "id": "AAafT8f1e5R0"
      }
    },
    {
      "cell_type": "code",
      "execution_count": null,
      "metadata": {
        "id": "R9ACG1YRe35p"
      },
      "outputs": [],
      "source": [
        "from scipy.stats import poisson\n",
        "import matplotlib.pyplot as plt\n",
        "import numpy as np"
      ]
    },
    {
      "cell_type": "markdown",
      "source": [
        "Example, the average number of noncomforming counts in a circuit board is 4. That is the Poisson parameter lamda=4. Lamda is mu for Poisson dist.\n"
      ],
      "metadata": {
        "id": "2lKD42g1jg6S"
      }
    },
    {
      "cell_type": "code",
      "source": [
        "# compute the first four moments\n",
        "mu, n = 4, 15\n",
        "mean, var, skew, kurt = poisson.stats(mu, moments='mvsk')\n",
        "print(\"mean=\", mean)"
      ],
      "metadata": {
        "colab": {
          "base_uri": "https://localhost:8080/"
        },
        "id": "zsRmfyNafG4X",
        "outputId": "b347ae06-23e4-4d8f-a69c-10c71d1695a2"
      },
      "execution_count": null,
      "outputs": [
        {
          "output_type": "stream",
          "name": "stdout",
          "text": [
            "mean= 4.0\n"
          ]
        }
      ]
    },
    {
      "cell_type": "code",
      "source": [
        "# define rv as binormial\n",
        "rv = poisson(mu)\n",
        "# pmf cdf tables\n",
        "print(\"Poisson distribution with Lamda=\", mu)\n",
        "print(\"x   pmf  cdf\")\n",
        "for x in range(n+1):\n",
        "  pspmf=rv.pmf(x)\n",
        "  pscdf=rv.cdf(x)\n",
        "  format_pmf = \"{:.3f}\".format(pspmf)\n",
        "  format_cdf= \"{:.3f}\".format(pscdf)\n",
        "  print(x, format_pmf, format_cdf)"
      ],
      "metadata": {
        "colab": {
          "base_uri": "https://localhost:8080/"
        },
        "id": "PtmKBP4tfrbM",
        "outputId": "29aa3b55-66e7-4f04-c85c-43ad84331be1"
      },
      "execution_count": null,
      "outputs": [
        {
          "output_type": "stream",
          "name": "stdout",
          "text": [
            "Poisson distribution with Lamda= 4\n",
            "x   pmf  cdf\n",
            "0 0.018 0.018\n",
            "1 0.073 0.092\n",
            "2 0.147 0.238\n",
            "3 0.195 0.433\n",
            "4 0.195 0.629\n",
            "5 0.156 0.785\n",
            "6 0.104 0.889\n",
            "7 0.060 0.949\n",
            "8 0.030 0.979\n",
            "9 0.013 0.992\n",
            "10 0.005 0.997\n",
            "11 0.002 0.999\n",
            "12 0.001 1.000\n",
            "13 0.000 1.000\n",
            "14 0.000 1.000\n",
            "15 0.000 1.000\n"
          ]
        }
      ]
    },
    {
      "cell_type": "code",
      "source": [
        "x = np.arange(0, n+1)\n",
        "pspmf=rv.pmf(x)\n",
        "# pmf plot\n",
        "fig = plt.figure()\n",
        "ax = fig.add_subplot(111)\n",
        "ax.plot(x, pspmf, 'bo')\n",
        "ax.vlines(x, 0, pspmf, lw=2)\n",
        "ax.set_xlabel('# of defects in the chosen sample n')\n",
        "ax.set_ylabel('Poisson PMF')\n",
        "plt.show()"
      ],
      "metadata": {
        "colab": {
          "base_uri": "https://localhost:8080/",
          "height": 279
        },
        "id": "FwIzXi2Oh81R",
        "outputId": "898a48c1-2e0f-4eeb-abe3-82653cb5042a"
      },
      "execution_count": null,
      "outputs": [
        {
          "output_type": "display_data",
          "data": {
            "text/plain": [
              "<Figure size 432x288 with 1 Axes>"
            ],
            "image/png": "[encoded data removed]"
          },
          "metadata": {
            "needs_background": "light"
          }
        }
      ]
    },
    {
      "cell_type": "code",
      "source": [
        "x = np.arange(0, n+1)\n",
        "pscdf=rv.cdf(x)\n",
        "# CDF plot\n",
        "fig = plt.figure()\n",
        "ax = fig.add_subplot(111)\n",
        "ax.plot(x, pscdf, 'bo')\n",
        "ax.vlines(x, 0, pscdf, lw=2)\n",
        "ax.set_xlabel('# of defects in the chosen sample n')\n",
        "ax.set_ylabel('Poisson CDF')\n",
        "plt.show()"
      ],
      "metadata": {
        "colab": {
          "base_uri": "https://localhost:8080/",
          "height": 279
        },
        "id": "Jp_AlbEijHYV",
        "outputId": "1c4b0ba0-c032-4b8e-f13d-dcfcfc9e6edc"
      },
      "execution_count": null,
      "outputs": [
        {
          "output_type": "display_data",
          "data": {
            "text/plain": [
              "<Figure size 432x288 with 1 Axes>"
            ],
            "image/png": "[encoded data removed]"
          },
          "metadata": {
            "needs_background": "light"
          }
        }
      ]
    }
  ]
}