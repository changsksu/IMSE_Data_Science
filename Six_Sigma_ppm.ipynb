{
  "nbformat": 4,
  "nbformat_minor": 0,
  "metadata": {
    "colab": {
      "provenance": [],
      "collapsed_sections": [],
      "authorship_tag": "ABX9TyOYkj5iluLFRRHvPC5AMtKI",
      "include_colab_link": true
    },
    "kernelspec": {
      "name": "python3",
      "display_name": "Python 3"
    },
    "language_info": {
      "name": "python"
    }
  },
  "cells": [
    {
      "cell_type": "markdown",
      "metadata": {
        "id": "view-in-github",
        "colab_type": "text"
      },
      "source": [
        "<a href=\"https://colab.research.google.com/github/changsksu/IMSE_Data_Science/blob/main/Six_Sigma_ppm.ipynb\" target=\"_parent\"><img src=\"https://colab.research.google.com/assets/colab-badge.svg\" alt=\"Open In Colab\"/></a>"
      ]
    },
    {
      "cell_type": "markdown",
      "metadata": {
        "id": "d_QR914jQfhc"
      },
      "source": [
        "**This notebook introduces Six Sigma Quality computation. Six Sigma means that USL and LSL are +- six sigma away from the target** "
      ]
    },
    {
      "cell_type": "markdown",
      "metadata": {
        "id": "PejXMTvrLfqP"
      },
      "source": [
        "Using a uniform distribution to demonstrate Central Limit Theorem (**CLT**)"
      ]
    },
    {
      "cell_type": "code",
      "metadata": {
        "id": "yTn_p0aJQ6vI"
      },
      "source": [
        "import math\n",
        "import statistics\n",
        "import numpy as np\n",
        "import scipy.stats\n",
        "import pandas as pd\n",
        "import matplotlib.pyplot as plt\n",
        "from scipy.stats import norm"
      ],
      "execution_count": 2,
      "outputs": []
    },
    {
      "cell_type": "code",
      "source": [
        "# computer the cdf of normal at 2 sigma\n",
        "norm.cdf(2)"
      ],
      "metadata": {
        "colab": {
          "base_uri": "https://localhost:8080/"
        },
        "id": "TwBRZ2atnbaf",
        "outputId": "41b584d6-427f-4b8c-a691-80ec7c7f3bcd"
      },
      "execution_count": null,
      "outputs": [
        {
          "output_type": "execute_result",
          "data": {
            "text/plain": [
              "0.9772498680518208"
            ]
          },
          "metadata": {},
          "execution_count": 3
        }
      ]
    },
    {
      "cell_type": "code",
      "source": [
        "# computer the cdf of normal at 3 sigma\n",
        "norm.cdf(3)"
      ],
      "metadata": {
        "colab": {
          "base_uri": "https://localhost:8080/"
        },
        "id": "U9gDoak1noh4",
        "outputId": "100a8b04-516d-4812-d9a4-61162b5b4f3d"
      },
      "execution_count": null,
      "outputs": [
        {
          "output_type": "execute_result",
          "data": {
            "text/plain": [
              "0.9986501019683699"
            ]
          },
          "metadata": {},
          "execution_count": 4
        }
      ]
    },
    {
      "cell_type": "code",
      "source": [
        "# normal dist under +- 3 sigma of standard normal\n",
        "2*(1-norm.cdf(3))"
      ],
      "metadata": {
        "colab": {
          "base_uri": "https://localhost:8080/"
        },
        "id": "Awyo7qaMnvQ5",
        "outputId": "b56421fd-4e36-4351-815b-55f2a64012a3"
      },
      "execution_count": null,
      "outputs": [
        {
          "output_type": "execute_result",
          "data": {
            "text/plain": [
              "0.002699796063260207"
            ]
          },
          "metadata": {},
          "execution_count": 5
        }
      ]
    },
    {
      "cell_type": "markdown",
      "metadata": {
        "id": "jZpaUIYXNf0-"
      },
      "source": [
        "# PPM means parts per million. See Montgomery (7ed) Figure 1.12\n",
        "Case I the process is on target"
      ]
    },
    {
      "cell_type": "code",
      "source": [
        "# 3 sigma quality ppm=\n",
        "2*(1-norm.cdf(3)) * 1000000"
      ],
      "metadata": {
        "colab": {
          "base_uri": "https://localhost:8080/"
        },
        "id": "M8Jo5hP0sTGC",
        "outputId": "38c24ead-b36f-4951-a6b1-67538381b70e"
      },
      "execution_count": 4,
      "outputs": [
        {
          "output_type": "execute_result",
          "data": {
            "text/plain": [
              "2699.796063260207"
            ]
          },
          "metadata": {},
          "execution_count": 4
        }
      ]
    },
    {
      "cell_type": "code",
      "source": [
        "# 6 sigma quality ppm=\n",
        "2*(1-norm.cdf(6)) * 1000000"
      ],
      "metadata": {
        "colab": {
          "base_uri": "https://localhost:8080/"
        },
        "id": "YEMtaAn8srPe",
        "outputId": "233423aa-9ddc-43ee-a5a2-a3ac7237d9a6"
      },
      "execution_count": 5,
      "outputs": [
        {
          "output_type": "execute_result",
          "data": {
            "text/plain": [
              "0.001973175400848959"
            ]
          },
          "metadata": {},
          "execution_count": 5
        }
      ]
    },
    {
      "cell_type": "markdown",
      "source": [
        "Case II the process is 1.5 sigma away\n",
        "Compute the ppm"
      ],
      "metadata": {
        "id": "qORnMfjhs0t1"
      }
    },
    {
      "cell_type": "code",
      "source": [
        "# 3 sigma quality when the process is 1.5 sigma ppm=\n",
        "((1-norm.cdf(1.5))+norm.cdf(-4.5)) * 1000000"
      ],
      "metadata": {
        "colab": {
          "base_uri": "https://localhost:8080/"
        },
        "id": "7tUKrZifs94J",
        "outputId": "cc5426fa-e602-403c-94db-ec1530f8cd60"
      },
      "execution_count": 7,
      "outputs": [
        {
          "output_type": "execute_result",
          "data": {
            "text/plain": [
              "66810.59894198281"
            ]
          },
          "metadata": {},
          "execution_count": 7
        }
      ]
    },
    {
      "cell_type": "code",
      "source": [
        "# 6 sigma quality when the process is 1.5 sigma ppm=\n",
        "((1-norm.cdf(4.5))+norm.cdf(-7.5)) * 1000000"
      ],
      "metadata": {
        "colab": {
          "base_uri": "https://localhost:8080/"
        },
        "id": "tT7LHdJ-t1r0",
        "outputId": "4e727922-3785-4eaf-f3fa-fb9029d5f817"
      },
      "execution_count": 8,
      "outputs": [
        {
          "output_type": "execute_result",
          "data": {
            "text/plain": [
              "3.3976731566476257"
            ]
          },
          "metadata": {},
          "execution_count": 8
        }
      ]
    }
  ]
}