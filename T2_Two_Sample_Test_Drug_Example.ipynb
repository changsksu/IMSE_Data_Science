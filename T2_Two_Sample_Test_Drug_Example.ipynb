{
  "nbformat": 4,
  "nbformat_minor": 0,
  "metadata": {
    "colab": {
      "provenance": [],
      "authorship_tag": "ABX9TyOwzjQbLt8+o4fSGaJKebwv",
      "include_colab_link": true
    },
    "kernelspec": {
      "name": "python3",
      "display_name": "Python 3"
    },
    "language_info": {
      "name": "python"
    }
  },
  "cells": [
    {
      "cell_type": "markdown",
      "metadata": {
        "id": "view-in-github",
        "colab_type": "text"
      },
      "source": [
        "<a href=\"https://colab.research.google.com/github/changsksu/IMSE_Data_Science/blob/main/T2_Two_Sample_Test_Drug_Example.ipynb\" target=\"_parent\"><img src=\"https://colab.research.google.com/assets/colab-badge.svg\" alt=\"Open In Colab\"/></a>"
      ]
    },
    {
      "cell_type": "markdown",
      "source": [
        "# This code demonstrates how to use Hotelling T2 statistics and F test for two multivariate samples.\n",
        "Ref. Chat-GPT 3.5 & Drug and Placebo data from Real Statistics\n",
        "https://real-statistics.com/free-download/real-statistics-examples-workbook/"
      ],
      "metadata": {
        "id": "RoYH5dv9SHbT"
      }
    },
    {
      "cell_type": "code",
      "execution_count": 18,
      "metadata": {
        "id": "r4iv21OGRwmO"
      },
      "outputs": [],
      "source": [
        "import numpy as np\n",
        "import pandas as pd\n",
        "import matplotlib.pyplot as plt\n",
        "import statistics\n",
        "from scipy.stats import f\n",
        "\n",
        "def hotelling_t2_test(sample1, sample2, alpha):\n",
        "    n1, p = sample1.shape\n",
        "    n2 = sample2.shape[0]\n",
        "    n = n1 + n2\n",
        "\n",
        "    xbar1 = np.mean(sample1, axis=0)\n",
        "    xbar2 = np.mean(sample2, axis=0)\n",
        "\n",
        "    s1 = np.cov(sample1, rowvar=False, bias=True)\n",
        "    s2 = np.cov(sample2, rowvar=False, bias=True)\n",
        "\n",
        "    pooled_cov = ((n1 - 1) * s1 + (n2 - 1) * s2) / (n - 2)\n",
        "\n",
        "    t_squared = (n1 * n2 * np.dot((xbar1 - xbar2), np.dot(np.linalg.inv(pooled_cov), (xbar1 - xbar2)))) / (n * p)\n",
        "\n",
        "    dof1 = p\n",
        "    dof2 = n - p - 1\n",
        "    critical_value = f.ppf(1 - alpha, dof1, dof2)\n",
        "\n",
        "    p_value = 1 - f.cdf(t_squared, dof1, dof2)\n",
        "\n",
        "    return t_squared, p_value, critical_value\n",
        "\n"
      ]
    },
    {
      "cell_type": "code",
      "source": [
        "# Example usage using simulated data:\n",
        "sample1 = np.random.normal(loc=0, scale=1, size=(30, 2))\n",
        "sample2 = np.random.normal(loc=0.5, scale=1, size=(30, 2))\n",
        "alpha = 0.05\n",
        "\n",
        "t_squared, p_value, critical_value = hotelling_t2_test(sample1, sample2, alpha)\n",
        "\n",
        "print(\"Hotelling's T-squared statistic:\", t_squared)\n",
        "print(\"P-value:\", p_value)\n",
        "print(\"Critical value:\", critical_value)\n",
        "if t_squared > critical_value:\n",
        "    print(\"Reject null hypothesis: The means are significantly different.\")\n",
        "else:\n",
        "    print(\"Fail to reject null hypothesis: There is no significant difference in means.\")"
      ],
      "metadata": {
        "colab": {
          "base_uri": "https://localhost:8080/"
        },
        "id": "usmbdyhwSve1",
        "outputId": "718a1ea4-8756-4f19-a4f3-df75c291709d"
      },
      "execution_count": 20,
      "outputs": [
        {
          "output_type": "stream",
          "name": "stdout",
          "text": [
            "Hotelling's T-squared statistic: 0.11463418122286932\n",
            "P-value: 0.8918973301222026\n",
            "Critical value: 3.1588427192606465\n",
            "Fail to reject null hypothesis: There is no significant difference in means.\n"
          ]
        }
      ]
    },
    {
      "cell_type": "code",
      "source": [
        "# Example from Drug vs Placebo data\n",
        "# retrive data from Github 641 folder\n",
        "data = pd.read_csv('https://raw.githubusercontent.com/changsksu/K-State-IMSE641/master/Hotelling_T2.csv', sep=',', na_values=\".\")\n",
        "#generate the Phase I data using filter\n",
        "sample3 = data[data['ID'] == 'Drug']\n",
        "sample4 = data[data['ID'] == 'Placebo']\n",
        "sample3"
      ],
      "metadata": {
        "id": "7eQqsh_5S7Sr"
      },
      "execution_count": null,
      "outputs": []
    },
    {
      "cell_type": "code",
      "source": [
        "#x3=sample3['Fever', 'Pressure', 'Aches']\n",
        "x3=sample3.iloc[:, :3]\n",
        "x4=sample4.iloc[:, :3]\n",
        "sample1=x3.values\n",
        "sample2=x4.values"
      ],
      "metadata": {
        "id": "4Kkbk_EMXKRD"
      },
      "execution_count": 30,
      "outputs": []
    },
    {
      "cell_type": "code",
      "source": [
        "# Example usage for the drug testing example:\n",
        "\n",
        "alpha = 0.05\n",
        "\n",
        "t_squared, p_value, critical_value = hotelling_t2_test(sample1, sample2, alpha)\n",
        "\n",
        "print(\"Hotelling's T-squared statistic:\", t_squared)\n",
        "print(\"P-value:\", p_value)\n",
        "print(\"Critical value:\", critical_value)\n",
        "if t_squared > critical_value:\n",
        "    print(\"Reject null hypothesis: The means are significantly different.\")\n",
        "else:\n",
        "    print(\"Fail to reject null hypothesis: There is no significant difference in means.\")"
      ],
      "metadata": {
        "colab": {
          "base_uri": "https://localhost:8080/"
        },
        "id": "H22xBv7eS24b",
        "outputId": "f7910a9b-ed61-4249-d1c8-3590e6b9b52e"
      },
      "execution_count": 31,
      "outputs": [
        {
          "output_type": "stream",
          "name": "stdout",
          "text": [
            "Hotelling's T-squared statistic: 1.4481573992783792\n",
            "P-value: 0.2459922486126942\n",
            "Critical value: 2.882604204261227\n",
            "Fail to reject null hypothesis: There is no significant difference in means.\n"
          ]
        }
      ]
    },
    {
      "cell_type": "code",
      "source": [],
      "metadata": {
        "id": "7Q4hmo7aSFhn"
      },
      "execution_count": null,
      "outputs": []
    }
  ]
}