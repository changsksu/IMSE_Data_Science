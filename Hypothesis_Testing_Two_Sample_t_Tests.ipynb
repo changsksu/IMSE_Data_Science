{
  "nbformat": 4,
  "nbformat_minor": 0,
  "metadata": {
    "colab": {
      "provenance": [],
      "collapsed_sections": [],
      "authorship_tag": "ABX9TyPQD+hZiYtKtryf+6Mq/B5C",
      "include_colab_link": true
    },
    "kernelspec": {
      "name": "python3",
      "display_name": "Python 3"
    },
    "language_info": {
      "name": "python"
    }
  },
  "cells": [
    {
      "cell_type": "markdown",
      "metadata": {
        "id": "view-in-github",
        "colab_type": "text"
      },
      "source": [
        "<a href=\"https://colab.research.google.com/github/changsksu/IMSE_Data_Science/blob/main/Hypothesis_Testing_Two_Sample_t_Tests.ipynb\" target=\"_parent\"><img src=\"https://colab.research.google.com/assets/colab-badge.svg\" alt=\"Open In Colab\"/></a>"
      ]
    },
    {
      "cell_type": "markdown",
      "metadata": {
        "id": "NFXPRPA2d7I-"
      },
      "source": [
        "# This nb demonstrates the use of scipy ttest function.\n",
        "\n",
        "scipy.stats.ttest_1samp(a, popmean, axis=0, nan_policy='propagate') **bold text**\n",
        "Ref. https://www.kite.com/python/docs/scipy.stats.ttest_1samp "
      ]
    },
    {
      "cell_type": "code",
      "metadata": {
        "id": "Rc7nYxvoWrGy"
      },
      "source": [
        "import math\n",
        "import statistics\n",
        "import numpy as np\n",
        "import scipy.stats as stats\n",
        "import pandas as pd\n",
        "from statsmodels.stats import weightstats as stests\n",
        "import matplotlib.pyplot as plt"
      ],
      "execution_count": 3,
      "outputs": []
    },
    {
      "cell_type": "code",
      "metadata": {
        "id": "d_RyJ4BbXvS_",
        "colab": {
          "base_uri": "https://localhost:8080/",
          "height": 1000
        },
        "outputId": "a8a61812-2700-40e7-db8e-d2e40daaccb9"
      },
      "source": [
        "#the 2nd read option assume that the data file is rignt under your default google drive directory\n",
        "# the sep-',' argument in the read statement should be used in some cases if ; does not work\n",
        "data = pd.read_csv('https://raw.githubusercontent.com/changsksu/KState_IMSE541/main/brain_size.csv', sep=';', na_values=\".\")\n",
        "data  "
      ],
      "execution_count": 4,
      "outputs": [
        {
          "output_type": "execute_result",
          "data": {
            "text/plain": [
              "    Unnamed: 0  Gender  FSIQ  VIQ  PIQ  Weight  Height  MRI_Count\n",
              "0            1  Female   133  132  124   118.0    64.5     816932\n",
              "1            2    Male   140  150  124     NaN    72.5    1001121\n",
              "2            3    Male   139  123  150   143.0    73.3    1038437\n",
              "3            4    Male   133  129  128   172.0    68.8     965353\n",
              "4            5  Female   137  132  134   147.0    65.0     951545\n",
              "5            6  Female    99   90  110   146.0    69.0     928799\n",
              "6            7  Female   138  136  131   138.0    64.5     991305\n",
              "7            8  Female    92   90   98   175.0    66.0     854258\n",
              "8            9    Male    89   93   84   134.0    66.3     904858\n",
              "9           10    Male   133  114  147   172.0    68.8     955466\n",
              "10          11  Female   132  129  124   118.0    64.5     833868\n",
              "11          12    Male   141  150  128   151.0    70.0    1079549\n",
              "12          13    Male   135  129  124   155.0    69.0     924059\n",
              "13          14  Female   140  120  147   155.0    70.5     856472\n",
              "14          15  Female    96  100   90   146.0    66.0     878897\n",
              "15          16  Female    83   71   96   135.0    68.0     865363\n",
              "16          17  Female   132  132  120   127.0    68.5     852244\n",
              "17          18    Male   100   96  102   178.0    73.5     945088\n",
              "18          19  Female   101  112   84   136.0    66.3     808020\n",
              "19          20    Male    80   77   86   180.0    70.0     889083\n",
              "20          21    Male    83   83   86     NaN     NaN     892420\n",
              "21          22    Male    97  107   84   186.0    76.5     905940\n",
              "22          23  Female   135  129  134   122.0    62.0     790619\n",
              "23          24    Male   139  145  128   132.0    68.0     955003\n",
              "24          25  Female    91   86  102   114.0    63.0     831772\n",
              "25          26    Male   141  145  131   171.0    72.0     935494\n",
              "26          27  Female    85   90   84   140.0    68.0     798612\n",
              "27          28    Male   103   96  110   187.0    77.0    1062462\n",
              "28          29  Female    77   83   72   106.0    63.0     793549\n",
              "29          30  Female   130  126  124   159.0    66.5     866662\n",
              "30          31  Female   133  126  132   127.0    62.5     857782\n",
              "31          32    Male   144  145  137   191.0    67.0     949589\n",
              "32          33    Male   103   96  110   192.0    75.5     997925\n",
              "33          34    Male    90   96   86   181.0    69.0     879987\n",
              "34          35  Female    83   90   81   143.0    66.5     834344\n",
              "35          36  Female   133  129  128   153.0    66.5     948066\n",
              "36          37    Male   140  150  124   144.0    70.5     949395\n",
              "37          38  Female    88   86   94   139.0    64.5     893983\n",
              "38          39    Male    81   90   74   148.0    74.0     930016\n",
              "39          40    Male    89   91   89   179.0    75.5     935863"
            ],
            "text/html": [
              "\n",
              "  <div id=\"df-63eb1ca2-5481-4af8-89c6-db896ff12647\">\n",
              "    <div class=\"colab-df-container\">\n",
              "      <div>\n",
              "<style scoped>\n",
              "    .dataframe tbody tr th:only-of-type {\n",
              "        vertical-align: middle;\n",
              "    }\n",
              "\n",
              "    .dataframe tbody tr th {\n",
              "        vertical-align: top;\n",
              "    }\n",
              "\n",
              "    .dataframe thead th {\n",
              "        text-align: right;\n",
              "    }\n",
              "</style>\n",
              "<table border=\"1\" class=\"dataframe\">\n",
              "  <thead>\n",
              "    <tr style=\"text-align: right;\">\n",
              "      <th></th>\n",
              "      <th>Unnamed: 0</th>\n",
              "      <th>Gender</th>\n",
              "      <th>FSIQ</th>\n",
              "      <th>VIQ</th>\n",
              "      <th>PIQ</th>\n",
              "      <th>Weight</th>\n",
              "      <th>Height</th>\n",
              "      <th>MRI_Count</th>\n",
              "    </tr>\n",
              "  </thead>\n",
              "  <tbody>\n",
              "    <tr>\n",
              "      <th>0</th>\n",
              "      <td>1</td>\n",
              "      <td>Female</td>\n",
              "      <td>133</td>\n",
              "      <td>132</td>\n",
              "      <td>124</td>\n",
              "      <td>118.0</td>\n",
              "      <td>64.5</td>\n",
              "      <td>816932</td>\n",
              "    </tr>\n",
              "    <tr>\n",
              "      <th>1</th>\n",
              "      <td>2</td>\n",
              "      <td>Male</td>\n",
              "      <td>140</td>\n",
              "      <td>150</td>\n",
              "      <td>124</td>\n",
              "      <td>NaN</td>\n",
              "      <td>72.5</td>\n",
              "      <td>1001121</td>\n",
              "    </tr>\n",
              "    <tr>\n",
              "      <th>2</th>\n",
              "      <td>3</td>\n",
              "      <td>Male</td>\n",
              "      <td>139</td>\n",
              "      <td>123</td>\n",
              "      <td>150</td>\n",
              "      <td>143.0</td>\n",
              "      <td>73.3</td>\n",
              "      <td>1038437</td>\n",
              "    </tr>\n",
              "    <tr>\n",
              "      <th>3</th>\n",
              "      <td>4</td>\n",
              "      <td>Male</td>\n",
              "      <td>133</td>\n",
              "      <td>129</td>\n",
              "      <td>128</td>\n",
              "      <td>172.0</td>\n",
              "      <td>68.8</td>\n",
              "      <td>965353</td>\n",
              "    </tr>\n",
              "    <tr>\n",
              "      <th>4</th>\n",
              "      <td>5</td>\n",
              "      <td>Female</td>\n",
              "      <td>137</td>\n",
              "      <td>132</td>\n",
              "      <td>134</td>\n",
              "      <td>147.0</td>\n",
              "      <td>65.0</td>\n",
              "      <td>951545</td>\n",
              "    </tr>\n",
              "    <tr>\n",
              "      <th>5</th>\n",
              "      <td>6</td>\n",
              "      <td>Female</td>\n",
              "      <td>99</td>\n",
              "      <td>90</td>\n",
              "      <td>110</td>\n",
              "      <td>146.0</td>\n",
              "      <td>69.0</td>\n",
              "      <td>928799</td>\n",
              "    </tr>\n",
              "    <tr>\n",
              "      <th>6</th>\n",
              "      <td>7</td>\n",
              "      <td>Female</td>\n",
              "      <td>138</td>\n",
              "      <td>136</td>\n",
              "      <td>131</td>\n",
              "      <td>138.0</td>\n",
              "      <td>64.5</td>\n",
              "      <td>991305</td>\n",
              "    </tr>\n",
              "    <tr>\n",
              "      <th>7</th>\n",
              "      <td>8</td>\n",
              "      <td>Female</td>\n",
              "      <td>92</td>\n",
              "      <td>90</td>\n",
              "      <td>98</td>\n",
              "      <td>175.0</td>\n",
              "      <td>66.0</td>\n",
              "      <td>854258</td>\n",
              "    </tr>\n",
              "    <tr>\n",
              "      <th>8</th>\n",
              "      <td>9</td>\n",
              "      <td>Male</td>\n",
              "      <td>89</td>\n",
              "      <td>93</td>\n",
              "      <td>84</td>\n",
              "      <td>134.0</td>\n",
              "      <td>66.3</td>\n",
              "      <td>904858</td>\n",
              "    </tr>\n",
              "    <tr>\n",
              "      <th>9</th>\n",
              "      <td>10</td>\n",
              "      <td>Male</td>\n",
              "      <td>133</td>\n",
              "      <td>114</td>\n",
              "      <td>147</td>\n",
              "      <td>172.0</td>\n",
              "      <td>68.8</td>\n",
              "      <td>955466</td>\n",
              "    </tr>\n",
              "    <tr>\n",
              "      <th>10</th>\n",
              "      <td>11</td>\n",
              "      <td>Female</td>\n",
              "      <td>132</td>\n",
              "      <td>129</td>\n",
              "      <td>124</td>\n",
              "      <td>118.0</td>\n",
              "      <td>64.5</td>\n",
              "      <td>833868</td>\n",
              "    </tr>\n",
              "    <tr>\n",
              "      <th>11</th>\n",
              "      <td>12</td>\n",
              "      <td>Male</td>\n",
              "      <td>141</td>\n",
              "      <td>150</td>\n",
              "      <td>128</td>\n",
              "      <td>151.0</td>\n",
              "      <td>70.0</td>\n",
              "      <td>1079549</td>\n",
              "    </tr>\n",
              "    <tr>\n",
              "      <th>12</th>\n",
              "      <td>13</td>\n",
              "      <td>Male</td>\n",
              "      <td>135</td>\n",
              "      <td>129</td>\n",
              "      <td>124</td>\n",
              "      <td>155.0</td>\n",
              "      <td>69.0</td>\n",
              "      <td>924059</td>\n",
              "    </tr>\n",
              "    <tr>\n",
              "      <th>13</th>\n",
              "      <td>14</td>\n",
              "      <td>Female</td>\n",
              "      <td>140</td>\n",
              "      <td>120</td>\n",
              "      <td>147</td>\n",
              "      <td>155.0</td>\n",
              "      <td>70.5</td>\n",
              "      <td>856472</td>\n",
              "    </tr>\n",
              "    <tr>\n",
              "      <th>14</th>\n",
              "      <td>15</td>\n",
              "      <td>Female</td>\n",
              "      <td>96</td>\n",
              "      <td>100</td>\n",
              "      <td>90</td>\n",
              "      <td>146.0</td>\n",
              "      <td>66.0</td>\n",
              "      <td>878897</td>\n",
              "    </tr>\n",
              "    <tr>\n",
              "      <th>15</th>\n",
              "      <td>16</td>\n",
              "      <td>Female</td>\n",
              "      <td>83</td>\n",
              "      <td>71</td>\n",
              "      <td>96</td>\n",
              "      <td>135.0</td>\n",
              "      <td>68.0</td>\n",
              "      <td>865363</td>\n",
              "    </tr>\n",
              "    <tr>\n",
              "      <th>16</th>\n",
              "      <td>17</td>\n",
              "      <td>Female</td>\n",
              "      <td>132</td>\n",
              "      <td>132</td>\n",
              "      <td>120</td>\n",
              "      <td>127.0</td>\n",
              "      <td>68.5</td>\n",
              "      <td>852244</td>\n",
              "    </tr>\n",
              "    <tr>\n",
              "      <th>17</th>\n",
              "      <td>18</td>\n",
              "      <td>Male</td>\n",
              "      <td>100</td>\n",
              "      <td>96</td>\n",
              "      <td>102</td>\n",
              "      <td>178.0</td>\n",
              "      <td>73.5</td>\n",
              "      <td>945088</td>\n",
              "    </tr>\n",
              "    <tr>\n",
              "      <th>18</th>\n",
              "      <td>19</td>\n",
              "      <td>Female</td>\n",
              "      <td>101</td>\n",
              "      <td>112</td>\n",
              "      <td>84</td>\n",
              "      <td>136.0</td>\n",
              "      <td>66.3</td>\n",
              "      <td>808020</td>\n",
              "    </tr>\n",
              "    <tr>\n",
              "      <th>19</th>\n",
              "      <td>20</td>\n",
              "      <td>Male</td>\n",
              "      <td>80</td>\n",
              "      <td>77</td>\n",
              "      <td>86</td>\n",
              "      <td>180.0</td>\n",
              "      <td>70.0</td>\n",
              "      <td>889083</td>\n",
              "    </tr>\n",
              "    <tr>\n",
              "      <th>20</th>\n",
              "      <td>21</td>\n",
              "      <td>Male</td>\n",
              "      <td>83</td>\n",
              "      <td>83</td>\n",
              "      <td>86</td>\n",
              "      <td>NaN</td>\n",
              "      <td>NaN</td>\n",
              "      <td>892420</td>\n",
              "    </tr>\n",
              "    <tr>\n",
              "      <th>21</th>\n",
              "      <td>22</td>\n",
              "      <td>Male</td>\n",
              "      <td>97</td>\n",
              "      <td>107</td>\n",
              "      <td>84</td>\n",
              "      <td>186.0</td>\n",
              "      <td>76.5</td>\n",
              "      <td>905940</td>\n",
              "    </tr>\n",
              "    <tr>\n",
              "      <th>22</th>\n",
              "      <td>23</td>\n",
              "      <td>Female</td>\n",
              "      <td>135</td>\n",
              "      <td>129</td>\n",
              "      <td>134</td>\n",
              "      <td>122.0</td>\n",
              "      <td>62.0</td>\n",
              "      <td>790619</td>\n",
              "    </tr>\n",
              "    <tr>\n",
              "      <th>23</th>\n",
              "      <td>24</td>\n",
              "      <td>Male</td>\n",
              "      <td>139</td>\n",
              "      <td>145</td>\n",
              "      <td>128</td>\n",
              "      <td>132.0</td>\n",
              "      <td>68.0</td>\n",
              "      <td>955003</td>\n",
              "    </tr>\n",
              "    <tr>\n",
              "      <th>24</th>\n",
              "      <td>25</td>\n",
              "      <td>Female</td>\n",
              "      <td>91</td>\n",
              "      <td>86</td>\n",
              "      <td>102</td>\n",
              "      <td>114.0</td>\n",
              "      <td>63.0</td>\n",
              "      <td>831772</td>\n",
              "    </tr>\n",
              "    <tr>\n",
              "      <th>25</th>\n",
              "      <td>26</td>\n",
              "      <td>Male</td>\n",
              "      <td>141</td>\n",
              "      <td>145</td>\n",
              "      <td>131</td>\n",
              "      <td>171.0</td>\n",
              "      <td>72.0</td>\n",
              "      <td>935494</td>\n",
              "    </tr>\n",
              "    <tr>\n",
              "      <th>26</th>\n",
              "      <td>27</td>\n",
              "      <td>Female</td>\n",
              "      <td>85</td>\n",
              "      <td>90</td>\n",
              "      <td>84</td>\n",
              "      <td>140.0</td>\n",
              "      <td>68.0</td>\n",
              "      <td>798612</td>\n",
              "    </tr>\n",
              "    <tr>\n",
              "      <th>27</th>\n",
              "      <td>28</td>\n",
              "      <td>Male</td>\n",
              "      <td>103</td>\n",
              "      <td>96</td>\n",
              "      <td>110</td>\n",
              "      <td>187.0</td>\n",
              "      <td>77.0</td>\n",
              "      <td>1062462</td>\n",
              "    </tr>\n",
              "    <tr>\n",
              "      <th>28</th>\n",
              "      <td>29</td>\n",
              "      <td>Female</td>\n",
              "      <td>77</td>\n",
              "      <td>83</td>\n",
              "      <td>72</td>\n",
              "      <td>106.0</td>\n",
              "      <td>63.0</td>\n",
              "      <td>793549</td>\n",
              "    </tr>\n",
              "    <tr>\n",
              "      <th>29</th>\n",
              "      <td>30</td>\n",
              "      <td>Female</td>\n",
              "      <td>130</td>\n",
              "      <td>126</td>\n",
              "      <td>124</td>\n",
              "      <td>159.0</td>\n",
              "      <td>66.5</td>\n",
              "      <td>866662</td>\n",
              "    </tr>\n",
              "    <tr>\n",
              "      <th>30</th>\n",
              "      <td>31</td>\n",
              "      <td>Female</td>\n",
              "      <td>133</td>\n",
              "      <td>126</td>\n",
              "      <td>132</td>\n",
              "      <td>127.0</td>\n",
              "      <td>62.5</td>\n",
              "      <td>857782</td>\n",
              "    </tr>\n",
              "    <tr>\n",
              "      <th>31</th>\n",
              "      <td>32</td>\n",
              "      <td>Male</td>\n",
              "      <td>144</td>\n",
              "      <td>145</td>\n",
              "      <td>137</td>\n",
              "      <td>191.0</td>\n",
              "      <td>67.0</td>\n",
              "      <td>949589</td>\n",
              "    </tr>\n",
              "    <tr>\n",
              "      <th>32</th>\n",
              "      <td>33</td>\n",
              "      <td>Male</td>\n",
              "      <td>103</td>\n",
              "      <td>96</td>\n",
              "      <td>110</td>\n",
              "      <td>192.0</td>\n",
              "      <td>75.5</td>\n",
              "      <td>997925</td>\n",
              "    </tr>\n",
              "    <tr>\n",
              "      <th>33</th>\n",
              "      <td>34</td>\n",
              "      <td>Male</td>\n",
              "      <td>90</td>\n",
              "      <td>96</td>\n",
              "      <td>86</td>\n",
              "      <td>181.0</td>\n",
              "      <td>69.0</td>\n",
              "      <td>879987</td>\n",
              "    </tr>\n",
              "    <tr>\n",
              "      <th>34</th>\n",
              "      <td>35</td>\n",
              "      <td>Female</td>\n",
              "      <td>83</td>\n",
              "      <td>90</td>\n",
              "      <td>81</td>\n",
              "      <td>143.0</td>\n",
              "      <td>66.5</td>\n",
              "      <td>834344</td>\n",
              "    </tr>\n",
              "    <tr>\n",
              "      <th>35</th>\n",
              "      <td>36</td>\n",
              "      <td>Female</td>\n",
              "      <td>133</td>\n",
              "      <td>129</td>\n",
              "      <td>128</td>\n",
              "      <td>153.0</td>\n",
              "      <td>66.5</td>\n",
              "      <td>948066</td>\n",
              "    </tr>\n",
              "    <tr>\n",
              "      <th>36</th>\n",
              "      <td>37</td>\n",
              "      <td>Male</td>\n",
              "      <td>140</td>\n",
              "      <td>150</td>\n",
              "      <td>124</td>\n",
              "      <td>144.0</td>\n",
              "      <td>70.5</td>\n",
              "      <td>949395</td>\n",
              "    </tr>\n",
              "    <tr>\n",
              "      <th>37</th>\n",
              "      <td>38</td>\n",
              "      <td>Female</td>\n",
              "      <td>88</td>\n",
              "      <td>86</td>\n",
              "      <td>94</td>\n",
              "      <td>139.0</td>\n",
              "      <td>64.5</td>\n",
              "      <td>893983</td>\n",
              "    </tr>\n",
              "    <tr>\n",
              "      <th>38</th>\n",
              "      <td>39</td>\n",
              "      <td>Male</td>\n",
              "      <td>81</td>\n",
              "      <td>90</td>\n",
              "      <td>74</td>\n",
              "      <td>148.0</td>\n",
              "      <td>74.0</td>\n",
              "      <td>930016</td>\n",
              "    </tr>\n",
              "    <tr>\n",
              "      <th>39</th>\n",
              "      <td>40</td>\n",
              "      <td>Male</td>\n",
              "      <td>89</td>\n",
              "      <td>91</td>\n",
              "      <td>89</td>\n",
              "      <td>179.0</td>\n",
              "      <td>75.5</td>\n",
              "      <td>935863</td>\n",
              "    </tr>\n",
              "  </tbody>\n",
              "</table>\n",
              "</div>\n",
              "      <button class=\"colab-df-convert\" onclick=\"convertToInteractive('df-63eb1ca2-5481-4af8-89c6-db896ff12647')\"\n",
              "              title=\"Convert this dataframe to an interactive table.\"\n",
              "              style=\"display:none;\">\n",
              "        \n",
              "  <svg xmlns=\"http://www.w3.org/2000/svg\" height=\"24px\"viewBox=\"0 0 24 24\"\n",
              "       width=\"24px\">\n",
              "    <path d=\"M0 0h24v24H0V0z\" fill=\"none\"/>\n",
              "    <path d=\"M18.56 5.44l.94 2.06.94-2.06 2.06-.94-2.06-.94-.94-2.06-.94 2.06-2.06.94zm-11 1L8.5 8.5l.94-2.06 2.06-.94-2.06-.94L8.5 2.5l-.94 2.06-2.06.94zm10 10l.94 2.06.94-2.06 2.06-.94-2.06-.94-.94-2.06-.94 2.06-2.06.94z\"/><path d=\"M17.41 7.96l-1.37-1.37c-.4-.4-.92-.59-1.43-.59-.52 0-1.04.2-1.43.59L10.3 9.45l-7.72 7.72c-.78.78-.78 2.05 0 2.83L4 21.41c.39.39.9.59 1.41.59.51 0 1.02-.2 1.41-.59l7.78-7.78 2.81-2.81c.8-.78.8-2.07 0-2.86zM5.41 20L4 18.59l7.72-7.72 1.47 1.35L5.41 20z\"/>\n",
              "  </svg>\n",
              "      </button>\n",
              "      \n",
              "  <style>\n",
              "    .colab-df-container {\n",
              "      display:flex;\n",
              "      flex-wrap:wrap;\n",
              "      gap: 12px;\n",
              "    }\n",
              "\n",
              "    .colab-df-convert {\n",
              "      background-color: #E8F0FE;\n",
              "      border: none;\n",
              "      border-radius: 50%;\n",
              "      cursor: pointer;\n",
              "      display: none;\n",
              "      fill: #1967D2;\n",
              "      height: 32px;\n",
              "      padding: 0 0 0 0;\n",
              "      width: 32px;\n",
              "    }\n",
              "\n",
              "    .colab-df-convert:hover {\n",
              "      background-color: #E2EBFA;\n",
              "      box-shadow: 0px 1px 2px rgba(60, 64, 67, 0.3), 0px 1px 3px 1px rgba(60, 64, 67, 0.15);\n",
              "      fill: #174EA6;\n",
              "    }\n",
              "\n",
              "    [theme=dark] .colab-df-convert {\n",
              "      background-color: #3B4455;\n",
              "      fill: #D2E3FC;\n",
              "    }\n",
              "\n",
              "    [theme=dark] .colab-df-convert:hover {\n",
              "      background-color: #434B5C;\n",
              "      box-shadow: 0px 1px 3px 1px rgba(0, 0, 0, 0.15);\n",
              "      filter: drop-shadow(0px 1px 2px rgba(0, 0, 0, 0.3));\n",
              "      fill: #FFFFFF;\n",
              "    }\n",
              "  </style>\n",
              "\n",
              "      <script>\n",
              "        const buttonEl =\n",
              "          document.querySelector('#df-63eb1ca2-5481-4af8-89c6-db896ff12647 button.colab-df-convert');\n",
              "        buttonEl.style.display =\n",
              "          google.colab.kernel.accessAllowed ? 'block' : 'none';\n",
              "\n",
              "        async function convertToInteractive(key) {\n",
              "          const element = document.querySelector('#df-63eb1ca2-5481-4af8-89c6-db896ff12647');\n",
              "          const dataTable =\n",
              "            await google.colab.kernel.invokeFunction('convertToInteractive',\n",
              "                                                     [key], {});\n",
              "          if (!dataTable) return;\n",
              "\n",
              "          const docLinkHtml = 'Like what you see? Visit the ' +\n",
              "            '<a target=\"_blank\" href=https://colab.research.google.com/notebooks/data_table.ipynb>data table notebook</a>'\n",
              "            + ' to learn more about interactive tables.';\n",
              "          element.innerHTML = '';\n",
              "          dataTable['output_type'] = 'display_data';\n",
              "          await google.colab.output.renderOutput(dataTable, element);\n",
              "          const docLink = document.createElement('div');\n",
              "          docLink.innerHTML = docLinkHtml;\n",
              "          element.appendChild(docLink);\n",
              "        }\n",
              "      </script>\n",
              "    </div>\n",
              "  </div>\n",
              "  "
            ]
          },
          "metadata": {},
          "execution_count": 4
        }
      ]
    },
    {
      "cell_type": "code",
      "metadata": {
        "colab": {
          "base_uri": "https://localhost:8080/"
        },
        "id": "qYd6JIwTei8I",
        "outputId": "64c73ac7-b62e-4c75-c9a3-82df57270800"
      },
      "source": [
        "np.mean(data['VIQ'])"
      ],
      "execution_count": 5,
      "outputs": [
        {
          "output_type": "execute_result",
          "data": {
            "text/plain": [
              "112.35"
            ]
          },
          "metadata": {},
          "execution_count": 5
        }
      ]
    },
    {
      "cell_type": "markdown",
      "source": [
        "# One Sample Tests"
      ],
      "metadata": {
        "id": "54HIFUoupJrp"
      }
    },
    {
      "cell_type": "code",
      "source": [
        "# assuming the variance of VIQ is known\n",
        "ztest ,propability_value = stests.ztest(data['VIQ'], x2=None, value=120)\n",
        "print(float(propability_value))\n",
        "if propability_value<0.05:\n",
        "  print(\"Null hyphothesis rejected , Alternative hyphothesis accepted\")\n",
        "else:\n",
        "  print(\"Null hyphothesis accepted , Alternative hyphothesis rejected\")"
      ],
      "metadata": {
        "colab": {
          "base_uri": "https://localhost:8080/"
        },
        "id": "TOBczU4Yy8lx",
        "outputId": "3b43ec56-929a-4d4e-a8f2-7a1245e0c26a"
      },
      "execution_count": null,
      "outputs": [
        {
          "output_type": "stream",
          "name": "stdout",
          "text": [
            "0.04048926481883569\n",
            "Null hyphothesis rejected , Alternative hyphothesis accepted\n"
          ]
        }
      ]
    },
    {
      "cell_type": "code",
      "metadata": {
        "colab": {
          "base_uri": "https://localhost:8080/"
        },
        "id": "ZwGSQt00c3U-",
        "outputId": "ba50ae1f-03c1-447c-bfb0-fd5474995191"
      },
      "source": [
        "# one sample t test (default two sided test)\n",
        "# there are two ways to run this one sample t test\n",
        "#stats.ttest_1samp(data['VIQ'], 110)\n",
        "stats.ttest_1samp(a=data['VIQ'], popmean=110)"
      ],
      "execution_count": null,
      "outputs": [
        {
          "output_type": "execute_result",
          "data": {
            "text/plain": [
              "Ttest_1sampResult(statistic=0.6293461053092635, pvalue=0.5327920500038907)"
            ]
          },
          "metadata": {},
          "execution_count": 12
        }
      ]
    },
    {
      "cell_type": "markdown",
      "source": [
        "# Two Sample Tests\n"
      ],
      "metadata": {
        "id": "s7WN-DPRpBa5"
      }
    },
    {
      "cell_type": "code",
      "metadata": {
        "colab": {
          "base_uri": "https://localhost:8080/"
        },
        "id": "fMDdmGYLItal",
        "outputId": "f22034e2-17c2-4ada-e3d6-e529e3560d79"
      },
      "source": [
        "#F test for variances of two populations\n",
        "# the following function is user defined\n",
        "# define a F test\n",
        "def f_test(x,y):\n",
        "  x=np.array(x)\n",
        "  y=np.array(y)\n",
        "  f=np.var(x,ddof=1)/np.var(y, ddof=1) # cal F test statistic\n",
        "  dfn=x.size-1\n",
        "  dfd=y.size-1\n",
        "  p=1-stats.f.cdf(f,dfn, dfd) #find p-value of F test statistics\n",
        "  return f, p\n",
        "  \n",
        "male_viq=data[data['Gender']=='Male']['VIQ']\n",
        "female_viq=data[data['Gender']=='Female']['VIQ']\n",
        "f_test(male_viq, female_viq)"
      ],
      "execution_count": 7,
      "outputs": [
        {
          "output_type": "execute_result",
          "data": {
            "text/plain": [
              "(1.3999574131873427, 0.23514586725149234)"
            ]
          },
          "metadata": {},
          "execution_count": 7
        }
      ]
    },
    {
      "cell_type": "markdown",
      "source": [
        "**Since p value is large (>0.05), we cannot reject H0: variance 1 = variance 2\n",
        "Which of the following block should you choose?**"
      ],
      "metadata": {
        "id": "dRJuFYjrpVmT"
      }
    },
    {
      "cell_type": "code",
      "metadata": {
        "colab": {
          "base_uri": "https://localhost:8080/"
        },
        "id": "0395SDj6HRR5",
        "outputId": "54c3bc15-66c0-4773-a238-510fd793a2ec"
      },
      "source": [
        "#two sample t-test 1: assume the variance is the same (default)\n",
        "male_viq=data[data['Gender']=='Male']['VIQ']\n",
        "female_viq=data[data['Gender']=='Female']['VIQ']\n",
        "stats.ttest_ind(female_viq, male_viq, equal_var=True)"
      ],
      "execution_count": 8,
      "outputs": [
        {
          "output_type": "execute_result",
          "data": {
            "text/plain": [
              "Ttest_indResult(statistic=-0.7726161723275011, pvalue=0.44452876778583217)"
            ]
          },
          "metadata": {},
          "execution_count": 8
        }
      ]
    },
    {
      "cell_type": "code",
      "metadata": {
        "colab": {
          "base_uri": "https://localhost:8080/"
        },
        "id": "86ODq07slKzs",
        "outputId": "3d4c10e1-5d59-48d5-82e3-1bc3eea22be8"
      },
      "source": [
        "#two sample t-test method 2: the variances are not the same\n",
        "stats.ttest_ind(female_viq, male_viq, equal_var=False)"
      ],
      "execution_count": 9,
      "outputs": [
        {
          "output_type": "execute_result",
          "data": {
            "text/plain": [
              "Ttest_indResult(statistic=-0.7726161723275011, pvalue=0.44466074519419097)"
            ]
          },
          "metadata": {},
          "execution_count": 9
        }
      ]
    },
    {
      "cell_type": "code",
      "metadata": {
        "colab": {
          "base_uri": "https://localhost:8080/"
        },
        "id": "E_hsR5YeKiIk",
        "outputId": "d208e88a-d8c9-46e0-f7e4-f25f70edca21"
      },
      "source": [
        "#Paired t-Test method 1: using one sample t test\n",
        "#Test if FISQ and PIQ are signficantly different\n",
        "#The data for the pair (FISQ, PIQ) are obtained for the same subject \n",
        "diff=data['FSIQ']-data['VIQ']\n",
        "stats.ttest_1samp(diff, 0)\n"
      ],
      "execution_count": 10,
      "outputs": [
        {
          "output_type": "execute_result",
          "data": {
            "text/plain": [
              "Ttest_1sampResult(statistic=0.8913911665594247, pvalue=0.37818604189634275)"
            ]
          },
          "metadata": {},
          "execution_count": 10
        }
      ]
    },
    {
      "cell_type": "markdown",
      "metadata": {
        "id": "7XmIgnCIMf5j"
      },
      "source": [
        "**The above p-value is large, which suggests H0: mu 1 = mu 2 can not be rejected.**"
      ]
    },
    {
      "cell_type": "code",
      "metadata": {
        "colab": {
          "base_uri": "https://localhost:8080/"
        },
        "id": "uEYj54e1M_o3",
        "outputId": "5e12f07e-ce35-4d76-974e-7ec252e9a827"
      },
      "source": [
        "#Paired t-Test method 2: using repeated measures test\n",
        "#Test if FISQ and PIQ are signficantly different\n",
        "#The data for the pair (FISQ, PIQ) are obtained for the same subject \n",
        "\n",
        "stats.ttest_rel(data['FSIQ'],data['VIQ'])"
      ],
      "execution_count": 11,
      "outputs": [
        {
          "output_type": "execute_result",
          "data": {
            "text/plain": [
              "Ttest_relResult(statistic=0.8913911665594247, pvalue=0.37818604189634275)"
            ]
          },
          "metadata": {},
          "execution_count": 11
        }
      ]
    },
    {
      "cell_type": "markdown",
      "source": [
        "# Critcal values of a t distribution"
      ],
      "metadata": {
        "id": "XQY8CL0IcGIz"
      }
    },
    {
      "cell_type": "code",
      "metadata": {
        "colab": {
          "base_uri": "https://localhost:8080/"
        },
        "id": "9joYnYxfg_jE",
        "outputId": "c2d31a96-e980-4204-e893-fadc837dc80e"
      },
      "source": [
        "# critcal values of a t distribution\n",
        "# for two sided 95% CI, the left critical value can be optained\n",
        "x=data['VIQ']\n",
        "df1=len(x) -1\n",
        "stats.t.ppf(q=0.025, df=df1)\n"
      ],
      "execution_count": 12,
      "outputs": [
        {
          "output_type": "execute_result",
          "data": {
            "text/plain": [
              "-2.0226909117347285"
            ]
          },
          "metadata": {},
          "execution_count": 12
        }
      ]
    },
    {
      "cell_type": "code",
      "metadata": {
        "colab": {
          "base_uri": "https://localhost:8080/"
        },
        "id": "Uz5Tm2xmiGux",
        "outputId": "2bfdeaad-fc5e-4dc9-d580-88f785507ae4"
      },
      "source": [
        "# critcal values of a t distribution\n",
        "# for two sided 95% CI, the right critical value can be optained\n",
        "\n",
        "stats.t.ppf(q=0.975, df=df1)\n"
      ],
      "execution_count": 13,
      "outputs": [
        {
          "output_type": "execute_result",
          "data": {
            "text/plain": [
              "2.022690911734728"
            ]
          },
          "metadata": {},
          "execution_count": 13
        }
      ]
    },
    {
      "cell_type": "code",
      "metadata": {
        "colab": {
          "base_uri": "https://localhost:8080/"
        },
        "id": "L-V9DDqPimLk",
        "outputId": "ac167756-b35c-4a41-b75f-71baaed996cb"
      },
      "source": [
        "# critcal values of a t distribution\n",
        "# for one sided 95% CI, the right critical value can be optained\n",
        "# Ha u > u0\n",
        "\n",
        "stats.t.ppf(q=0.95, df=df1)"
      ],
      "execution_count": 14,
      "outputs": [
        {
          "output_type": "execute_result",
          "data": {
            "text/plain": [
              "1.6848751194973992"
            ]
          },
          "metadata": {},
          "execution_count": 14
        }
      ]
    },
    {
      "cell_type": "markdown",
      "source": [
        "# Compute Confidence Intervals\n",
        "Example 4.9: Two catalysts are analyzed their effect on mean yield of a chemical process\n"
      ],
      "metadata": {
        "id": "c-3gZh_ucW5N"
      }
    },
    {
      "cell_type": "code",
      "metadata": {
        "colab": {
          "base_uri": "https://localhost:8080/"
        },
        "id": "x3MFDQDQjr2i",
        "outputId": "b57a3e83-7b73-43ad-b719-4ab6f431719d"
      },
      "source": [
        "# 95% confidence interval of one sample variance unknown\n",
        "mean1=np.mean(x)\n",
        "sigma1=np.std(x)\n",
        "stats.t.interval(0.95, df=df1, loc=mean1, scale=sigma1)"
      ],
      "execution_count": 15,
      "outputs": [
        {
          "output_type": "execute_result",
          "data": {
            "text/plain": [
              "(65.18279520885642, 159.51720479114357)"
            ]
          },
          "metadata": {},
          "execution_count": 15
        }
      ]
    },
    {
      "cell_type": "markdown",
      "metadata": {
        "id": "xP1PVPZ6khZm"
      },
      "source": [
        "Your turn: can you constuct a 99% CI of x?"
      ]
    },
    {
      "cell_type": "code",
      "source": [
        "# 95% confidence interval of Two sample variance is pooled \n",
        "# see Montgomery 7ed (4.56)\n",
        "#x1=data[data['Gender']=='Male']['VIQ']\n",
        "#x2=data[data['Gender']=='Female']['VIQ']\n",
        "# Example: Montgomery 7ed Ex 4.9\n",
        "x1=[91.50, 94.18, 92.18, 95.39, 91.79, 89.07, 94.72, 89.21]\n",
        "x2=[89.19, 90.95, 90.46, 93.21, 97.19, 97.04, 91.07, 92.75]\n",
        "n1=len(x1)\n",
        "n2=len(x2)\n",
        "mean1=np.mean(x1)\n",
        "mean2=np.mean(x2)\n",
        "sigma1=np.std(x1, ddof=1) #ddof=1 so that N-! is used in the diviser\n",
        "sigma2=np.std(x2, ddof=1)\n",
        "Sp= math.sqrt(((n1-1)*sigma1**2 + (n2-1)*sigma2**2)/(n1+n2-2))\n",
        "t0= (mean1-mean2)/(Sp * math.sqrt(1/n1 +1/n2))\n",
        "LCI= mean1-mean2 - Sp * stats.t.ppf(q=0.925, df=n1+n2-2) * math.sqrt(1/n1 +1/n2)\n",
        "UCI= mean1-mean2 + Sp * stats.t.ppf(q=0.975, df=n1+n2-2) * math.sqrt(1/n1 +1/n2)\n",
        "print(\"Sp=\", Sp)\n",
        "print(\"(t0, critical value)=(\", t0, stats.t.ppf(q=0.975, df=n1+n2-2),\")\")\n",
        "print(\"(LCI, UCI) = (\", LCI, UCI, \")\")"
      ],
      "metadata": {
        "colab": {
          "base_uri": "https://localhost:8080/"
        },
        "id": "tgh8xic8c_iw",
        "outputId": "920b342c-9663-470a-d640-ee51f3a7620d"
      },
      "execution_count": 17,
      "outputs": [
        {
          "output_type": "stream",
          "name": "stdout",
          "text": [
            "Sp= 2.7008616350025383\n",
            "(t0, critical value)=( -0.35359086434617987 2.1447866879169273 )\n",
            "(LCI, UCI) = ( -2.534334508258147 2.4188860403295034 )\n"
          ]
        }
      ]
    },
    {
      "cell_type": "code",
      "source": [
        "# Box Plots\n",
        "# Box plots by populations\n",
        "\n",
        "fig = plt.figure(figsize= (10, 10))\n",
        "ax = fig.add_subplot(111)\n",
        "\n",
        "ax.set_title(\"Box Plots of Yield\", fontsize= 20)\n",
        "ax.set\n",
        "\n",
        "data2=[x1, x2]\n",
        "\n",
        "ax.boxplot(data2,\n",
        "           labels= ['Catalyst 1', 'Catalyst 2'],\n",
        "           showmeans= True)\n",
        "\n",
        "plt.xlabel(\"Catalyst\")\n",
        "plt.ylabel(\"Yield\")\n",
        "\n",
        "plt.show()"
      ],
      "metadata": {
        "colab": {
          "base_uri": "https://localhost:8080/",
          "height": 627
        },
        "id": "m7f6NlBVUzfq",
        "outputId": "08de5c71-f90d-4f18-dbe7-92e6776bc7bc"
      },
      "execution_count": 24,
      "outputs": [
        {
          "output_type": "display_data",
          "data": {
            "text/plain": [
              "<Figure size 720x720 with 1 Axes>"
            ],
            "image/png": "[encoded data removed]"
          },
          "metadata": {
            "needs_background": "light"
          }
        }
      ]
    },
    {
      "cell_type": "code",
      "source": [
        "# Probability Plots\n",
        "\n",
        "# Residual Analysis\n",
        "# normal check\n",
        "fig = plt.figure(figsize= (10, 10))\n",
        "ax = fig.add_subplot(111)\n",
        "\n",
        "normality_plot, stat = stats.probplot(x1, plot= plt, rvalue= True)\n",
        "ax.set_title(\"Probability plot of Catalyst 1\", fontsize= 20)\n",
        "ax.set\n",
        "\n",
        "plt.show()"
      ],
      "metadata": {
        "colab": {
          "base_uri": "https://localhost:8080/",
          "height": 627
        },
        "id": "BCzneoc8T9Je",
        "outputId": "30121f9a-69ff-494f-8165-b759b851896a"
      },
      "execution_count": 22,
      "outputs": [
        {
          "output_type": "display_data",
          "data": {
            "text/plain": [
              "<Figure size 720x720 with 1 Axes>"
            ],
            "image/png": "[encoded data removed]"
          },
          "metadata": {
            "needs_background": "light"
          }
        }
      ]
    },
    {
      "cell_type": "code",
      "source": [
        "# Probability Plots\n",
        "\n",
        "# Residual Analysis\n",
        "# normal check\n",
        "fig = plt.figure(figsize= (10, 10))\n",
        "ax = fig.add_subplot(111)\n",
        "\n",
        "normality_plot, stat = stats.probplot(x2, plot= plt, rvalue= True)\n",
        "ax.set_title(\"Probability plot of Catalyst 2\", fontsize= 20)\n",
        "ax.set\n",
        "\n",
        "plt.show()"
      ],
      "metadata": {
        "colab": {
          "base_uri": "https://localhost:8080/",
          "height": 627
        },
        "id": "EH0K39dUV_4a",
        "outputId": "46f02c3b-1b5e-4970-eebd-ef0f55bc54cd"
      },
      "execution_count": 23,
      "outputs": [
        {
          "output_type": "display_data",
          "data": {
            "text/plain": [
              "<Figure size 720x720 with 1 Axes>"
            ],
            "image/png": "[encoded data removed]"
          },
          "metadata": {
            "needs_background": "light"
          }
        }
      ]
    },
    {
      "cell_type": "markdown",
      "source": [
        "Your turn: generate the CI for the case where sigma1 <> sigma2"
      ],
      "metadata": {
        "id": "16Hl0PHllz4L"
      }
    }
  ]
}