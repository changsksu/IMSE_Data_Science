{
  "nbformat": 4,
  "nbformat_minor": 0,
  "metadata": {
    "colab": {
      "provenance": [],
      "authorship_tag": "ABX9TyM05ZcHRD9rvr3teISSgQiA",
      "include_colab_link": true
    },
    "kernelspec": {
      "name": "python3",
      "display_name": "Python 3"
    },
    "language_info": {
      "name": "python"
    }
  },
  "cells": [
    {
      "cell_type": "markdown",
      "metadata": {
        "id": "view-in-github",
        "colab_type": "text"
      },
      "source": [
        "<a href=\"https://colab.research.google.com/github/changsksu/IMSE_Data_Science/blob/main/2k_factorial_via_Sklearn.ipynb\" target=\"_parent\"><img src=\"https://colab.research.google.com/assets/colab-badge.svg\" alt=\"Open In Colab\"/></a>"
      ]
    },
    {
      "cell_type": "markdown",
      "metadata": {
        "id": "dDVwl7w2Xknz"
      },
      "source": [
        "# This Python notebook demonstrates the computation of Two-Level factorial experimental analysis using sklearn and statmodel.\n",
        "We take the advantage of the polynomial generation feature to generate full dimension of the design matrix x using sklearn PolynomialFeature. The example is from Montgomery Intro to SQC (7th ed chap 13 Ex 13.6 Router Experiment).  Ref.\n",
        "https://www.statsmodels.org/stable/regression.html#examples\n",
        "\n",
        "https://scikit-learn.org/stable/modules/generated/sklearn.preprocessing.PolynomialFeatures.html\n"
      ]
    },
    {
      "cell_type": "code",
      "metadata": {
        "id": "Rc7nYxvoWrGy",
        "colab": {
          "base_uri": "https://localhost:8080/"
        },
        "outputId": "88c9e28a-5bc9-4cc6-a5ec-dc7ff5b4e841"
      },
      "source": [
        "import math\n",
        "import random\n",
        "import scipy\n",
        "import statistics\n",
        "import numpy as np\n",
        "import scipy.stats\n",
        "from scipy import stats\n",
        "import pandas as pd\n",
        "import matplotlib.pyplot as plt\n",
        "import statsmodels.api as sm\n",
        "from statsmodels.formula.api import ols\n",
        "import statsmodels.stats.multicomp as mc\n",
        "from sklearn.linear_model import LinearRegression\n",
        "from sklearn.preprocessing import PolynomialFeatures"
      ],
      "execution_count": null,
      "outputs": [
        {
          "output_type": "stream",
          "name": "stderr",
          "text": [
            "/usr/local/lib/python3.7/dist-packages/statsmodels/tools/_testing.py:19: FutureWarning: pandas.util.testing is deprecated. Use the functions in the public API at pandas.testing instead.\n",
            "  import pandas.util.testing as tm\n"
          ]
        }
      ]
    },
    {
      "cell_type": "code",
      "metadata": {
        "colab": {
          "base_uri": "https://localhost:8080/"
        },
        "id": "CWWSKczxFCAS",
        "outputId": "d343b69e-c467-47bc-e9c9-698e75a01f45"
      },
      "source": [
        "# mount google drive\n",
        "from google.colab import drive\n",
        "drive.mount('/content/drive')"
      ],
      "execution_count": null,
      "outputs": [
        {
          "output_type": "stream",
          "name": "stdout",
          "text": [
            "Mounted at /content/drive\n"
          ]
        }
      ]
    },
    {
      "cell_type": "code",
      "metadata": {
        "colab": {
          "base_uri": "https://localhost:8080/",
          "height": 551
        },
        "id": "yFZh17e5FMgn",
        "outputId": "c5c551e0-fc3e-48b2-b653-15118764396f"
      },
      "source": [
        "#the 2nd read option assume that the data file is rignt under your default google drive directory\n",
        "#note that the path is case sensitive\n",
        "#use a text editor such as notepad to see the seperator dividing data\n",
        "#go the 1st read option for local file: see the Read data from local file notebook for an example\n",
        "# factor A is bit size and factor B is speed and the response is vibration\n",
        "data = pd.read_csv('drive/My Drive/Colab Notebooks/IMSE_Data_Science/Data/Ex13-6 Router Experiment 2k k=2.csv', sep=',', na_values=\".\")\n",
        "\n",
        "data"
      ],
      "execution_count": null,
      "outputs": [
        {
          "output_type": "execute_result",
          "data": {
            "text/html": [
              "<div>\n",
              "<style scoped>\n",
              "    .dataframe tbody tr th:only-of-type {\n",
              "        vertical-align: middle;\n",
              "    }\n",
              "\n",
              "    .dataframe tbody tr th {\n",
              "        vertical-align: top;\n",
              "    }\n",
              "\n",
              "    .dataframe thead th {\n",
              "        text-align: right;\n",
              "    }\n",
              "</style>\n",
              "<table border=\"1\" class=\"dataframe\">\n",
              "  <thead>\n",
              "    <tr style=\"text-align: right;\">\n",
              "      <th></th>\n",
              "      <th>A</th>\n",
              "      <th>B</th>\n",
              "      <th>Vibration</th>\n",
              "    </tr>\n",
              "  </thead>\n",
              "  <tbody>\n",
              "    <tr>\n",
              "      <th>0</th>\n",
              "      <td>-1</td>\n",
              "      <td>-1</td>\n",
              "      <td>18.2</td>\n",
              "    </tr>\n",
              "    <tr>\n",
              "      <th>1</th>\n",
              "      <td>1</td>\n",
              "      <td>-1</td>\n",
              "      <td>27.3</td>\n",
              "    </tr>\n",
              "    <tr>\n",
              "      <th>2</th>\n",
              "      <td>-1</td>\n",
              "      <td>1</td>\n",
              "      <td>15.9</td>\n",
              "    </tr>\n",
              "    <tr>\n",
              "      <th>3</th>\n",
              "      <td>1</td>\n",
              "      <td>1</td>\n",
              "      <td>41.0</td>\n",
              "    </tr>\n",
              "    <tr>\n",
              "      <th>4</th>\n",
              "      <td>-1</td>\n",
              "      <td>-1</td>\n",
              "      <td>18.9</td>\n",
              "    </tr>\n",
              "    <tr>\n",
              "      <th>5</th>\n",
              "      <td>1</td>\n",
              "      <td>-1</td>\n",
              "      <td>24.0</td>\n",
              "    </tr>\n",
              "    <tr>\n",
              "      <th>6</th>\n",
              "      <td>-1</td>\n",
              "      <td>1</td>\n",
              "      <td>14.5</td>\n",
              "    </tr>\n",
              "    <tr>\n",
              "      <th>7</th>\n",
              "      <td>1</td>\n",
              "      <td>1</td>\n",
              "      <td>43.9</td>\n",
              "    </tr>\n",
              "    <tr>\n",
              "      <th>8</th>\n",
              "      <td>-1</td>\n",
              "      <td>-1</td>\n",
              "      <td>12.9</td>\n",
              "    </tr>\n",
              "    <tr>\n",
              "      <th>9</th>\n",
              "      <td>1</td>\n",
              "      <td>-1</td>\n",
              "      <td>22.4</td>\n",
              "    </tr>\n",
              "    <tr>\n",
              "      <th>10</th>\n",
              "      <td>-1</td>\n",
              "      <td>1</td>\n",
              "      <td>15.1</td>\n",
              "    </tr>\n",
              "    <tr>\n",
              "      <th>11</th>\n",
              "      <td>1</td>\n",
              "      <td>1</td>\n",
              "      <td>36.3</td>\n",
              "    </tr>\n",
              "    <tr>\n",
              "      <th>12</th>\n",
              "      <td>-1</td>\n",
              "      <td>-1</td>\n",
              "      <td>14.4</td>\n",
              "    </tr>\n",
              "    <tr>\n",
              "      <th>13</th>\n",
              "      <td>1</td>\n",
              "      <td>-1</td>\n",
              "      <td>22.5</td>\n",
              "    </tr>\n",
              "    <tr>\n",
              "      <th>14</th>\n",
              "      <td>-1</td>\n",
              "      <td>1</td>\n",
              "      <td>14.2</td>\n",
              "    </tr>\n",
              "    <tr>\n",
              "      <th>15</th>\n",
              "      <td>1</td>\n",
              "      <td>1</td>\n",
              "      <td>39.9</td>\n",
              "    </tr>\n",
              "  </tbody>\n",
              "</table>\n",
              "</div>"
            ],
            "text/plain": [
              "    A  B  Vibration\n",
              "0  -1 -1       18.2\n",
              "1   1 -1       27.3\n",
              "2  -1  1       15.9\n",
              "3   1  1       41.0\n",
              "4  -1 -1       18.9\n",
              "5   1 -1       24.0\n",
              "6  -1  1       14.5\n",
              "7   1  1       43.9\n",
              "8  -1 -1       12.9\n",
              "9   1 -1       22.4\n",
              "10 -1  1       15.1\n",
              "11  1  1       36.3\n",
              "12 -1 -1       14.4\n",
              "13  1 -1       22.5\n",
              "14 -1  1       14.2\n",
              "15  1  1       39.9"
            ]
          },
          "metadata": {},
          "execution_count": 3
        }
      ]
    },
    {
      "cell_type": "markdown",
      "metadata": {
        "id": "_i0f3HQRMZ1S"
      },
      "source": [
        "The F test from one-way ANOVA is used to test\n",
        "**H0: tau5%=tau10%=tau15%=mtau20%=0 **vs\n",
        "H1: at least one tau <>0\n",
        "Since the pvalue is very small, we would reject H0 and conclude that\n",
        "there is a difference in paper strenght influenced by hardwood concentration"
      ]
    },
    {
      "cell_type": "code",
      "metadata": {
        "colab": {
          "base_uri": "https://localhost:8080/"
        },
        "id": "N-HZ4yDDTc0k",
        "outputId": "22717d28-c012-48fc-c7c3-bd6e626de442"
      },
      "source": [
        "df=data #df means data frame\n",
        "df.info()"
      ],
      "execution_count": null,
      "outputs": [
        {
          "output_type": "stream",
          "name": "stdout",
          "text": [
            "<class 'pandas.core.frame.DataFrame'>\n",
            "RangeIndex: 16 entries, 0 to 15\n",
            "Data columns (total 3 columns):\n",
            " #   Column     Non-Null Count  Dtype  \n",
            "---  ------     --------------  -----  \n",
            " 0   A          16 non-null     int64  \n",
            " 1   B          16 non-null     int64  \n",
            " 2   Vibration  16 non-null     float64\n",
            "dtypes: float64(1), int64(2)\n",
            "memory usage: 512.0 bytes\n"
          ]
        }
      ]
    },
    {
      "cell_type": "code",
      "metadata": {
        "colab": {
          "base_uri": "https://localhost:8080/",
          "height": 551
        },
        "id": "eviaT0ByAqwy",
        "outputId": "6c5cd893-99ef-4bbe-95e8-77a84c73b5bc"
      },
      "source": [
        "X=df[['A', 'B']]\n",
        "X"
      ],
      "execution_count": null,
      "outputs": [
        {
          "output_type": "execute_result",
          "data": {
            "text/html": [
              "<div>\n",
              "<style scoped>\n",
              "    .dataframe tbody tr th:only-of-type {\n",
              "        vertical-align: middle;\n",
              "    }\n",
              "\n",
              "    .dataframe tbody tr th {\n",
              "        vertical-align: top;\n",
              "    }\n",
              "\n",
              "    .dataframe thead th {\n",
              "        text-align: right;\n",
              "    }\n",
              "</style>\n",
              "<table border=\"1\" class=\"dataframe\">\n",
              "  <thead>\n",
              "    <tr style=\"text-align: right;\">\n",
              "      <th></th>\n",
              "      <th>A</th>\n",
              "      <th>B</th>\n",
              "    </tr>\n",
              "  </thead>\n",
              "  <tbody>\n",
              "    <tr>\n",
              "      <th>0</th>\n",
              "      <td>-1</td>\n",
              "      <td>-1</td>\n",
              "    </tr>\n",
              "    <tr>\n",
              "      <th>1</th>\n",
              "      <td>1</td>\n",
              "      <td>-1</td>\n",
              "    </tr>\n",
              "    <tr>\n",
              "      <th>2</th>\n",
              "      <td>-1</td>\n",
              "      <td>1</td>\n",
              "    </tr>\n",
              "    <tr>\n",
              "      <th>3</th>\n",
              "      <td>1</td>\n",
              "      <td>1</td>\n",
              "    </tr>\n",
              "    <tr>\n",
              "      <th>4</th>\n",
              "      <td>-1</td>\n",
              "      <td>-1</td>\n",
              "    </tr>\n",
              "    <tr>\n",
              "      <th>5</th>\n",
              "      <td>1</td>\n",
              "      <td>-1</td>\n",
              "    </tr>\n",
              "    <tr>\n",
              "      <th>6</th>\n",
              "      <td>-1</td>\n",
              "      <td>1</td>\n",
              "    </tr>\n",
              "    <tr>\n",
              "      <th>7</th>\n",
              "      <td>1</td>\n",
              "      <td>1</td>\n",
              "    </tr>\n",
              "    <tr>\n",
              "      <th>8</th>\n",
              "      <td>-1</td>\n",
              "      <td>-1</td>\n",
              "    </tr>\n",
              "    <tr>\n",
              "      <th>9</th>\n",
              "      <td>1</td>\n",
              "      <td>-1</td>\n",
              "    </tr>\n",
              "    <tr>\n",
              "      <th>10</th>\n",
              "      <td>-1</td>\n",
              "      <td>1</td>\n",
              "    </tr>\n",
              "    <tr>\n",
              "      <th>11</th>\n",
              "      <td>1</td>\n",
              "      <td>1</td>\n",
              "    </tr>\n",
              "    <tr>\n",
              "      <th>12</th>\n",
              "      <td>-1</td>\n",
              "      <td>-1</td>\n",
              "    </tr>\n",
              "    <tr>\n",
              "      <th>13</th>\n",
              "      <td>1</td>\n",
              "      <td>-1</td>\n",
              "    </tr>\n",
              "    <tr>\n",
              "      <th>14</th>\n",
              "      <td>-1</td>\n",
              "      <td>1</td>\n",
              "    </tr>\n",
              "    <tr>\n",
              "      <th>15</th>\n",
              "      <td>1</td>\n",
              "      <td>1</td>\n",
              "    </tr>\n",
              "  </tbody>\n",
              "</table>\n",
              "</div>"
            ],
            "text/plain": [
              "    A  B\n",
              "0  -1 -1\n",
              "1   1 -1\n",
              "2  -1  1\n",
              "3   1  1\n",
              "4  -1 -1\n",
              "5   1 -1\n",
              "6  -1  1\n",
              "7   1  1\n",
              "8  -1 -1\n",
              "9   1 -1\n",
              "10 -1  1\n",
              "11  1  1\n",
              "12 -1 -1\n",
              "13  1 -1\n",
              "14 -1  1\n",
              "15  1  1"
            ]
          },
          "metadata": {},
          "execution_count": 5
        }
      ]
    },
    {
      "cell_type": "code",
      "metadata": {
        "colab": {
          "base_uri": "https://localhost:8080/",
          "height": 551
        },
        "id": "sBhDegAVBafE",
        "outputId": "aeb79fe4-7d5a-43de-e1b9-7f6c490c9cfa"
      },
      "source": [
        "# convert x1 and x2 input columns into a 2nd order polynomial matrix with intercept column\n",
        "# computation is done in numpy and convert it into Panda dataframe\n",
        "xx=X.to_numpy()\n",
        "poly= PolynomialFeatures(degree=2, interaction_only=True)\n",
        "xxpd=pd.DataFrame(poly.fit_transform(xx), columns=['I', 'x1', 'x2', 'x1x2']) #if interaction_only=False, then 1, x1, x2, x1^2, x1x2, x2^2\n",
        "xxpd"
      ],
      "execution_count": null,
      "outputs": [
        {
          "output_type": "execute_result",
          "data": {
            "text/html": [
              "<div>\n",
              "<style scoped>\n",
              "    .dataframe tbody tr th:only-of-type {\n",
              "        vertical-align: middle;\n",
              "    }\n",
              "\n",
              "    .dataframe tbody tr th {\n",
              "        vertical-align: top;\n",
              "    }\n",
              "\n",
              "    .dataframe thead th {\n",
              "        text-align: right;\n",
              "    }\n",
              "</style>\n",
              "<table border=\"1\" class=\"dataframe\">\n",
              "  <thead>\n",
              "    <tr style=\"text-align: right;\">\n",
              "      <th></th>\n",
              "      <th>I</th>\n",
              "      <th>x1</th>\n",
              "      <th>x2</th>\n",
              "      <th>x1x2</th>\n",
              "    </tr>\n",
              "  </thead>\n",
              "  <tbody>\n",
              "    <tr>\n",
              "      <th>0</th>\n",
              "      <td>1.0</td>\n",
              "      <td>-1.0</td>\n",
              "      <td>-1.0</td>\n",
              "      <td>1.0</td>\n",
              "    </tr>\n",
              "    <tr>\n",
              "      <th>1</th>\n",
              "      <td>1.0</td>\n",
              "      <td>1.0</td>\n",
              "      <td>-1.0</td>\n",
              "      <td>-1.0</td>\n",
              "    </tr>\n",
              "    <tr>\n",
              "      <th>2</th>\n",
              "      <td>1.0</td>\n",
              "      <td>-1.0</td>\n",
              "      <td>1.0</td>\n",
              "      <td>-1.0</td>\n",
              "    </tr>\n",
              "    <tr>\n",
              "      <th>3</th>\n",
              "      <td>1.0</td>\n",
              "      <td>1.0</td>\n",
              "      <td>1.0</td>\n",
              "      <td>1.0</td>\n",
              "    </tr>\n",
              "    <tr>\n",
              "      <th>4</th>\n",
              "      <td>1.0</td>\n",
              "      <td>-1.0</td>\n",
              "      <td>-1.0</td>\n",
              "      <td>1.0</td>\n",
              "    </tr>\n",
              "    <tr>\n",
              "      <th>5</th>\n",
              "      <td>1.0</td>\n",
              "      <td>1.0</td>\n",
              "      <td>-1.0</td>\n",
              "      <td>-1.0</td>\n",
              "    </tr>\n",
              "    <tr>\n",
              "      <th>6</th>\n",
              "      <td>1.0</td>\n",
              "      <td>-1.0</td>\n",
              "      <td>1.0</td>\n",
              "      <td>-1.0</td>\n",
              "    </tr>\n",
              "    <tr>\n",
              "      <th>7</th>\n",
              "      <td>1.0</td>\n",
              "      <td>1.0</td>\n",
              "      <td>1.0</td>\n",
              "      <td>1.0</td>\n",
              "    </tr>\n",
              "    <tr>\n",
              "      <th>8</th>\n",
              "      <td>1.0</td>\n",
              "      <td>-1.0</td>\n",
              "      <td>-1.0</td>\n",
              "      <td>1.0</td>\n",
              "    </tr>\n",
              "    <tr>\n",
              "      <th>9</th>\n",
              "      <td>1.0</td>\n",
              "      <td>1.0</td>\n",
              "      <td>-1.0</td>\n",
              "      <td>-1.0</td>\n",
              "    </tr>\n",
              "    <tr>\n",
              "      <th>10</th>\n",
              "      <td>1.0</td>\n",
              "      <td>-1.0</td>\n",
              "      <td>1.0</td>\n",
              "      <td>-1.0</td>\n",
              "    </tr>\n",
              "    <tr>\n",
              "      <th>11</th>\n",
              "      <td>1.0</td>\n",
              "      <td>1.0</td>\n",
              "      <td>1.0</td>\n",
              "      <td>1.0</td>\n",
              "    </tr>\n",
              "    <tr>\n",
              "      <th>12</th>\n",
              "      <td>1.0</td>\n",
              "      <td>-1.0</td>\n",
              "      <td>-1.0</td>\n",
              "      <td>1.0</td>\n",
              "    </tr>\n",
              "    <tr>\n",
              "      <th>13</th>\n",
              "      <td>1.0</td>\n",
              "      <td>1.0</td>\n",
              "      <td>-1.0</td>\n",
              "      <td>-1.0</td>\n",
              "    </tr>\n",
              "    <tr>\n",
              "      <th>14</th>\n",
              "      <td>1.0</td>\n",
              "      <td>-1.0</td>\n",
              "      <td>1.0</td>\n",
              "      <td>-1.0</td>\n",
              "    </tr>\n",
              "    <tr>\n",
              "      <th>15</th>\n",
              "      <td>1.0</td>\n",
              "      <td>1.0</td>\n",
              "      <td>1.0</td>\n",
              "      <td>1.0</td>\n",
              "    </tr>\n",
              "  </tbody>\n",
              "</table>\n",
              "</div>"
            ],
            "text/plain": [
              "      I   x1   x2  x1x2\n",
              "0   1.0 -1.0 -1.0   1.0\n",
              "1   1.0  1.0 -1.0  -1.0\n",
              "2   1.0 -1.0  1.0  -1.0\n",
              "3   1.0  1.0  1.0   1.0\n",
              "4   1.0 -1.0 -1.0   1.0\n",
              "5   1.0  1.0 -1.0  -1.0\n",
              "6   1.0 -1.0  1.0  -1.0\n",
              "7   1.0  1.0  1.0   1.0\n",
              "8   1.0 -1.0 -1.0   1.0\n",
              "9   1.0  1.0 -1.0  -1.0\n",
              "10  1.0 -1.0  1.0  -1.0\n",
              "11  1.0  1.0  1.0   1.0\n",
              "12  1.0 -1.0 -1.0   1.0\n",
              "13  1.0  1.0 -1.0  -1.0\n",
              "14  1.0 -1.0  1.0  -1.0\n",
              "15  1.0  1.0  1.0   1.0"
            ]
          },
          "metadata": {},
          "execution_count": 6
        }
      ]
    },
    {
      "cell_type": "markdown",
      "metadata": {
        "id": "SqsyBC1KQfAS"
      },
      "source": [
        "Note that the x1^2 and X2^2 columns are all 1s. This phenomial is due the lack of center points and middle level points in the design matrix X. We will introduce a CCD (central composite design) to take care of it."
      ]
    },
    {
      "cell_type": "code",
      "metadata": {
        "colab": {
          "base_uri": "https://localhost:8080/",
          "height": 551
        },
        "id": "MlwrgEyED0kd",
        "outputId": "5e75d406-2944-4be9-b5e5-835f65585f12"
      },
      "source": [
        "# generate model = b0 + b1x1 + b2x2 + b12 x1x2\n",
        "# this is a model for 2^k factorial design so 2nd order terms are not estimatable\n",
        "X=xxpd[['x1', 'x2', 'x1x2']]\n",
        "X"
      ],
      "execution_count": null,
      "outputs": [
        {
          "output_type": "execute_result",
          "data": {
            "text/html": [
              "<div>\n",
              "<style scoped>\n",
              "    .dataframe tbody tr th:only-of-type {\n",
              "        vertical-align: middle;\n",
              "    }\n",
              "\n",
              "    .dataframe tbody tr th {\n",
              "        vertical-align: top;\n",
              "    }\n",
              "\n",
              "    .dataframe thead th {\n",
              "        text-align: right;\n",
              "    }\n",
              "</style>\n",
              "<table border=\"1\" class=\"dataframe\">\n",
              "  <thead>\n",
              "    <tr style=\"text-align: right;\">\n",
              "      <th></th>\n",
              "      <th>x1</th>\n",
              "      <th>x2</th>\n",
              "      <th>x1x2</th>\n",
              "    </tr>\n",
              "  </thead>\n",
              "  <tbody>\n",
              "    <tr>\n",
              "      <th>0</th>\n",
              "      <td>-1.0</td>\n",
              "      <td>-1.0</td>\n",
              "      <td>1.0</td>\n",
              "    </tr>\n",
              "    <tr>\n",
              "      <th>1</th>\n",
              "      <td>1.0</td>\n",
              "      <td>-1.0</td>\n",
              "      <td>-1.0</td>\n",
              "    </tr>\n",
              "    <tr>\n",
              "      <th>2</th>\n",
              "      <td>-1.0</td>\n",
              "      <td>1.0</td>\n",
              "      <td>-1.0</td>\n",
              "    </tr>\n",
              "    <tr>\n",
              "      <th>3</th>\n",
              "      <td>1.0</td>\n",
              "      <td>1.0</td>\n",
              "      <td>1.0</td>\n",
              "    </tr>\n",
              "    <tr>\n",
              "      <th>4</th>\n",
              "      <td>-1.0</td>\n",
              "      <td>-1.0</td>\n",
              "      <td>1.0</td>\n",
              "    </tr>\n",
              "    <tr>\n",
              "      <th>5</th>\n",
              "      <td>1.0</td>\n",
              "      <td>-1.0</td>\n",
              "      <td>-1.0</td>\n",
              "    </tr>\n",
              "    <tr>\n",
              "      <th>6</th>\n",
              "      <td>-1.0</td>\n",
              "      <td>1.0</td>\n",
              "      <td>-1.0</td>\n",
              "    </tr>\n",
              "    <tr>\n",
              "      <th>7</th>\n",
              "      <td>1.0</td>\n",
              "      <td>1.0</td>\n",
              "      <td>1.0</td>\n",
              "    </tr>\n",
              "    <tr>\n",
              "      <th>8</th>\n",
              "      <td>-1.0</td>\n",
              "      <td>-1.0</td>\n",
              "      <td>1.0</td>\n",
              "    </tr>\n",
              "    <tr>\n",
              "      <th>9</th>\n",
              "      <td>1.0</td>\n",
              "      <td>-1.0</td>\n",
              "      <td>-1.0</td>\n",
              "    </tr>\n",
              "    <tr>\n",
              "      <th>10</th>\n",
              "      <td>-1.0</td>\n",
              "      <td>1.0</td>\n",
              "      <td>-1.0</td>\n",
              "    </tr>\n",
              "    <tr>\n",
              "      <th>11</th>\n",
              "      <td>1.0</td>\n",
              "      <td>1.0</td>\n",
              "      <td>1.0</td>\n",
              "    </tr>\n",
              "    <tr>\n",
              "      <th>12</th>\n",
              "      <td>-1.0</td>\n",
              "      <td>-1.0</td>\n",
              "      <td>1.0</td>\n",
              "    </tr>\n",
              "    <tr>\n",
              "      <th>13</th>\n",
              "      <td>1.0</td>\n",
              "      <td>-1.0</td>\n",
              "      <td>-1.0</td>\n",
              "    </tr>\n",
              "    <tr>\n",
              "      <th>14</th>\n",
              "      <td>-1.0</td>\n",
              "      <td>1.0</td>\n",
              "      <td>-1.0</td>\n",
              "    </tr>\n",
              "    <tr>\n",
              "      <th>15</th>\n",
              "      <td>1.0</td>\n",
              "      <td>1.0</td>\n",
              "      <td>1.0</td>\n",
              "    </tr>\n",
              "  </tbody>\n",
              "</table>\n",
              "</div>"
            ],
            "text/plain": [
              "     x1   x2  x1x2\n",
              "0  -1.0 -1.0   1.0\n",
              "1   1.0 -1.0  -1.0\n",
              "2  -1.0  1.0  -1.0\n",
              "3   1.0  1.0   1.0\n",
              "4  -1.0 -1.0   1.0\n",
              "5   1.0 -1.0  -1.0\n",
              "6  -1.0  1.0  -1.0\n",
              "7   1.0  1.0   1.0\n",
              "8  -1.0 -1.0   1.0\n",
              "9   1.0 -1.0  -1.0\n",
              "10 -1.0  1.0  -1.0\n",
              "11  1.0  1.0   1.0\n",
              "12 -1.0 -1.0   1.0\n",
              "13  1.0 -1.0  -1.0\n",
              "14 -1.0  1.0  -1.0\n",
              "15  1.0  1.0   1.0"
            ]
          },
          "metadata": {},
          "execution_count": 7
        }
      ]
    },
    {
      "cell_type": "markdown",
      "source": [
        "# Method 1. predicted response using skleran LinearRegression fit"
      ],
      "metadata": {
        "id": "TIyHGCKQ1qss"
      }
    },
    {
      "cell_type": "code",
      "metadata": {
        "colab": {
          "base_uri": "https://localhost:8080/"
        },
        "id": "I1AMmo5AEbKQ",
        "outputId": "8aa81460-2eaf-4e4c-dbdc-185589020f22"
      },
      "source": [
        "# predicted response using skleran LinearRegression fit\n",
        "Y=df[['Vibration']]\n",
        "regr=LinearRegression()\n",
        "regr.fit(X,Y)\n",
        "Yhat=regr.predict(X)\n",
        "Yhat"
      ],
      "execution_count": null,
      "outputs": [
        {
          "output_type": "execute_result",
          "data": {
            "text/plain": [
              "array([[16.1  ],\n",
              "       [24.05 ],\n",
              "       [14.925],\n",
              "       [40.275],\n",
              "       [16.1  ],\n",
              "       [24.05 ],\n",
              "       [14.925],\n",
              "       [40.275],\n",
              "       [16.1  ],\n",
              "       [24.05 ],\n",
              "       [14.925],\n",
              "       [40.275],\n",
              "       [16.1  ],\n",
              "       [24.05 ],\n",
              "       [14.925],\n",
              "       [40.275]])"
            ]
          },
          "metadata": {},
          "execution_count": 8
        }
      ]
    },
    {
      "cell_type": "code",
      "metadata": {
        "colab": {
          "base_uri": "https://localhost:8080/"
        },
        "id": "GwR8vuVBNnBJ",
        "outputId": "8e5f460c-35a9-4d6d-a1ca-125e302db972"
      },
      "source": [
        "# compute residuals\n",
        "Yobs=Y.to_numpy()\n",
        "#eij= Yobs - regr.predict(X)\n",
        "eij= Yobs - Yhat\n",
        "eij"
      ],
      "execution_count": null,
      "outputs": [
        {
          "output_type": "execute_result",
          "data": {
            "text/plain": [
              "array([[ 2.1  ],\n",
              "       [ 3.25 ],\n",
              "       [ 0.975],\n",
              "       [ 0.725],\n",
              "       [ 2.8  ],\n",
              "       [-0.05 ],\n",
              "       [-0.425],\n",
              "       [ 3.625],\n",
              "       [-3.2  ],\n",
              "       [-1.65 ],\n",
              "       [ 0.175],\n",
              "       [-3.975],\n",
              "       [-1.7  ],\n",
              "       [-1.55 ],\n",
              "       [-0.725],\n",
              "       [-0.375]])"
            ]
          },
          "metadata": {},
          "execution_count": 9
        }
      ]
    },
    {
      "cell_type": "code",
      "metadata": {
        "colab": {
          "base_uri": "https://localhost:8080/"
        },
        "id": "ERfz9DaAG4ZO",
        "outputId": "8e0d5e55-cdb1-48d3-ff7a-a8682ad5978f"
      },
      "source": [
        "# regression coefficients without the beta 0 term\n",
        "regr.coef_"
      ],
      "execution_count": null,
      "outputs": [
        {
          "output_type": "execute_result",
          "data": {
            "text/plain": [
              "array([[8.325 , 3.7625, 4.35  ]])"
            ]
          },
          "metadata": {},
          "execution_count": 10
        }
      ]
    },
    {
      "cell_type": "code",
      "metadata": {
        "colab": {
          "base_uri": "https://localhost:8080/"
        },
        "id": "_NCuyxUOHXou",
        "outputId": "9917b5c8-f902-4d5c-8e33-55075d30c447"
      },
      "source": [
        "# beta 0 term\n",
        "regr.intercept_"
      ],
      "execution_count": null,
      "outputs": [
        {
          "output_type": "execute_result",
          "data": {
            "text/plain": [
              "array([23.8375])"
            ]
          },
          "metadata": {},
          "execution_count": 11
        }
      ]
    },
    {
      "cell_type": "markdown",
      "source": [
        "# Method 2. Using StatModel OLS"
      ],
      "metadata": {
        "id": "FWHOqSxy2CcF"
      }
    },
    {
      "cell_type": "code",
      "metadata": {
        "colab": {
          "base_uri": "https://localhost:8080/",
          "height": 551
        },
        "id": "6wSOxt0JKefF",
        "outputId": "2efad264-9cf6-49f9-c8cc-7df2829c3796"
      },
      "source": [
        "# add the column of 1s into the design matrix X\n",
        "# another way is to reconstruct X using xxpd from the previous code cell\n",
        "# X=xxpd[['I', 'x1', 'x2', 'x1x2']]\n",
        "X = sm.add_constant(X)\n",
        "X"
      ],
      "execution_count": null,
      "outputs": [
        {
          "output_type": "execute_result",
          "data": {
            "text/html": [
              "<div>\n",
              "<style scoped>\n",
              "    .dataframe tbody tr th:only-of-type {\n",
              "        vertical-align: middle;\n",
              "    }\n",
              "\n",
              "    .dataframe tbody tr th {\n",
              "        vertical-align: top;\n",
              "    }\n",
              "\n",
              "    .dataframe thead th {\n",
              "        text-align: right;\n",
              "    }\n",
              "</style>\n",
              "<table border=\"1\" class=\"dataframe\">\n",
              "  <thead>\n",
              "    <tr style=\"text-align: right;\">\n",
              "      <th></th>\n",
              "      <th>const</th>\n",
              "      <th>x1</th>\n",
              "      <th>x2</th>\n",
              "      <th>x1x2</th>\n",
              "    </tr>\n",
              "  </thead>\n",
              "  <tbody>\n",
              "    <tr>\n",
              "      <th>0</th>\n",
              "      <td>1.0</td>\n",
              "      <td>-1.0</td>\n",
              "      <td>-1.0</td>\n",
              "      <td>1.0</td>\n",
              "    </tr>\n",
              "    <tr>\n",
              "      <th>1</th>\n",
              "      <td>1.0</td>\n",
              "      <td>1.0</td>\n",
              "      <td>-1.0</td>\n",
              "      <td>-1.0</td>\n",
              "    </tr>\n",
              "    <tr>\n",
              "      <th>2</th>\n",
              "      <td>1.0</td>\n",
              "      <td>-1.0</td>\n",
              "      <td>1.0</td>\n",
              "      <td>-1.0</td>\n",
              "    </tr>\n",
              "    <tr>\n",
              "      <th>3</th>\n",
              "      <td>1.0</td>\n",
              "      <td>1.0</td>\n",
              "      <td>1.0</td>\n",
              "      <td>1.0</td>\n",
              "    </tr>\n",
              "    <tr>\n",
              "      <th>4</th>\n",
              "      <td>1.0</td>\n",
              "      <td>-1.0</td>\n",
              "      <td>-1.0</td>\n",
              "      <td>1.0</td>\n",
              "    </tr>\n",
              "    <tr>\n",
              "      <th>5</th>\n",
              "      <td>1.0</td>\n",
              "      <td>1.0</td>\n",
              "      <td>-1.0</td>\n",
              "      <td>-1.0</td>\n",
              "    </tr>\n",
              "    <tr>\n",
              "      <th>6</th>\n",
              "      <td>1.0</td>\n",
              "      <td>-1.0</td>\n",
              "      <td>1.0</td>\n",
              "      <td>-1.0</td>\n",
              "    </tr>\n",
              "    <tr>\n",
              "      <th>7</th>\n",
              "      <td>1.0</td>\n",
              "      <td>1.0</td>\n",
              "      <td>1.0</td>\n",
              "      <td>1.0</td>\n",
              "    </tr>\n",
              "    <tr>\n",
              "      <th>8</th>\n",
              "      <td>1.0</td>\n",
              "      <td>-1.0</td>\n",
              "      <td>-1.0</td>\n",
              "      <td>1.0</td>\n",
              "    </tr>\n",
              "    <tr>\n",
              "      <th>9</th>\n",
              "      <td>1.0</td>\n",
              "      <td>1.0</td>\n",
              "      <td>-1.0</td>\n",
              "      <td>-1.0</td>\n",
              "    </tr>\n",
              "    <tr>\n",
              "      <th>10</th>\n",
              "      <td>1.0</td>\n",
              "      <td>-1.0</td>\n",
              "      <td>1.0</td>\n",
              "      <td>-1.0</td>\n",
              "    </tr>\n",
              "    <tr>\n",
              "      <th>11</th>\n",
              "      <td>1.0</td>\n",
              "      <td>1.0</td>\n",
              "      <td>1.0</td>\n",
              "      <td>1.0</td>\n",
              "    </tr>\n",
              "    <tr>\n",
              "      <th>12</th>\n",
              "      <td>1.0</td>\n",
              "      <td>-1.0</td>\n",
              "      <td>-1.0</td>\n",
              "      <td>1.0</td>\n",
              "    </tr>\n",
              "    <tr>\n",
              "      <th>13</th>\n",
              "      <td>1.0</td>\n",
              "      <td>1.0</td>\n",
              "      <td>-1.0</td>\n",
              "      <td>-1.0</td>\n",
              "    </tr>\n",
              "    <tr>\n",
              "      <th>14</th>\n",
              "      <td>1.0</td>\n",
              "      <td>-1.0</td>\n",
              "      <td>1.0</td>\n",
              "      <td>-1.0</td>\n",
              "    </tr>\n",
              "    <tr>\n",
              "      <th>15</th>\n",
              "      <td>1.0</td>\n",
              "      <td>1.0</td>\n",
              "      <td>1.0</td>\n",
              "      <td>1.0</td>\n",
              "    </tr>\n",
              "  </tbody>\n",
              "</table>\n",
              "</div>"
            ],
            "text/plain": [
              "    const   x1   x2  x1x2\n",
              "0     1.0 -1.0 -1.0   1.0\n",
              "1     1.0  1.0 -1.0  -1.0\n",
              "2     1.0 -1.0  1.0  -1.0\n",
              "3     1.0  1.0  1.0   1.0\n",
              "4     1.0 -1.0 -1.0   1.0\n",
              "5     1.0  1.0 -1.0  -1.0\n",
              "6     1.0 -1.0  1.0  -1.0\n",
              "7     1.0  1.0  1.0   1.0\n",
              "8     1.0 -1.0 -1.0   1.0\n",
              "9     1.0  1.0 -1.0  -1.0\n",
              "10    1.0 -1.0  1.0  -1.0\n",
              "11    1.0  1.0  1.0   1.0\n",
              "12    1.0 -1.0 -1.0   1.0\n",
              "13    1.0  1.0 -1.0  -1.0\n",
              "14    1.0 -1.0  1.0  -1.0\n",
              "15    1.0  1.0  1.0   1.0"
            ]
          },
          "metadata": {},
          "execution_count": 12
        }
      ]
    },
    {
      "cell_type": "code",
      "metadata": {
        "colab": {
          "base_uri": "https://localhost:8080/"
        },
        "id": "62GycVbDaJnL",
        "outputId": "00178692-624a-4cc8-a450-84e7fbf4f0df"
      },
      "source": [
        "# use statsmodels for OLS fitting and t statistics\n",
        "# in this case, X is xxpd\n",
        "model = sm.OLS(Y, X)\n",
        "res=model.fit()\n",
        "print(res.summary())\n"
      ],
      "execution_count": null,
      "outputs": [
        {
          "output_type": "stream",
          "name": "stdout",
          "text": [
            "                            OLS Regression Results                            \n",
            "==============================================================================\n",
            "Dep. Variable:              Vibration   R-squared:                       0.958\n",
            "Model:                            OLS   Adj. R-squared:                  0.947\n",
            "Method:                 Least Squares   F-statistic:                     90.55\n",
            "Date:                Wed, 20 Oct 2021   Prob (F-statistic):           1.65e-08\n",
            "Time:                        14:47:32   Log-Likelihood:                -34.776\n",
            "No. Observations:                  16   AIC:                             77.55\n",
            "Df Residuals:                      12   BIC:                             80.64\n",
            "Df Model:                           3                                         \n",
            "Covariance Type:            nonrobust                                         \n",
            "==============================================================================\n",
            "                 coef    std err          t      P>|t|      [0.025      0.975]\n",
            "------------------------------------------------------------------------------\n",
            "const         23.8375      0.614     38.828      0.000      22.500      25.175\n",
            "x1             8.3250      0.614     13.560      0.000       6.987       9.663\n",
            "x2             3.7625      0.614      6.129      0.000       2.425       5.100\n",
            "x1x2           4.3500      0.614      7.086      0.000       3.012       5.688\n",
            "==============================================================================\n",
            "Omnibus:                        0.142   Durbin-Watson:                   1.535\n",
            "Prob(Omnibus):                  0.931   Jarque-Bera (JB):                0.359\n",
            "Skew:                           0.034   Prob(JB):                        0.836\n",
            "Kurtosis:                       2.269   Cond. No.                         1.00\n",
            "==============================================================================\n",
            "\n",
            "Warnings:\n",
            "[1] Standard Errors assume that the covariance matrix of the errors is correctly specified.\n"
          ]
        },
        {
          "output_type": "stream",
          "name": "stderr",
          "text": [
            "/usr/local/lib/python3.7/dist-packages/scipy/stats/stats.py:1535: UserWarning: kurtosistest only valid for n>=20 ... continuing anyway, n=16\n",
            "  \"anyway, n=%i\" % int(n))\n"
          ]
        }
      ]
    },
    {
      "cell_type": "markdown",
      "source": [
        "# Residual Analysis"
      ],
      "metadata": {
        "id": "KdufDCLC2UfF"
      }
    },
    {
      "cell_type": "code",
      "metadata": {
        "colab": {
          "base_uri": "https://localhost:8080/",
          "height": 627
        },
        "id": "TvzP67M7U4sV",
        "outputId": "35b76e54-7bd7-4ba5-ff18-ece9eea49f3e"
      },
      "source": [
        "# Residual Analysis\n",
        "# normal check\n",
        "\n",
        "fig = plt.figure(figsize= (10, 10))\n",
        "ax = fig.add_subplot(111)\n",
        "\n",
        "normality_plot, stat = stats.probplot(res.resid, plot= plt, rvalue= True)\n",
        "ax.set_title(\"Probability plot of model residual's\", fontsize= 20)\n",
        "ax.set\n",
        "\n",
        "plt.show()"
      ],
      "execution_count": null,
      "outputs": [
        {
          "output_type": "display_data",
          "data": {
            "image/png": "[encoded data removed]",
            "text/plain": [
              "<Figure size 720x720 with 1 Axes>"
            ]
          },
          "metadata": {
            "needs_background": "light"
          }
        }
      ]
    },
    {
      "cell_type": "code",
      "metadata": {
        "colab": {
          "base_uri": "https://localhost:8080/"
        },
        "id": "NmlcL6VBVjcD",
        "outputId": "86dcbb61-4c3d-41aa-e770-3210a92d5674"
      },
      "source": [
        "# Homogeneity of Variance check\n",
        "# if the p value is small, reject H0 that the residuals have equal variance\n",
        "# if the p value is large, cannot reject H0\n",
        "\n",
        "stats.levene(df['Vibration'][df['A'] == -1],\n",
        "             df['Vibration'][df['A'] == 1])\n",
        ""
      ],
      "execution_count": null,
      "outputs": [
        {
          "output_type": "execute_result",
          "data": {
            "text/plain": [
              "LeveneResult(statistic=39.38421796165487, pvalue=2.0368485334824388e-05)"
            ]
          },
          "metadata": {},
          "execution_count": 15
        }
      ]
    },
    {
      "cell_type": "markdown",
      "metadata": {
        "id": "rIR3x4p3hWka"
      },
      "source": [
        "Since p value is very small, we reject that factor A has equal variance"
      ]
    },
    {
      "cell_type": "code",
      "metadata": {
        "colab": {
          "base_uri": "https://localhost:8080/"
        },
        "id": "z2Pw_3CbhrKG",
        "outputId": "6cb5d7a2-e77e-442d-cf15-9664fa8f6681"
      },
      "source": [
        "# Homogeneity of Variance check\n",
        "# if the p value is small, reject H0 that the residuals have equal variance\n",
        "# if the p value is large, cannot reject H0\n",
        "\n",
        "stats.levene(df['Vibration'][df['B'] == -1],\n",
        "             df['Vibration'][df['B'] == 1])"
      ],
      "execution_count": null,
      "outputs": [
        {
          "output_type": "execute_result",
          "data": {
            "text/plain": [
              "LeveneResult(statistic=45.571873992043834, pvalue=9.30875979796417e-06)"
            ]
          },
          "metadata": {},
          "execution_count": 16
        }
      ]
    },
    {
      "cell_type": "markdown",
      "metadata": {
        "id": "p2n_II8VWS6g"
      },
      "source": [
        "The p value of the Levene is very large. We don't have evidence to conclude that the variances from different primer type are different"
      ]
    },
    {
      "cell_type": "code",
      "metadata": {
        "colab": {
          "base_uri": "https://localhost:8080/",
          "height": 627
        },
        "id": "u0t70uvdWgUd",
        "outputId": "c3757e76-b367-48e4-c3ba-1e8023bf532e"
      },
      "source": [
        "# Box plots by factor Primer_type'\n",
        "# If the IRQ=75% quartitle - 25% quartile are very different, then question the constant variance assumption\n",
        "# If the F test p value is very small, we reject H0 and can use this box plot to identify the best factor level\n",
        "\n",
        "fig = plt.figure(figsize= (10, 10))\n",
        "ax = fig.add_subplot(111)\n",
        "\n",
        "ax.set_title(\"Box Plot of Vibration by A - bit size\", fontsize= 20)\n",
        "ax.set\n",
        "\n",
        "data2 = [df['Vibration'][df['A'] == -1],\n",
        "             df['Vibration'][df['A'] == 1]]\n",
        "\n",
        "\n",
        "ax.boxplot(data2,\n",
        "           labels= ['A= low', 'A=high'],\n",
        "           showmeans= True)\n",
        "\n",
        "plt.xlabel(\"A - Bit Size\")\n",
        "plt.ylabel(\"Adhesion Strength\")\n",
        "\n",
        "plt.show()"
      ],
      "execution_count": null,
      "outputs": [
        {
          "output_type": "display_data",
          "data": {
            "image/png": "[encoded data removed]",
            "text/plain": [
              "<Figure size 720x720 with 1 Axes>"
            ]
          },
          "metadata": {
            "needs_background": "light"
          }
        }
      ]
    },
    {
      "cell_type": "markdown",
      "metadata": {
        "id": "wDJcyRoeJIx6"
      },
      "source": [
        "There is not much difference in variation. The largest adhesion strength is due to type 2 primer type."
      ]
    },
    {
      "cell_type": "code",
      "metadata": {
        "id": "h6ArZLGF1jco",
        "colab": {
          "base_uri": "https://localhost:8080/",
          "height": 627
        },
        "outputId": "3ec03c78-b437-452c-f04d-890a63f10cf8"
      },
      "source": [
        "# Box plots by factor Application Methods\n",
        "# same instruction as the previous factor Primer types\n",
        "\n",
        "fig = plt.figure(figsize= (10, 10))\n",
        "ax = fig.add_subplot(111)\n",
        "\n",
        "ax.set_title(\"Box Plot of Vibration by Speed\", fontsize= 20)\n",
        "ax.set\n",
        "\n",
        "data2 = [df['Vibration'][df['B'] == -1],\n",
        "         df['Vibration'][df['B'] == +1]]\n",
        "\n",
        "\n",
        "ax.boxplot(data2,\n",
        "           labels= ['B=Low', 'B=High'],\n",
        "           showmeans= True)\n",
        "\n",
        "plt.xlabel(\"B - Speed\")\n",
        "plt.ylabel(\"Vibration\")\n",
        "\n",
        "plt.show()"
      ],
      "execution_count": null,
      "outputs": [
        {
          "output_type": "display_data",
          "data": {
            "image/png": "[encoded data removed]",
            "text/plain": [
              "<Figure size 720x720 with 1 Axes>"
            ]
          },
          "metadata": {
            "needs_background": "light"
          }
        }
      ]
    },
    {
      "cell_type": "markdown",
      "metadata": {
        "id": "_YU26vtVJiQc"
      },
      "source": [
        "There is not much difference in variation by application method. The largest adhesion strength is due to spraying method."
      ]
    },
    {
      "cell_type": "code",
      "metadata": {
        "colab": {
          "base_uri": "https://localhost:8080/"
        },
        "id": "3PQt1nUq6NcF",
        "outputId": "1e6daf8c-b7e1-42ab-a976-c3fc1cc6fb2a"
      },
      "source": [
        "# testing the random order for collecting observations\n",
        "# Minitab calls the order variable, run order\n",
        "# the following code generate a random order\n",
        "# you should conduct your experiments using the random order generated\n",
        "# for example, the first number is 5, it means that you will run the setting 5 in the experimentation table\n",
        "# observation label 5 is primier type 3 and application method 2 (spraying)\n",
        "# the run observation 11 and so on until all observations are collected\n",
        "# import random (see the first cell)\n",
        "N = len(eij)\n",
        "c = list(range(0, N))\n",
        "order = random.sample(c, N) # this should be replaced by the exact run order if the random order is not used\n",
        "print('order of observations/residuals is')\n",
        "print(order)"
      ],
      "execution_count": null,
      "outputs": [
        {
          "output_type": "stream",
          "name": "stdout",
          "text": [
            "order of observations/residuals is\n",
            "[12, 0, 6, 15, 9, 14, 11, 3, 2, 10, 13, 8, 5, 7, 4, 1]\n"
          ]
        }
      ]
    },
    {
      "cell_type": "code",
      "metadata": {
        "colab": {
          "base_uri": "https://localhost:8080/",
          "height": 287
        },
        "id": "jR0HlHpg6kUA",
        "outputId": "0a77d9f9-31b7-4b75-a14d-f5aa137b1d25"
      },
      "source": [
        "# assume that this random order is how we collected the data in time sequence\n",
        "# if there is no pattern in the scatter plot, then don't reject independence assumption\n",
        "\n",
        "eij=res.resid\n",
        "\n",
        "x = range(0,N) # from the first collected obs to the last in order\n",
        "y = eij[order] # assign run order (see the previous code box)\n",
        "\n",
        "plt.scatter(x, y)"
      ],
      "execution_count": null,
      "outputs": [
        {
          "output_type": "execute_result",
          "data": {
            "text/plain": [
              "<matplotlib.collections.PathCollection at 0x7f9f24ebe910>"
            ]
          },
          "metadata": {},
          "execution_count": 20
        },
        {
          "output_type": "display_data",
          "data": {
            "image/png": "[encoded data removed]",
            "text/plain": [
              "<Figure size 432x288 with 1 Axes>"
            ]
          },
          "metadata": {
            "needs_background": "light"
          }
        }
      ]
    },
    {
      "cell_type": "markdown",
      "metadata": {
        "id": "dexpHCLKZgmZ"
      },
      "source": [
        "The random order from the scatter plot above shows no pattern. If the data in the first half of the experiments are lower than 0 while those of the second half are above 0. Then there is a bias in data collection. If the residuals are small in the beginning but graduately increase. Or vice versa. It is a concern as well. In these cases, independence assumption is violated."
      ]
    },
    {
      "cell_type": "markdown",
      "source": [
        "# Your turn:\n",
        "can you run the Example 13.7 for k=3 factorial design and analysis? Hint: xxpd=pd.DataFrame(poly.fit_transform(xx), columns=['I', 'x1', 'x2', 'x3','x1x2', 'x1x3', 'x2x3', 'x1x2x3']). In this case, xxpd is the design matrix X."
      ],
      "metadata": {
        "id": "4wQpkyys2j0w"
      }
    },
    {
      "cell_type": "markdown",
      "metadata": {
        "id": "WvMGCiJ7PQdG"
      },
      "source": [
        "Your turn: can you run the Example 13.7 for k=3 factorial design and analysis?\n",
        "Hint: xxpd=pd.DataFrame(poly.fit_transform(xx), columns=['I', 'x1', 'x2', 'x3','x1x2', 'x1x3', 'x2x3', 'x1x2x3']). In this case, xxpd is the design matrix X."
      ]
    }
  ]
}