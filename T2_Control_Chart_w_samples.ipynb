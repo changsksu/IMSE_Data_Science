{
  "nbformat": 4,
  "nbformat_minor": 0,
  "metadata": {
    "colab": {
      "name": "T2 Control Chart w samples.ipynb",
      "provenance": [],
      "collapsed_sections": [],
      "authorship_tag": "ABX9TyODQtNASPjoge44PAXJSnZ+",
      "include_colab_link": true
    },
    "kernelspec": {
      "name": "python3",
      "display_name": "Python 3"
    },
    "language_info": {
      "name": "python"
    }
  },
  "cells": [
    {
      "cell_type": "markdown",
      "metadata": {
        "id": "view-in-github",
        "colab_type": "text"
      },
      "source": [
        "<a href=\"https://colab.research.google.com/github/changsksu/IMSE_Data_Science/blob/main/T2_Control_Chart_w_samples.ipynb\" target=\"_parent\"><img src=\"https://colab.research.google.com/assets/colab-badge.svg\" alt=\"Open In Colab\"/></a>"
      ]
    },
    {
      "cell_type": "markdown",
      "metadata": {
        "id": "e-5Qgbn8Drpq"
      },
      "source": [
        "# This code demonstrates how you can plot T2 Control Chart with samples.\n",
        "# Note that this code should work for the Phase I & II of control charting when the T2 chart function is called.\n",
        "# The example data set has m=25, p=3, n=10 from multivariate normal distribution.\n",
        "Ref. Montgomery Intro to SQC 8 ed pp 465 chap 11 estimating mu and sigma\n",
        "code. Code. https://github.com/carlosqsilva/pyspc\n",
        "Create and Revise by Shing Chang 4/7/2022"
      ]
    },
    {
      "cell_type": "code",
      "metadata": {
        "id": "-3_WWwTZwrro"
      },
      "source": [
        "# Import required libraries\n",
        "from scipy.stats import beta\n",
        "from scipy.stats import f\n",
        "from scipy.stats import multivariate_normal\n",
        "import numpy as np\n",
        "import statistics\n",
        "import matplotlib.pyplot as plt\n",
        "from matplotlib.ticker import PercentFormatter\n",
        "import seaborn as sns\n",
        "import pandas as pd\n",
        "plt.style.use('seaborn-colorblind')"
      ],
      "execution_count": null,
      "outputs": []
    },
    {
      "cell_type": "code",
      "source": [
        "# to create multivariate variates given mean vector and covariance matrix\n",
        "mean = np.array([39,62, 20])\n",
        "cov = np.array([[4.0, 0.3, 1.5], [0.3, 6.0,1.0], [1.5,1.0,2.0]])\n",
        "x1 = multivariate_normal.rvs(mean, cov, 10)\n",
        "x2 = multivariate_normal.rvs(mean, cov, 10)\n",
        "# plt.scatter(x[:,0],x[:,1])\n",
        "# plt.show()"
      ],
      "metadata": {
        "id": "JQuHKavCNBwM"
      },
      "execution_count": null,
      "outputs": []
    },
    {
      "cell_type": "code",
      "source": [
        "# sample 1 is based on 10 obsevations\n",
        "x1"
      ],
      "metadata": {
        "colab": {
          "base_uri": "https://localhost:8080/"
        },
        "id": "bLK_ZOKoaRNl",
        "outputId": "81494c4a-8cf7-4576-8633-e6591ce63c3d"
      },
      "execution_count": null,
      "outputs": [
        {
          "output_type": "execute_result",
          "data": {
            "text/plain": [
              "array([[38.12854132, 59.82885394, 19.25954052],\n",
              "       [41.82369613, 60.51619186, 20.81317478],\n",
              "       [36.52556323, 62.2305107 , 21.22709469],\n",
              "       [39.37179017, 64.87391132, 19.49943054],\n",
              "       [37.59249019, 64.61338842, 18.0518768 ],\n",
              "       [39.03330946, 64.33206992, 21.76353756],\n",
              "       [40.05461685, 61.344061  , 19.2426409 ],\n",
              "       [38.84532731, 60.85159496, 19.09975058],\n",
              "       [38.39305909, 64.57390556, 20.21870841],\n",
              "       [37.9637057 , 63.44028383, 18.08427435]])"
            ]
          },
          "metadata": {},
          "execution_count": 3
        }
      ]
    },
    {
      "cell_type": "code",
      "source": [
        "# sample 2 is based on 10 obsevations\n",
        "x2"
      ],
      "metadata": {
        "colab": {
          "base_uri": "https://localhost:8080/"
        },
        "id": "zk6feWJoa4_k",
        "outputId": "151169d1-56b3-4b7a-ba15-1ba6c3e5c724"
      },
      "execution_count": null,
      "outputs": [
        {
          "output_type": "execute_result",
          "data": {
            "text/plain": [
              "array([[39.58298983, 60.11355483, 18.56101437],\n",
              "       [39.11565152, 66.13168865, 20.37326884],\n",
              "       [37.93949895, 60.07418563, 19.49553443],\n",
              "       [38.14883924, 64.32321662, 18.27388702],\n",
              "       [40.79634352, 62.92185765, 23.53032685],\n",
              "       [42.03008226, 60.57688653, 21.78323313],\n",
              "       [39.39184451, 63.86880922, 20.44027908],\n",
              "       [42.12981923, 59.55515859, 20.67228456],\n",
              "       [35.47391427, 55.85941258, 18.943271  ],\n",
              "       [40.11754494, 64.69365358, 21.51535607]])"
            ]
          },
          "metadata": {},
          "execution_count": 4
        }
      ]
    },
    {
      "cell_type": "code",
      "source": [
        "# how column average can be computed; axis = 0 means row-wise operation\n",
        "x1.mean(axis=0)"
      ],
      "metadata": {
        "colab": {
          "base_uri": "https://localhost:8080/"
        },
        "id": "4iU08DyDKBu3",
        "outputId": "9cafaedc-0f24-44df-f6e0-8179a8eea4d2"
      },
      "execution_count": null,
      "outputs": [
        {
          "output_type": "execute_result",
          "data": {
            "text/plain": [
              "array([38.77320995, 62.66047715, 19.72600291])"
            ]
          },
          "metadata": {},
          "execution_count": 9
        }
      ]
    },
    {
      "cell_type": "code",
      "source": [
        "# demonstration of how mean vectors can be computed through samples\n",
        "# avarage of the samples\n",
        "(x1+x2)/2"
      ],
      "metadata": {
        "colab": {
          "base_uri": "https://localhost:8080/"
        },
        "id": "c-HUf2WYa7kS",
        "outputId": "36fb9d16-48dc-4f2d-cf1f-6e6192c9a7f1"
      },
      "execution_count": null,
      "outputs": [
        {
          "output_type": "execute_result",
          "data": {
            "text/plain": [
              "array([[38.85576558, 59.97120439, 18.91027745],\n",
              "       [40.46967382, 63.32394026, 20.59322181],\n",
              "       [37.23253109, 61.15234817, 20.36131456],\n",
              "       [38.76031471, 64.59856397, 18.88665878],\n",
              "       [39.19441685, 63.76762304, 20.79110183],\n",
              "       [40.53169586, 62.45447822, 21.77338535],\n",
              "       [39.72323068, 62.60643511, 19.84145999],\n",
              "       [40.48757327, 60.20337678, 19.88601757],\n",
              "       [36.93348668, 60.21665907, 19.5809897 ],\n",
              "       [39.04062532, 64.0669687 , 19.79981521]])"
            ]
          },
          "metadata": {},
          "execution_count": 5
        }
      ]
    },
    {
      "cell_type": "code",
      "source": [
        "#there are two ways to compute the X bar bar: method 1\n",
        "x_avg=(x1+x2)/2\n",
        "x_avg.mean(axis=0)"
      ],
      "metadata": {
        "colab": {
          "base_uri": "https://localhost:8080/"
        },
        "id": "ojPSodpPuQqf",
        "outputId": "98b3ed02-c1f4-4729-ccec-805686676c5e"
      },
      "execution_count": null,
      "outputs": [
        {
          "output_type": "execute_result",
          "data": {
            "text/plain": [
              "array([39.12293139, 62.23615977, 20.04242422])"
            ]
          },
          "metadata": {},
          "execution_count": 60
        }
      ]
    },
    {
      "cell_type": "code",
      "source": [
        "#there are two ways to compute the X bar bar: method 2\n",
        "(x1.mean(axis=0) + x2.mean(axis=0))/2"
      ],
      "metadata": {
        "colab": {
          "base_uri": "https://localhost:8080/"
        },
        "id": "eZaRgfNEt_WA",
        "outputId": "206fecc2-d905-4ba9-89f6-e8a1bb711f5d"
      },
      "execution_count": null,
      "outputs": [
        {
          "output_type": "execute_result",
          "data": {
            "text/plain": [
              "array([39.12293139, 62.23615977, 20.04242422])"
            ]
          },
          "metadata": {},
          "execution_count": 61
        }
      ]
    },
    {
      "cell_type": "code",
      "source": [
        "# compute the covariance matrix for one sample\n",
        "matcov1 = np.cov(x1.T)\n",
        "matcov1"
      ],
      "metadata": {
        "colab": {
          "base_uri": "https://localhost:8080/"
        },
        "id": "ESTbrc6VbX16",
        "outputId": "e290f61c-e105-46b3-9ca5-0d9e3f53494e"
      },
      "execution_count": null,
      "outputs": [
        {
          "output_type": "execute_result",
          "data": {
            "text/plain": [
              "array([[ 2.11556054, -0.83014985,  0.34348255],\n",
              "       [-0.83014985,  3.73140102, -0.06545851],\n",
              "       [ 0.34348255, -0.06545851,  1.58024992]])"
            ]
          },
          "metadata": {},
          "execution_count": 6
        }
      ]
    },
    {
      "cell_type": "code",
      "source": [
        "matcov2 = np.cov(x2.T)\n",
        "matcov2"
      ],
      "metadata": {
        "colab": {
          "base_uri": "https://localhost:8080/"
        },
        "id": "oTTZa1WCbbgd",
        "outputId": "48c6adc3-8b2f-4601-dc91-f622d4dd6df1"
      },
      "execution_count": null,
      "outputs": [
        {
          "output_type": "execute_result",
          "data": {
            "text/plain": [
              "array([[4.00090321, 1.71322189, 2.10595732],\n",
              "       [1.71322189, 9.63210493, 1.37333681],\n",
              "       [2.10595732, 1.37333681, 2.6509089 ]])"
            ]
          },
          "metadata": {},
          "execution_count": 7
        }
      ]
    },
    {
      "cell_type": "code",
      "source": [
        "# the T2 chart covariance matrix is based on the average of individual cov matrices\n",
        "(matcov1 + matcov2)/2"
      ],
      "metadata": {
        "colab": {
          "base_uri": "https://localhost:8080/"
        },
        "id": "UJc8xLWAbnCg",
        "outputId": "5caf97b4-c3c7-46ef-9b13-96390aaa5f8e"
      },
      "execution_count": null,
      "outputs": [
        {
          "output_type": "execute_result",
          "data": {
            "text/plain": [
              "array([[3.05823188, 0.44153602, 1.22471994],\n",
              "       [0.44153602, 6.68175298, 0.65393915],\n",
              "       [1.22471994, 0.65393915, 2.11557941]])"
            ]
          },
          "metadata": {},
          "execution_count": 8
        }
      ]
    },
    {
      "cell_type": "markdown",
      "source": [
        "# Your Turn: use m=25 samples of n=10 to estimate the mean vector and covariance matrix"
      ],
      "metadata": {
        "id": "DSQK0FGQbyMW"
      }
    },
    {
      "cell_type": "code",
      "source": [
        "# to create multivariate variates given mean vector and covariance matrix\n",
        "# X is a collection of m (nxp) samples\n",
        "mean = np.array([39,62, 20])\n",
        "cov = np.array([[4.0, 0.3, 1.5], [0.3, 6.0,1.0], [1.5,1.0,2.0]])\n",
        "m=25\n",
        "n=10\n",
        "\n",
        "X=[]\n",
        "# each sample (i.e. x_data) is a multivariate normal data w dim(n,p) according to mean and cov\n",
        "# create m samples using the append method to put them in x_data\n",
        "for i in range(0, m):\n",
        "        x_data = multivariate_normal.rvs(mean, cov, n)\n",
        "        X.append(x_data)\n",
        "\n",
        "# the following commented codes were used for debugging and validating the results\n",
        "#x2 = multivariate_normal.rvs(mean, cov, 10)\n",
        "#X=[x1,x2]\n",
        "#X"
      ],
      "metadata": {
        "id": "aav0cRjxcZLt"
      },
      "execution_count": null,
      "outputs": []
    },
    {
      "cell_type": "code",
      "source": [
        "# compute the column means for each sample in X and store them in X_bars\n",
        "# also comput the covaraince for each sample in X and store them in S\n",
        "x_bars=[]\n",
        "S=[]\n",
        "for sample in X:\n",
        "    x_bars.append(sample.mean(axis=0))\n",
        "    S.append(np.cov(sample.T))\n",
        "#print(x_bars)\n",
        "#print(S)"
      ],
      "metadata": {
        "id": "aGRqWObbKw2w"
      },
      "execution_count": null,
      "outputs": []
    },
    {
      "cell_type": "code",
      "source": [
        "# compute the sample mean vector called x_bar2 or x double bars (there should be p double bars)\n",
        "# note that x_bartemp is a temp varialbe to collect sums while x_bar2 is the avarage of all x-bars\n",
        "# also compute the avarage of covariance matrices for each sample\n",
        "# all computations are based on m samples\n",
        "p=len(mean)\n",
        "x_bartemp=np.zeros(p)\n",
        "S_bars= np.zeros(shape=(p, p))\n",
        "for xbar in x_bars:\n",
        "    x_bartemp+=xbar\n",
        "for S_sample in S:\n",
        "    S_bars+=S_sample\n",
        "x_bar2=x_bartemp/m\n",
        "S_bars=S_bars/m\n",
        "print(\"x bar bar is\", x_bar2)\n",
        "print(\"S bar is\")\n",
        "print(S_bars)"
      ],
      "metadata": {
        "colab": {
          "base_uri": "https://localhost:8080/"
        },
        "id": "G42T14oHQ0jg",
        "outputId": "fdb64d32-1734-42ad-b0c0-dd726b57e063"
      },
      "execution_count": null,
      "outputs": [
        {
          "output_type": "stream",
          "name": "stdout",
          "text": [
            "x bar bar is [39.03993458 62.0504723  20.10810693]\n",
            "S bar is\n",
            "[[3.94622062 0.12233913 1.46688879]\n",
            " [0.12233913 5.62246329 1.01969545]\n",
            " [1.46688879 1.01969545 1.87210142]]\n"
          ]
        }
      ]
    },
    {
      "cell_type": "code",
      "source": [
        "# example the first x_bar vector\n",
        "x_bars[0]"
      ],
      "metadata": {
        "colab": {
          "base_uri": "https://localhost:8080/"
        },
        "id": "qBE8Aj-Z1wkY",
        "outputId": "b7714862-2494-4377-dad2-c6c90526a3a4"
      },
      "execution_count": null,
      "outputs": [
        {
          "output_type": "execute_result",
          "data": {
            "text/plain": [
              "array([39.90525403, 61.57204495, 20.54900457])"
            ]
          },
          "metadata": {},
          "execution_count": 77
        }
      ]
    },
    {
      "cell_type": "code",
      "source": [
        "#compute the first T2 value\n",
        "# use this cell to validat the T2 statistic is correct\n",
        "Smat = S_bars\n",
        "Smat_inv = np.linalg.inv(Smat)\n",
        "a = x_bars[0] - x_bar2\n",
        "T2=10*a @ Smat_inv @ a.T\n",
        "T2"
      ],
      "metadata": {
        "colab": {
          "base_uri": "https://localhost:8080/"
        },
        "id": "QAKibB7E68hM",
        "outputId": "901cdee5-d173-460d-d387-d1810dede8de"
      },
      "execution_count": null,
      "outputs": [
        {
          "output_type": "execute_result",
          "data": {
            "text/plain": [
              "2.7213075005959406"
            ]
          },
          "metadata": {},
          "execution_count": 78
        }
      ]
    },
    {
      "cell_type": "code",
      "source": [
        "class T2charting:\n",
        "\n",
        "    _title=\"T-square Hotelling Chart with Samples\"\n",
        "\n",
        "    def fit(self, data, x_barbar, cov_mat, phase):\n",
        "    # phase = 1 or 2\n",
        "    # input data is all samples    \n",
        "        X=data\n",
        "       \n",
        "        m = len(data)\n",
        "        n = len(data[1])\n",
        "        p = len(data[1].T)\n",
        "        self.numsample=m\n",
        "        self.N=n\n",
        "        self.P=p\n",
        "\n",
        "    # Generate the m x bar vectors with p variates\n",
        "        x_bars=[]\n",
        "        for sample in X:\n",
        "            x_bars.append(sample.mean(axis=0))    \n",
        "\n",
        "    # generate the covariance inverse\n",
        "        Smat = cov_mat\n",
        "        Smat_inv = np.linalg.inv(Smat)\n",
        "\n",
        "    # generate the Hotelling T2 values\n",
        "        self.T2values = []\n",
        "        for i in range(m):\n",
        "            a = x_bars[i] - x_barbar\n",
        "            self.T2values.append(n * a @ Smat_inv @ a.T)\n",
        "\n",
        "    # Phase I ucl p1 uses (m-1) but for phase II uses (m+1)\n",
        "        if phase == 1:\n",
        "          p1 = (p * (m - 1) * (n - 1))\n",
        "        else:\n",
        "          p1 = (p * (m + 1) * (n - 1))\n",
        "        p2 = (m * n - m - p + 1)\n",
        "        self.lcl = (p1 / p2) * f.ppf(0.00135, p, p2)\n",
        "        self.center = (p1 / p2) * f.ppf(0.50, p, p2)\n",
        "        self.ucl = (p1 / p2) * f.ppf(0.99865, p, p2)\n",
        "\n",
        "        #return (self.T2values, self._title)\n",
        "\n",
        "    def ControlChart(self):\n",
        "        ucl = np.zeros(self.numsample)\n",
        "        lcl = np.zeros(self.numsample)\n",
        "              \n",
        "        for i in range(self.numsample):\n",
        "            lcl[i] = self.lcl\n",
        "            ucl[i] = self.ucl\n",
        "              \n",
        "        plt.figure(figsize=(15,5))\n",
        "        plt.plot(self.T2values,marker=\"o\",color=\"k\",label=\"T2\")\n",
        "        plt.plot([self.center]*self.numsample,color=\"k\",alpha=0.35)\n",
        "        plt.plot(ucl,color=\"r\",label=\"UCL {}\".format(ucl[len(ucl)-1].round(2)))\n",
        "        plt.plot(lcl,color=\"r\",label=\"LCL {}\".format(lcl[len(lcl)-1].round(2)))\n",
        "        plt.title(\"T2 Conrol Chart with (nxp) Samples\")\n",
        "        print(\"The sample size n=\", self.N, \" and number of variates p=\", self.P)\n",
        "        plt.legend(loc=\"upper left\")\n",
        "        plt.show()"
      ],
      "metadata": {
        "id": "rRI3CjnlmAXl"
      },
      "execution_count": null,
      "outputs": []
    },
    {
      "cell_type": "code",
      "source": [
        "# This chart is for Phase I or Phase II assuming all mean and sigma are estimated\n",
        "# set phase =1 for using the ucl formula for Phase I T2 charting\n",
        "chart = T2charting()\n",
        "chart.fit(data=X, x_barbar=x_bar2, cov_mat=S_bars, phase=1)\n",
        "chart.ControlChart()"
      ],
      "metadata": {
        "colab": {
          "base_uri": "https://localhost:8080/",
          "height": 354
        },
        "id": "xEPWgvdQ3bM2",
        "outputId": "ac824087-a7df-4983-93fe-e6085ff381a1"
      },
      "execution_count": null,
      "outputs": [
        {
          "output_type": "stream",
          "name": "stdout",
          "text": [
            "The sample size n= 10  and number of variates p= 3\n"
          ]
        },
        {
          "output_type": "display_data",
          "data": {
            "text/plain": [
              "<Figure size 1080x360 with 1 Axes>"
            ],
            "image/png": "[encoded data removed]"
          },
          "metadata": {
            "needs_background": "light"
          }
        }
      ]
    },
    {
      "cell_type": "markdown",
      "source": [
        "# **Now we will use the mean and sigma estimated from the Phase I process above and plot all data**"
      ],
      "metadata": {
        "id": "uQd15eVG7LD5"
      }
    },
    {
      "cell_type": "code",
      "source": [
        "# to create multivariate variates given mean vector and covariance matrix\n",
        "# Note that there is mean shift at the first variate from 39 to 41\n",
        "mean = np.array([41,62, 20])\n",
        "cov = np.array([[4.0, 0.3, 1.5], [0.3, 6.0,1.0], [1.5,1.0,2.0]])\n",
        "m=20\n",
        "n=10\n",
        "\n",
        "X2=[]\n",
        "#each x_data is a multivariate normal data set according to mean and cov\n",
        "for i in range(0, m):\n",
        "        x_data = multivariate_normal.rvs(mean, cov, n)\n",
        "        X2.append(x_data)\n",
        "\n",
        "# the following commented codes were used for debugging and validating the results\n",
        "#x2 = multivariate_normal.rvs(mean, cov, 10)\n",
        "#X=[x1,x2]\n",
        "#X"
      ],
      "metadata": {
        "id": "H1MHyLn_riiZ"
      },
      "execution_count": null,
      "outputs": []
    },
    {
      "cell_type": "code",
      "source": [
        "# This chart is for Phase I or Phase II assuming all mean and sigma are estimated\n",
        "# In this block, only Phase II data is plotted but mean vector and covariance estimates were from Phase I data\n",
        "chart = T2charting()\n",
        "chart.fit(data=X2, x_barbar=x_bar2, cov_mat=S_bars, phase=2)\n",
        "chart.ControlChart()"
      ],
      "metadata": {
        "colab": {
          "base_uri": "https://localhost:8080/",
          "height": 354
        },
        "id": "LEa3A-rRsGXQ",
        "outputId": "18717c5c-a0f4-46f6-d8e8-822f2349b7cf"
      },
      "execution_count": null,
      "outputs": [
        {
          "output_type": "stream",
          "name": "stdout",
          "text": [
            "The sample size n= 10  and number of variates p= 3\n"
          ]
        },
        {
          "output_type": "display_data",
          "data": {
            "text/plain": [
              "<Figure size 1080x360 with 1 Axes>"
            ],
            "image/png": "[encoded data removed]"
          },
          "metadata": {
            "needs_background": "light"
          }
        }
      ]
    },
    {
      "cell_type": "markdown",
      "metadata": {
        "id": "YkyyjyeOEEwU"
      },
      "source": [
        "Your turn: try different mean shift magnitudes in variaous variates"
      ]
    },
    {
      "cell_type": "markdown",
      "source": [
        "Ref. Pyspc: Other charts such as Xbar/S, Xbar/R are possible; e.g. c=spc(x1) + xbar_rbar()\n",
        "Ref. https://github.com/carlosqsilva/pyspc"
      ],
      "metadata": {
        "id": "fsjqabSW_Sk1"
      }
    }
  ]
}