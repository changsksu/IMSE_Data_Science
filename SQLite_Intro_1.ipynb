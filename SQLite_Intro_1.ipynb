{
  "nbformat": 4,
  "nbformat_minor": 0,
  "metadata": {
    "colab": {
      "name": "SQLite Intro 1.ipynb",
      "provenance": [],
      "authorship_tag": "ABX9TyNXnCSXllRuqiygKp8y6qUK",
      "include_colab_link": true
    },
    "kernelspec": {
      "name": "python3",
      "display_name": "Python 3"
    },
    "language_info": {
      "name": "python"
    }
  },
  "cells": [
    {
      "cell_type": "markdown",
      "metadata": {
        "id": "view-in-github",
        "colab_type": "text"
      },
      "source": [
        "<a href=\"https://colab.research.google.com/github/changsksu/IMSE_Data_Science/blob/main/SQLite_Intro_1.ipynb\" target=\"_parent\"><img src=\"https://colab.research.google.com/assets/colab-badge.svg\" alt=\"Open In Colab\"/></a>"
      ]
    },
    {
      "cell_type": "markdown",
      "source": [
        "This code aims to demonstate how a simple database and a table can be created\n",
        "SQLite is used"
      ],
      "metadata": {
        "id": "B72Gg6RB0jDr"
      }
    },
    {
      "cell_type": "code",
      "execution_count": 1,
      "metadata": {
        "id": "yYajmTvYjMFH"
      },
      "outputs": [],
      "source": [
        "#\n",
        "import sqlite3"
      ]
    },
    {
      "cell_type": "code",
      "source": [
        "# the name of the db is called testdb.db\n",
        "# SQLite will create this db if it does not exist, otherwise it will be connected\n",
        "conn=sqlite3.connect('testdb.db')\n",
        "#c=conn.cursor()"
      ],
      "metadata": {
        "id": "iHXMrDDijWAj"
      },
      "execution_count": 2,
      "outputs": []
    },
    {
      "cell_type": "code",
      "source": [
        "# the name of the table is called City\n",
        "# all datat based reserve words are in capital letters for clarification\n",
        "conn.execute('CREATE TABLE IF NOT EXISTS City(Name TEXT, Population REAL)')\n",
        "\n",
        "    "
      ],
      "metadata": {
        "colab": {
          "base_uri": "https://localhost:8080/"
        },
        "id": "p01uXiBIjxO0",
        "outputId": "9f31fbf9-27e6-4543-a09b-393e71b39422"
      },
      "execution_count": 3,
      "outputs": [
        {
          "output_type": "execute_result",
          "data": {
            "text/plain": [
              "<sqlite3.Cursor at 0x7f46d16d0340>"
            ]
          },
          "metadata": {},
          "execution_count": 3
        }
      ]
    },
    {
      "cell_type": "code",
      "source": [
        "# we add the data entry into the table City\n",
        "conn.execute(\"INSERT INTO City VALUES('Manhattan', 60000)\")\n",
        "conn.commit()"
      ],
      "metadata": {
        "id": "JfIn72T0vcpk"
      },
      "execution_count": 4,
      "outputs": []
    },
    {
      "cell_type": "code",
      "source": [
        "# insert the 2nd record\n",
        "conn.execute(\"INSERT INTO City VALUES('Salina', 20000)\")\n",
        "conn.commit()"
      ],
      "metadata": {
        "id": "NprZNWADxIWB"
      },
      "execution_count": 5,
      "outputs": []
    },
    {
      "cell_type": "code",
      "source": [
        "#\n",
        "outcome=conn.execute(\"SELECT * FROM City\")\n",
        "for row in outcome:\n",
        "    print(row)"
      ],
      "metadata": {
        "colab": {
          "base_uri": "https://localhost:8080/"
        },
        "id": "Te9IL76IlZuV",
        "outputId": "e806947f-f95a-43f2-d07c-7f7509ae86c5"
      },
      "execution_count": 6,
      "outputs": [
        {
          "output_type": "stream",
          "name": "stdout",
          "text": [
            "('Manhattan', 60000.0)\n",
            "('Salina', 20000.0)\n"
          ]
        }
      ]
    }
  ]
}