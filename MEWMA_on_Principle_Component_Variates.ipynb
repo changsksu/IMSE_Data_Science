{
  "nbformat": 4,
  "nbformat_minor": 0,
  "metadata": {
    "colab": {
      "name": "MEWMA on Principle Component Variates.ipynb",
      "provenance": [],
      "collapsed_sections": [],
      "authorship_tag": "ABX9TyMzmsSx3XdwDQ6hD9l2kJs1",
      "include_colab_link": true
    },
    "kernelspec": {
      "name": "python3",
      "display_name": "Python 3"
    },
    "language_info": {
      "name": "python"
    }
  },
  "cells": [
    {
      "cell_type": "markdown",
      "metadata": {
        "id": "view-in-github",
        "colab_type": "text"
      },
      "source": [
        "<a href=\"https://colab.research.google.com/github/changsksu/IMSE_Data_Science/blob/main/MEWMA_on_Principle_Component_Variates.ipynb\" target=\"_parent\"><img src=\"https://colab.research.google.com/assets/colab-badge.svg\" alt=\"Open In Colab\"/></a>"
      ]
    },
    {
      "cell_type": "markdown",
      "metadata": {
        "id": "e-5Qgbn8Drpq"
      },
      "source": [
        "# MEWMA on principle compoent variates\n",
        "\n",
        "---\n",
        "This code demonstrates how to compute eigen vectors based on Phase I data and use the eigen values to choose the most important components. Then MEWMA chart is plotted for the chosen principle components"
      ]
    },
    {
      "cell_type": "code",
      "metadata": {
        "id": "-3_WWwTZwrro"
      },
      "source": [
        "# Import required libraries\n",
        "from scipy.stats import beta\n",
        "from scipy.stats import f\n",
        "from scipy.stats import multivariate_normal\n",
        "import numpy as np\n",
        "import statistics\n",
        "import matplotlib.pyplot as plt\n",
        "from matplotlib.ticker import PercentFormatter\n",
        "import seaborn as sns\n",
        "import pandas as pd\n",
        "plt.style.use('seaborn-colorblind')"
      ],
      "execution_count": null,
      "outputs": []
    },
    {
      "cell_type": "markdown",
      "source": [
        "# m=100, n=1 in Phase I and 15 samples for Phase II p=6"
      ],
      "metadata": {
        "id": "6l2qPKQPtFfI"
      }
    },
    {
      "cell_type": "code",
      "source": [
        "cov = np.array([[4.0, 2.5, 1.5, 0,0,5], [2.5, 6.0,1.0,0,0,0], [1.5,1.0,2, 0,0,0], [0,0,0,1,0,0], [0,0,0,0,1,0],[5,0,0,0,0,10]])\n",
        "cov"
      ],
      "metadata": {
        "colab": {
          "base_uri": "https://localhost:8080/"
        },
        "id": "5vsX_i4s_82M",
        "outputId": "964da664-ffcf-4aac-fc70-51f53a5700db"
      },
      "execution_count": null,
      "outputs": [
        {
          "output_type": "execute_result",
          "data": {
            "text/plain": [
              "array([[ 4. ,  2.5,  1.5,  0. ,  0. ,  5. ],\n",
              "       [ 2.5,  6. ,  1. ,  0. ,  0. ,  0. ],\n",
              "       [ 1.5,  1. ,  2. ,  0. ,  0. ,  0. ],\n",
              "       [ 0. ,  0. ,  0. ,  1. ,  0. ,  0. ],\n",
              "       [ 0. ,  0. ,  0. ,  0. ,  1. ,  0. ],\n",
              "       [ 5. ,  0. ,  0. ,  0. ,  0. , 10. ]])"
            ]
          },
          "metadata": {},
          "execution_count": 10
        }
      ]
    },
    {
      "cell_type": "code",
      "source": [
        "# to create multivariate variates given mean vector and covariance matrix\n",
        "mean1 = np.array([40, 65, 20, 10, 5, 100])\n",
        "mean2 = np.array([40, 70, 20, 10, 5, 110])\n",
        "cov = np.array([[4.0, 2.5, 1.5, 0,0,5], [2.5, 6.0,1.0,0,0,0], [1.5,1.0,2, 0,0,0], [0,0,0,1,0,0], [0,0,0,0,1,0],[5,0,0,0,0,10]])\n",
        "# cov2 = np.array([[4.0, 2.5, 1.5], [2.5, 6.0,1.0], [1.5,1.0,5.0]])\n",
        "x1 = multivariate_normal.rvs(mean1, cov, 100)\n",
        "x2 = multivariate_normal.rvs(mean2, cov, 15)\n",
        "# x3 = multivariate_normal.rvs(mean1, cov2, 15)\n",
        "plt.scatter(x1[:,0],x1[:,2])\n",
        "plt.show()"
      ],
      "metadata": {
        "id": "JQuHKavCNBwM",
        "colab": {
          "base_uri": "https://localhost:8080/",
          "height": 302
        },
        "outputId": "7e1d96c9-6f38-48d8-d8f6-159af458f129"
      },
      "execution_count": null,
      "outputs": [
        {
          "output_type": "stream",
          "name": "stderr",
          "text": [
            "/usr/local/lib/python3.7/dist-packages/scipy/stats/_multivariate.py:660: RuntimeWarning: covariance is not positive-semidefinite.\n",
            "  out = random_state.multivariate_normal(mean, cov, size)\n"
          ]
        },
        {
          "output_type": "display_data",
          "data": {
            "text/plain": [
              "<Figure size 432x288 with 1 Axes>"
            ],
            "image/png": "[encoded data removed]"
          },
          "metadata": {
            "needs_background": "light"
          }
        }
      ]
    },
    {
      "cell_type": "code",
      "source": [
        "# Generate a mean vector shift p=3 time series\n",
        "# series1 has a mean shift at the 2nd dimension\n",
        "data_all=np.vstack((x1,x2))"
      ],
      "metadata": {
        "id": "1mcBsMn3Pwo2"
      },
      "execution_count": null,
      "outputs": []
    },
    {
      "cell_type": "code",
      "source": [
        "df = pd.DataFrame(data_series1, columns = ['x1','x2','x3','x4','x5','x6'])\n",
        "df.head()"
      ],
      "metadata": {
        "id": "cRdTD_G5oxk2",
        "colab": {
          "base_uri": "https://localhost:8080/",
          "height": 206
        },
        "outputId": "353628b8-39b1-49de-cff1-01cc2a0c52a6"
      },
      "execution_count": null,
      "outputs": [
        {
          "output_type": "execute_result",
          "data": {
            "text/plain": [
              "          x1         x2         x3        x4        x5          x6\n",
              "0  38.228428  67.742039  18.805236  9.293908  6.275265   96.093507\n",
              "1  37.720011  62.426100  19.933771  8.795792  5.414115   97.184674\n",
              "2  37.553703  62.860477  19.874712  8.847905  3.760341   95.986082\n",
              "3  39.141350  64.455837  19.481270  9.373430  5.792406  100.692626\n",
              "4  38.188105  65.602573  20.540321  9.253324  3.553646   96.970654"
            ],
            "text/html": [
              "\n",
              "  <div id=\"df-f4d399ba-2be3-42b0-af29-f6d86c32e699\">\n",
              "    <div class=\"colab-df-container\">\n",
              "      <div>\n",
              "<style scoped>\n",
              "    .dataframe tbody tr th:only-of-type {\n",
              "        vertical-align: middle;\n",
              "    }\n",
              "\n",
              "    .dataframe tbody tr th {\n",
              "        vertical-align: top;\n",
              "    }\n",
              "\n",
              "    .dataframe thead th {\n",
              "        text-align: right;\n",
              "    }\n",
              "</style>\n",
              "<table border=\"1\" class=\"dataframe\">\n",
              "  <thead>\n",
              "    <tr style=\"text-align: right;\">\n",
              "      <th></th>\n",
              "      <th>x1</th>\n",
              "      <th>x2</th>\n",
              "      <th>x3</th>\n",
              "      <th>x4</th>\n",
              "      <th>x5</th>\n",
              "      <th>x6</th>\n",
              "    </tr>\n",
              "  </thead>\n",
              "  <tbody>\n",
              "    <tr>\n",
              "      <th>0</th>\n",
              "      <td>38.228428</td>\n",
              "      <td>67.742039</td>\n",
              "      <td>18.805236</td>\n",
              "      <td>9.293908</td>\n",
              "      <td>6.275265</td>\n",
              "      <td>96.093507</td>\n",
              "    </tr>\n",
              "    <tr>\n",
              "      <th>1</th>\n",
              "      <td>37.720011</td>\n",
              "      <td>62.426100</td>\n",
              "      <td>19.933771</td>\n",
              "      <td>8.795792</td>\n",
              "      <td>5.414115</td>\n",
              "      <td>97.184674</td>\n",
              "    </tr>\n",
              "    <tr>\n",
              "      <th>2</th>\n",
              "      <td>37.553703</td>\n",
              "      <td>62.860477</td>\n",
              "      <td>19.874712</td>\n",
              "      <td>8.847905</td>\n",
              "      <td>3.760341</td>\n",
              "      <td>95.986082</td>\n",
              "    </tr>\n",
              "    <tr>\n",
              "      <th>3</th>\n",
              "      <td>39.141350</td>\n",
              "      <td>64.455837</td>\n",
              "      <td>19.481270</td>\n",
              "      <td>9.373430</td>\n",
              "      <td>5.792406</td>\n",
              "      <td>100.692626</td>\n",
              "    </tr>\n",
              "    <tr>\n",
              "      <th>4</th>\n",
              "      <td>38.188105</td>\n",
              "      <td>65.602573</td>\n",
              "      <td>20.540321</td>\n",
              "      <td>9.253324</td>\n",
              "      <td>3.553646</td>\n",
              "      <td>96.970654</td>\n",
              "    </tr>\n",
              "  </tbody>\n",
              "</table>\n",
              "</div>\n",
              "      <button class=\"colab-df-convert\" onclick=\"convertToInteractive('df-f4d399ba-2be3-42b0-af29-f6d86c32e699')\"\n",
              "              title=\"Convert this dataframe to an interactive table.\"\n",
              "              style=\"display:none;\">\n",
              "        \n",
              "  <svg xmlns=\"http://www.w3.org/2000/svg\" height=\"24px\"viewBox=\"0 0 24 24\"\n",
              "       width=\"24px\">\n",
              "    <path d=\"M0 0h24v24H0V0z\" fill=\"none\"/>\n",
              "    <path d=\"M18.56 5.44l.94 2.06.94-2.06 2.06-.94-2.06-.94-.94-2.06-.94 2.06-2.06.94zm-11 1L8.5 8.5l.94-2.06 2.06-.94-2.06-.94L8.5 2.5l-.94 2.06-2.06.94zm10 10l.94 2.06.94-2.06 2.06-.94-2.06-.94-.94-2.06-.94 2.06-2.06.94z\"/><path d=\"M17.41 7.96l-1.37-1.37c-.4-.4-.92-.59-1.43-.59-.52 0-1.04.2-1.43.59L10.3 9.45l-7.72 7.72c-.78.78-.78 2.05 0 2.83L4 21.41c.39.39.9.59 1.41.59.51 0 1.02-.2 1.41-.59l7.78-7.78 2.81-2.81c.8-.78.8-2.07 0-2.86zM5.41 20L4 18.59l7.72-7.72 1.47 1.35L5.41 20z\"/>\n",
              "  </svg>\n",
              "      </button>\n",
              "      \n",
              "  <style>\n",
              "    .colab-df-container {\n",
              "      display:flex;\n",
              "      flex-wrap:wrap;\n",
              "      gap: 12px;\n",
              "    }\n",
              "\n",
              "    .colab-df-convert {\n",
              "      background-color: #E8F0FE;\n",
              "      border: none;\n",
              "      border-radius: 50%;\n",
              "      cursor: pointer;\n",
              "      display: none;\n",
              "      fill: #1967D2;\n",
              "      height: 32px;\n",
              "      padding: 0 0 0 0;\n",
              "      width: 32px;\n",
              "    }\n",
              "\n",
              "    .colab-df-convert:hover {\n",
              "      background-color: #E2EBFA;\n",
              "      box-shadow: 0px 1px 2px rgba(60, 64, 67, 0.3), 0px 1px 3px 1px rgba(60, 64, 67, 0.15);\n",
              "      fill: #174EA6;\n",
              "    }\n",
              "\n",
              "    [theme=dark] .colab-df-convert {\n",
              "      background-color: #3B4455;\n",
              "      fill: #D2E3FC;\n",
              "    }\n",
              "\n",
              "    [theme=dark] .colab-df-convert:hover {\n",
              "      background-color: #434B5C;\n",
              "      box-shadow: 0px 1px 3px 1px rgba(0, 0, 0, 0.15);\n",
              "      filter: drop-shadow(0px 1px 2px rgba(0, 0, 0, 0.3));\n",
              "      fill: #FFFFFF;\n",
              "    }\n",
              "  </style>\n",
              "\n",
              "      <script>\n",
              "        const buttonEl =\n",
              "          document.querySelector('#df-f4d399ba-2be3-42b0-af29-f6d86c32e699 button.colab-df-convert');\n",
              "        buttonEl.style.display =\n",
              "          google.colab.kernel.accessAllowed ? 'block' : 'none';\n",
              "\n",
              "        async function convertToInteractive(key) {\n",
              "          const element = document.querySelector('#df-f4d399ba-2be3-42b0-af29-f6d86c32e699');\n",
              "          const dataTable =\n",
              "            await google.colab.kernel.invokeFunction('convertToInteractive',\n",
              "                                                     [key], {});\n",
              "          if (!dataTable) return;\n",
              "\n",
              "          const docLinkHtml = 'Like what you see? Visit the ' +\n",
              "            '<a target=\"_blank\" href=https://colab.research.google.com/notebooks/data_table.ipynb>data table notebook</a>'\n",
              "            + ' to learn more about interactive tables.';\n",
              "          element.innerHTML = '';\n",
              "          dataTable['output_type'] = 'display_data';\n",
              "          await google.colab.output.renderOutput(dataTable, element);\n",
              "          const docLink = document.createElement('div');\n",
              "          docLink.innerHTML = docLinkHtml;\n",
              "          element.appendChild(docLink);\n",
              "        }\n",
              "      </script>\n",
              "    </div>\n",
              "  </div>\n",
              "  "
            ]
          },
          "metadata": {},
          "execution_count": 50
        }
      ]
    },
    {
      "cell_type": "code",
      "source": [
        "# this code successfully generate the data mult_data1.csv in My Google directory\n",
        "df.to_csv(r'drive/My Drive/Colab Notebooks/IMSE_Data_Science/Data/mult_data1.csv')"
      ],
      "metadata": {
        "id": "3DUUVSRiqbpp"
      },
      "execution_count": null,
      "outputs": []
    },
    {
      "cell_type": "markdown",
      "source": [
        "# **Now we will use the mean and sigma estimated from the Phase I data for priciple compoments"
      ],
      "metadata": {
        "id": "uQd15eVG7LD5"
      }
    },
    {
      "cell_type": "code",
      "source": [
        "from sklearn.preprocessing import StandardScaler\n",
        "sc = StandardScaler()\n",
        "x1 = sc.fit_transform(x1)\n",
        "data_all = sc.fit_transform(data_all)"
      ],
      "metadata": {
        "id": "KiXIwJ0IDZFD"
      },
      "execution_count": null,
      "outputs": []
    },
    {
      "cell_type": "code",
      "source": [
        "# compute the eigen vector and values\n",
        "cov_mat = np.cov(x1.T)\n",
        "\n",
        "# From this covariance matrix, caluclate the Eigenvalues and the Eigenvectors\n",
        "eigen_vals, eigen_vecs = np.linalg.eig(cov_mat)\n",
        "print(\"Eigen values=\", eigen_vals)\n",
        "print(\"Eigen vectors=\", eigen_vecs)"
      ],
      "metadata": {
        "colab": {
          "base_uri": "https://localhost:8080/"
        },
        "id": "p50Eot4PEYB-",
        "outputId": "eb96d5af-53e8-4691-aa0c-93c96cc460e9"
      },
      "execution_count": null,
      "outputs": [
        {
          "output_type": "stream",
          "name": "stdout",
          "text": [
            "Eigen values= [2.304966   0.01839493 1.22751729 1.01802937 0.67681584 0.81488264]\n",
            "Eigen vectors= [[ 0.64834378  0.73560923 -0.07013674 -0.06815294  0.15020227 -0.08002932]\n",
            " [ 0.37274182 -0.23804536 -0.51002629 -0.04088931 -0.73384093 -0.06384891]\n",
            " [ 0.32080279 -0.25091774 -0.2157212   0.65198793  0.31320014  0.51420583]\n",
            " [ 0.12653562 -0.00877768  0.49059331  0.63425215 -0.26386733 -0.52089167]\n",
            " [ 0.18354514  0.03039146  0.62522978 -0.17289578 -0.3957313   0.62287964]\n",
            " [ 0.53674889 -0.58159527  0.2383785  -0.36935923  0.33851619 -0.25652252]]\n"
          ]
        }
      ]
    },
    {
      "cell_type": "code",
      "source": [
        "eigen_sum=eigen_vals.sum()\n",
        "weights=eigen_vals/eigen_sum\n",
        "print(\"Weights of Eigen Values =\", weights)"
      ],
      "metadata": {
        "colab": {
          "base_uri": "https://localhost:8080/"
        },
        "id": "Q9U6uJKQEgoP",
        "outputId": "e478f986-c1ab-41ab-c429-9c4832b57be7"
      },
      "execution_count": null,
      "outputs": [
        {
          "output_type": "stream",
          "name": "stdout",
          "text": [
            "Weights of Eigen Values = [0.38031939 0.00303516 0.20254035 0.16797485 0.11167461 0.13445564]\n"
          ]
        }
      ]
    },
    {
      "cell_type": "markdown",
      "source": [
        "The choice of z1, z3, and z4 will attribute to 74% of the variation"
      ],
      "metadata": {
        "id": "4-PCC5S9FpSL"
      }
    },
    {
      "cell_type": "code",
      "source": [
        "eigen_vecs[0].shape"
      ],
      "metadata": {
        "colab": {
          "base_uri": "https://localhost:8080/"
        },
        "id": "i2X0nzFWFRgL",
        "outputId": "f1904dd1-d5a9-48f8-f328-b6dda2b65649"
      },
      "execution_count": null,
      "outputs": [
        {
          "output_type": "execute_result",
          "data": {
            "text/plain": [
              "(6,)"
            ]
          },
          "metadata": {},
          "execution_count": 19
        }
      ]
    },
    {
      "cell_type": "code",
      "source": [
        "x1.shape"
      ],
      "metadata": {
        "colab": {
          "base_uri": "https://localhost:8080/"
        },
        "id": "xysiS0yeNcKq",
        "outputId": "dd788304-2c05-4044-a0ed-7c9370be374d"
      },
      "execution_count": null,
      "outputs": [
        {
          "output_type": "execute_result",
          "data": {
            "text/plain": [
              "(100, 6)"
            ]
          },
          "metadata": {},
          "execution_count": 22
        }
      ]
    },
    {
      "cell_type": "code",
      "source": [
        "#first eigen vector\n",
        "c1=np.reshape(eigen_vecs[0], (6,1))"
      ],
      "metadata": {
        "id": "eF1jEgAZMdmg"
      },
      "execution_count": null,
      "outputs": []
    },
    {
      "cell_type": "code",
      "source": [
        "z1=x1@c1"
      ],
      "metadata": {
        "id": "2EalyGYTPVWI"
      },
      "execution_count": null,
      "outputs": []
    },
    {
      "cell_type": "markdown",
      "source": [
        "# Compute the principle component values Z's from original data X's"
      ],
      "metadata": {
        "id": "1oySdvaAhS9P"
      }
    },
    {
      "cell_type": "code",
      "source": [
        "# compute the transformed values z\n",
        "Z1=x1 @ eigen_vecs\n",
        "Z2=data_all @ eigen_vecs"
      ],
      "metadata": {
        "id": "F8iBD_kqPs4_"
      },
      "execution_count": null,
      "outputs": []
    },
    {
      "cell_type": "code",
      "source": [
        "type(Z)"
      ],
      "metadata": {
        "colab": {
          "base_uri": "https://localhost:8080/"
        },
        "id": "07mFFvEZRXyt",
        "outputId": "7d17c160-cd73-4c2b-b861-6fbca9466a05"
      },
      "execution_count": null,
      "outputs": [
        {
          "output_type": "execute_result",
          "data": {
            "text/plain": [
              "numpy.ndarray"
            ]
          },
          "metadata": {},
          "execution_count": 32
        }
      ]
    },
    {
      "cell_type": "code",
      "source": [
        "df1 = pd.DataFrame(Z1, columns = ['z1','z2','z3','z4','z5', 'z6'])\n",
        "df2 = pd.DataFrame(Z2, columns = ['z1','z2','z3','z4','z5', 'z6'])"
      ],
      "metadata": {
        "id": "GN9WzhnoStti"
      },
      "execution_count": null,
      "outputs": []
    },
    {
      "cell_type": "code",
      "source": [
        "Z1=df1[['z1','z3', 'z4']]\n",
        "Z1=Z1.to_numpy()\n",
        "Z2=df2[['z1','z3', 'z4']]\n",
        "Z2=Z2.to_numpy()\n",
        "Z2.shape"
      ],
      "metadata": {
        "colab": {
          "base_uri": "https://localhost:8080/"
        },
        "id": "0qWj1ZnvVYmT",
        "outputId": "2e41cf19-d866-485d-bec9-6416d1d50a44"
      },
      "execution_count": null,
      "outputs": [
        {
          "output_type": "execute_result",
          "data": {
            "text/plain": [
              "(115, 3)"
            ]
          },
          "metadata": {},
          "execution_count": 63
        }
      ]
    },
    {
      "cell_type": "code",
      "source": [
        "class MEWMA:\n",
        "\n",
        "    _title = \"MEWMA Control Chart\"\n",
        "\n",
        "    def fit(self, data, lam, H, mu, sigma):\n",
        "        # H is the upper control limits & lam is the EWMA coef lambda\n",
        "        self.data = np.array(data)\n",
        "        self.numsample = len(data)\n",
        "        #size is p the number of variates\n",
        "        self.size=len(np.mean(data, axis=0))\n",
        "        self.lam=lam\n",
        "        self.H=H\n",
        "        Z = []\n",
        "        DIF=[]\n",
        "        Ztminus1=np.zeros(self.size)\n",
        "        for sample in data:\n",
        "            dif = sample - mu\n",
        "            Zt= lam * dif + (1-lam) * Ztminus1\n",
        "            Z.append(Zt)\n",
        "            Ztminus1=Zt\n",
        "            DIF.append(dif)\n",
        "\n",
        "        # compute EWMA and T2 statistics\n",
        "        colmean = np.mean(data, axis=0)\n",
        "        values = []\n",
        "        i=1\n",
        "        for zi in Z:\n",
        "            matcov = lam*(1-(1-lam)**(2*i))/(2-lam) * sigma\n",
        "            matinv = np.linalg.inv(matcov)      \n",
        "            value = matinv.dot(zi.T).dot(zi)\n",
        "            values.append(value)\n",
        "            i+=1 \n",
        "        \n",
        "        matcov = lam/(2-lam) * sigma\n",
        "        matinv = np.linalg.inv(matcov)  \n",
        "        dif_avgs=np.mean(DIF, axis=0)    \n",
        "       \n",
        "        self.T2=values\n",
        "        self.lcl = 0\n",
        "        self.center = matinv.dot(dif_avgs.T).dot(dif_avgs)\n",
        "        self.ucl = H\n",
        "\n",
        "        #return (values, center, lcl, ucl, self._title)\n",
        "\n",
        "    def ControlChart(self):\n",
        "        ucl = np.zeros(self.numsample)\n",
        "        lcl = np.zeros(self.numsample)\n",
        "              \n",
        "        for i in range(self.numsample):\n",
        "            lcl[i] = self.lcl\n",
        "            ucl[i] = self.ucl\n",
        "              \n",
        "        plt.figure(figsize=(15,5))\n",
        "        plt.plot(self.T2,marker=\"o\",color=\"k\",label=\"T2\")\n",
        "        plt.plot([self.center]*self.numsample,color=\"k\",alpha=0.35)\n",
        "        plt.plot(ucl,color=\"r\",label=\"UCL {}\".format(ucl[len(ucl)-1].round(2)))\n",
        "        plt.plot(lcl,color=\"r\",label=\"LCL {}\".format(lcl[len(lcl)-1].round(2)))\n",
        "        plt.title(\"MEWMA Conrol Chart\")\n",
        "        plt.legend(loc=\"upper left\")\n",
        "        plt.show()"
      ],
      "metadata": {
        "id": "jSIBFV6UbHeD"
      },
      "execution_count": null,
      "outputs": []
    },
    {
      "cell_type": "code",
      "source": [
        "mean1=np.mean(Z1, axis=0)\n",
        "matcov1=np.cov(Z1.T)\n",
        "matcov1.shape\n",
        "mean1"
      ],
      "metadata": {
        "colab": {
          "base_uri": "https://localhost:8080/"
        },
        "id": "9hKVeKOncrOJ",
        "outputId": "66f1d1d8-8428-4f16-8ebe-c95d86b48c80"
      },
      "execution_count": null,
      "outputs": [
        {
          "output_type": "execute_result",
          "data": {
            "text/plain": [
              "array([ 8.07576228e-15, -1.06670228e-14, -6.60582700e-16])"
            ]
          },
          "metadata": {},
          "execution_count": 71
        }
      ]
    },
    {
      "cell_type": "code",
      "source": [
        "# MEWMA chart\n",
        "chart = MEWMA()\n",
        "# use lambda=0.15 H=11 for delta=1.5 Ref Prabhu and Runger 1997\n",
        "chart.fit(data=Z1, lam=0.2, H=11, mu=mean1, sigma=matcov1)\n",
        "chart.ControlChart()"
      ],
      "metadata": {
        "colab": {
          "base_uri": "https://localhost:8080/",
          "height": 335
        },
        "id": "dazxqo9DbX8n",
        "outputId": "2167b04e-f253-402a-8b19-6879cf1570a8"
      },
      "execution_count": null,
      "outputs": [
        {
          "output_type": "display_data",
          "data": {
            "text/plain": [
              "<Figure size 1080x360 with 1 Axes>"
            ],
            "image/png": "[encoded data removed]"
          },
          "metadata": {
            "needs_background": "light"
          }
        }
      ]
    },
    {
      "cell_type": "code",
      "source": [
        "# MEWMA chart on both Phase I and Phase II data\n",
        "chart = MEWMA()\n",
        "# use lambda=0.15 H=11 for delta=1.5 Ref Prabhu and Runger 1997\n",
        "chart.fit(data=Z2, lam=0.2, H=11, mu=mean1, sigma=matcov1)\n",
        "chart.ControlChart()"
      ],
      "metadata": {
        "colab": {
          "base_uri": "https://localhost:8080/",
          "height": 335
        },
        "id": "RiH81wWCfy4b",
        "outputId": "661d2777-afa3-49d4-ef1f-24a7fd14d8cd"
      },
      "execution_count": null,
      "outputs": [
        {
          "output_type": "display_data",
          "data": {
            "text/plain": [
              "<Figure size 1080x360 with 1 Axes>"
            ],
            "image/png": "[encoded data removed]"
          },
          "metadata": {
            "needs_background": "light"
          }
        }
      ]
    }
  ]
}