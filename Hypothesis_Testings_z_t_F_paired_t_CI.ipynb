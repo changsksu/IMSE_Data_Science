{
  "nbformat": 4,
  "nbformat_minor": 0,
  "metadata": {
    "colab": {
      "provenance": [],
      "authorship_tag": "ABX9TyPfe318LMSCtRYeoPu/5ynV",
      "include_colab_link": true
    },
    "kernelspec": {
      "name": "python3",
      "display_name": "Python 3"
    },
    "language_info": {
      "name": "python"
    }
  },
  "cells": [
    {
      "cell_type": "markdown",
      "metadata": {
        "id": "view-in-github",
        "colab_type": "text"
      },
      "source": [
        "<a href=\"https://colab.research.google.com/github/changsksu/IMSE_Data_Science/blob/main/Hypothesis_Testings_z_t_F_paired_t_CI.ipynb\" target=\"_parent\"><img src=\"https://colab.research.google.com/assets/colab-badge.svg\" alt=\"Open In Colab\"/></a>"
      ]
    },
    {
      "cell_type": "markdown",
      "metadata": {
        "id": "NFXPRPA2d7I-"
      },
      "source": [
        "# This nb demonstrates One-Sample and Two-Sample hypothesis tests via the use of direct codes, statsmodels weightstats, and scipy ttest functions.\n",
        "\n",
        "\n"
      ]
    },
    {
      "cell_type": "markdown",
      "source": [
        "In addition, codes to compute critical values for z and t tests, confidence intervals, and pair-t-test are also included."
      ],
      "metadata": {
        "id": "B7n7DdhhX-1F"
      }
    },
    {
      "cell_type": "markdown",
      "source": [
        "Ref. https://k-state.instructure.com/courses/144373/modules/items/4455306\n",
        "Ref. https://www.kite.com/python/docs/scipy.stats.ttest_1samp\n"
      ],
      "metadata": {
        "id": "uo304nvkl8Zf"
      }
    },
    {
      "cell_type": "code",
      "metadata": {
        "id": "Rc7nYxvoWrGy"
      },
      "source": [
        "import math\n",
        "import statistics\n",
        "import numpy as np\n",
        "import scipy.stats\n",
        "import pandas as pd\n",
        "from statsmodels.stats import weightstats as stests\n",
        "import scipy.stats as stats\n",
        "from scipy.stats import norm\n",
        "from scipy.stats import t\n",
        "import matplotlib.pyplot as plt"
      ],
      "execution_count": 1,
      "outputs": []
    },
    {
      "cell_type": "code",
      "metadata": {
        "colab": {
          "base_uri": "https://localhost:8080/"
        },
        "id": "WalnA3Gt_bGr",
        "outputId": "108fef13-6a00-4e47-cdbd-6f3ae8670a4e"
      },
      "source": [
        "import platform\n",
        "print(platform.python_version())"
      ],
      "execution_count": 2,
      "outputs": [
        {
          "output_type": "stream",
          "name": "stdout",
          "text": [
            "3.10.12\n"
          ]
        }
      ]
    },
    {
      "cell_type": "code",
      "metadata": {
        "colab": {
          "base_uri": "https://localhost:8080/"
        },
        "id": "PZkxjciTGKEH",
        "outputId": "0c704136-8f71-4775-f21d-477060802e6c"
      },
      "source": [
        "scipy.version"
      ],
      "execution_count": null,
      "outputs": [
        {
          "output_type": "execute_result",
          "data": {
            "text/plain": [
              "<module 'scipy.version' from '/usr/local/lib/python3.10/dist-packages/scipy/version.py'>"
            ]
          },
          "metadata": {},
          "execution_count": 3
        }
      ]
    },
    {
      "cell_type": "code",
      "source": [
        "# make sure that you use the raw format in Github\n",
        "# the data is under Dr. Chang's github changsksu folder KState_IMSE541\n",
        "# use the URL once you find or store the data file (use the raw tab)\n",
        "# the following input statement is needed to use pandas dataframe feature\n",
        "import pandas as pd\n",
        "data = pd.read_csv('https://raw.githubusercontent.com/changsksu/KState_IMSE541/main/brain_size.csv', sep=';', na_values=\".\")\n",
        "# the foloowing statement only retrieves the first 5 obs\n",
        "data.head()"
      ],
      "metadata": {
        "colab": {
          "base_uri": "https://localhost:8080/",
          "height": 206
        },
        "id": "ulNi14KnTdE1",
        "outputId": "790b0f16-0696-44dc-be1c-75fbfcef3be8"
      },
      "execution_count": 4,
      "outputs": [
        {
          "output_type": "execute_result",
          "data": {
            "text/plain": [
              "   Unnamed: 0  Gender  FSIQ  VIQ  PIQ  Weight  Height  MRI_Count\n",
              "0           1  Female   133  132  124   118.0    64.5     816932\n",
              "1           2    Male   140  150  124     NaN    72.5    1001121\n",
              "2           3    Male   139  123  150   143.0    73.3    1038437\n",
              "3           4    Male   133  129  128   172.0    68.8     965353\n",
              "4           5  Female   137  132  134   147.0    65.0     951545"
            ],
            "text/html": [
              "\n",
              "  <div id=\"df-3084e101-8cdd-48aa-b2a5-4f49a57b2c40\" class=\"colab-df-container\">\n",
              "    <div>\n",
              "<style scoped>\n",
              "    .dataframe tbody tr th:only-of-type {\n",
              "        vertical-align: middle;\n",
              "    }\n",
              "\n",
              "    .dataframe tbody tr th {\n",
              "        vertical-align: top;\n",
              "    }\n",
              "\n",
              "    .dataframe thead th {\n",
              "        text-align: right;\n",
              "    }\n",
              "</style>\n",
              "<table border=\"1\" class=\"dataframe\">\n",
              "  <thead>\n",
              "    <tr style=\"text-align: right;\">\n",
              "      <th></th>\n",
              "      <th>Unnamed: 0</th>\n",
              "      <th>Gender</th>\n",
              "      <th>FSIQ</th>\n",
              "      <th>VIQ</th>\n",
              "      <th>PIQ</th>\n",
              "      <th>Weight</th>\n",
              "      <th>Height</th>\n",
              "      <th>MRI_Count</th>\n",
              "    </tr>\n",
              "  </thead>\n",
              "  <tbody>\n",
              "    <tr>\n",
              "      <th>0</th>\n",
              "      <td>1</td>\n",
              "      <td>Female</td>\n",
              "      <td>133</td>\n",
              "      <td>132</td>\n",
              "      <td>124</td>\n",
              "      <td>118.0</td>\n",
              "      <td>64.5</td>\n",
              "      <td>816932</td>\n",
              "    </tr>\n",
              "    <tr>\n",
              "      <th>1</th>\n",
              "      <td>2</td>\n",
              "      <td>Male</td>\n",
              "      <td>140</td>\n",
              "      <td>150</td>\n",
              "      <td>124</td>\n",
              "      <td>NaN</td>\n",
              "      <td>72.5</td>\n",
              "      <td>1001121</td>\n",
              "    </tr>\n",
              "    <tr>\n",
              "      <th>2</th>\n",
              "      <td>3</td>\n",
              "      <td>Male</td>\n",
              "      <td>139</td>\n",
              "      <td>123</td>\n",
              "      <td>150</td>\n",
              "      <td>143.0</td>\n",
              "      <td>73.3</td>\n",
              "      <td>1038437</td>\n",
              "    </tr>\n",
              "    <tr>\n",
              "      <th>3</th>\n",
              "      <td>4</td>\n",
              "      <td>Male</td>\n",
              "      <td>133</td>\n",
              "      <td>129</td>\n",
              "      <td>128</td>\n",
              "      <td>172.0</td>\n",
              "      <td>68.8</td>\n",
              "      <td>965353</td>\n",
              "    </tr>\n",
              "    <tr>\n",
              "      <th>4</th>\n",
              "      <td>5</td>\n",
              "      <td>Female</td>\n",
              "      <td>137</td>\n",
              "      <td>132</td>\n",
              "      <td>134</td>\n",
              "      <td>147.0</td>\n",
              "      <td>65.0</td>\n",
              "      <td>951545</td>\n",
              "    </tr>\n",
              "  </tbody>\n",
              "</table>\n",
              "</div>\n",
              "    <div class=\"colab-df-buttons\">\n",
              "\n",
              "  <div class=\"colab-df-container\">\n",
              "    <button class=\"colab-df-convert\" onclick=\"convertToInteractive('df-3084e101-8cdd-48aa-b2a5-4f49a57b2c40')\"\n",
              "            title=\"Convert this dataframe to an interactive table.\"\n",
              "            style=\"display:none;\">\n",
              "\n",
              "  <svg xmlns=\"http://www.w3.org/2000/svg\" height=\"24px\" viewBox=\"0 -960 960 960\">\n",
              "    <path d=\"M120-120v-720h720v720H120Zm60-500h600v-160H180v160Zm220 220h160v-160H400v160Zm0 220h160v-160H400v160ZM180-400h160v-160H180v160Zm440 0h160v-160H620v160ZM180-180h160v-160H180v160Zm440 0h160v-160H620v160Z\"/>\n",
              "  </svg>\n",
              "    </button>\n",
              "\n",
              "  <style>\n",
              "    .colab-df-container {\n",
              "      display:flex;\n",
              "      gap: 12px;\n",
              "    }\n",
              "\n",
              "    .colab-df-convert {\n",
              "      background-color: #E8F0FE;\n",
              "      border: none;\n",
              "      border-radius: 50%;\n",
              "      cursor: pointer;\n",
              "      display: none;\n",
              "      fill: #1967D2;\n",
              "      height: 32px;\n",
              "      padding: 0 0 0 0;\n",
              "      width: 32px;\n",
              "    }\n",
              "\n",
              "    .colab-df-convert:hover {\n",
              "      background-color: #E2EBFA;\n",
              "      box-shadow: 0px 1px 2px rgba(60, 64, 67, 0.3), 0px 1px 3px 1px rgba(60, 64, 67, 0.15);\n",
              "      fill: #174EA6;\n",
              "    }\n",
              "\n",
              "    .colab-df-buttons div {\n",
              "      margin-bottom: 4px;\n",
              "    }\n",
              "\n",
              "    [theme=dark] .colab-df-convert {\n",
              "      background-color: #3B4455;\n",
              "      fill: #D2E3FC;\n",
              "    }\n",
              "\n",
              "    [theme=dark] .colab-df-convert:hover {\n",
              "      background-color: #434B5C;\n",
              "      box-shadow: 0px 1px 3px 1px rgba(0, 0, 0, 0.15);\n",
              "      filter: drop-shadow(0px 1px 2px rgba(0, 0, 0, 0.3));\n",
              "      fill: #FFFFFF;\n",
              "    }\n",
              "  </style>\n",
              "\n",
              "    <script>\n",
              "      const buttonEl =\n",
              "        document.querySelector('#df-3084e101-8cdd-48aa-b2a5-4f49a57b2c40 button.colab-df-convert');\n",
              "      buttonEl.style.display =\n",
              "        google.colab.kernel.accessAllowed ? 'block' : 'none';\n",
              "\n",
              "      async function convertToInteractive(key) {\n",
              "        const element = document.querySelector('#df-3084e101-8cdd-48aa-b2a5-4f49a57b2c40');\n",
              "        const dataTable =\n",
              "          await google.colab.kernel.invokeFunction('convertToInteractive',\n",
              "                                                    [key], {});\n",
              "        if (!dataTable) return;\n",
              "\n",
              "        const docLinkHtml = 'Like what you see? Visit the ' +\n",
              "          '<a target=\"_blank\" href=https://colab.research.google.com/notebooks/data_table.ipynb>data table notebook</a>'\n",
              "          + ' to learn more about interactive tables.';\n",
              "        element.innerHTML = '';\n",
              "        dataTable['output_type'] = 'display_data';\n",
              "        await google.colab.output.renderOutput(dataTable, element);\n",
              "        const docLink = document.createElement('div');\n",
              "        docLink.innerHTML = docLinkHtml;\n",
              "        element.appendChild(docLink);\n",
              "      }\n",
              "    </script>\n",
              "  </div>\n",
              "\n",
              "\n",
              "<div id=\"df-2e9a6a25-edad-4760-9edb-b06d928d27c4\">\n",
              "  <button class=\"colab-df-quickchart\" onclick=\"quickchart('df-2e9a6a25-edad-4760-9edb-b06d928d27c4')\"\n",
              "            title=\"Suggest charts.\"\n",
              "            style=\"display:none;\">\n",
              "\n",
              "<svg xmlns=\"http://www.w3.org/2000/svg\" height=\"24px\"viewBox=\"0 0 24 24\"\n",
              "     width=\"24px\">\n",
              "    <g>\n",
              "        <path d=\"M19 3H5c-1.1 0-2 .9-2 2v14c0 1.1.9 2 2 2h14c1.1 0 2-.9 2-2V5c0-1.1-.9-2-2-2zM9 17H7v-7h2v7zm4 0h-2V7h2v10zm4 0h-2v-4h2v4z\"/>\n",
              "    </g>\n",
              "</svg>\n",
              "  </button>\n",
              "\n",
              "<style>\n",
              "  .colab-df-quickchart {\n",
              "      --bg-color: #E8F0FE;\n",
              "      --fill-color: #1967D2;\n",
              "      --hover-bg-color: #E2EBFA;\n",
              "      --hover-fill-color: #174EA6;\n",
              "      --disabled-fill-color: #AAA;\n",
              "      --disabled-bg-color: #DDD;\n",
              "  }\n",
              "\n",
              "  [theme=dark] .colab-df-quickchart {\n",
              "      --bg-color: #3B4455;\n",
              "      --fill-color: #D2E3FC;\n",
              "      --hover-bg-color: #434B5C;\n",
              "      --hover-fill-color: #FFFFFF;\n",
              "      --disabled-bg-color: #3B4455;\n",
              "      --disabled-fill-color: #666;\n",
              "  }\n",
              "\n",
              "  .colab-df-quickchart {\n",
              "    background-color: var(--bg-color);\n",
              "    border: none;\n",
              "    border-radius: 50%;\n",
              "    cursor: pointer;\n",
              "    display: none;\n",
              "    fill: var(--fill-color);\n",
              "    height: 32px;\n",
              "    padding: 0;\n",
              "    width: 32px;\n",
              "  }\n",
              "\n",
              "  .colab-df-quickchart:hover {\n",
              "    background-color: var(--hover-bg-color);\n",
              "    box-shadow: 0 1px 2px rgba(60, 64, 67, 0.3), 0 1px 3px 1px rgba(60, 64, 67, 0.15);\n",
              "    fill: var(--button-hover-fill-color);\n",
              "  }\n",
              "\n",
              "  .colab-df-quickchart-complete:disabled,\n",
              "  .colab-df-quickchart-complete:disabled:hover {\n",
              "    background-color: var(--disabled-bg-color);\n",
              "    fill: var(--disabled-fill-color);\n",
              "    box-shadow: none;\n",
              "  }\n",
              "\n",
              "  .colab-df-spinner {\n",
              "    border: 2px solid var(--fill-color);\n",
              "    border-color: transparent;\n",
              "    border-bottom-color: var(--fill-color);\n",
              "    animation:\n",
              "      spin 1s steps(1) infinite;\n",
              "  }\n",
              "\n",
              "  @keyframes spin {\n",
              "    0% {\n",
              "      border-color: transparent;\n",
              "      border-bottom-color: var(--fill-color);\n",
              "      border-left-color: var(--fill-color);\n",
              "    }\n",
              "    20% {\n",
              "      border-color: transparent;\n",
              "      border-left-color: var(--fill-color);\n",
              "      border-top-color: var(--fill-color);\n",
              "    }\n",
              "    30% {\n",
              "      border-color: transparent;\n",
              "      border-left-color: var(--fill-color);\n",
              "      border-top-color: var(--fill-color);\n",
              "      border-right-color: var(--fill-color);\n",
              "    }\n",
              "    40% {\n",
              "      border-color: transparent;\n",
              "      border-right-color: var(--fill-color);\n",
              "      border-top-color: var(--fill-color);\n",
              "    }\n",
              "    60% {\n",
              "      border-color: transparent;\n",
              "      border-right-color: var(--fill-color);\n",
              "    }\n",
              "    80% {\n",
              "      border-color: transparent;\n",
              "      border-right-color: var(--fill-color);\n",
              "      border-bottom-color: var(--fill-color);\n",
              "    }\n",
              "    90% {\n",
              "      border-color: transparent;\n",
              "      border-bottom-color: var(--fill-color);\n",
              "    }\n",
              "  }\n",
              "</style>\n",
              "\n",
              "  <script>\n",
              "    async function quickchart(key) {\n",
              "      const quickchartButtonEl =\n",
              "        document.querySelector('#' + key + ' button');\n",
              "      quickchartButtonEl.disabled = true;  // To prevent multiple clicks.\n",
              "      quickchartButtonEl.classList.add('colab-df-spinner');\n",
              "      try {\n",
              "        const charts = await google.colab.kernel.invokeFunction(\n",
              "            'suggestCharts', [key], {});\n",
              "      } catch (error) {\n",
              "        console.error('Error during call to suggestCharts:', error);\n",
              "      }\n",
              "      quickchartButtonEl.classList.remove('colab-df-spinner');\n",
              "      quickchartButtonEl.classList.add('colab-df-quickchart-complete');\n",
              "    }\n",
              "    (() => {\n",
              "      let quickchartButtonEl =\n",
              "        document.querySelector('#df-2e9a6a25-edad-4760-9edb-b06d928d27c4 button');\n",
              "      quickchartButtonEl.style.display =\n",
              "        google.colab.kernel.accessAllowed ? 'block' : 'none';\n",
              "    })();\n",
              "  </script>\n",
              "</div>\n",
              "    </div>\n",
              "  </div>\n"
            ]
          },
          "metadata": {},
          "execution_count": 4
        }
      ]
    },
    {
      "cell_type": "markdown",
      "source": [
        "# I. One-Sample Tests\n",
        "**Ia Ztest when variance is known: Compute p-value via the scipy norm function**"
      ],
      "metadata": {
        "id": "NiByqOFZ7ni7"
      }
    },
    {
      "cell_type": "code",
      "metadata": {
        "colab": {
          "base_uri": "https://localhost:8080/"
        },
        "id": "qYd6JIwTei8I",
        "outputId": "4d96c15a-3f53-4d3d-989f-0c7a201fdf47"
      },
      "source": [
        "viqmean=np.mean(data['VIQ'])\n",
        "viqmean"
      ],
      "execution_count": 5,
      "outputs": [
        {
          "output_type": "execute_result",
          "data": {
            "text/plain": [
              "112.35"
            ]
          },
          "metadata": {},
          "execution_count": 5
        }
      ]
    },
    {
      "cell_type": "code",
      "source": [
        "# np.std\n",
        "# ddof is the degrees of freedom, which is 1 for sample standard deviation and 0 for population standard deviation\n",
        "viqstd=np.std(data['VIQ'], ddof=1)\n",
        "viqstd"
      ],
      "metadata": {
        "id": "xoB6tVICUNRo",
        "colab": {
          "base_uri": "https://localhost:8080/"
        },
        "outputId": "67b5afc0-56f0-4e7a-d6a0-f4338c8f9c8c"
      },
      "execution_count": 6,
      "outputs": [
        {
          "output_type": "execute_result",
          "data": {
            "text/plain": [
              "23.616107063199742"
            ]
          },
          "metadata": {},
          "execution_count": 6
        }
      ]
    },
    {
      "cell_type": "code",
      "source": [
        "# assuming the variance of VIQ is known\n",
        "# H0: mu = 110\n",
        "# H1: mu > 110\n",
        "# std=20 (known)\n",
        "n=len(data['VIQ'])\n",
        "pval=1-norm.cdf((viqmean-110)/(20/np.sqrt(n)))\n",
        "pval"
      ],
      "metadata": {
        "colab": {
          "base_uri": "https://localhost:8080/"
        },
        "id": "6KiGb3096RdJ",
        "outputId": "05abf49b-715e-4360-aa18-4a3f7599634b"
      },
      "execution_count": 10,
      "outputs": [
        {
          "output_type": "execute_result",
          "data": {
            "text/plain": [
              "0.22869990000730867"
            ]
          },
          "metadata": {},
          "execution_count": 10
        }
      ]
    },
    {
      "cell_type": "markdown",
      "source": [
        "Since pval is larger than 0.05, we fail to reject H0. Another way to cite this result is that reject H0 at (1-pval)*100% significant level"
      ],
      "metadata": {
        "id": "KE7jVv8xG_77"
      }
    },
    {
      "cell_type": "markdown",
      "source": [
        "**Ib. t test when variance is unknown: Compute p-value via the scipy t function**"
      ],
      "metadata": {
        "id": "mklhHVxsJf0I"
      }
    },
    {
      "cell_type": "code",
      "source": [
        "# assuming the variance of VIQ is unknown\n",
        "# H0: mu = 110\n",
        "# H1: mu > 110\n",
        "# std should be estimated\n",
        "n=len(data['VIQ'])\n",
        "viqstd=np.std(data['VIQ'], ddof=1)\n",
        "cdf = t.cdf((viqmean-110)/(viqstd/np.sqrt(n)), df=(n-1))\n",
        "pval=1-cdf\n",
        "pval"
      ],
      "metadata": {
        "colab": {
          "base_uri": "https://localhost:8080/"
        },
        "id": "c1A4EXzxUnY-",
        "outputId": "7a492cfd-da98-47d7-ffa1-b25f88ac0ae7"
      },
      "execution_count": 11,
      "outputs": [
        {
          "output_type": "execute_result",
          "data": {
            "text/plain": [
              "0.26639602500194526"
            ]
          },
          "metadata": {},
          "execution_count": 11
        }
      ]
    },
    {
      "cell_type": "code",
      "source": [
        "#Two-side p-value\n",
        "2*pval"
      ],
      "metadata": {
        "colab": {
          "base_uri": "https://localhost:8080/"
        },
        "id": "aDWMMZ3JDcu2",
        "outputId": "7a320791-7a94-4f8f-b9b2-f7342a17440e"
      },
      "execution_count": 14,
      "outputs": [
        {
          "output_type": "execute_result",
          "data": {
            "text/plain": [
              "0.5327920500038905"
            ]
          },
          "metadata": {},
          "execution_count": 14
        }
      ]
    },
    {
      "cell_type": "markdown",
      "source": [
        "# Analysis:\n",
        "if one sided test H1>110, since pval is larger than 0.05, we cannot reject H0\n",
        "if H1<110, then pval=norm.cdf((viqmean-110)/(viqstd/np.sqrt(n)))\n",
        "if two sided test and pval is smaller than 0.025, we would have reject H0. Or multiply the pval*2 and use 0.05 as the criterion.\n",
        "Replace norm.cdf by t.cdf if standard deviation is estimated"
      ],
      "metadata": {
        "id": "NTbSU6rDVq8B"
      }
    },
    {
      "cell_type": "markdown",
      "source": [
        "**Ic. using scipy ttest_1samp function**"
      ],
      "metadata": {
        "id": "Y3jOExjAiKkK"
      }
    },
    {
      "cell_type": "code",
      "source": [
        "# one sample t test (default two sided test)\n",
        "# there are two ways to run this one sample t test\n",
        "stats.ttest_1samp(data['VIQ'], 110)\n",
        "#scipy.stats.ttest_1samp(a=data['VIQ'], popmean=110)"
      ],
      "metadata": {
        "colab": {
          "base_uri": "https://localhost:8080/"
        },
        "id": "tooEF7aniFy1",
        "outputId": "ce1dd5bc-8dab-43e6-82ca-d222be60868f"
      },
      "execution_count": 12,
      "outputs": [
        {
          "output_type": "execute_result",
          "data": {
            "text/plain": [
              "TtestResult(statistic=0.6293461053092636, pvalue=0.5327920500038905, df=39)"
            ]
          },
          "metadata": {},
          "execution_count": 12
        }
      ]
    },
    {
      "cell_type": "markdown",
      "source": [
        "Note that the default is two-side here. The method in 1b is one sided test"
      ],
      "metadata": {
        "id": "Gr0_U_Mjibew"
      }
    },
    {
      "cell_type": "markdown",
      "source": [
        "**Id. One Sample Test: using statsmodel's weightstats function**"
      ],
      "metadata": {
        "id": "7ov_YvWW8OUR"
      }
    },
    {
      "cell_type": "markdown",
      "source": [
        "ztest(x, y, value=110, alternative='two-sided')\n",
        "\n",
        "\n",
        "*   x is the first sample\n",
        "*   y is the second sample; set it at None for one sample test\n",
        "*   alternative is the alternative hypothesis, which can be 'two-sided', 'larger', or 'smaller'; default alternative='two-sided'"
      ],
      "metadata": {
        "id": "8jfloKmyQLOQ"
      }
    },
    {
      "cell_type": "markdown",
      "source": [
        "Ref. https://www.statsmodels.org/dev/generated/statsmodels.stats.weightstats.ztest.html"
      ],
      "metadata": {
        "id": "ervGO2dqTwwv"
      }
    },
    {
      "cell_type": "code",
      "source": [
        "# this function can also be used to test two samples!\n",
        "# assuming the variance of VIQ is known or n > 30\n",
        "# one-side H1 test is demonstrated here\n",
        "ztest, propability_value = stests.ztest(data['VIQ'], x2=None, value=110, alternative=\"larger\")\n",
        "print(float(propability_value))\n",
        "if propability_value<0.05:\n",
        "  print(\"Null hyphothesis rejected\")\n",
        "else:\n",
        "  print(\"Cannot reject the Null hyphothesis accepted \")"
      ],
      "metadata": {
        "colab": {
          "base_uri": "https://localhost:8080/"
        },
        "id": "TOBczU4Yy8lx",
        "outputId": "9eae3f7e-66a4-4c2c-80c5-02c557c90a55"
      },
      "execution_count": 15,
      "outputs": [
        {
          "output_type": "stream",
          "name": "stdout",
          "text": [
            "0.26456124668392544\n",
            "Cannot reject the Null hyphothesis accepted \n"
          ]
        }
      ]
    },
    {
      "cell_type": "code",
      "source": [
        "# this function can also be used to test two samples!\n",
        "# assuming the variance of VIQ is known or n > 30\n",
        "# two-sided test H1 is demonstrated here\n",
        "ztest, propability_value = stests.ztest(data['VIQ'], x2=None, value=110, alternative=\"two-sided\")\n",
        "print(float(propability_value))\n",
        "if propability_value<0.05:\n",
        "  print(\"Null hyphothesis rejected\")\n",
        "else:\n",
        "  print(\"Cannot reject the Null hyphothesis accepted \")"
      ],
      "metadata": {
        "colab": {
          "base_uri": "https://localhost:8080/"
        },
        "id": "xvqRkSq0EClg",
        "outputId": "25a75596-9ca2-417c-ae13-dbe3ff1b0eed"
      },
      "execution_count": 16,
      "outputs": [
        {
          "output_type": "stream",
          "name": "stdout",
          "text": [
            "0.5291224933678509\n",
            "Cannot reject the Null hyphothesis accepted \n"
          ]
        }
      ]
    },
    {
      "cell_type": "markdown",
      "source": [
        "Please note that this result is slightly different from the \"hand\" calculation. The reason is that the \"known\" std is not provided when 1-sample z test is used."
      ],
      "metadata": {
        "id": "IP_q86VkXNFr"
      }
    },
    {
      "cell_type": "code",
      "source": [
        "# viqstd is not computed but z test (not t-test) is used\n",
        "# this result is close to the t test result when n is large (i.e.  > 30)\n",
        "n=len(data['VIQ'])\n",
        "viqstd=np.std(data['VIQ'], ddof=1)\n",
        "pval1 = norm.cdf((viqmean-110)/(viqstd/np.sqrt(n)))\n",
        "pval2=1-pval1\n",
        "pval2"
      ],
      "metadata": {
        "colab": {
          "base_uri": "https://localhost:8080/"
        },
        "id": "tp7CEWFJF-6P",
        "outputId": "05bd495a-1cdc-4d22-badd-f1bb3d97ad55"
      },
      "execution_count": 19,
      "outputs": [
        {
          "output_type": "execute_result",
          "data": {
            "text/plain": [
              "0.26456124668392544"
            ]
          },
          "metadata": {},
          "execution_count": 19
        }
      ]
    },
    {
      "cell_type": "markdown",
      "source": [
        "**Until we understand more of the Statmodel weightstats function, we should use hand computations or scipy ttest!**"
      ],
      "metadata": {
        "id": "-dHCk4ktbefF"
      }
    },
    {
      "cell_type": "markdown",
      "source": [
        "# II. Two Sample Tests"
      ],
      "metadata": {
        "id": "6z39WsO083S1"
      }
    },
    {
      "cell_type": "markdown",
      "source": [
        "**Case I. Pooled variances of two populations**"
      ],
      "metadata": {
        "id": "_ukq6IW28-0R"
      }
    },
    {
      "cell_type": "code",
      "metadata": {
        "colab": {
          "base_uri": "https://localhost:8080/"
        },
        "id": "0395SDj6HRR5",
        "outputId": "6c57eb79-c07f-42bb-8ecf-d8f9b380993e"
      },
      "source": [
        "#using scipy\n",
        "#two sample t-test 1: assume the variance is the same (default)\n",
        "male_viq=data[data['Gender']=='Male']['VIQ']\n",
        "female_viq=data[data['Gender']=='Female']['VIQ']\n",
        "stats.ttest_ind(female_viq, male_viq, equal_var=True)"
      ],
      "execution_count": 20,
      "outputs": [
        {
          "output_type": "execute_result",
          "data": {
            "text/plain": [
              "TtestResult(statistic=-0.7726161723275012, pvalue=0.44452876778583217, df=38.0)"
            ]
          },
          "metadata": {},
          "execution_count": 20
        }
      ]
    },
    {
      "cell_type": "markdown",
      "source": [
        "**Case II. Reject equal variance assumptions**"
      ],
      "metadata": {
        "id": "6T-4lyZqZW77"
      }
    },
    {
      "cell_type": "code",
      "metadata": {
        "colab": {
          "base_uri": "https://localhost:8080/"
        },
        "id": "86ODq07slKzs",
        "outputId": "68586498-ae73-489e-d153-f48a0110e0d8"
      },
      "source": [
        "#two sample t-test method 2: the variances are not the same\n",
        "stats.ttest_ind(female_viq, male_viq, equal_var=False)"
      ],
      "execution_count": 21,
      "outputs": [
        {
          "output_type": "execute_result",
          "data": {
            "text/plain": [
              "TtestResult(statistic=-0.7726161723275012, pvalue=0.44466074519419074, df=36.973150284539706)"
            ]
          },
          "metadata": {},
          "execution_count": 21
        }
      ]
    },
    {
      "cell_type": "markdown",
      "source": [
        "Analysis: in both cases, the pvalues are large. We cannot reject H0."
      ],
      "metadata": {
        "id": "y2md8qQnY1hC"
      }
    },
    {
      "cell_type": "markdown",
      "source": [
        "# III. F test\n",
        "**To judge Case I or Case II should be used**"
      ],
      "metadata": {
        "id": "cW7CCrBcawiF"
      }
    },
    {
      "cell_type": "code",
      "metadata": {
        "colab": {
          "base_uri": "https://localhost:8080/"
        },
        "id": "fMDdmGYLItal",
        "outputId": "d7687c15-c843-4b14-c0c6-4cb6b77927dd"
      },
      "source": [
        "#F test for variances of two populations\n",
        "# the following function is user defined\n",
        "def f_test(x,y):\n",
        "  x=np.array(x)\n",
        "  y=np.array(y)\n",
        "  f=np.var(x,ddof=1)/np.var(y, ddof=1) # cal F test statistic\n",
        "  dfn=x.size-1\n",
        "  dfd=y.size-1\n",
        "  p=1-scipy.stats.f.cdf(f,dfn, dfd) #find p-value of F test statistics\n",
        "  return f, p\n",
        "\n",
        "f_test(male_viq, female_viq)"
      ],
      "execution_count": null,
      "outputs": [
        {
          "output_type": "execute_result",
          "data": {
            "text/plain": [
              "(1.3999574131873427, 0.23514586725149234)"
            ]
          },
          "metadata": {},
          "execution_count": 49
        }
      ]
    },
    {
      "cell_type": "markdown",
      "source": [
        "The first output is the F statistic and the second is the p-value. Since the p-value is large, we cannot reject H0: var1=var2. Therefore, the variances of two populations should be pooled."
      ],
      "metadata": {
        "id": "a1mK8jwDbCdT"
      }
    },
    {
      "cell_type": "markdown",
      "source": [
        "# **IV. Paired T-Test**"
      ],
      "metadata": {
        "id": "lz8_3YE0cg6k"
      }
    },
    {
      "cell_type": "code",
      "metadata": {
        "colab": {
          "base_uri": "https://localhost:8080/"
        },
        "id": "E_hsR5YeKiIk",
        "outputId": "d6bc5ec1-03ca-4dfa-cc44-9e71d64d4653"
      },
      "source": [
        "#Paired t-Test method 1: using one sample t test\n",
        "#Test if FISQ and PIQ are signficantly different\n",
        "#The data for the pair (FISQ, PIQ) are obtained for the same subject\n",
        "diff=data['FSIQ']-data['VIQ']\n",
        "stats.ttest_1samp(diff, 0)\n"
      ],
      "execution_count": null,
      "outputs": [
        {
          "output_type": "execute_result",
          "data": {
            "text/plain": [
              "Ttest_1sampResult(statistic=0.8913911665594247, pvalue=0.37818604189634275)"
            ]
          },
          "metadata": {},
          "execution_count": 50
        }
      ]
    },
    {
      "cell_type": "markdown",
      "metadata": {
        "id": "7XmIgnCIMf5j"
      },
      "source": [
        "The above p-value is large, which suggests H0 can not be rejected."
      ]
    },
    {
      "cell_type": "code",
      "metadata": {
        "colab": {
          "base_uri": "https://localhost:8080/"
        },
        "id": "uEYj54e1M_o3",
        "outputId": "771cb2d9-f680-42d0-d5fa-2d8fa0e0188f"
      },
      "source": [
        "#Paired t-Test method 2: using repeated measures test\n",
        "#Test if FISQ and PIQ are signficantly different\n",
        "#The data for the pair (FISQ, PIQ) are obtained for the same subject\n",
        "\n",
        "stats.ttest_rel(data['FSIQ'],data['VIQ'])"
      ],
      "execution_count": null,
      "outputs": [
        {
          "output_type": "execute_result",
          "data": {
            "text/plain": [
              "Ttest_relResult(statistic=0.8913911665594247, pvalue=0.37818604189634275)"
            ]
          },
          "metadata": {},
          "execution_count": 51
        }
      ]
    },
    {
      "cell_type": "markdown",
      "source": [
        "# **V. Critical Values of a t Distribution**"
      ],
      "metadata": {
        "id": "fzE9oQoVdE0m"
      }
    },
    {
      "cell_type": "code",
      "metadata": {
        "colab": {
          "base_uri": "https://localhost:8080/"
        },
        "id": "9joYnYxfg_jE",
        "outputId": "51242304-9692-4f82-905a-7f77b873d708"
      },
      "source": [
        "# critcal values of a t distribution\n",
        "# for two-sided 95% CI, the left critical value can be optained\n",
        "x=data['VIQ']\n",
        "df1=len(x) -1\n",
        "stats.t.ppf(q=0.025, df=df1)\n"
      ],
      "execution_count": null,
      "outputs": [
        {
          "output_type": "execute_result",
          "data": {
            "text/plain": [
              "-2.0226909117347285"
            ]
          },
          "metadata": {},
          "execution_count": 54
        }
      ]
    },
    {
      "cell_type": "code",
      "metadata": {
        "colab": {
          "base_uri": "https://localhost:8080/"
        },
        "id": "Uz5Tm2xmiGux",
        "outputId": "dbec89e8-89b5-4130-e993-db1210a995c1"
      },
      "source": [
        "# critcal values of a t distribution\n",
        "# for two sided 95% CI, the right critical value can be optained\n",
        "\n",
        "stats.t.ppf(q=0.975, df=df1)\n"
      ],
      "execution_count": null,
      "outputs": [
        {
          "output_type": "execute_result",
          "data": {
            "text/plain": [
              "2.022690911734728"
            ]
          },
          "metadata": {},
          "execution_count": 57
        }
      ]
    },
    {
      "cell_type": "code",
      "metadata": {
        "colab": {
          "base_uri": "https://localhost:8080/"
        },
        "id": "L-V9DDqPimLk",
        "outputId": "b5890fa9-bf4c-42e7-b54c-ed64e29fd2f4"
      },
      "source": [
        "# critcal values of a t distribution\n",
        "# for one sided 95% CI, the right critical value can be optained\n",
        "# Ha u > u0\n",
        "\n",
        "stats.t.ppf(q=0.95, df=df1)"
      ],
      "execution_count": null,
      "outputs": [
        {
          "output_type": "execute_result",
          "data": {
            "text/plain": [
              "1.6848751194973992"
            ]
          },
          "metadata": {},
          "execution_count": 56
        }
      ]
    },
    {
      "cell_type": "markdown",
      "source": [
        "# **VI. Construct a Confidence Interval of a Sample**"
      ],
      "metadata": {
        "id": "nEWZSDKkeGkZ"
      }
    },
    {
      "cell_type": "code",
      "metadata": {
        "colab": {
          "base_uri": "https://localhost:8080/"
        },
        "id": "x3MFDQDQjr2i",
        "outputId": "45f81689-a7e6-4885-c36f-44fbf60e58b9"
      },
      "source": [
        "# 95% confidence interval (variance estimated)\n",
        "x=data['VIQ']\n",
        "n=len(x)\n",
        "df1=n-1\n",
        "mean1=np.mean(x)\n",
        "sigma1=np.std(x, ddof=1)/np.sqrt(n)\n",
        "stats.t.interval(0.95, df=df1, loc=mean1, scale=sigma1)"
      ],
      "execution_count": 22,
      "outputs": [
        {
          "output_type": "execute_result",
          "data": {
            "text/plain": [
              "(104.79720257664772, 119.90279742335227)"
            ]
          },
          "metadata": {},
          "execution_count": 22
        }
      ]
    },
    {
      "cell_type": "code",
      "source": [
        "# hand calculation to verify the upper confidence interval limit\n",
        "\n",
        "t0975=stats.t.ppf(q=0.975, df=df1)\n",
        "UCL= mean1 + t0975 * sigma1\n",
        "UCL"
      ],
      "metadata": {
        "colab": {
          "base_uri": "https://localhost:8080/"
        },
        "id": "8KQsVkDnfT4Q",
        "outputId": "0ab9e8ac-a9c3-4452-94e2-515bde5d652c"
      },
      "execution_count": 24,
      "outputs": [
        {
          "output_type": "execute_result",
          "data": {
            "text/plain": [
              "119.90279742335227"
            ]
          },
          "metadata": {},
          "execution_count": 24
        }
      ]
    },
    {
      "cell_type": "markdown",
      "source": [
        "Your turn: can you compute the lower confidence interval limit?"
      ],
      "metadata": {
        "id": "LL051RV2KCwa"
      }
    },
    {
      "cell_type": "code",
      "source": [
        "# 95% confidence interval (variance known)\n",
        "# known std=20\n",
        "x=data['VIQ']\n",
        "mean1=np.mean(x)\n",
        "stats.norm.interval(0.95, loc=mean1, scale=20/np.sqrt(n))"
      ],
      "metadata": {
        "colab": {
          "base_uri": "https://localhost:8080/"
        },
        "id": "oa6oFb5me3Pw",
        "outputId": "fdbc93a9-fc76-434c-c975-c4cd2543e89e"
      },
      "execution_count": 25,
      "outputs": [
        {
          "output_type": "execute_result",
          "data": {
            "text/plain": [
              "(106.15204967695438, 118.54795032304561)"
            ]
          },
          "metadata": {},
          "execution_count": 25
        }
      ]
    },
    {
      "cell_type": "markdown",
      "metadata": {
        "id": "xP1PVPZ6khZm"
      },
      "source": [
        "Your turn: can you constuct a 99% CI of x?"
      ]
    }
  ]
}