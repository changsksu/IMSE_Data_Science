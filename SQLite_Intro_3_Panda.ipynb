{
  "nbformat": 4,
  "nbformat_minor": 0,
  "metadata": {
    "colab": {
      "name": "SQLite Intro 3 Panda.ipynb",
      "provenance": [],
      "authorship_tag": "ABX9TyO0WhSfktbuJlL2hGSj6v47",
      "include_colab_link": true
    },
    "kernelspec": {
      "name": "python3",
      "display_name": "Python 3"
    },
    "language_info": {
      "name": "python"
    }
  },
  "cells": [
    {
      "cell_type": "markdown",
      "metadata": {
        "id": "view-in-github",
        "colab_type": "text"
      },
      "source": [
        "<a href=\"https://colab.research.google.com/github/changsksu/IMSE_Data_Science/blob/main/SQLite_Intro_3_Panda.ipynb\" target=\"_parent\"><img src=\"https://colab.research.google.com/assets/colab-badge.svg\" alt=\"Open In Colab\"/></a>"
      ]
    },
    {
      "cell_type": "markdown",
      "source": [
        "This code aims to demonstate the use Panda to connect a datafile from Github or another location; then convert it into a table in a SQLite DB"
      ],
      "metadata": {
        "id": "B72Gg6RB0jDr"
      }
    },
    {
      "cell_type": "markdown",
      "source": [
        "Ref. https://towardsdatascience.com/python-pandas-and-sqlite-a0e2c052456f"
      ],
      "metadata": {
        "id": "_TzIuiVWxtWE"
      }
    },
    {
      "cell_type": "code",
      "execution_count": null,
      "metadata": {
        "id": "yYajmTvYjMFH"
      },
      "outputs": [],
      "source": [
        "import sqlite3 as sql\n",
        "import pandas as pd\n",
        "import matplotlib.pyplot as plt"
      ]
    },
    {
      "cell_type": "code",
      "source": [
        "# read the csv file as a Panda item\n",
        "weather = pd.read_csv('https://github.com/alanjones2/dataviz/raw/master/londonweather.csv')"
      ],
      "metadata": {
        "id": "qq6zlvbAuf5r"
      },
      "execution_count": null,
      "outputs": []
    },
    {
      "cell_type": "code",
      "source": [
        "conn = sql.connect('weather.db')\n",
        "weather.to_sql('weather', conn)"
      ],
      "metadata": {
        "id": "pH7G3oYRvwer"
      },
      "execution_count": null,
      "outputs": []
    },
    {
      "cell_type": "code",
      "source": [
        "# Use SQL command to retrieva all data\n",
        "# outcome=conn.execute(\"SELECT * FROM weather\")\n",
        "# for row in outcome:\n",
        "#    print(row)\n",
        "conn = sql.connect('weather.db')\n",
        "weather = pd.read_sql('SELECT * FROM weather', conn)"
      ],
      "metadata": {
        "id": "Te9IL76IlZuV"
      },
      "execution_count": null,
      "outputs": []
    },
    {
      "cell_type": "code",
      "source": [
        "# this will present you the first 25 rows of the data but you can filter it\n",
        "weather"
      ],
      "metadata": {
        "id": "UX-OYPWsx6fm"
      },
      "execution_count": null,
      "outputs": []
    },
    {
      "cell_type": "code",
      "source": [
        "# this SQL retrieves the 2010 data\n",
        "y2010 = pd.read_sql('SELECT * FROM weather WHERE Year == 2010', conn)\n",
        "y2010"
      ],
      "metadata": {
        "id": "yP8cC-3BxJur"
      },
      "execution_count": null,
      "outputs": []
    }
  ]
}