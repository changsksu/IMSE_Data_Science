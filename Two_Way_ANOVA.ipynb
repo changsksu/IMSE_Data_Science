{
  "nbformat": 4,
  "nbformat_minor": 0,
  "metadata": {
    "colab": {
      "provenance": [],
      "collapsed_sections": [],
      "authorship_tag": "ABX9TyOrRVelj27OSOa9DlN/uh9k",
      "include_colab_link": true
    },
    "kernelspec": {
      "name": "python3",
      "display_name": "Python 3"
    },
    "language_info": {
      "name": "python"
    }
  },
  "cells": [
    {
      "cell_type": "markdown",
      "metadata": {
        "id": "view-in-github",
        "colab_type": "text"
      },
      "source": [
        "<a href=\"https://colab.research.google.com/github/changsksu/IMSE_Data_Science/blob/main/Two_Way_ANOVA.ipynb\" target=\"_parent\"><img src=\"https://colab.research.google.com/assets/colab-badge.svg\" alt=\"Open In Colab\"/></a>"
      ]
    },
    {
      "cell_type": "markdown",
      "metadata": {
        "id": "dDVwl7w2Xknz"
      },
      "source": [
        "This Python notebook demonstrates the computation of Two-Way ANOVA. The example is from Montgomery Intro to SQC (7th ed chap 13). Paint Adhesion strength by primer types and application methods. Ref.\n",
        "https://www.statology.org/two-way-anova-python/"
      ]
    },
    {
      "cell_type": "code",
      "metadata": {
        "id": "Rc7nYxvoWrGy"
      },
      "source": [
        "import math\n",
        "import random\n",
        "import statistics\n",
        "import numpy as np\n",
        "import scipy.stats\n",
        "from scipy import stats\n",
        "from scipy.stats import f_oneway\n",
        "import pandas as pd\n",
        "import matplotlib.pyplot as plt\n",
        "import statsmodels.api as sm\n",
        "from statsmodels.formula.api import ols\n",
        "import statsmodels.stats.multicomp as mc"
      ],
      "execution_count": 3,
      "outputs": []
    },
    {
      "cell_type": "code",
      "metadata": {
        "colab": {
          "base_uri": "https://localhost:8080/",
          "height": 614
        },
        "id": "yFZh17e5FMgn",
        "outputId": "ca3c3280-ad97-4279-fc0f-215e0dc31f87"
      },
      "source": [
        "# Data set is shared in Dr. Chang Github site for IMSE 541\n",
        "\n",
        "data = pd.read_csv('https://raw.githubusercontent.com/changsksu/KState_IMSE541/main/chap13%20two%20factor%20paint%20adhesion.csv', sep=',', na_values=\".\")\n",
        "\n",
        "data  "
      ],
      "execution_count": 4,
      "outputs": [
        {
          "output_type": "execute_result",
          "data": {
            "text/plain": [
              "    Primer_type  App_Method  Adhesion\n",
              "0             1           1       4.0\n",
              "1             2           1       5.6\n",
              "2             3           1       3.8\n",
              "3             1           2       5.4\n",
              "4             2           2       5.8\n",
              "5             3           2       5.5\n",
              "6             1           1       4.5\n",
              "7             2           1       4.9\n",
              "8             3           1       3.7\n",
              "9             1           2       4.9\n",
              "10            2           2       6.1\n",
              "11            3           2       5.0\n",
              "12            1           1       4.3\n",
              "13            2           1       5.4\n",
              "14            3           1       4.0\n",
              "15            1           2       5.6\n",
              "16            2           2       6.3\n",
              "17            3           2       5.0"
            ],
            "text/html": [
              "\n",
              "  <div id=\"df-da6af996-a425-4599-be3f-9c830a2da987\">\n",
              "    <div class=\"colab-df-container\">\n",
              "      <div>\n",
              "<style scoped>\n",
              "    .dataframe tbody tr th:only-of-type {\n",
              "        vertical-align: middle;\n",
              "    }\n",
              "\n",
              "    .dataframe tbody tr th {\n",
              "        vertical-align: top;\n",
              "    }\n",
              "\n",
              "    .dataframe thead th {\n",
              "        text-align: right;\n",
              "    }\n",
              "</style>\n",
              "<table border=\"1\" class=\"dataframe\">\n",
              "  <thead>\n",
              "    <tr style=\"text-align: right;\">\n",
              "      <th></th>\n",
              "      <th>Primer_type</th>\n",
              "      <th>App_Method</th>\n",
              "      <th>Adhesion</th>\n",
              "    </tr>\n",
              "  </thead>\n",
              "  <tbody>\n",
              "    <tr>\n",
              "      <th>0</th>\n",
              "      <td>1</td>\n",
              "      <td>1</td>\n",
              "      <td>4.0</td>\n",
              "    </tr>\n",
              "    <tr>\n",
              "      <th>1</th>\n",
              "      <td>2</td>\n",
              "      <td>1</td>\n",
              "      <td>5.6</td>\n",
              "    </tr>\n",
              "    <tr>\n",
              "      <th>2</th>\n",
              "      <td>3</td>\n",
              "      <td>1</td>\n",
              "      <td>3.8</td>\n",
              "    </tr>\n",
              "    <tr>\n",
              "      <th>3</th>\n",
              "      <td>1</td>\n",
              "      <td>2</td>\n",
              "      <td>5.4</td>\n",
              "    </tr>\n",
              "    <tr>\n",
              "      <th>4</th>\n",
              "      <td>2</td>\n",
              "      <td>2</td>\n",
              "      <td>5.8</td>\n",
              "    </tr>\n",
              "    <tr>\n",
              "      <th>5</th>\n",
              "      <td>3</td>\n",
              "      <td>2</td>\n",
              "      <td>5.5</td>\n",
              "    </tr>\n",
              "    <tr>\n",
              "      <th>6</th>\n",
              "      <td>1</td>\n",
              "      <td>1</td>\n",
              "      <td>4.5</td>\n",
              "    </tr>\n",
              "    <tr>\n",
              "      <th>7</th>\n",
              "      <td>2</td>\n",
              "      <td>1</td>\n",
              "      <td>4.9</td>\n",
              "    </tr>\n",
              "    <tr>\n",
              "      <th>8</th>\n",
              "      <td>3</td>\n",
              "      <td>1</td>\n",
              "      <td>3.7</td>\n",
              "    </tr>\n",
              "    <tr>\n",
              "      <th>9</th>\n",
              "      <td>1</td>\n",
              "      <td>2</td>\n",
              "      <td>4.9</td>\n",
              "    </tr>\n",
              "    <tr>\n",
              "      <th>10</th>\n",
              "      <td>2</td>\n",
              "      <td>2</td>\n",
              "      <td>6.1</td>\n",
              "    </tr>\n",
              "    <tr>\n",
              "      <th>11</th>\n",
              "      <td>3</td>\n",
              "      <td>2</td>\n",
              "      <td>5.0</td>\n",
              "    </tr>\n",
              "    <tr>\n",
              "      <th>12</th>\n",
              "      <td>1</td>\n",
              "      <td>1</td>\n",
              "      <td>4.3</td>\n",
              "    </tr>\n",
              "    <tr>\n",
              "      <th>13</th>\n",
              "      <td>2</td>\n",
              "      <td>1</td>\n",
              "      <td>5.4</td>\n",
              "    </tr>\n",
              "    <tr>\n",
              "      <th>14</th>\n",
              "      <td>3</td>\n",
              "      <td>1</td>\n",
              "      <td>4.0</td>\n",
              "    </tr>\n",
              "    <tr>\n",
              "      <th>15</th>\n",
              "      <td>1</td>\n",
              "      <td>2</td>\n",
              "      <td>5.6</td>\n",
              "    </tr>\n",
              "    <tr>\n",
              "      <th>16</th>\n",
              "      <td>2</td>\n",
              "      <td>2</td>\n",
              "      <td>6.3</td>\n",
              "    </tr>\n",
              "    <tr>\n",
              "      <th>17</th>\n",
              "      <td>3</td>\n",
              "      <td>2</td>\n",
              "      <td>5.0</td>\n",
              "    </tr>\n",
              "  </tbody>\n",
              "</table>\n",
              "</div>\n",
              "      <button class=\"colab-df-convert\" onclick=\"convertToInteractive('df-da6af996-a425-4599-be3f-9c830a2da987')\"\n",
              "              title=\"Convert this dataframe to an interactive table.\"\n",
              "              style=\"display:none;\">\n",
              "        \n",
              "  <svg xmlns=\"http://www.w3.org/2000/svg\" height=\"24px\"viewBox=\"0 0 24 24\"\n",
              "       width=\"24px\">\n",
              "    <path d=\"M0 0h24v24H0V0z\" fill=\"none\"/>\n",
              "    <path d=\"M18.56 5.44l.94 2.06.94-2.06 2.06-.94-2.06-.94-.94-2.06-.94 2.06-2.06.94zm-11 1L8.5 8.5l.94-2.06 2.06-.94-2.06-.94L8.5 2.5l-.94 2.06-2.06.94zm10 10l.94 2.06.94-2.06 2.06-.94-2.06-.94-.94-2.06-.94 2.06-2.06.94z\"/><path d=\"M17.41 7.96l-1.37-1.37c-.4-.4-.92-.59-1.43-.59-.52 0-1.04.2-1.43.59L10.3 9.45l-7.72 7.72c-.78.78-.78 2.05 0 2.83L4 21.41c.39.39.9.59 1.41.59.51 0 1.02-.2 1.41-.59l7.78-7.78 2.81-2.81c.8-.78.8-2.07 0-2.86zM5.41 20L4 18.59l7.72-7.72 1.47 1.35L5.41 20z\"/>\n",
              "  </svg>\n",
              "      </button>\n",
              "      \n",
              "  <style>\n",
              "    .colab-df-container {\n",
              "      display:flex;\n",
              "      flex-wrap:wrap;\n",
              "      gap: 12px;\n",
              "    }\n",
              "\n",
              "    .colab-df-convert {\n",
              "      background-color: #E8F0FE;\n",
              "      border: none;\n",
              "      border-radius: 50%;\n",
              "      cursor: pointer;\n",
              "      display: none;\n",
              "      fill: #1967D2;\n",
              "      height: 32px;\n",
              "      padding: 0 0 0 0;\n",
              "      width: 32px;\n",
              "    }\n",
              "\n",
              "    .colab-df-convert:hover {\n",
              "      background-color: #E2EBFA;\n",
              "      box-shadow: 0px 1px 2px rgba(60, 64, 67, 0.3), 0px 1px 3px 1px rgba(60, 64, 67, 0.15);\n",
              "      fill: #174EA6;\n",
              "    }\n",
              "\n",
              "    [theme=dark] .colab-df-convert {\n",
              "      background-color: #3B4455;\n",
              "      fill: #D2E3FC;\n",
              "    }\n",
              "\n",
              "    [theme=dark] .colab-df-convert:hover {\n",
              "      background-color: #434B5C;\n",
              "      box-shadow: 0px 1px 3px 1px rgba(0, 0, 0, 0.15);\n",
              "      filter: drop-shadow(0px 1px 2px rgba(0, 0, 0, 0.3));\n",
              "      fill: #FFFFFF;\n",
              "    }\n",
              "  </style>\n",
              "\n",
              "      <script>\n",
              "        const buttonEl =\n",
              "          document.querySelector('#df-da6af996-a425-4599-be3f-9c830a2da987 button.colab-df-convert');\n",
              "        buttonEl.style.display =\n",
              "          google.colab.kernel.accessAllowed ? 'block' : 'none';\n",
              "\n",
              "        async function convertToInteractive(key) {\n",
              "          const element = document.querySelector('#df-da6af996-a425-4599-be3f-9c830a2da987');\n",
              "          const dataTable =\n",
              "            await google.colab.kernel.invokeFunction('convertToInteractive',\n",
              "                                                     [key], {});\n",
              "          if (!dataTable) return;\n",
              "\n",
              "          const docLinkHtml = 'Like what you see? Visit the ' +\n",
              "            '<a target=\"_blank\" href=https://colab.research.google.com/notebooks/data_table.ipynb>data table notebook</a>'\n",
              "            + ' to learn more about interactive tables.';\n",
              "          element.innerHTML = '';\n",
              "          dataTable['output_type'] = 'display_data';\n",
              "          await google.colab.output.renderOutput(dataTable, element);\n",
              "          const docLink = document.createElement('div');\n",
              "          docLink.innerHTML = docLinkHtml;\n",
              "          element.appendChild(docLink);\n",
              "        }\n",
              "      </script>\n",
              "    </div>\n",
              "  </div>\n",
              "  "
            ]
          },
          "metadata": {},
          "execution_count": 4
        }
      ]
    },
    {
      "cell_type": "markdown",
      "metadata": {
        "id": "_i0f3HQRMZ1S"
      },
      "source": [
        "The F test from one-way ANOVA is used to test\n",
        "**H0: tau5%=tau10%=tau15%=mtau20%=0 **vs\n",
        "H1: at least one tau <>0\n",
        "Since the pvalue is very small, we would reject H0 and conclude that \n",
        "there is a difference in paper strenght influenced by hardwood concentration "
      ]
    },
    {
      "cell_type": "code",
      "metadata": {
        "colab": {
          "base_uri": "https://localhost:8080/"
        },
        "id": "N-HZ4yDDTc0k",
        "outputId": "006192e4-d9c6-42d4-fcf1-bd396dc1713e"
      },
      "source": [
        "df=data #df means data frame\n",
        "df.info()"
      ],
      "execution_count": 5,
      "outputs": [
        {
          "output_type": "stream",
          "name": "stdout",
          "text": [
            "<class 'pandas.core.frame.DataFrame'>\n",
            "RangeIndex: 18 entries, 0 to 17\n",
            "Data columns (total 3 columns):\n",
            " #   Column       Non-Null Count  Dtype  \n",
            "---  ------       --------------  -----  \n",
            " 0   Primer_type  18 non-null     int64  \n",
            " 1   App_Method   18 non-null     int64  \n",
            " 2   Adhesion     18 non-null     float64\n",
            "dtypes: float64(1), int64(2)\n",
            "memory usage: 560.0 bytes\n"
          ]
        }
      ]
    },
    {
      "cell_type": "code",
      "metadata": {
        "colab": {
          "base_uri": "https://localhost:8080/",
          "height": 175
        },
        "id": "Dnlzia-DSF0Z",
        "outputId": "a26d0a53-c614-48f2-f877-99d663e6543a"
      },
      "source": [
        "# To generate anova table using the ols model from statsmodel\n",
        "\n",
        "model = ols('Adhesion ~ C(Primer_type) + C(App_Method) + C(Primer_type):C(App_Method)', data=df).fit()\n",
        "aov_table = sm.stats.anova_lm(model, typ=2)\n",
        "aov_table"
      ],
      "execution_count": 6,
      "outputs": [
        {
          "output_type": "execute_result",
          "data": {
            "text/plain": [
              "                                sum_sq    df          F    PR(>F)\n",
              "C(Primer_type)                4.581111   2.0  27.858108  0.000031\n",
              "C(App_Method)                 4.908889   1.0  59.702703  0.000005\n",
              "C(Primer_type):C(App_Method)  0.241111   2.0   1.466216  0.269342\n",
              "Residual                      0.986667  12.0        NaN       NaN"
            ],
            "text/html": [
              "\n",
              "  <div id=\"df-9fecb3e3-ee5e-4b42-b5da-2e8cc8c96eed\">\n",
              "    <div class=\"colab-df-container\">\n",
              "      <div>\n",
              "<style scoped>\n",
              "    .dataframe tbody tr th:only-of-type {\n",
              "        vertical-align: middle;\n",
              "    }\n",
              "\n",
              "    .dataframe tbody tr th {\n",
              "        vertical-align: top;\n",
              "    }\n",
              "\n",
              "    .dataframe thead th {\n",
              "        text-align: right;\n",
              "    }\n",
              "</style>\n",
              "<table border=\"1\" class=\"dataframe\">\n",
              "  <thead>\n",
              "    <tr style=\"text-align: right;\">\n",
              "      <th></th>\n",
              "      <th>sum_sq</th>\n",
              "      <th>df</th>\n",
              "      <th>F</th>\n",
              "      <th>PR(&gt;F)</th>\n",
              "    </tr>\n",
              "  </thead>\n",
              "  <tbody>\n",
              "    <tr>\n",
              "      <th>C(Primer_type)</th>\n",
              "      <td>4.581111</td>\n",
              "      <td>2.0</td>\n",
              "      <td>27.858108</td>\n",
              "      <td>0.000031</td>\n",
              "    </tr>\n",
              "    <tr>\n",
              "      <th>C(App_Method)</th>\n",
              "      <td>4.908889</td>\n",
              "      <td>1.0</td>\n",
              "      <td>59.702703</td>\n",
              "      <td>0.000005</td>\n",
              "    </tr>\n",
              "    <tr>\n",
              "      <th>C(Primer_type):C(App_Method)</th>\n",
              "      <td>0.241111</td>\n",
              "      <td>2.0</td>\n",
              "      <td>1.466216</td>\n",
              "      <td>0.269342</td>\n",
              "    </tr>\n",
              "    <tr>\n",
              "      <th>Residual</th>\n",
              "      <td>0.986667</td>\n",
              "      <td>12.0</td>\n",
              "      <td>NaN</td>\n",
              "      <td>NaN</td>\n",
              "    </tr>\n",
              "  </tbody>\n",
              "</table>\n",
              "</div>\n",
              "      <button class=\"colab-df-convert\" onclick=\"convertToInteractive('df-9fecb3e3-ee5e-4b42-b5da-2e8cc8c96eed')\"\n",
              "              title=\"Convert this dataframe to an interactive table.\"\n",
              "              style=\"display:none;\">\n",
              "        \n",
              "  <svg xmlns=\"http://www.w3.org/2000/svg\" height=\"24px\"viewBox=\"0 0 24 24\"\n",
              "       width=\"24px\">\n",
              "    <path d=\"M0 0h24v24H0V0z\" fill=\"none\"/>\n",
              "    <path d=\"M18.56 5.44l.94 2.06.94-2.06 2.06-.94-2.06-.94-.94-2.06-.94 2.06-2.06.94zm-11 1L8.5 8.5l.94-2.06 2.06-.94-2.06-.94L8.5 2.5l-.94 2.06-2.06.94zm10 10l.94 2.06.94-2.06 2.06-.94-2.06-.94-.94-2.06-.94 2.06-2.06.94z\"/><path d=\"M17.41 7.96l-1.37-1.37c-.4-.4-.92-.59-1.43-.59-.52 0-1.04.2-1.43.59L10.3 9.45l-7.72 7.72c-.78.78-.78 2.05 0 2.83L4 21.41c.39.39.9.59 1.41.59.51 0 1.02-.2 1.41-.59l7.78-7.78 2.81-2.81c.8-.78.8-2.07 0-2.86zM5.41 20L4 18.59l7.72-7.72 1.47 1.35L5.41 20z\"/>\n",
              "  </svg>\n",
              "      </button>\n",
              "      \n",
              "  <style>\n",
              "    .colab-df-container {\n",
              "      display:flex;\n",
              "      flex-wrap:wrap;\n",
              "      gap: 12px;\n",
              "    }\n",
              "\n",
              "    .colab-df-convert {\n",
              "      background-color: #E8F0FE;\n",
              "      border: none;\n",
              "      border-radius: 50%;\n",
              "      cursor: pointer;\n",
              "      display: none;\n",
              "      fill: #1967D2;\n",
              "      height: 32px;\n",
              "      padding: 0 0 0 0;\n",
              "      width: 32px;\n",
              "    }\n",
              "\n",
              "    .colab-df-convert:hover {\n",
              "      background-color: #E2EBFA;\n",
              "      box-shadow: 0px 1px 2px rgba(60, 64, 67, 0.3), 0px 1px 3px 1px rgba(60, 64, 67, 0.15);\n",
              "      fill: #174EA6;\n",
              "    }\n",
              "\n",
              "    [theme=dark] .colab-df-convert {\n",
              "      background-color: #3B4455;\n",
              "      fill: #D2E3FC;\n",
              "    }\n",
              "\n",
              "    [theme=dark] .colab-df-convert:hover {\n",
              "      background-color: #434B5C;\n",
              "      box-shadow: 0px 1px 3px 1px rgba(0, 0, 0, 0.15);\n",
              "      filter: drop-shadow(0px 1px 2px rgba(0, 0, 0, 0.3));\n",
              "      fill: #FFFFFF;\n",
              "    }\n",
              "  </style>\n",
              "\n",
              "      <script>\n",
              "        const buttonEl =\n",
              "          document.querySelector('#df-9fecb3e3-ee5e-4b42-b5da-2e8cc8c96eed button.colab-df-convert');\n",
              "        buttonEl.style.display =\n",
              "          google.colab.kernel.accessAllowed ? 'block' : 'none';\n",
              "\n",
              "        async function convertToInteractive(key) {\n",
              "          const element = document.querySelector('#df-9fecb3e3-ee5e-4b42-b5da-2e8cc8c96eed');\n",
              "          const dataTable =\n",
              "            await google.colab.kernel.invokeFunction('convertToInteractive',\n",
              "                                                     [key], {});\n",
              "          if (!dataTable) return;\n",
              "\n",
              "          const docLinkHtml = 'Like what you see? Visit the ' +\n",
              "            '<a target=\"_blank\" href=https://colab.research.google.com/notebooks/data_table.ipynb>data table notebook</a>'\n",
              "            + ' to learn more about interactive tables.';\n",
              "          element.innerHTML = '';\n",
              "          dataTable['output_type'] = 'display_data';\n",
              "          await google.colab.output.renderOutput(dataTable, element);\n",
              "          const docLink = document.createElement('div');\n",
              "          docLink.innerHTML = docLinkHtml;\n",
              "          element.appendChild(docLink);\n",
              "        }\n",
              "      </script>\n",
              "    </div>\n",
              "  </div>\n",
              "  "
            ]
          },
          "metadata": {},
          "execution_count": 6
        }
      ]
    },
    {
      "cell_type": "code",
      "metadata": {
        "colab": {
          "base_uri": "https://localhost:8080/",
          "height": 627
        },
        "id": "TvzP67M7U4sV",
        "outputId": "83bd0052-3432-4b9d-9b40-21df34a2042d"
      },
      "source": [
        "# Residual Analysis\n",
        "# normal check\n",
        "fig = plt.figure(figsize= (10, 10))\n",
        "ax = fig.add_subplot(111)\n",
        "\n",
        "normality_plot, stat = stats.probplot(model.resid, plot= plt, rvalue= True)\n",
        "ax.set_title(\"Probability plot of model residual's\", fontsize= 20)\n",
        "ax.set\n",
        "\n",
        "plt.show()"
      ],
      "execution_count": 7,
      "outputs": [
        {
          "output_type": "display_data",
          "data": {
            "text/plain": [
              "<Figure size 720x720 with 1 Axes>"
            ],
            "image/png": "[encoded data removed]"
          },
          "metadata": {
            "needs_background": "light"
          }
        }
      ]
    },
    {
      "cell_type": "code",
      "metadata": {
        "colab": {
          "base_uri": "https://localhost:8080/"
        },
        "id": "NmlcL6VBVjcD",
        "outputId": "9b682e47-056a-43c4-f027-b741677e1d91"
      },
      "source": [
        "# Homogeneity of Variance check\n",
        "# Levene() method for normality\n",
        "# if the p value is small, reject H0 that the residuals have equal variance\n",
        "# if the p value is large, cannot reject H0\n",
        "\n",
        "stats.levene(df['Adhesion'][df['Primer_type'] == 1],\n",
        "             df['Adhesion'][df['Primer_type'] == 2],\n",
        "             df['Adhesion'][df['Primer_type'] == 3])\n",
        "            "
      ],
      "execution_count": 8,
      "outputs": [
        {
          "output_type": "execute_result",
          "data": {
            "text/plain": [
              "LeveneResult(statistic=1.7556634304207157, pvalue=0.20649180599000222)"
            ]
          },
          "metadata": {},
          "execution_count": 8
        }
      ]
    },
    {
      "cell_type": "markdown",
      "metadata": {
        "id": "p2n_II8VWS6g"
      },
      "source": [
        "The p value of the Levene is very large. We don't have evidence to conclude that the variances from different primer type are different"
      ]
    },
    {
      "cell_type": "code",
      "metadata": {
        "colab": {
          "base_uri": "https://localhost:8080/",
          "height": 627
        },
        "id": "u0t70uvdWgUd",
        "outputId": "7a73d6eb-be97-403c-9f37-98f680a08ae8"
      },
      "source": [
        "# Box plots by factor Primer_type'\n",
        "# If the IRQ=75% quartitle - 25% quartile are very different, then question the constant variance assumption\n",
        "# If the F test p value is very small, we reject H0 and can use this box plot to identify the best factor level\n",
        "\n",
        "fig = plt.figure(figsize= (10, 10))\n",
        "ax = fig.add_subplot(111)\n",
        "\n",
        "ax.set_title(\"Box Plot of Adhesion Strength by Primer Type\", fontsize= 20)\n",
        "ax.set\n",
        "\n",
        "data2 = [df['Adhesion'][df['Primer_type'] == 1],\n",
        "         df['Adhesion'][df['Primer_type'] == 2],\n",
        "         df['Adhesion'][df['Primer_type'] == 3]]\n",
        "\n",
        "\n",
        "ax.boxplot(data2,\n",
        "           labels= ['type 1', 'type 2', 'type 3'],\n",
        "           showmeans= True)\n",
        "\n",
        "plt.xlabel(\"Primer Type\")\n",
        "plt.ylabel(\"Adhesion Strength\")\n",
        "\n",
        "plt.show()"
      ],
      "execution_count": 9,
      "outputs": [
        {
          "output_type": "display_data",
          "data": {
            "text/plain": [
              "<Figure size 720x720 with 1 Axes>"
            ],
            "image/png": "[encoded data removed]"
          },
          "metadata": {
            "needs_background": "light"
          }
        }
      ]
    },
    {
      "cell_type": "markdown",
      "metadata": {
        "id": "wDJcyRoeJIx6"
      },
      "source": [
        "There is not much difference in variation. The largest adhesion strength is due to type 2 primer type."
      ]
    },
    {
      "cell_type": "code",
      "metadata": {
        "id": "h6ArZLGF1jco",
        "colab": {
          "base_uri": "https://localhost:8080/",
          "height": 627
        },
        "outputId": "de5cf6b2-23c9-4157-958b-d123562cddcb"
      },
      "source": [
        "# Box plots by factor Application Methods\n",
        "# same instruction as the previous factor Primer types\n",
        "\n",
        "fig = plt.figure(figsize= (10, 10))\n",
        "ax = fig.add_subplot(111)\n",
        "\n",
        "ax.set_title(\"Box Plot of Adhesion Strength by Application Method\", fontsize= 20)\n",
        "ax.set\n",
        "\n",
        "data2 = [df['Adhesion'][df['App_Method'] == 1],\n",
        "         df['Adhesion'][df['App_Method'] == 2]]\n",
        "\n",
        "\n",
        "ax.boxplot(data2,\n",
        "           labels= ['Dipping', 'Spraying'],\n",
        "           showmeans= True)\n",
        "\n",
        "plt.xlabel(\"Application Method (1-dipping 2-spraying)\")\n",
        "plt.ylabel(\"Adhesion Strength\")\n",
        "\n",
        "plt.show()"
      ],
      "execution_count": 10,
      "outputs": [
        {
          "output_type": "display_data",
          "data": {
            "text/plain": [
              "<Figure size 720x720 with 1 Axes>"
            ],
            "image/png": "[encoded data removed]"
          },
          "metadata": {
            "needs_background": "light"
          }
        }
      ]
    },
    {
      "cell_type": "markdown",
      "metadata": {
        "id": "_YU26vtVJiQc"
      },
      "source": [
        "There is not much difference in variation by application method. The largest adhesion strength is due to spraying method."
      ]
    },
    {
      "cell_type": "code",
      "metadata": {
        "id": "21qZ9flLKQYQ",
        "outputId": "0d8d0c79-aca0-4fa4-9232-2b8ffba477a8",
        "colab": {
          "base_uri": "https://localhost:8080/"
        }
      },
      "source": [
        "eij=model.resid\n",
        "eij"
      ],
      "execution_count": 12,
      "outputs": [
        {
          "output_type": "execute_result",
          "data": {
            "text/plain": [
              "0    -0.266667\n",
              "1     0.300000\n",
              "2    -0.033333\n",
              "3     0.100000\n",
              "4    -0.266667\n",
              "5     0.333333\n",
              "6     0.233333\n",
              "7    -0.400000\n",
              "8    -0.133333\n",
              "9    -0.400000\n",
              "10    0.033333\n",
              "11   -0.166667\n",
              "12    0.033333\n",
              "13    0.100000\n",
              "14    0.166667\n",
              "15    0.300000\n",
              "16    0.233333\n",
              "17   -0.166667\n",
              "dtype: float64"
            ]
          },
          "metadata": {},
          "execution_count": 12
        }
      ]
    },
    {
      "cell_type": "code",
      "metadata": {
        "colab": {
          "base_uri": "https://localhost:8080/"
        },
        "id": "3PQt1nUq6NcF",
        "outputId": "e2536550-277f-40f8-ba14-89d4d5827243"
      },
      "source": [
        "# testing the random order for collecting observations \n",
        "# Minitab calls the order variable, run order\n",
        "# the following code generate a random order\n",
        "# you should conduct your experiments using the random order generated\n",
        "# for example, the first number is 5, it means that you will run the setting 5 in the experimentation table\n",
        "# observation label 5 is primier type 3 and application method 2 (spraying)\n",
        "# the run observation 11 and so on until all observations are collected\n",
        "# import random (see the first cell)\n",
        "N = len(eij)\n",
        "c = list(range(0, N))\n",
        "order = random.sample(c, N) # this should be replaced by the exact run order if the random order is not used\n",
        "print('order of observations/residuals is')\n",
        "print(order)"
      ],
      "execution_count": 13,
      "outputs": [
        {
          "output_type": "stream",
          "name": "stdout",
          "text": [
            "order of observations/residuals is\n",
            "[15, 2, 9, 1, 4, 3, 7, 12, 8, 17, 10, 5, 0, 6, 14, 16, 11, 13]\n"
          ]
        }
      ]
    },
    {
      "cell_type": "code",
      "metadata": {
        "colab": {
          "base_uri": "https://localhost:8080/",
          "height": 282
        },
        "id": "jR0HlHpg6kUA",
        "outputId": "0ca543d2-4d23-4d0f-ea9e-eceda3426312"
      },
      "source": [
        "# assume that this random order is how we collected the data in time sequence\n",
        "# if there is no pattern in the scatter plot, then don't reject independence assumption\n",
        "\n",
        "eij=model.resid\n",
        "\n",
        "x = c # from the first collected obs to the last in order\n",
        "y = eij[order] # assign run order (see the previous code box)\n",
        "\n",
        "plt.scatter(x, y)"
      ],
      "execution_count": 16,
      "outputs": [
        {
          "output_type": "execute_result",
          "data": {
            "text/plain": [
              "<matplotlib.collections.PathCollection at 0x7efc1bf31c10>"
            ]
          },
          "metadata": {},
          "execution_count": 16
        },
        {
          "output_type": "display_data",
          "data": {
            "text/plain": [
              "<Figure size 432x288 with 1 Axes>"
            ],
            "image/png": "[encoded data removed]"
          },
          "metadata": {
            "needs_background": "light"
          }
        }
      ]
    },
    {
      "cell_type": "markdown",
      "metadata": {
        "id": "dexpHCLKZgmZ"
      },
      "source": [
        "The random order from the scatter plot above shows no pattern. If the data in the first half of the experiments are lower than 0 while those of the second half are above 0. Then there is a bias in data collection. If the residuals are small in the beginning but graduately increase. Or vice versa. It is a concern as well. In these cases, independence assumption is violated."
      ]
    }
  ]
}