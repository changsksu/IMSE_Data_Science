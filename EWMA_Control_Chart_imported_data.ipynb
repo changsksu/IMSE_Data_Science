{
  "nbformat": 4,
  "nbformat_minor": 0,
  "metadata": {
    "colab": {
      "name": "EWMA Control Chart imported data.ipynb",
      "provenance": [],
      "collapsed_sections": [],
      "authorship_tag": "ABX9TyPKHKJTgnxklTYFxfm8qsgm",
      "include_colab_link": true
    },
    "kernelspec": {
      "name": "python3",
      "display_name": "Python 3"
    },
    "language_info": {
      "name": "python"
    }
  },
  "cells": [
    {
      "cell_type": "markdown",
      "metadata": {
        "id": "view-in-github",
        "colab_type": "text"
      },
      "source": [
        "<a href=\"https://colab.research.google.com/github/changsksu/IMSE_Data_Science/blob/main/EWMA_Control_Chart_imported_data.ipynb\" target=\"_parent\"><img src=\"https://colab.research.google.com/assets/colab-badge.svg\" alt=\"Open In Colab\"/></a>"
      ]
    },
    {
      "cell_type": "markdown",
      "metadata": {
        "id": "e-5Qgbn8Drpq"
      },
      "source": [
        "This code demonstrates how you can plot EWMA Control Chart.\n",
        "Note that this code should work for the Phase I & II of control charting.\n",
        "The example data set has n=5; however, it is converted into n=1.\n",
        "Example 6-1 from Montgomery Intro to SQC 7ed\n",
        "Ref. https://www.kaggle.com/nalkrolu/statistical-process-control-quality-control#EWMA-Control-Chart"
      ]
    },
    {
      "cell_type": "code",
      "metadata": {
        "id": "-3_WWwTZwrro"
      },
      "source": [
        "# Import required libraries\n",
        "import numpy as np\n",
        "import statistics\n",
        "import matplotlib.pyplot as plt\n",
        "from matplotlib.ticker import PercentFormatter\n",
        "import seaborn as sns\n",
        "import pandas as pd\n",
        "plt.style.use('seaborn-colorblind')"
      ],
      "execution_count": 64,
      "outputs": []
    },
    {
      "cell_type": "code",
      "metadata": {
        "id": "meiHHldIhdes",
        "colab": {
          "base_uri": "https://localhost:8080/"
        },
        "outputId": "706d8580-c8b1-41b0-d685-884f6cd2e58b"
      },
      "source": [
        "# mount google drive\n",
        "from google.colab import drive\n",
        "drive.mount('/content/drive')"
      ],
      "execution_count": 65,
      "outputs": [
        {
          "output_type": "stream",
          "name": "stdout",
          "text": [
            "Drive already mounted at /content/drive; to attempt to forcibly remount, call drive.mount(\"/content/drive\", force_remount=True).\n"
          ]
        }
      ]
    },
    {
      "cell_type": "code",
      "metadata": {
        "colab": {
          "base_uri": "https://localhost:8080/"
        },
        "id": "LEs7F25yhoUD",
        "outputId": "7c4cb4dc-e37b-42bf-f199-a2c1430c7535"
      },
      "source": [
        "# retrive data for Example 6.1\n",
        "data = pd.read_csv('drive/My Drive/Colab Notebooks/IMSE_Data_Science/Data/ch06example1.csv', sep=',', na_values=\".\")\n",
        "#generate the Phase I data using filter\n",
        "#use the first 30 observations to setup the control charts\n",
        "dataI= [data[['x1', 'x2', 'x3', 'x4','x5']][data['Exm6-1Samp'] < 31]]\n",
        "#dataI= [data[['x1', 'x2', 'x3', 'x4','x5']][data[0:31]]\n",
        "\n",
        "#retrieve the Phase II data\n",
        "dataII= [data[['x1', 'x2', 'x3', 'x4','x5']][data['Exm6-1Samp'] >= 31]]\n",
        "\n",
        "#all data points; the data type is a list\n",
        "dataAll=[data[['x1', 'x2', 'x3', 'x4','x5']]]\n",
        "\n",
        "dataI"
      ],
      "execution_count": 66,
      "outputs": [
        {
          "output_type": "execute_result",
          "data": {
            "text/plain": [
              "[        x1      x2      x3      x4      x5\n",
              " 0   1.3235  1.4128  1.6744  1.4573  1.6914\n",
              " 1   1.4314  1.3592  1.6075  1.4666  1.6109\n",
              " 2   1.4284  1.4871  1.4932  1.4324  1.5674\n",
              " 3   1.5028  1.6352  1.3841  1.2831  1.5507\n",
              " 4   1.5604  1.2735  1.5265  1.4363  1.6441\n",
              " 5   1.5955  1.5451  1.3574  1.3281  1.4198\n",
              " 6   1.6274  1.5064  1.8366  1.4177  1.5144\n",
              " 7   1.4190  1.4303  1.6637  1.6067  1.5519\n",
              " 8   1.3884  1.7277  1.5355  1.5176  1.3688\n",
              " 9   1.4039  1.6697  1.5089  1.4627  1.5220\n",
              " 10  1.4158  1.7667  1.4278  1.5928  1.4181\n",
              " 11  1.5821  1.3355  1.5777  1.3908  1.7559\n",
              " 12  1.2856  1.4106  1.4447  1.6398  1.1928\n",
              " 13  1.4951  1.4036  1.5893  1.6458  1.4969\n",
              " 14  1.3589  1.2863  1.5996  1.2497  1.5471\n",
              " 15  1.5747  1.5301  1.5171  1.1839  1.8662\n",
              " 16  1.3680  1.7269  1.3957  1.5014  1.4449\n",
              " 17  1.4163  1.3864  1.3057  1.6210  1.5573\n",
              " 18  1.5796  1.4185  1.6541  1.5116  1.7247\n",
              " 19  1.7106  1.4412  1.2361  1.3820  1.7601\n",
              " 20  1.4371  1.5051  1.3485  1.5670  1.4880\n",
              " 21  1.4738  1.5936  1.6583  1.4973  1.4720\n",
              " 22  1.5917  1.4333  1.5551  1.5295  1.6866\n",
              " 23  1.6399  1.5243  1.5705  1.5563  1.5530\n",
              " 24  1.5797  1.3663  1.6240  1.3732  1.6887\n",
              " 25  1.4483  1.5458  1.4538  1.4303  1.6206\n",
              " 26  1.5435  1.6899  1.5830  1.3358  1.4187\n",
              " 27  1.5175  1.3446  1.4723  1.6657  1.6661\n",
              " 28  1.5454  1.0931  1.4072  1.5039  1.5264\n",
              " 29  1.4418  1.5059  1.5124  1.4620  1.6263]"
            ]
          },
          "metadata": {},
          "execution_count": 66
        }
      ]
    },
    {
      "cell_type": "code",
      "metadata": {
        "colab": {
          "base_uri": "https://localhost:8080/"
        },
        "id": "9kwCuRwjlp4k",
        "outputId": "1c62af35-dca6-4be6-efb3-281d7dd8742b"
      },
      "source": [
        "# this np.reshape convert the list dataI into the proper subgroup and m=30\n",
        "# sample size n=5 is used for X-bar and R or X-bar and S chart\n",
        "x=np.reshape(dataI, (30,5))\n",
        "x"
      ],
      "execution_count": 67,
      "outputs": [
        {
          "output_type": "execute_result",
          "data": {
            "text/plain": [
              "array([[1.3235, 1.4128, 1.6744, 1.4573, 1.6914],\n",
              "       [1.4314, 1.3592, 1.6075, 1.4666, 1.6109],\n",
              "       [1.4284, 1.4871, 1.4932, 1.4324, 1.5674],\n",
              "       [1.5028, 1.6352, 1.3841, 1.2831, 1.5507],\n",
              "       [1.5604, 1.2735, 1.5265, 1.4363, 1.6441],\n",
              "       [1.5955, 1.5451, 1.3574, 1.3281, 1.4198],\n",
              "       [1.6274, 1.5064, 1.8366, 1.4177, 1.5144],\n",
              "       [1.419 , 1.4303, 1.6637, 1.6067, 1.5519],\n",
              "       [1.3884, 1.7277, 1.5355, 1.5176, 1.3688],\n",
              "       [1.4039, 1.6697, 1.5089, 1.4627, 1.522 ],\n",
              "       [1.4158, 1.7667, 1.4278, 1.5928, 1.4181],\n",
              "       [1.5821, 1.3355, 1.5777, 1.3908, 1.7559],\n",
              "       [1.2856, 1.4106, 1.4447, 1.6398, 1.1928],\n",
              "       [1.4951, 1.4036, 1.5893, 1.6458, 1.4969],\n",
              "       [1.3589, 1.2863, 1.5996, 1.2497, 1.5471],\n",
              "       [1.5747, 1.5301, 1.5171, 1.1839, 1.8662],\n",
              "       [1.368 , 1.7269, 1.3957, 1.5014, 1.4449],\n",
              "       [1.4163, 1.3864, 1.3057, 1.621 , 1.5573],\n",
              "       [1.5796, 1.4185, 1.6541, 1.5116, 1.7247],\n",
              "       [1.7106, 1.4412, 1.2361, 1.382 , 1.7601],\n",
              "       [1.4371, 1.5051, 1.3485, 1.567 , 1.488 ],\n",
              "       [1.4738, 1.5936, 1.6583, 1.4973, 1.472 ],\n",
              "       [1.5917, 1.4333, 1.5551, 1.5295, 1.6866],\n",
              "       [1.6399, 1.5243, 1.5705, 1.5563, 1.553 ],\n",
              "       [1.5797, 1.3663, 1.624 , 1.3732, 1.6887],\n",
              "       [1.4483, 1.5458, 1.4538, 1.4303, 1.6206],\n",
              "       [1.5435, 1.6899, 1.583 , 1.3358, 1.4187],\n",
              "       [1.5175, 1.3446, 1.4723, 1.6657, 1.6661],\n",
              "       [1.5454, 1.0931, 1.4072, 1.5039, 1.5264],\n",
              "       [1.4418, 1.5059, 1.5124, 1.462 , 1.6263]])"
            ]
          },
          "metadata": {},
          "execution_count": 67
        }
      ]
    },
    {
      "cell_type": "code",
      "source": [
        "# np flattern() function is used to convert a 2D matrix into 1D vector\n",
        "# n=1 is use for EWMA chart\n",
        "x1=x.flatten()"
      ],
      "metadata": {
        "id": "9oN8Sk24uDP3"
      },
      "execution_count": 68,
      "outputs": []
    },
    {
      "cell_type": "code",
      "source": [
        "# process mean is computed assuming it is stationary\n",
        "x1.mean()"
      ],
      "metadata": {
        "colab": {
          "base_uri": "https://localhost:8080/"
        },
        "id": "mfL8teb7vGik",
        "outputId": "61aadc3b-9c18-4450-f046-7aa2d8df79c2"
      },
      "execution_count": 69,
      "outputs": [
        {
          "output_type": "execute_result",
          "data": {
            "text/plain": [
              "1.503744"
            ]
          },
          "metadata": {},
          "execution_count": 69
        }
      ]
    },
    {
      "cell_type": "code",
      "source": [
        "# this class define how EWMA chart is plotted\n",
        "class EWMA:\n",
        "    def fit(self,data,lamda,mean):\n",
        "        \n",
        "        self.X     = data\n",
        "        self.z     = np.zeros(len(data))\n",
        "        self.lamda = lamda\n",
        "        self.mean  = mean\n",
        "        self.z[0]  = self.mean\n",
        "        for i in range(1,len(self.z)):\n",
        "            self.z[i] = self.lamda*self.X[i] + (1-self.lamda)*self.z[i-1] \n",
        " \n",
        "    def  ControlChart(self,L,sigma):\n",
        "        # L     : usually 3\n",
        "        ucl = np.zeros(len(self.X))\n",
        "        lcl = np.zeros(len(self.X))\n",
        "        I   = np.arange(1,len(self.X)+1)\n",
        "        \n",
        "        for i in range(len(self.X)):\n",
        "            ucl[i] = self.mean + L*sigma*np.sqrt((self.lamda / (2 - self.lamda))*(1-(1-self.lamda)**(2*I[i])))\n",
        "            lcl[i] = self.mean - L*sigma*np.sqrt((self.lamda / (2 - self.lamda))*(1-(1-self.lamda)**(2*I[i])))\n",
        "              \n",
        "        plt.figure(figsize=(15,5))\n",
        "        plt.plot(self.z,marker=\"o\",color=\"k\",label=\"$Z_i$\")\n",
        "        plt.plot([self.mean]*len(self.X),color=\"k\",alpha=0.35)\n",
        "        plt.plot(ucl,color=\"r\",label=\"UCL {}\".format(ucl[len(ucl)-1].round(2)))\n",
        "        plt.plot(lcl,color=\"r\",label=\"LCL {}\".format(lcl[len(lcl)-1].round(2)))\n",
        "        plt.title(\"EWMA Conrol Chart\")\n",
        "        plt.legend(loc=\"upper left\")\n",
        "        plt.show()\n",
        "  "
      ],
      "metadata": {
        "id": "6Iw15AdzpcPa"
      },
      "execution_count": 70,
      "outputs": []
    },
    {
      "cell_type": "code",
      "metadata": {
        "id": "_TRxltWPxULs"
      },
      "source": [
        "# Define list variable for groups means\n",
        "x_bar = []\n",
        "\n",
        "# Define list variable for groups standard deviation\n",
        "s = []"
      ],
      "execution_count": 71,
      "outputs": []
    },
    {
      "cell_type": "code",
      "metadata": {
        "colab": {
          "base_uri": "https://localhost:8080/"
        },
        "id": "KqqN21m6xah3",
        "outputId": "af110a1c-da84-4919-c649-709a0b7d14ca"
      },
      "source": [
        "# Get and append groups means and ranges\n",
        "# if you run this cell multiple times, then the data series will be repeated\n",
        "# since append is used here, if this block of codes is executed twice, m is doubled\n",
        "for group in x:\n",
        "    x_bar.append(group.mean())\n",
        "    s.append(np.std(group))\n",
        "\n",
        "m=len(x_bar)\n",
        "print('points in plotting dataset, ', m)"
      ],
      "execution_count": 72,
      "outputs": [
        {
          "output_type": "stream",
          "name": "stdout",
          "text": [
            "points in plotting dataset,  30\n"
          ]
        }
      ]
    },
    {
      "cell_type": "code",
      "source": [
        "# use the phase I data to compute mean and sigma\n",
        "# S-bar is used here but you can also use R-bar or MR for sigma estimate\n",
        "#c4 is 0.9727 for n=5\n",
        "c4=0.9727\n",
        "x_bar_bar=statistics.mean(x_bar)\n",
        "s_bar=statistics.mean(s)\n",
        "sigma_hat=s_bar/c4\n",
        "print('process mean is, ', x_bar_bar)\n",
        "print('process standard deviation is, ', sigma_hat)"
      ],
      "metadata": {
        "colab": {
          "base_uri": "https://localhost:8080/"
        },
        "id": "ec9pOOenw-rR",
        "outputId": "d03b0937-342a-47a5-a752-85dc101d296d"
      },
      "execution_count": 73,
      "outputs": [
        {
          "output_type": "stream",
          "name": "stdout",
          "text": [
            "process mean is,  1.503744\n",
            "process standard deviation is,  0.11969572880820827\n"
          ]
        }
      ]
    },
    {
      "cell_type": "code",
      "source": [
        "np.std(x3)"
      ],
      "metadata": {
        "colab": {
          "base_uri": "https://localhost:8080/"
        },
        "id": "AV1DNDJK0XbP",
        "outputId": "13e63043-7e87-436f-834a-54c0a1e3aa07"
      },
      "execution_count": 74,
      "outputs": [
        {
          "output_type": "execute_result",
          "data": {
            "text/plain": [
              "0.1432213978729832"
            ]
          },
          "metadata": {},
          "execution_count": 74
        }
      ]
    },
    {
      "cell_type": "code",
      "source": [
        "# This chart is for either Phase I or Phase II assuming all mean and sigma are estimated\n",
        "# In this block, only Phase I data is plotted\n",
        "# EWMA chart parameters are lamda and L\n",
        "chart = EWMA()\n",
        "chart.fit(data=x1,lamda=0.1,mean=1.5)\n",
        "chart.ControlChart(L=2.7,sigma=0.12)"
      ],
      "metadata": {
        "colab": {
          "base_uri": "https://localhost:8080/",
          "height": 335
        },
        "id": "Kv0jg3lkrAyw",
        "outputId": "fce25acb-8fdb-40f5-d0e2-e22094d5fd13"
      },
      "execution_count": 75,
      "outputs": [
        {
          "output_type": "display_data",
          "data": {
            "text/plain": [
              "<Figure size 1080x360 with 1 Axes>"
            ],
            "image/png": "[encoded data removed]"
          },
          "metadata": {
            "needs_background": "light"
          }
        }
      ]
    },
    {
      "cell_type": "markdown",
      "source": [
        "# **Now we will use the mean and sigma estimated from the Phase I process above and plot all data**"
      ],
      "metadata": {
        "id": "uQd15eVG7LD5"
      }
    },
    {
      "cell_type": "code",
      "source": [
        "# this np.reshape convert the list dataI into the proper subgroup and m=30\n",
        "# sample size n=5 is used for X-bar and R or X-bar and S chart\n",
        "x2=np.reshape(dataAll, (45,5))\n",
        "#x2"
      ],
      "metadata": {
        "id": "zE_8uTwd1oLS"
      },
      "execution_count": 76,
      "outputs": []
    },
    {
      "cell_type": "code",
      "source": [
        "# np flattern() function is used to convert a 2D matrix into 1D vector\n",
        "# n=1 is use for EWMA chart\n",
        "x2=x2.flatten()"
      ],
      "metadata": {
        "id": "DuuqOkfL166S"
      },
      "execution_count": 77,
      "outputs": []
    },
    {
      "cell_type": "code",
      "metadata": {
        "colab": {
          "base_uri": "https://localhost:8080/"
        },
        "id": "FKKVifKKp8kf",
        "outputId": "8daf4dca-4d0d-4bc3-ebf3-5e4d7ee36da0"
      },
      "source": [
        "# this np.reshape convert the list dataI into the proper subgroup and m=45\n",
        "x3=np.reshape(dataAll, (45,5))\n",
        "# Define list variable for groups means\n",
        "x_bar2 = []\n",
        "\n",
        "# Define list variable for groups ranges\n",
        "s2 = [] \n",
        "\n",
        "# Get and append groups means and ranges\n",
        "# if you run this cell multiple times, then the data series will be repeated\n",
        "for group in x2:\n",
        "    x_bar2.append(group.mean())\n",
        "    s2.append(np.std(group))\n",
        "\n",
        "m=len(x_bar2)\n",
        "print('points in x, ', m)"
      ],
      "execution_count": 78,
      "outputs": [
        {
          "output_type": "stream",
          "name": "stdout",
          "text": [
            "points in x,  225\n"
          ]
        }
      ]
    },
    {
      "cell_type": "code",
      "source": [
        "# This chart is for both Phase I or Phase II assuming all mean and sigma are estimated in Phase I\n",
        "# EWMA chart parameters are lamda and L\n",
        "chart = EWMA()\n",
        "chart.fit(data=x2,lamda=0.1,mean=1.5)\n",
        "chart.ControlChart(L=2.7,sigma=0.12)"
      ],
      "metadata": {
        "colab": {
          "base_uri": "https://localhost:8080/",
          "height": 335
        },
        "id": "Qhu-cuPI2Mlm",
        "outputId": "976f1b75-d0fc-4ebc-800c-bcee0af25d82"
      },
      "execution_count": 79,
      "outputs": [
        {
          "output_type": "display_data",
          "data": {
            "text/plain": [
              "<Figure size 1080x360 with 1 Axes>"
            ],
            "image/png": "[encoded data removed]"
          },
          "metadata": {
            "needs_background": "light"
          }
        }
      ]
    },
    {
      "cell_type": "markdown",
      "metadata": {
        "id": "YkyyjyeOEEwU"
      },
      "source": [
        "Your turn: how do you just plot the Phase II data only instead of plotting all data? You should use the mean and sigma from Phase I in all cases."
      ]
    }
  ]
}
