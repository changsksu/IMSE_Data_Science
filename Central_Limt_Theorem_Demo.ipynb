{
  "nbformat": 4,
  "nbformat_minor": 0,
  "metadata": {
    "colab": {
      "provenance": [],
      "authorship_tag": "ABX9TyOjQ09JQe0S88b4C1FGANhT",
      "include_colab_link": true
    },
    "kernelspec": {
      "name": "python3",
      "display_name": "Python 3"
    },
    "language_info": {
      "name": "python"
    }
  },
  "cells": [
    {
      "cell_type": "markdown",
      "metadata": {
        "id": "view-in-github",
        "colab_type": "text"
      },
      "source": [
        "<a href=\"https://colab.research.google.com/github/changsksu/IMSE_Data_Science/blob/main/Central_Limt_Theorem_Demo.ipynb\" target=\"_parent\"><img src=\"https://colab.research.google.com/assets/colab-badge.svg\" alt=\"Open In Colab\"/></a>"
      ]
    },
    {
      "cell_type": "markdown",
      "metadata": {
        "id": "d_QR914jQfhc"
      },
      "source": [
        "# **This notebook demonstrates *Central Limit Theorem* of Uniform and Exponential distributed random varialbes.**"
      ]
    },
    {
      "cell_type": "markdown",
      "metadata": {
        "id": "PejXMTvrLfqP"
      },
      "source": [
        "I. Using a **uniform distribution** to demonstrate Central Limit Theorem (**CLT**)"
      ]
    },
    {
      "cell_type": "code",
      "metadata": {
        "id": "yTn_p0aJQ6vI"
      },
      "source": [
        "import math\n",
        "import statistics\n",
        "import numpy as np\n",
        "import scipy.stats\n",
        "import pandas as pd\n",
        "import matplotlib.pyplot as plt\n",
        "from scipy.stats import norm"
      ],
      "execution_count": 1,
      "outputs": []
    },
    {
      "cell_type": "code",
      "metadata": {
        "id": "luI70BWrGjiw"
      },
      "source": [
        "# generate uniform random number\n",
        "# n is the sample size\n",
        "n=4\n",
        "size=500\n",
        "# each element is replaced by the mean of n uniformly distributed sample\n",
        "x2 = pd.Series(np.random.random(size))\n",
        "for i in range(size):\n",
        "  sample2=np.random.random_sample(n)\n",
        "  x2[i]=np.mean(sample2)\n"
      ],
      "execution_count": 15,
      "outputs": []
    },
    {
      "cell_type": "code",
      "metadata": {
        "colab": {
          "base_uri": "https://localhost:8080/",
          "height": 472
        },
        "id": "ldGPYVwSGQ3X",
        "outputId": "2714bffe-931e-4829-b50f-923fdabef643"
      },
      "source": [
        "#Cental limit theorem demo\n",
        "\n",
        "x2.plot.hist(grid=True, bins=20, rwidth=0.9,\n",
        "                   color='#607c8e')\n",
        "plt.title('uniform random CLT')\n",
        "plt.xlabel('Transformed Data')\n",
        "plt.ylabel('Frequency')\n",
        "plt.grid(axis='y', alpha=0.75)"
      ],
      "execution_count": 16,
      "outputs": [
        {
          "output_type": "display_data",
          "data": {
            "text/plain": [
              "<Figure size 640x480 with 1 Axes>"
            ],
            "image/png": "[encoded data removed]"
          },
          "metadata": {}
        }
      ]
    },
    {
      "cell_type": "markdown",
      "metadata": {
        "id": "jZpaUIYXNf0-"
      },
      "source": [
        "Your turn: 1. change the sample size n to a smaller number and observe the histogram. 2. can you replace the uniform distribution with an exponential distribution? Hint. np.random.exponential(scale=1.0, size=N)"
      ]
    },
    {
      "cell_type": "markdown",
      "source": [
        "II. Using an **exponential distributed** random variable to demonstrate CLT"
      ],
      "metadata": {
        "id": "13d1UlhJ22Ci"
      }
    },
    {
      "cell_type": "code",
      "source": [
        "# original data set\n",
        "# n is the sample size; in this case n=1 for the original data\n",
        "n=25\n",
        "size=500\n",
        "# each element is replaced by the mean of n exponential distributed sample\n",
        "x1 = pd.Series(np.random.random(size))\n",
        "for i in range(size):\n",
        "  sample1=np.random.exponential(scale=1.0, size=n)\n",
        "  x1[i]=np.mean(sample1)\n",
        "\n",
        "x1.plot.hist(grid=True, bins=20, rwidth=0.9,\n",
        "                   color='#607c8e')\n",
        "plt.title('Exponential random data')\n",
        "plt.xlabel('Transformed Data')\n",
        "plt.ylabel('Frequency')\n",
        "plt.grid(axis='y', alpha=0.75)"
      ],
      "metadata": {
        "colab": {
          "base_uri": "https://localhost:8080/",
          "height": 295
        },
        "id": "BFcKidhEN1h5",
        "outputId": "cd91c421-d5df-4672-83c4-9cc6f0452a22"
      },
      "execution_count": null,
      "outputs": [
        {
          "output_type": "display_data",
          "data": {
            "text/plain": [
              "<Figure size 432x288 with 1 Axes>"
            ],
            "image/png": "[encoded data removed]"
          },
          "metadata": {
            "needs_background": "light"
          }
        }
      ]
    },
    {
      "cell_type": "markdown",
      "source": [
        "III. scipy **norm** for CDF computation"
      ],
      "metadata": {
        "id": "_KmLDThX4SoB"
      }
    },
    {
      "cell_type": "code",
      "source": [
        "from scipy.stats import norm\n",
        "p=norm.cdf(3.09)\n",
        "p"
      ],
      "metadata": {
        "colab": {
          "base_uri": "https://localhost:8080/"
        },
        "id": "fT9PMXfWGHYN",
        "outputId": "a484701f-19e1-4db1-d766-db1188d6ca08"
      },
      "execution_count": null,
      "outputs": [
        {
          "output_type": "execute_result",
          "data": {
            "text/plain": [
              "0.9989992175233859"
            ]
          },
          "metadata": {},
          "execution_count": 14
        }
      ]
    },
    {
      "cell_type": "code",
      "source": [
        "2*(1-p)"
      ],
      "metadata": {
        "colab": {
          "base_uri": "https://localhost:8080/"
        },
        "id": "iANu56gvGbQ2",
        "outputId": "88f12c20-1c09-4eba-cfbc-8e870d1c2694"
      },
      "execution_count": null,
      "outputs": [
        {
          "output_type": "execute_result",
          "data": {
            "text/plain": [
              "0.0020015649532281188"
            ]
          },
          "metadata": {},
          "execution_count": 15
        }
      ]
    }
  ]
}