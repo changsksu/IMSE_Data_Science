{
  "nbformat": 4,
  "nbformat_minor": 0,
  "metadata": {
    "colab": {
      "provenance": [],
      "collapsed_sections": [],
      "authorship_tag": "ABX9TyOO4u5Wx+VKIkd6EyTahSur",
      "include_colab_link": true
    },
    "kernelspec": {
      "name": "python3",
      "display_name": "Python 3"
    },
    "language_info": {
      "name": "python"
    }
  },
  "cells": [
    {
      "cell_type": "markdown",
      "metadata": {
        "id": "view-in-github",
        "colab_type": "text"
      },
      "source": [
        "<a href=\"https://colab.research.google.com/github/changsksu/IMSE_Data_Science/blob/main/One_Way_ANOVA.ipynb\" target=\"_parent\"><img src=\"https://colab.research.google.com/assets/colab-badge.svg\" alt=\"Open In Colab\"/></a>"
      ]
    },
    {
      "cell_type": "markdown",
      "metadata": {
        "id": "dDVwl7w2Xknz"
      },
      "source": [
        "#This Python notebook demonstrates the computation of One-Way ANOVA. \n",
        "The example is from Montgomery Intro to SQC (7th ed chap 4). Paper strength by hardwood concentration. Ref.\n",
        "https://www.pythonfordatascience.org/anova-python/ \n",
        "https://www.statsmodels.org/dev/examples/notebooks/generated/predict.html"
      ]
    },
    {
      "cell_type": "code",
      "metadata": {
        "id": "Rc7nYxvoWrGy"
      },
      "source": [
        "import math\n",
        "import statistics\n",
        "import numpy as np\n",
        "import scipy.stats\n",
        "from scipy import stats\n",
        "from scipy.stats import f_oneway\n",
        "import pandas as pd\n",
        "import matplotlib.pyplot as plt\n",
        "import statsmodels.api as sm\n",
        "from statsmodels.formula.api import ols\n",
        "import statsmodels.stats.multicomp as mc\n",
        "import matplotlib.pyplot as plt"
      ],
      "execution_count": 57,
      "outputs": []
    },
    {
      "cell_type": "code",
      "source": [
        "data = pd.read_csv('https://raw.githubusercontent.com/changsksu/KState_IMSE541/main/paper%20strength%20one-way%20ANOVA.csv', sep=',', na_values=\".\")\n",
        "data"
      ],
      "metadata": {
        "colab": {
          "base_uri": "https://localhost:8080/",
          "height": 802
        },
        "id": "h2GJU5K15dCM",
        "outputId": "27162719-8489-40b3-de7a-3e3780d25798"
      },
      "execution_count": 24,
      "outputs": [
        {
          "output_type": "execute_result",
          "data": {
            "text/plain": [
              "    Obs  Conc  Strength\n",
              "0     1     5         7\n",
              "1     2     5         8\n",
              "2     3     5        15\n",
              "3     4     5        11\n",
              "4     5     5         9\n",
              "5     6     5        10\n",
              "6     1    10        12\n",
              "7     2    10        17\n",
              "8     3    10        13\n",
              "9     4    10        18\n",
              "10    5    10        19\n",
              "11    6    10        15\n",
              "12    1    15        14\n",
              "13    2    15        18\n",
              "14    3    15        19\n",
              "15    4    15        17\n",
              "16    5    15        16\n",
              "17    6    15        18\n",
              "18    1    20        19\n",
              "19    2    20        25\n",
              "20    3    20        22\n",
              "21    4    20        23\n",
              "22    5    20        18\n",
              "23    6    20        20"
            ],
            "text/html": [
              "\n",
              "  <div id=\"df-229ff0d6-b678-4550-9331-ba28f0a0c331\">\n",
              "    <div class=\"colab-df-container\">\n",
              "      <div>\n",
              "<style scoped>\n",
              "    .dataframe tbody tr th:only-of-type {\n",
              "        vertical-align: middle;\n",
              "    }\n",
              "\n",
              "    .dataframe tbody tr th {\n",
              "        vertical-align: top;\n",
              "    }\n",
              "\n",
              "    .dataframe thead th {\n",
              "        text-align: right;\n",
              "    }\n",
              "</style>\n",
              "<table border=\"1\" class=\"dataframe\">\n",
              "  <thead>\n",
              "    <tr style=\"text-align: right;\">\n",
              "      <th></th>\n",
              "      <th>Obs</th>\n",
              "      <th>Conc</th>\n",
              "      <th>Strength</th>\n",
              "    </tr>\n",
              "  </thead>\n",
              "  <tbody>\n",
              "    <tr>\n",
              "      <th>0</th>\n",
              "      <td>1</td>\n",
              "      <td>5</td>\n",
              "      <td>7</td>\n",
              "    </tr>\n",
              "    <tr>\n",
              "      <th>1</th>\n",
              "      <td>2</td>\n",
              "      <td>5</td>\n",
              "      <td>8</td>\n",
              "    </tr>\n",
              "    <tr>\n",
              "      <th>2</th>\n",
              "      <td>3</td>\n",
              "      <td>5</td>\n",
              "      <td>15</td>\n",
              "    </tr>\n",
              "    <tr>\n",
              "      <th>3</th>\n",
              "      <td>4</td>\n",
              "      <td>5</td>\n",
              "      <td>11</td>\n",
              "    </tr>\n",
              "    <tr>\n",
              "      <th>4</th>\n",
              "      <td>5</td>\n",
              "      <td>5</td>\n",
              "      <td>9</td>\n",
              "    </tr>\n",
              "    <tr>\n",
              "      <th>5</th>\n",
              "      <td>6</td>\n",
              "      <td>5</td>\n",
              "      <td>10</td>\n",
              "    </tr>\n",
              "    <tr>\n",
              "      <th>6</th>\n",
              "      <td>1</td>\n",
              "      <td>10</td>\n",
              "      <td>12</td>\n",
              "    </tr>\n",
              "    <tr>\n",
              "      <th>7</th>\n",
              "      <td>2</td>\n",
              "      <td>10</td>\n",
              "      <td>17</td>\n",
              "    </tr>\n",
              "    <tr>\n",
              "      <th>8</th>\n",
              "      <td>3</td>\n",
              "      <td>10</td>\n",
              "      <td>13</td>\n",
              "    </tr>\n",
              "    <tr>\n",
              "      <th>9</th>\n",
              "      <td>4</td>\n",
              "      <td>10</td>\n",
              "      <td>18</td>\n",
              "    </tr>\n",
              "    <tr>\n",
              "      <th>10</th>\n",
              "      <td>5</td>\n",
              "      <td>10</td>\n",
              "      <td>19</td>\n",
              "    </tr>\n",
              "    <tr>\n",
              "      <th>11</th>\n",
              "      <td>6</td>\n",
              "      <td>10</td>\n",
              "      <td>15</td>\n",
              "    </tr>\n",
              "    <tr>\n",
              "      <th>12</th>\n",
              "      <td>1</td>\n",
              "      <td>15</td>\n",
              "      <td>14</td>\n",
              "    </tr>\n",
              "    <tr>\n",
              "      <th>13</th>\n",
              "      <td>2</td>\n",
              "      <td>15</td>\n",
              "      <td>18</td>\n",
              "    </tr>\n",
              "    <tr>\n",
              "      <th>14</th>\n",
              "      <td>3</td>\n",
              "      <td>15</td>\n",
              "      <td>19</td>\n",
              "    </tr>\n",
              "    <tr>\n",
              "      <th>15</th>\n",
              "      <td>4</td>\n",
              "      <td>15</td>\n",
              "      <td>17</td>\n",
              "    </tr>\n",
              "    <tr>\n",
              "      <th>16</th>\n",
              "      <td>5</td>\n",
              "      <td>15</td>\n",
              "      <td>16</td>\n",
              "    </tr>\n",
              "    <tr>\n",
              "      <th>17</th>\n",
              "      <td>6</td>\n",
              "      <td>15</td>\n",
              "      <td>18</td>\n",
              "    </tr>\n",
              "    <tr>\n",
              "      <th>18</th>\n",
              "      <td>1</td>\n",
              "      <td>20</td>\n",
              "      <td>19</td>\n",
              "    </tr>\n",
              "    <tr>\n",
              "      <th>19</th>\n",
              "      <td>2</td>\n",
              "      <td>20</td>\n",
              "      <td>25</td>\n",
              "    </tr>\n",
              "    <tr>\n",
              "      <th>20</th>\n",
              "      <td>3</td>\n",
              "      <td>20</td>\n",
              "      <td>22</td>\n",
              "    </tr>\n",
              "    <tr>\n",
              "      <th>21</th>\n",
              "      <td>4</td>\n",
              "      <td>20</td>\n",
              "      <td>23</td>\n",
              "    </tr>\n",
              "    <tr>\n",
              "      <th>22</th>\n",
              "      <td>5</td>\n",
              "      <td>20</td>\n",
              "      <td>18</td>\n",
              "    </tr>\n",
              "    <tr>\n",
              "      <th>23</th>\n",
              "      <td>6</td>\n",
              "      <td>20</td>\n",
              "      <td>20</td>\n",
              "    </tr>\n",
              "  </tbody>\n",
              "</table>\n",
              "</div>\n",
              "      <button class=\"colab-df-convert\" onclick=\"convertToInteractive('df-229ff0d6-b678-4550-9331-ba28f0a0c331')\"\n",
              "              title=\"Convert this dataframe to an interactive table.\"\n",
              "              style=\"display:none;\">\n",
              "        \n",
              "  <svg xmlns=\"http://www.w3.org/2000/svg\" height=\"24px\"viewBox=\"0 0 24 24\"\n",
              "       width=\"24px\">\n",
              "    <path d=\"M0 0h24v24H0V0z\" fill=\"none\"/>\n",
              "    <path d=\"M18.56 5.44l.94 2.06.94-2.06 2.06-.94-2.06-.94-.94-2.06-.94 2.06-2.06.94zm-11 1L8.5 8.5l.94-2.06 2.06-.94-2.06-.94L8.5 2.5l-.94 2.06-2.06.94zm10 10l.94 2.06.94-2.06 2.06-.94-2.06-.94-.94-2.06-.94 2.06-2.06.94z\"/><path d=\"M17.41 7.96l-1.37-1.37c-.4-.4-.92-.59-1.43-.59-.52 0-1.04.2-1.43.59L10.3 9.45l-7.72 7.72c-.78.78-.78 2.05 0 2.83L4 21.41c.39.39.9.59 1.41.59.51 0 1.02-.2 1.41-.59l7.78-7.78 2.81-2.81c.8-.78.8-2.07 0-2.86zM5.41 20L4 18.59l7.72-7.72 1.47 1.35L5.41 20z\"/>\n",
              "  </svg>\n",
              "      </button>\n",
              "      \n",
              "  <style>\n",
              "    .colab-df-container {\n",
              "      display:flex;\n",
              "      flex-wrap:wrap;\n",
              "      gap: 12px;\n",
              "    }\n",
              "\n",
              "    .colab-df-convert {\n",
              "      background-color: #E8F0FE;\n",
              "      border: none;\n",
              "      border-radius: 50%;\n",
              "      cursor: pointer;\n",
              "      display: none;\n",
              "      fill: #1967D2;\n",
              "      height: 32px;\n",
              "      padding: 0 0 0 0;\n",
              "      width: 32px;\n",
              "    }\n",
              "\n",
              "    .colab-df-convert:hover {\n",
              "      background-color: #E2EBFA;\n",
              "      box-shadow: 0px 1px 2px rgba(60, 64, 67, 0.3), 0px 1px 3px 1px rgba(60, 64, 67, 0.15);\n",
              "      fill: #174EA6;\n",
              "    }\n",
              "\n",
              "    [theme=dark] .colab-df-convert {\n",
              "      background-color: #3B4455;\n",
              "      fill: #D2E3FC;\n",
              "    }\n",
              "\n",
              "    [theme=dark] .colab-df-convert:hover {\n",
              "      background-color: #434B5C;\n",
              "      box-shadow: 0px 1px 3px 1px rgba(0, 0, 0, 0.15);\n",
              "      filter: drop-shadow(0px 1px 2px rgba(0, 0, 0, 0.3));\n",
              "      fill: #FFFFFF;\n",
              "    }\n",
              "  </style>\n",
              "\n",
              "      <script>\n",
              "        const buttonEl =\n",
              "          document.querySelector('#df-229ff0d6-b678-4550-9331-ba28f0a0c331 button.colab-df-convert');\n",
              "        buttonEl.style.display =\n",
              "          google.colab.kernel.accessAllowed ? 'block' : 'none';\n",
              "\n",
              "        async function convertToInteractive(key) {\n",
              "          const element = document.querySelector('#df-229ff0d6-b678-4550-9331-ba28f0a0c331');\n",
              "          const dataTable =\n",
              "            await google.colab.kernel.invokeFunction('convertToInteractive',\n",
              "                                                     [key], {});\n",
              "          if (!dataTable) return;\n",
              "\n",
              "          const docLinkHtml = 'Like what you see? Visit the ' +\n",
              "            '<a target=\"_blank\" href=https://colab.research.google.com/notebooks/data_table.ipynb>data table notebook</a>'\n",
              "            + ' to learn more about interactive tables.';\n",
              "          element.innerHTML = '';\n",
              "          dataTable['output_type'] = 'display_data';\n",
              "          await google.colab.output.renderOutput(dataTable, element);\n",
              "          const docLink = document.createElement('div');\n",
              "          docLink.innerHTML = docLinkHtml;\n",
              "          element.appendChild(docLink);\n",
              "        }\n",
              "      </script>\n",
              "    </div>\n",
              "  </div>\n",
              "  "
            ]
          },
          "metadata": {},
          "execution_count": 24
        }
      ]
    },
    {
      "cell_type": "code",
      "metadata": {
        "colab": {
          "base_uri": "https://localhost:8080/"
        },
        "id": "0TLzFk7pCvnR",
        "outputId": "4f164e34-49ae-4d38-ee3a-8e8ce3031d25"
      },
      "source": [
        "# filter out 5% hardwood concentration and validate it\n",
        "Conc5=data[data['Conc']==5]['Strength']\n",
        "Conc5"
      ],
      "execution_count": 25,
      "outputs": [
        {
          "output_type": "execute_result",
          "data": {
            "text/plain": [
              "0     7\n",
              "1     8\n",
              "2    15\n",
              "3    11\n",
              "4     9\n",
              "5    10\n",
              "Name: Strength, dtype: int64"
            ]
          },
          "metadata": {},
          "execution_count": 25
        }
      ]
    },
    {
      "cell_type": "code",
      "metadata": {
        "colab": {
          "base_uri": "https://localhost:8080/"
        },
        "id": "kR7BQvLu09Sz",
        "outputId": "9b615405-0a44-4b02-f1e0-862e100eb970"
      },
      "source": [
        "# another way for filtering\n",
        "conc5=data['Strength'][data['Conc'] == 5]\n",
        "conc5"
      ],
      "execution_count": 26,
      "outputs": [
        {
          "output_type": "execute_result",
          "data": {
            "text/plain": [
              "0     7\n",
              "1     8\n",
              "2    15\n",
              "3    11\n",
              "4     9\n",
              "5    10\n",
              "Name: Strength, dtype: int64"
            ]
          },
          "metadata": {},
          "execution_count": 26
        }
      ]
    },
    {
      "cell_type": "code",
      "metadata": {
        "id": "S4dqNBWg1EzA",
        "colab": {
          "base_uri": "https://localhost:8080/"
        },
        "outputId": "c1f69916-d9e4-45b1-a186-1947a51b3ef6"
      },
      "source": [
        "#x5_bar\n",
        "statistics.mean(conc5)"
      ],
      "execution_count": 27,
      "outputs": [
        {
          "output_type": "execute_result",
          "data": {
            "text/plain": [
              "10"
            ]
          },
          "metadata": {},
          "execution_count": 27
        }
      ]
    },
    {
      "cell_type": "code",
      "source": [
        "np.mean(conc5)"
      ],
      "metadata": {
        "colab": {
          "base_uri": "https://localhost:8080/"
        },
        "id": "O3Wev5k2OvF1",
        "outputId": "253cdb9f-4cd4-4e3c-f92f-10ef0438389c"
      },
      "execution_count": 43,
      "outputs": [
        {
          "output_type": "execute_result",
          "data": {
            "text/plain": [
              "10.0"
            ]
          },
          "metadata": {},
          "execution_count": 43
        }
      ]
    },
    {
      "cell_type": "code",
      "source": [
        "statistics.stdev(conc5)"
      ],
      "metadata": {
        "colab": {
          "base_uri": "https://localhost:8080/"
        },
        "id": "VOg-h61pPHz_",
        "outputId": "5f37cc12-11d2-427f-a664-117aa52b7c06"
      },
      "execution_count": 45,
      "outputs": [
        {
          "output_type": "execute_result",
          "data": {
            "text/plain": [
              "2.8284271247461903"
            ]
          },
          "metadata": {},
          "execution_count": 45
        }
      ]
    },
    {
      "cell_type": "code",
      "source": [
        "np.std(conc5, ddof=1)"
      ],
      "metadata": {
        "colab": {
          "base_uri": "https://localhost:8080/"
        },
        "id": "0yiErBz9O4pO",
        "outputId": "44c5c84c-b460-460a-c673-4ec99ecce0a3"
      },
      "execution_count": 44,
      "outputs": [
        {
          "output_type": "execute_result",
          "data": {
            "text/plain": [
              "2.8284271247461903"
            ]
          },
          "metadata": {},
          "execution_count": 44
        }
      ]
    },
    {
      "cell_type": "code",
      "metadata": {
        "id": "b71Q4cXfLTKr"
      },
      "source": [
        "# filter out all other concentration\n",
        "Conc10=data[data['Conc']==10]['Strength']\n",
        "Conc15=data[data['Conc']==15]['Strength']\n",
        "Conc20=data[data['Conc']==20]['Strength']"
      ],
      "execution_count": 28,
      "outputs": []
    },
    {
      "cell_type": "markdown",
      "source": [
        "# run one way anova using scipy f_onway function"
      ],
      "metadata": {
        "id": "_xqz72I_GD93"
      }
    },
    {
      "cell_type": "code",
      "metadata": {
        "colab": {
          "base_uri": "https://localhost:8080/"
        },
        "id": "pqhYpT7ALtHF",
        "outputId": "afe4aa57-3f30-4096-89cc-7f6c198ffe05"
      },
      "source": [
        "# run one way anova using scipy f_onway function\n",
        "# make sure Conc is capital on the first letter; varaible name is case sensitive!\n",
        "stat, p=f_oneway(Conc5, Conc10, Conc15, Conc20 )\n",
        "print('stat=%.3f, p=%.3f' %(stat,p))"
      ],
      "execution_count": 29,
      "outputs": [
        {
          "output_type": "stream",
          "name": "stdout",
          "text": [
            "stat=19.605, p=0.000\n"
          ]
        }
      ]
    },
    {
      "cell_type": "markdown",
      "metadata": {
        "id": "_i0f3HQRMZ1S"
      },
      "source": [
        "The F test from one-way ANOVA is used to test\n",
        "**H0: tau5%=tau10%=tau15%=mtau20%=0 **vs\n",
        "H1: at least one tau <>0\n",
        "Since the pvalue is very small, we would reject H0 and conclude that \n",
        "there is a difference in paper strenght influenced by hardwood concentration "
      ]
    },
    {
      "cell_type": "markdown",
      "source": [
        "# Linear Model for One Factor Analysis"
      ],
      "metadata": {
        "id": "5Jp8nQNdvwDk"
      }
    },
    {
      "cell_type": "code",
      "metadata": {
        "colab": {
          "base_uri": "https://localhost:8080/"
        },
        "id": "N-HZ4yDDTc0k",
        "outputId": "e23deec8-001b-4e36-821c-276c8345a139"
      },
      "source": [
        "df=data #df means data frame\n",
        "df.info()"
      ],
      "execution_count": 30,
      "outputs": [
        {
          "output_type": "stream",
          "name": "stdout",
          "text": [
            "<class 'pandas.core.frame.DataFrame'>\n",
            "RangeIndex: 24 entries, 0 to 23\n",
            "Data columns (total 3 columns):\n",
            " #   Column    Non-Null Count  Dtype\n",
            "---  ------    --------------  -----\n",
            " 0   Obs       24 non-null     int64\n",
            " 1   Conc      24 non-null     int64\n",
            " 2   Strength  24 non-null     int64\n",
            "dtypes: int64(3)\n",
            "memory usage: 704.0 bytes\n"
          ]
        }
      ]
    },
    {
      "cell_type": "code",
      "metadata": {
        "colab": {
          "base_uri": "https://localhost:8080/",
          "height": 112
        },
        "id": "Dnlzia-DSF0Z",
        "outputId": "61f69750-029a-4e9e-af2b-0e382322acd6"
      },
      "source": [
        "# To generate anova table using the ols model from statsmodel\n",
        "\n",
        "model = ols('Strength ~ C(Conc)', data=df).fit()\n",
        "aov_table = sm.stats.anova_lm(model, typ=2)\n",
        "aov_table"
      ],
      "execution_count": 31,
      "outputs": [
        {
          "output_type": "execute_result",
          "data": {
            "text/plain": [
              "              sum_sq    df          F    PR(>F)\n",
              "C(Conc)   382.791667   3.0  19.605207  0.000004\n",
              "Residual  130.166667  20.0        NaN       NaN"
            ],
            "text/html": [
              "\n",
              "  <div id=\"df-d894c631-b141-4b31-ba84-405756cbd8f5\">\n",
              "    <div class=\"colab-df-container\">\n",
              "      <div>\n",
              "<style scoped>\n",
              "    .dataframe tbody tr th:only-of-type {\n",
              "        vertical-align: middle;\n",
              "    }\n",
              "\n",
              "    .dataframe tbody tr th {\n",
              "        vertical-align: top;\n",
              "    }\n",
              "\n",
              "    .dataframe thead th {\n",
              "        text-align: right;\n",
              "    }\n",
              "</style>\n",
              "<table border=\"1\" class=\"dataframe\">\n",
              "  <thead>\n",
              "    <tr style=\"text-align: right;\">\n",
              "      <th></th>\n",
              "      <th>sum_sq</th>\n",
              "      <th>df</th>\n",
              "      <th>F</th>\n",
              "      <th>PR(&gt;F)</th>\n",
              "    </tr>\n",
              "  </thead>\n",
              "  <tbody>\n",
              "    <tr>\n",
              "      <th>C(Conc)</th>\n",
              "      <td>382.791667</td>\n",
              "      <td>3.0</td>\n",
              "      <td>19.605207</td>\n",
              "      <td>0.000004</td>\n",
              "    </tr>\n",
              "    <tr>\n",
              "      <th>Residual</th>\n",
              "      <td>130.166667</td>\n",
              "      <td>20.0</td>\n",
              "      <td>NaN</td>\n",
              "      <td>NaN</td>\n",
              "    </tr>\n",
              "  </tbody>\n",
              "</table>\n",
              "</div>\n",
              "      <button class=\"colab-df-convert\" onclick=\"convertToInteractive('df-d894c631-b141-4b31-ba84-405756cbd8f5')\"\n",
              "              title=\"Convert this dataframe to an interactive table.\"\n",
              "              style=\"display:none;\">\n",
              "        \n",
              "  <svg xmlns=\"http://www.w3.org/2000/svg\" height=\"24px\"viewBox=\"0 0 24 24\"\n",
              "       width=\"24px\">\n",
              "    <path d=\"M0 0h24v24H0V0z\" fill=\"none\"/>\n",
              "    <path d=\"M18.56 5.44l.94 2.06.94-2.06 2.06-.94-2.06-.94-.94-2.06-.94 2.06-2.06.94zm-11 1L8.5 8.5l.94-2.06 2.06-.94-2.06-.94L8.5 2.5l-.94 2.06-2.06.94zm10 10l.94 2.06.94-2.06 2.06-.94-2.06-.94-.94-2.06-.94 2.06-2.06.94z\"/><path d=\"M17.41 7.96l-1.37-1.37c-.4-.4-.92-.59-1.43-.59-.52 0-1.04.2-1.43.59L10.3 9.45l-7.72 7.72c-.78.78-.78 2.05 0 2.83L4 21.41c.39.39.9.59 1.41.59.51 0 1.02-.2 1.41-.59l7.78-7.78 2.81-2.81c.8-.78.8-2.07 0-2.86zM5.41 20L4 18.59l7.72-7.72 1.47 1.35L5.41 20z\"/>\n",
              "  </svg>\n",
              "      </button>\n",
              "      \n",
              "  <style>\n",
              "    .colab-df-container {\n",
              "      display:flex;\n",
              "      flex-wrap:wrap;\n",
              "      gap: 12px;\n",
              "    }\n",
              "\n",
              "    .colab-df-convert {\n",
              "      background-color: #E8F0FE;\n",
              "      border: none;\n",
              "      border-radius: 50%;\n",
              "      cursor: pointer;\n",
              "      display: none;\n",
              "      fill: #1967D2;\n",
              "      height: 32px;\n",
              "      padding: 0 0 0 0;\n",
              "      width: 32px;\n",
              "    }\n",
              "\n",
              "    .colab-df-convert:hover {\n",
              "      background-color: #E2EBFA;\n",
              "      box-shadow: 0px 1px 2px rgba(60, 64, 67, 0.3), 0px 1px 3px 1px rgba(60, 64, 67, 0.15);\n",
              "      fill: #174EA6;\n",
              "    }\n",
              "\n",
              "    [theme=dark] .colab-df-convert {\n",
              "      background-color: #3B4455;\n",
              "      fill: #D2E3FC;\n",
              "    }\n",
              "\n",
              "    [theme=dark] .colab-df-convert:hover {\n",
              "      background-color: #434B5C;\n",
              "      box-shadow: 0px 1px 3px 1px rgba(0, 0, 0, 0.15);\n",
              "      filter: drop-shadow(0px 1px 2px rgba(0, 0, 0, 0.3));\n",
              "      fill: #FFFFFF;\n",
              "    }\n",
              "  </style>\n",
              "\n",
              "      <script>\n",
              "        const buttonEl =\n",
              "          document.querySelector('#df-d894c631-b141-4b31-ba84-405756cbd8f5 button.colab-df-convert');\n",
              "        buttonEl.style.display =\n",
              "          google.colab.kernel.accessAllowed ? 'block' : 'none';\n",
              "\n",
              "        async function convertToInteractive(key) {\n",
              "          const element = document.querySelector('#df-d894c631-b141-4b31-ba84-405756cbd8f5');\n",
              "          const dataTable =\n",
              "            await google.colab.kernel.invokeFunction('convertToInteractive',\n",
              "                                                     [key], {});\n",
              "          if (!dataTable) return;\n",
              "\n",
              "          const docLinkHtml = 'Like what you see? Visit the ' +\n",
              "            '<a target=\"_blank\" href=https://colab.research.google.com/notebooks/data_table.ipynb>data table notebook</a>'\n",
              "            + ' to learn more about interactive tables.';\n",
              "          element.innerHTML = '';\n",
              "          dataTable['output_type'] = 'display_data';\n",
              "          await google.colab.output.renderOutput(dataTable, element);\n",
              "          const docLink = document.createElement('div');\n",
              "          docLink.innerHTML = docLinkHtml;\n",
              "          element.appendChild(docLink);\n",
              "        }\n",
              "      </script>\n",
              "    </div>\n",
              "  </div>\n",
              "  "
            ]
          },
          "metadata": {},
          "execution_count": 31
        }
      ]
    },
    {
      "cell_type": "code",
      "source": [
        "print(model.summary())"
      ],
      "metadata": {
        "colab": {
          "base_uri": "https://localhost:8080/"
        },
        "id": "JOEUirzrVxup",
        "outputId": "9f79a601-9c82-4e57-9659-c2d4fc3934a7"
      },
      "execution_count": 53,
      "outputs": [
        {
          "output_type": "stream",
          "name": "stdout",
          "text": [
            "                            OLS Regression Results                            \n",
            "==============================================================================\n",
            "Dep. Variable:               Strength   R-squared:                       0.746\n",
            "Model:                            OLS   Adj. R-squared:                  0.708\n",
            "Method:                 Least Squares   F-statistic:                     19.61\n",
            "Date:                Mon, 19 Sep 2022   Prob (F-statistic):           3.59e-06\n",
            "Time:                        15:21:44   Log-Likelihood:                -54.344\n",
            "No. Observations:                  24   AIC:                             116.7\n",
            "Df Residuals:                      20   BIC:                             121.4\n",
            "Df Model:                           3                                         \n",
            "Covariance Type:            nonrobust                                         \n",
            "=================================================================================\n",
            "                    coef    std err          t      P>|t|      [0.025      0.975]\n",
            "---------------------------------------------------------------------------------\n",
            "Intercept        10.0000      1.041      9.602      0.000       7.827      12.173\n",
            "C(Conc)[T.10]     5.6667      1.473      3.847      0.001       2.594       8.739\n",
            "C(Conc)[T.15]     7.0000      1.473      4.753      0.000       3.928      10.072\n",
            "C(Conc)[T.20]    11.1667      1.473      7.581      0.000       8.094      14.239\n",
            "==============================================================================\n",
            "Omnibus:                        0.929   Durbin-Watson:                   2.181\n",
            "Prob(Omnibus):                  0.628   Jarque-Bera (JB):                0.861\n",
            "Skew:                           0.248   Prob(JB):                        0.650\n",
            "Kurtosis:                       2.215   Cond. No.                         4.79\n",
            "==============================================================================\n",
            "\n",
            "Notes:\n",
            "[1] Standard Errors assume that the covariance matrix of the errors is correctly specified.\n"
          ]
        }
      ]
    },
    {
      "cell_type": "code",
      "source": [
        "# the prediction is actually Yi_ bar, i=1,2, ..., a (number of treatments) for all observations\n",
        "# for example conc=5% has 6 obs at the same values, etc\n",
        "strength_predict=model.predict()\n",
        "strength_predict"
      ],
      "metadata": {
        "colab": {
          "base_uri": "https://localhost:8080/"
        },
        "id": "1n9EXIcrUJe4",
        "outputId": "7964da62-cf1e-4f6a-ed0e-80673bde2ca9"
      },
      "execution_count": 55,
      "outputs": [
        {
          "output_type": "execute_result",
          "data": {
            "text/plain": [
              "array([10.        , 10.        , 10.        , 10.        , 10.        ,\n",
              "       10.        , 15.66666667, 15.66666667, 15.66666667, 15.66666667,\n",
              "       15.66666667, 15.66666667, 17.        , 17.        , 17.        ,\n",
              "       17.        , 17.        , 17.        , 21.16666667, 21.16666667,\n",
              "       21.16666667, 21.16666667, 21.16666667, 21.16666667])"
            ]
          },
          "metadata": {},
          "execution_count": 55
        }
      ]
    },
    {
      "cell_type": "code",
      "source": [
        "# Compute ANOVA table with MSE\n",
        "# This is a more simplified version of the OLS summary table\n",
        "\"\"\"\n",
        "The function below was created specifically for the one-way ANOVA table results returned for Type II sum of squares\n",
        "\"\"\"\n",
        "\n",
        "def anova_table(aov):\n",
        "    aov['mean_sq'] = aov[:]['sum_sq']/aov[:]['df']\n",
        "\n",
        "    cols = ['sum_sq', 'df', 'mean_sq', 'F', 'PR(>F)']\n",
        "    aov = aov[cols]\n",
        "    return aov\n",
        "\n",
        "anova_table(aov_table)"
      ],
      "metadata": {
        "colab": {
          "base_uri": "https://localhost:8080/",
          "height": 112
        },
        "id": "oQw1-FzrPbG8",
        "outputId": "0181aba7-5d3b-4dc1-83f6-dc6fa1b9ac78"
      },
      "execution_count": 46,
      "outputs": [
        {
          "output_type": "execute_result",
          "data": {
            "text/plain": [
              "              sum_sq    df     mean_sq          F    PR(>F)\n",
              "C(Conc)   382.791667   3.0  127.597222  19.605207  0.000004\n",
              "Residual  130.166667  20.0    6.508333        NaN       NaN"
            ],
            "text/html": [
              "\n",
              "  <div id=\"df-697cd9d8-e5ba-45b8-8948-f9e66d5b7da0\">\n",
              "    <div class=\"colab-df-container\">\n",
              "      <div>\n",
              "<style scoped>\n",
              "    .dataframe tbody tr th:only-of-type {\n",
              "        vertical-align: middle;\n",
              "    }\n",
              "\n",
              "    .dataframe tbody tr th {\n",
              "        vertical-align: top;\n",
              "    }\n",
              "\n",
              "    .dataframe thead th {\n",
              "        text-align: right;\n",
              "    }\n",
              "</style>\n",
              "<table border=\"1\" class=\"dataframe\">\n",
              "  <thead>\n",
              "    <tr style=\"text-align: right;\">\n",
              "      <th></th>\n",
              "      <th>sum_sq</th>\n",
              "      <th>df</th>\n",
              "      <th>mean_sq</th>\n",
              "      <th>F</th>\n",
              "      <th>PR(&gt;F)</th>\n",
              "    </tr>\n",
              "  </thead>\n",
              "  <tbody>\n",
              "    <tr>\n",
              "      <th>C(Conc)</th>\n",
              "      <td>382.791667</td>\n",
              "      <td>3.0</td>\n",
              "      <td>127.597222</td>\n",
              "      <td>19.605207</td>\n",
              "      <td>0.000004</td>\n",
              "    </tr>\n",
              "    <tr>\n",
              "      <th>Residual</th>\n",
              "      <td>130.166667</td>\n",
              "      <td>20.0</td>\n",
              "      <td>6.508333</td>\n",
              "      <td>NaN</td>\n",
              "      <td>NaN</td>\n",
              "    </tr>\n",
              "  </tbody>\n",
              "</table>\n",
              "</div>\n",
              "      <button class=\"colab-df-convert\" onclick=\"convertToInteractive('df-697cd9d8-e5ba-45b8-8948-f9e66d5b7da0')\"\n",
              "              title=\"Convert this dataframe to an interactive table.\"\n",
              "              style=\"display:none;\">\n",
              "        \n",
              "  <svg xmlns=\"http://www.w3.org/2000/svg\" height=\"24px\"viewBox=\"0 0 24 24\"\n",
              "       width=\"24px\">\n",
              "    <path d=\"M0 0h24v24H0V0z\" fill=\"none\"/>\n",
              "    <path d=\"M18.56 5.44l.94 2.06.94-2.06 2.06-.94-2.06-.94-.94-2.06-.94 2.06-2.06.94zm-11 1L8.5 8.5l.94-2.06 2.06-.94-2.06-.94L8.5 2.5l-.94 2.06-2.06.94zm10 10l.94 2.06.94-2.06 2.06-.94-2.06-.94-.94-2.06-.94 2.06-2.06.94z\"/><path d=\"M17.41 7.96l-1.37-1.37c-.4-.4-.92-.59-1.43-.59-.52 0-1.04.2-1.43.59L10.3 9.45l-7.72 7.72c-.78.78-.78 2.05 0 2.83L4 21.41c.39.39.9.59 1.41.59.51 0 1.02-.2 1.41-.59l7.78-7.78 2.81-2.81c.8-.78.8-2.07 0-2.86zM5.41 20L4 18.59l7.72-7.72 1.47 1.35L5.41 20z\"/>\n",
              "  </svg>\n",
              "      </button>\n",
              "      \n",
              "  <style>\n",
              "    .colab-df-container {\n",
              "      display:flex;\n",
              "      flex-wrap:wrap;\n",
              "      gap: 12px;\n",
              "    }\n",
              "\n",
              "    .colab-df-convert {\n",
              "      background-color: #E8F0FE;\n",
              "      border: none;\n",
              "      border-radius: 50%;\n",
              "      cursor: pointer;\n",
              "      display: none;\n",
              "      fill: #1967D2;\n",
              "      height: 32px;\n",
              "      padding: 0 0 0 0;\n",
              "      width: 32px;\n",
              "    }\n",
              "\n",
              "    .colab-df-convert:hover {\n",
              "      background-color: #E2EBFA;\n",
              "      box-shadow: 0px 1px 2px rgba(60, 64, 67, 0.3), 0px 1px 3px 1px rgba(60, 64, 67, 0.15);\n",
              "      fill: #174EA6;\n",
              "    }\n",
              "\n",
              "    [theme=dark] .colab-df-convert {\n",
              "      background-color: #3B4455;\n",
              "      fill: #D2E3FC;\n",
              "    }\n",
              "\n",
              "    [theme=dark] .colab-df-convert:hover {\n",
              "      background-color: #434B5C;\n",
              "      box-shadow: 0px 1px 3px 1px rgba(0, 0, 0, 0.15);\n",
              "      filter: drop-shadow(0px 1px 2px rgba(0, 0, 0, 0.3));\n",
              "      fill: #FFFFFF;\n",
              "    }\n",
              "  </style>\n",
              "\n",
              "      <script>\n",
              "        const buttonEl =\n",
              "          document.querySelector('#df-697cd9d8-e5ba-45b8-8948-f9e66d5b7da0 button.colab-df-convert');\n",
              "        buttonEl.style.display =\n",
              "          google.colab.kernel.accessAllowed ? 'block' : 'none';\n",
              "\n",
              "        async function convertToInteractive(key) {\n",
              "          const element = document.querySelector('#df-697cd9d8-e5ba-45b8-8948-f9e66d5b7da0');\n",
              "          const dataTable =\n",
              "            await google.colab.kernel.invokeFunction('convertToInteractive',\n",
              "                                                     [key], {});\n",
              "          if (!dataTable) return;\n",
              "\n",
              "          const docLinkHtml = 'Like what you see? Visit the ' +\n",
              "            '<a target=\"_blank\" href=https://colab.research.google.com/notebooks/data_table.ipynb>data table notebook</a>'\n",
              "            + ' to learn more about interactive tables.';\n",
              "          element.innerHTML = '';\n",
              "          dataTable['output_type'] = 'display_data';\n",
              "          await google.colab.output.renderOutput(dataTable, element);\n",
              "          const docLink = document.createElement('div');\n",
              "          docLink.innerHTML = docLinkHtml;\n",
              "          element.appendChild(docLink);\n",
              "        }\n",
              "      </script>\n",
              "    </div>\n",
              "  </div>\n",
              "  "
            ]
          },
          "metadata": {},
          "execution_count": 46
        }
      ]
    },
    {
      "cell_type": "markdown",
      "source": [
        "MSE=mean_sq of Residual, in this case MSE=6.5"
      ],
      "metadata": {
        "id": "QmCGD4ylQcxf"
      }
    },
    {
      "cell_type": "code",
      "source": [
        "# R2 value\n",
        "model.rsquared"
      ],
      "metadata": {
        "colab": {
          "base_uri": "https://localhost:8080/"
        },
        "id": "dhkqje9T7DqX",
        "outputId": "0c5eb9bd-a1b7-4a0d-9b7a-59cca252f04d"
      },
      "execution_count": 36,
      "outputs": [
        {
          "output_type": "execute_result",
          "data": {
            "text/plain": [
              "0.7462431971407685"
            ]
          },
          "metadata": {},
          "execution_count": 36
        }
      ]
    },
    {
      "cell_type": "code",
      "source": [
        "# Adjusted R2 value\n",
        "model.rsquared_adj"
      ],
      "metadata": {
        "colab": {
          "base_uri": "https://localhost:8080/"
        },
        "id": "yC7vZ95w7LbN",
        "outputId": "4fe1d6f5-20c5-473f-fa96-6fe883439227"
      },
      "execution_count": 37,
      "outputs": [
        {
          "output_type": "execute_result",
          "data": {
            "text/plain": [
              "0.7081796767118838"
            ]
          },
          "metadata": {},
          "execution_count": 37
        }
      ]
    },
    {
      "cell_type": "code",
      "source": [
        "residuals=model.resid\n",
        "residuals"
      ],
      "metadata": {
        "colab": {
          "base_uri": "https://localhost:8080/"
        },
        "id": "XNEORdqt7NuE",
        "outputId": "cf34922c-27ed-4774-f9de-3609b712c6e8"
      },
      "execution_count": 16,
      "outputs": [
        {
          "output_type": "execute_result",
          "data": {
            "text/plain": [
              "0    -3.000000e+00\n",
              "1    -2.000000e+00\n",
              "2     5.000000e+00\n",
              "3     1.000000e+00\n",
              "4    -1.000000e+00\n",
              "5    -7.105427e-15\n",
              "6    -3.666667e+00\n",
              "7     1.333333e+00\n",
              "8    -2.666667e+00\n",
              "9     2.333333e+00\n",
              "10    3.333333e+00\n",
              "11   -6.666667e-01\n",
              "12   -3.000000e+00\n",
              "13    1.000000e+00\n",
              "14    2.000000e+00\n",
              "15    7.105427e-15\n",
              "16   -1.000000e+00\n",
              "17    1.000000e+00\n",
              "18   -2.166667e+00\n",
              "19    3.833333e+00\n",
              "20    8.333333e-01\n",
              "21    1.833333e+00\n",
              "22   -3.166667e+00\n",
              "23   -1.166667e+00\n",
              "dtype: float64"
            ]
          },
          "metadata": {},
          "execution_count": 16
        }
      ]
    },
    {
      "cell_type": "markdown",
      "source": [
        "# Model Validation and Residual Analysis"
      ],
      "metadata": {
        "id": "RWV-TSpEv8AR"
      }
    },
    {
      "cell_type": "code",
      "metadata": {
        "colab": {
          "base_uri": "https://localhost:8080/",
          "height": 627
        },
        "id": "TvzP67M7U4sV",
        "outputId": "bf5d1b03-7b4d-4f91-bad6-b18935427e1a"
      },
      "source": [
        "# Residual Analysis\n",
        "# normal check\n",
        "fig = plt.figure(figsize= (10, 10))\n",
        "ax = fig.add_subplot(111)\n",
        "\n",
        "normality_plot, stat = stats.probplot(model.resid, plot= plt, rvalue= True)\n",
        "ax.set_title(\"Probability plot of model residual's\", fontsize= 20)\n",
        "ax.set\n",
        "\n",
        "plt.show()"
      ],
      "execution_count": null,
      "outputs": [
        {
          "output_type": "display_data",
          "data": {
            "image/png": "[encoded data removed]",
            "text/plain": [
              "<Figure size 720x720 with 1 Axes>"
            ]
          },
          "metadata": {
            "needs_background": "light"
          }
        }
      ]
    },
    {
      "cell_type": "code",
      "metadata": {
        "colab": {
          "base_uri": "https://localhost:8080/"
        },
        "id": "NmlcL6VBVjcD",
        "outputId": "aebe3a13-0441-4200-b48f-6a6fb9fde9d5"
      },
      "source": [
        "# Homogeneity of Variance check\n",
        "# Levene() method\n",
        "\n",
        "stats.levene(df['Strength'][df['Conc'] == 5],\n",
        "             df['Strength'][df['Conc'] == 10],\n",
        "             df['Strength'][df['Conc'] == 15],\n",
        "             df['Strength'][df['Conc'] == 20])"
      ],
      "execution_count": 38,
      "outputs": [
        {
          "output_type": "execute_result",
          "data": {
            "text/plain": [
              "LeveneResult(statistic=0.5988455988455988, pvalue=0.6231941028644978)"
            ]
          },
          "metadata": {},
          "execution_count": 38
        }
      ]
    },
    {
      "cell_type": "markdown",
      "metadata": {
        "id": "p2n_II8VWS6g"
      },
      "source": [
        "The p value of the Levene is very large. We don't have evidence to conclude that the variances from different hardwood concentration are different"
      ]
    },
    {
      "cell_type": "code",
      "source": [
        "# Plot fo residuals vs factor levels (e.g different treatments)\n",
        "import matplotlib.pyplot as plt\n",
        "\n",
        "treatment=data['Conc']\n",
        "\n",
        "plt.scatter(treatment, residuals)\n",
        "\n",
        "plt.show()"
      ],
      "metadata": {
        "colab": {
          "base_uri": "https://localhost:8080/",
          "height": 265
        },
        "id": "ckWfvsm8SlCi",
        "outputId": "303fdbbd-3a6b-42a1-ce64-013e7f52d2c8"
      },
      "execution_count": 49,
      "outputs": [
        {
          "output_type": "display_data",
          "data": {
            "text/plain": [
              "<Figure size 432x288 with 1 Axes>"
            ],
            "image/png": "[encoded data removed]"
          },
          "metadata": {
            "needs_background": "light"
          }
        }
      ]
    },
    {
      "cell_type": "markdown",
      "source": [
        "To visualized constant variance assumption, observe the length of each bar of similar length. Apply both scatter plots above and below."
      ],
      "metadata": {
        "id": "oGPXTmYpU1wX"
      }
    },
    {
      "cell_type": "code",
      "source": [
        "# Plot fo residuals vs prediction at factor levels (e.g different treatments)\n",
        "# Usually run with the previous block\n",
        "\n",
        "plt.scatter(strength_predict, residuals)\n",
        "\n",
        "plt.show()"
      ],
      "metadata": {
        "colab": {
          "base_uri": "https://localhost:8080/",
          "height": 265
        },
        "id": "H0Z2LRS5WNiV",
        "outputId": "c2dd6249-40e2-494a-c90b-19af908c3b20"
      },
      "execution_count": 56,
      "outputs": [
        {
          "output_type": "display_data",
          "data": {
            "text/plain": [
              "<Figure size 432x288 with 1 Axes>"
            ],
            "image/png": "[encoded data removed]"
          },
          "metadata": {
            "needs_background": "light"
          }
        }
      ]
    },
    {
      "cell_type": "code",
      "source": [
        "# Standard Error se computation\n",
        "# se= sqrt(MSE/n) where n is number of obs for each treatment; n=6 in this case\n",
        "# use the se value as a visual guide in the above plot\n",
        "# ref. figure 4.12 of Montgomery Intro to SQC 7ed\n",
        "se= model.mse_resid/6\n",
        "se\n"
      ],
      "metadata": {
        "colab": {
          "base_uri": "https://localhost:8080/"
        },
        "id": "5ig-UR6jYgZQ",
        "outputId": "cd80fde2-48bf-4fea-cb0a-657d077a94cf"
      },
      "execution_count": 60,
      "outputs": [
        {
          "output_type": "execute_result",
          "data": {
            "text/plain": [
              "1.0847222222222221"
            ]
          },
          "metadata": {},
          "execution_count": 60
        }
      ]
    },
    {
      "cell_type": "code",
      "metadata": {
        "colab": {
          "base_uri": "https://localhost:8080/",
          "height": 627
        },
        "id": "u0t70uvdWgUd",
        "outputId": "39d79534-7078-4b3e-d5bb-909f91fb9862"
      },
      "source": [
        "# Box plots by factor levels'\n",
        "\n",
        "fig = plt.figure(figsize= (10, 10))\n",
        "ax = fig.add_subplot(111)\n",
        "\n",
        "ax.set_title(\"Box Plot of Paper Strength by Hardwood Concentration\", fontsize= 20)\n",
        "ax.set\n",
        "\n",
        "#data2 = [df['Strength'][df['Conc'] == 5],\n",
        "#             df['Strength'][df['Conc'] == 10],\n",
        "#             df['Strength'][df['Conc'] == 15],\n",
        "#             df['Strength'][df['Conc'] == 20]]\n",
        "\n",
        "data2=[Conc5, Conc10, Conc15, Conc20]\n",
        "\n",
        "ax.boxplot(data2,\n",
        "           labels= ['5%', '10%', '15%', '20%'],\n",
        "           showmeans= True)\n",
        "\n",
        "plt.xlabel(\"Hardwood Concentration %\")\n",
        "plt.ylabel(\"Paper Strength\")\n",
        "\n",
        "plt.show()"
      ],
      "execution_count": 39,
      "outputs": [
        {
          "output_type": "display_data",
          "data": {
            "text/plain": [
              "<Figure size 720x720 with 1 Axes>"
            ],
            "image/png": "[encoded data removed]"
          },
          "metadata": {
            "needs_background": "light"
          }
        }
      ]
    },
    {
      "cell_type": "code",
      "metadata": {
        "id": "h6ArZLGF1jco",
        "colab": {
          "base_uri": "https://localhost:8080/"
        },
        "outputId": "22b6f014-0785-486a-dd2a-078f5ef615ae"
      },
      "source": [
        "# the data structure of data2\n",
        "print(data2)"
      ],
      "execution_count": 40,
      "outputs": [
        {
          "output_type": "stream",
          "name": "stdout",
          "text": [
            "[0     7\n",
            "1     8\n",
            "2    15\n",
            "3    11\n",
            "4     9\n",
            "5    10\n",
            "Name: Strength, dtype: int64, 6     12\n",
            "7     17\n",
            "8     13\n",
            "9     18\n",
            "10    19\n",
            "11    15\n",
            "Name: Strength, dtype: int64, 12    14\n",
            "13    18\n",
            "14    19\n",
            "15    17\n",
            "16    16\n",
            "17    18\n",
            "Name: Strength, dtype: int64, 18    19\n",
            "19    25\n",
            "20    22\n",
            "21    23\n",
            "22    18\n",
            "23    20\n",
            "Name: Strength, dtype: int64]\n"
          ]
        }
      ]
    },
    {
      "cell_type": "markdown",
      "source": [
        "# Multiple Comparison Tests"
      ],
      "metadata": {
        "id": "59YOz4HdwEy4"
      }
    },
    {
      "cell_type": "code",
      "metadata": {
        "colab": {
          "base_uri": "https://localhost:8080/",
          "height": 186
        },
        "id": "uTaK08FnXdk_",
        "outputId": "ccc0255f-de47-4032-dd7b-54b299dc7767"
      },
      "source": [
        "# Multiple comparison test \n",
        "# ref https://www.statsmodels.org/devel/generated/statsmodels.sandbox.stats.multicomp.MultiComparison.html \n",
        "#Tukey Honestly Significat Difference (HSD)\n",
        "comp = mc.MultiComparison(df['Strength'], df['Conc'])\n",
        "post_hoc_res = comp.tukeyhsd()\n",
        "post_hoc_res.summary()"
      ],
      "execution_count": 41,
      "outputs": [
        {
          "output_type": "execute_result",
          "data": {
            "text/plain": [
              "<class 'statsmodels.iolib.table.SimpleTable'>"
            ],
            "text/html": [
              "<table class=\"simpletable\">\n",
              "<caption>Multiple Comparison of Means - Tukey HSD, FWER=0.05</caption>\n",
              "<tr>\n",
              "  <th>group1</th> <th>group2</th> <th>meandiff</th>  <th>p-adj</th>  <th>lower</th>   <th>upper</th>  <th>reject</th>\n",
              "</tr>\n",
              "<tr>\n",
              "     <td>5</td>     <td>10</td>    <td>5.6667</td>  <td>0.0051</td> <td>1.5439</td>  <td>9.7894</td>   <td>True</td> \n",
              "</tr>\n",
              "<tr>\n",
              "     <td>5</td>     <td>15</td>      <td>7.0</td>    <td>0.001</td> <td>2.8773</td>  <td>11.1227</td>  <td>True</td> \n",
              "</tr>\n",
              "<tr>\n",
              "     <td>5</td>     <td>20</td>    <td>11.1667</td>  <td>0.001</td> <td>7.0439</td>  <td>15.2894</td>  <td>True</td> \n",
              "</tr>\n",
              "<tr>\n",
              "    <td>10</td>     <td>15</td>    <td>1.3333</td>  <td>0.7827</td> <td>-2.7894</td> <td>5.4561</td>   <td>False</td>\n",
              "</tr>\n",
              "<tr>\n",
              "    <td>10</td>     <td>20</td>      <td>5.5</td>   <td>0.0066</td> <td>1.3773</td>  <td>9.6227</td>   <td>True</td> \n",
              "</tr>\n",
              "<tr>\n",
              "    <td>15</td>     <td>20</td>    <td>4.1667</td>   <td>0.047</td> <td>0.0439</td>  <td>8.2894</td>   <td>True</td> \n",
              "</tr>\n",
              "</table>"
            ]
          },
          "metadata": {},
          "execution_count": 41
        }
      ]
    },
    {
      "cell_type": "code",
      "metadata": {
        "colab": {
          "base_uri": "https://localhost:8080/",
          "height": 791
        },
        "id": "GJDKJfwszQu3",
        "outputId": "abdec09e-a4ad-4534-9cdd-1a2320186a6c"
      },
      "source": [
        "#visualize the Tukey test\n",
        "post_hoc_res.plot_simultaneous(ylabel= \"Hardwood concentration\", xlabel= \"Strength\")"
      ],
      "execution_count": 42,
      "outputs": [
        {
          "output_type": "execute_result",
          "data": {
            "text/plain": [
              "<Figure size 720x432 with 1 Axes>"
            ],
            "image/png": "[encoded data removed]"
          },
          "metadata": {},
          "execution_count": 42
        },
        {
          "output_type": "display_data",
          "data": {
            "text/plain": [
              "<Figure size 720x432 with 1 Axes>"
            ],
            "image/png": "[encoded data removed]"
          },
          "metadata": {
            "needs_background": "light"
          }
        }
      ]
    }
  ]
}