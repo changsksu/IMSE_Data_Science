{
  "nbformat": 4,
  "nbformat_minor": 0,
  "metadata": {
    "colab": {
      "name": "SQLite two tables setup and SQL.ipynb",
      "provenance": [],
      "authorship_tag": "ABX9TyPa7Erw9H6yBMfrXuDW+o8G",
      "include_colab_link": true
    },
    "kernelspec": {
      "name": "python3",
      "display_name": "Python 3"
    },
    "language_info": {
      "name": "python"
    }
  },
  "cells": [
    {
      "cell_type": "markdown",
      "metadata": {
        "id": "view-in-github",
        "colab_type": "text"
      },
      "source": [
        "<a href=\"https://colab.research.google.com/github/changsksu/IMSE_Data_Science/blob/main/SQLite_two_tables_setup_and_SQL.ipynb\" target=\"_parent\"><img src=\"https://colab.research.google.com/assets/colab-badge.svg\" alt=\"Open In Colab\"/></a>"
      ]
    },
    {
      "cell_type": "markdown",
      "source": [
        "This code aims to demonstate the use of two tables connected by a third table with keys"
      ],
      "metadata": {
        "id": "B72Gg6RB0jDr"
      }
    },
    {
      "cell_type": "code",
      "execution_count": 1,
      "metadata": {
        "id": "yYajmTvYjMFH"
      },
      "outputs": [],
      "source": [
        "import sqlite3"
      ]
    },
    {
      "cell_type": "code",
      "source": [
        "# the name of the db is called HR.db\n",
        "# SQLite will create this db if it does not exist, otherwise it will be connected\n",
        "conn=sqlite3.connect('HR2.db')\n"
      ],
      "metadata": {
        "id": "iHXMrDDijWAj"
      },
      "execution_count": 2,
      "outputs": []
    },
    {
      "cell_type": "code",
      "source": [
        "# the name of two tables are Department & Employees\n",
        "# all datat based reserve words are in capital letters for clarification\n",
        "conn.execute('''\n",
        "CREATE TABLE IF NOT EXISTS Departments (\n",
        "            Code INTEGER PRIMARY KEY NOT NULL,\n",
        "            Name Text NOT NULL,\n",
        "            Budget REAL NOT NULL\n",
        ");''')\n",
        "conn.commit()\n",
        "print(\"Departments table created\")"
      ],
      "metadata": {
        "colab": {
          "base_uri": "https://localhost:8080/"
        },
        "id": "p01uXiBIjxO0",
        "outputId": "beb43290-ac72-415b-e176-379c74bb4253"
      },
      "execution_count": 3,
      "outputs": [
        {
          "output_type": "stream",
          "name": "stdout",
          "text": [
            "Departments table created\n"
          ]
        }
      ]
    },
    {
      "cell_type": "code",
      "source": [
        "# the name of two tables are Department & Employees\n",
        "# all datat based reserve words are in capital letters for clarification\n",
        "conn.execute('''\n",
        "CREATE TABLE IF NOT EXISTS Employees (\n",
        "            SID INTEGER PRIMARY KEY NOT NULL,\n",
        "            Name Text NOT NULL,\n",
        "            LastName VARCHAR NOT NULL,\n",
        "            Department INTEGER NOT NULL,\n",
        "            Salary INTEGER NOT NULL,\n",
        "            CONSTRAINT fk_Department_code FOREIGN KEY(Department)\n",
        "            REFERENCES Departments(Code)\n",
        ");''')\n",
        "conn.commit()\n",
        "print(\"Employees table created\")"
      ],
      "metadata": {
        "colab": {
          "base_uri": "https://localhost:8080/"
        },
        "id": "hIyb3t_cRMJw",
        "outputId": "92b09cda-6948-4fb0-fb37-6e6572ac3f20"
      },
      "execution_count": 4,
      "outputs": [
        {
          "output_type": "stream",
          "name": "stdout",
          "text": [
            "Employees table created\n"
          ]
        }
      ]
    },
    {
      "cell_type": "code",
      "source": [
        "# insert data into the Departments table\n",
        "# since the data is already there and the primary key will prevent a new entry witht the same key\n",
        "conn.execute(\"INSERT INTO Departments(Code, Name, Budget) VALUES(14, 'IT', 650000);\")\n",
        "conn.execute(\"INSERT INTO Departments(Code, Name, Budget) VALUES(37, 'Accounting', 150000);\")\n",
        "conn.execute(\"INSERT INTO Departments(Code, Name, Budget) VALUES(59, 'Human Resources', 250000);\")\n",
        "conn.execute(\"INSERT INTO Departments(Code, Name, Budget) VALUES(77, 'R&D', 550000);\")"
      ],
      "metadata": {
        "colab": {
          "base_uri": "https://localhost:8080/"
        },
        "id": "QS0MWiFaSi1-",
        "outputId": "c0a625bb-d7ab-4a1a-8b3c-a0bed8e55302"
      },
      "execution_count": 5,
      "outputs": [
        {
          "output_type": "execute_result",
          "data": {
            "text/plain": [
              "<sqlite3.Cursor at 0x7ec1291533c0>"
            ]
          },
          "metadata": {},
          "execution_count": 5
        }
      ]
    },
    {
      "cell_type": "code",
      "source": [
        "conn.execute(\"INSERT INTO Employees(SID, Name, LastName, Department, Salary) VALUES(1, 'John', 'Smith', 14, 85000);\")\n",
        "conn.execute(\"INSERT INTO Employees(SID, Name, LastName, Department, Salary) VALUES(2, 'Jim', 'Anderson', 14, 95000);\")\n",
        "conn.execute(\"INSERT INTO Employees(SID, Name, LastName, Department, Salary) VALUES(3, 'Jane', 'Doe', 37, 45000);\")\n",
        "conn.execute(\"INSERT INTO Employees(SID, Name, LastName, Department, Salary) VALUES(4, 'Sarah', 'Smith', 59, 55000);\")\n",
        "conn.execute(\"INSERT INTO Employees(SID, Name, LastName, Department, Salary) VALUES(5, 'Nick', 'Tesla', 77, 105000);\")"
      ],
      "metadata": {
        "colab": {
          "base_uri": "https://localhost:8080/"
        },
        "id": "5ernEdU8TzK-",
        "outputId": "95c8b611-343c-4ece-c212-24431a2ae199"
      },
      "execution_count": 6,
      "outputs": [
        {
          "output_type": "execute_result",
          "data": {
            "text/plain": [
              "<sqlite3.Cursor at 0x7ec129a6c5c0>"
            ]
          },
          "metadata": {},
          "execution_count": 6
        }
      ]
    },
    {
      "cell_type": "code",
      "source": [
        "# Use SQL command to retrieva all data\n",
        "outcome=conn.execute(\"SELECT * FROM Departments\")\n",
        "for row in outcome:\n",
        "    print(row)"
      ],
      "metadata": {
        "colab": {
          "base_uri": "https://localhost:8080/"
        },
        "id": "Te9IL76IlZuV",
        "outputId": "3777a9ee-bc4c-4aba-e15b-f0974451638c"
      },
      "execution_count": 7,
      "outputs": [
        {
          "output_type": "stream",
          "name": "stdout",
          "text": [
            "(14, 'IT', 650000.0)\n",
            "(37, 'Accounting', 150000.0)\n",
            "(59, 'Human Resources', 250000.0)\n",
            "(77, 'R&D', 550000.0)\n"
          ]
        }
      ]
    },
    {
      "cell_type": "code",
      "source": [
        "# Use SQL command to retrieva all data from the Employees table\n",
        "outcome=conn.execute(\"SELECT * FROM Employees\")\n",
        "for row in outcome:\n",
        "    print(row)"
      ],
      "metadata": {
        "colab": {
          "base_uri": "https://localhost:8080/"
        },
        "id": "UIxGlHn5Vc76",
        "outputId": "227ec722-ba0d-42ca-b385-7b8f79635aa2"
      },
      "execution_count": 29,
      "outputs": [
        {
          "output_type": "stream",
          "name": "stdout",
          "text": [
            "(1, 'John', 'Smith', 14, 85000)\n",
            "(2, 'Jim', 'Anderson', 14, 95000)\n",
            "(3, 'Jane', 'Doe', 37, 45000)\n",
            "(4, 'Sarah', 'Smith', 59, 55000)\n",
            "(5, 'Nick', 'Tesla', 77, 105000)\n",
            "(6, 'Jane', 'Doe', 14, 85500)\n"
          ]
        }
      ]
    },
    {
      "cell_type": "code",
      "source": [
        "# 1. conditional SQL for all departments with annual budget over 500K\n",
        "outcome=conn.execute(\"SELECT * FROM Departments WHERE Budget > 500000\")\n",
        "for row in outcome:\n",
        "    print(row)"
      ],
      "metadata": {
        "colab": {
          "base_uri": "https://localhost:8080/"
        },
        "id": "jIrgUasZx_7D",
        "outputId": "00cff90c-fc15-4d5b-fb40-5b880793f6de"
      },
      "execution_count": 9,
      "outputs": [
        {
          "output_type": "stream",
          "name": "stdout",
          "text": [
            "(14, 'IT', 650000.0)\n",
            "(77, 'R&D', 550000.0)\n"
          ]
        }
      ]
    },
    {
      "cell_type": "code",
      "source": [
        "# 2. List all employees in the IT department\n",
        "# Note that the we already know the IT code is 14\n",
        "outcome=conn.execute(\"SELECT name, LastName FROM Employees WHERE Department = 14\")\n",
        "for row in outcome:\n",
        "    print(row)"
      ],
      "metadata": {
        "colab": {
          "base_uri": "https://localhost:8080/"
        },
        "id": "K-VoQo_sbBPT",
        "outputId": "1565589f-11c5-4b87-b3f9-6d7cdf03e5ff"
      },
      "execution_count": 10,
      "outputs": [
        {
          "output_type": "stream",
          "name": "stdout",
          "text": [
            "('John', 'Smith')\n",
            "('Jim', 'Anderson')\n"
          ]
        }
      ]
    },
    {
      "cell_type": "code",
      "source": [
        "# What if we don't know the IT code\n",
        "# We use JOIN ON to link two tables: Employees.Depart is linked to Departments.code\n",
        "\n",
        "outcome=conn.execute(\"SELECT Employees.Name, LastName FROM Employees JOIN Departments ON Employees.Department = Departments.code WHERE Departments.Name = 'IT'\")\n",
        "for row in outcome:\n",
        "    print(row)"
      ],
      "metadata": {
        "colab": {
          "base_uri": "https://localhost:8080/"
        },
        "id": "LgydclCib29a",
        "outputId": "b0fb9d60-774f-4c7f-db12-456ad3f40343"
      },
      "execution_count": 11,
      "outputs": [
        {
          "output_type": "stream",
          "name": "stdout",
          "text": [
            "('John', 'Smith')\n",
            "('Jim', 'Anderson')\n"
          ]
        }
      ]
    },
    {
      "cell_type": "code",
      "source": [
        "conn.execute(\"INSERT INTO Employees(SID, Name, LastName, Department, Salary) VALUES(6, 'Jane', 'Doe', 14, 85500);\")"
      ],
      "metadata": {
        "id": "AjV2y5VWazfB",
        "outputId": "d843112b-f93a-4b38-fdb3-b36075f31bf5",
        "colab": {
          "base_uri": "https://localhost:8080/"
        }
      },
      "execution_count": 27,
      "outputs": [
        {
          "output_type": "execute_result",
          "data": {
            "text/plain": [
              "<sqlite3.Cursor at 0x7ec110f757c0>"
            ]
          },
          "metadata": {},
          "execution_count": 27
        }
      ]
    },
    {
      "cell_type": "code",
      "source": [
        "# 3. Sort all employees by department code\n",
        "# Your turn: finish the missing information\n",
        "# DESC for decending order\n",
        "outcome=conn.execute('''\n",
        "SELECT Departments.Name, Employees.Name, LastName\n",
        "FROM Employees JOIN Departments ON Employees.Department = Departments.code\n",
        "ORDER BY Departments.name ASC, Employees.LastName ASC;\n",
        "''')\n",
        "for row in outcome:\n",
        "    print(row)"
      ],
      "metadata": {
        "id": "yNDsnSI4fOsA",
        "colab": {
          "base_uri": "https://localhost:8080/"
        },
        "outputId": "553819da-4305-44b8-bb61-9e8a11421351"
      },
      "execution_count": 28,
      "outputs": [
        {
          "output_type": "stream",
          "name": "stdout",
          "text": [
            "('Accounting', 'Jane', 'Doe')\n",
            "('Human Resources', 'Sarah', 'Smith')\n",
            "('IT', 'Jim', 'Anderson')\n",
            "('IT', 'Jane', 'Doe')\n",
            "('IT', 'John', 'Smith')\n",
            "('R&D', 'Nick', 'Tesla')\n"
          ]
        }
      ]
    },
    {
      "cell_type": "code",
      "source": [
        "# 5 Who is the highest paid employee\n",
        "# function MAX() is used\n",
        "outcome=conn.execute(\"SELECT Name, LastName, MAX(Salary) FROM Employees\")\n",
        "for row in outcome:\n",
        "    print(row)"
      ],
      "metadata": {
        "colab": {
          "base_uri": "https://localhost:8080/"
        },
        "id": "LS3c7J-nr1in",
        "outputId": "3afbb9c9-529c-44ab-dc99-e0769c18a1e3"
      },
      "execution_count": 32,
      "outputs": [
        {
          "output_type": "stream",
          "name": "stdout",
          "text": [
            "('Nick', 'Tesla', 105000)\n"
          ]
        }
      ]
    },
    {
      "cell_type": "code",
      "source": [
        "# 6 How many employees in the research (R&D) department\n",
        "outcome=conn.execute('''\n",
        "SELECT COUNT(*)\n",
        "FROM Employees JOIN Departments ON Employees.Department = Departments.code\n",
        "WHERE Departments.Name = 'R&D';\n",
        "''')\n",
        "for row in outcome:\n",
        "    print(row)\n"
      ],
      "metadata": {
        "colab": {
          "base_uri": "https://localhost:8080/"
        },
        "id": "0jK8hKI1myyO",
        "outputId": "3a926dfa-c30a-4333-dddb-1211f3494a19"
      },
      "execution_count": 14,
      "outputs": [
        {
          "output_type": "stream",
          "name": "stdout",
          "text": [
            "(1,)\n"
          ]
        }
      ]
    },
    {
      "cell_type": "code",
      "source": [
        "# 6a How is the average salary of each departments?\n",
        "outcome=conn.execute('''\n",
        "SELECT Departments.Name, AVG(Employees.salary)\n",
        "FROM Employees JOIN Departments ON Employees.Department = Departments.code\n",
        "GROUP BY Departments.Name;\n",
        "''')\n",
        "\n",
        "for row in outcome:\n",
        "    print(row)"
      ],
      "metadata": {
        "id": "sjC52QSmcenE",
        "outputId": "656f8a3f-b3be-484f-cb67-cc91e56e08b4",
        "colab": {
          "base_uri": "https://localhost:8080/"
        }
      },
      "execution_count": 35,
      "outputs": [
        {
          "output_type": "stream",
          "name": "stdout",
          "text": [
            "('Accounting', 45000.0)\n",
            "('Human Resources', 55000.0)\n",
            "('IT', 88500.0)\n",
            "('R&D', 105000.0)\n"
          ]
        }
      ]
    },
    {
      "cell_type": "code",
      "source": [
        "# List employees in the All departments (in decending order)\n",
        "outcome=conn.execute('''\n",
        "SELECT Departments.Name, Employees.Name\n",
        "FROM Employees JOIN Departments ON Employees.Department = Departments.code\n",
        "ORDER BY Departments.Name DESC;\n",
        "''')\n",
        "for row in outcome:\n",
        "    print(row)"
      ],
      "metadata": {
        "colab": {
          "base_uri": "https://localhost:8080/"
        },
        "id": "uwSTgbGsodeA",
        "outputId": "527b3802-5a8b-4033-b3d0-d4336cbce8d5"
      },
      "execution_count": 33,
      "outputs": [
        {
          "output_type": "stream",
          "name": "stdout",
          "text": [
            "('R&D', 'Nick')\n",
            "('IT', 'John')\n",
            "('IT', 'Jim')\n",
            "('IT', 'Jane')\n",
            "('Human Resources', 'Sarah')\n",
            "('Accounting', 'Jane')\n"
          ]
        }
      ]
    },
    {
      "cell_type": "code",
      "source": [
        "# 7. Count how many employees in the each departments\n",
        "outcome=conn.execute('''\n",
        "SELECT Departments.Name, COUNT(Employees.Name)\n",
        "FROM Employees JOIN Departments ON Employees.Department = Departments.code\n",
        "GROUP BY Departments.Name;\n",
        "''')\n",
        "for row in outcome:\n",
        "    print(row)"
      ],
      "metadata": {
        "colab": {
          "base_uri": "https://localhost:8080/"
        },
        "id": "7TPgpa3fqusr",
        "outputId": "2be0c7eb-6047-4376-a66e-d4b1440064ff"
      },
      "execution_count": 34,
      "outputs": [
        {
          "output_type": "stream",
          "name": "stdout",
          "text": [
            "('Accounting', 1)\n",
            "('Human Resources', 1)\n",
            "('IT', 3)\n",
            "('R&D', 1)\n"
          ]
        }
      ]
    },
    {
      "cell_type": "code",
      "source": [
        "# why is the IT missing one employee? what if GROUP BY is changed to ORDER BY?\n",
        "outcome=conn.execute('''\n",
        "SELECT Departments.Name, Employees.Name, Employees.LastName\n",
        "FROM Employees JOIN Departments ON Employees.Department = Departments.code\n",
        "GROUP BY Departments.Name;\n",
        "''')\n",
        "for row in outcome:\n",
        "    print(row)"
      ],
      "metadata": {
        "id": "geRBCSUbOipn",
        "outputId": "2f9544e6-7047-4f1a-fb10-7504bb70a64c",
        "colab": {
          "base_uri": "https://localhost:8080/"
        }
      },
      "execution_count": 38,
      "outputs": [
        {
          "output_type": "stream",
          "name": "stdout",
          "text": [
            "('Accounting', 'Jane', 'Doe')\n",
            "('Human Resources', 'Sarah', 'Smith')\n",
            "('IT', 'John', 'Smith')\n",
            "('R&D', 'Nick', 'Tesla')\n"
          ]
        }
      ]
    }
  ]
}