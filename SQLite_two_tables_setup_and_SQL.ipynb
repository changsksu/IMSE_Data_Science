{
  "nbformat": 4,
  "nbformat_minor": 0,
  "metadata": {
    "colab": {
      "name": "SQLite two tables setup and SQL.ipynb",
      "provenance": [],
      "authorship_tag": "ABX9TyNELplO8N+dJgp8oIHKov98",
      "include_colab_link": true
    },
    "kernelspec": {
      "name": "python3",
      "display_name": "Python 3"
    },
    "language_info": {
      "name": "python"
    }
  },
  "cells": [
    {
      "cell_type": "markdown",
      "metadata": {
        "id": "view-in-github",
        "colab_type": "text"
      },
      "source": [
        "<a href=\"https://colab.research.google.com/github/changsksu/IMSE_Data_Science/blob/main/SQLite_two_tables_setup_and_SQL.ipynb\" target=\"_parent\"><img src=\"https://colab.research.google.com/assets/colab-badge.svg\" alt=\"Open In Colab\"/></a>"
      ]
    },
    {
      "cell_type": "markdown",
      "source": [
        "This code aims to demonstate the use of two tables connected by a third table with keys"
      ],
      "metadata": {
        "id": "B72Gg6RB0jDr"
      }
    },
    {
      "cell_type": "code",
      "execution_count": null,
      "metadata": {
        "id": "yYajmTvYjMFH"
      },
      "outputs": [],
      "source": [
        "import sqlite3"
      ]
    },
    {
      "cell_type": "code",
      "source": [
        "# the name of the db is called HR.db\n",
        "# SQLite will create this db if it does not exist, otherwise it will be connected\n",
        "conn=sqlite3.connect('HR2.db')\n"
      ],
      "metadata": {
        "id": "iHXMrDDijWAj"
      },
      "execution_count": null,
      "outputs": []
    },
    {
      "cell_type": "code",
      "source": [
        "# the name of two tables are Department & Employees\n",
        "# all datat based reserve words are in capital letters for clarification\n",
        "conn.execute('''\n",
        "CREATE TABLE IF NOT EXISTS Departments (\n",
        "            Code INTEGER PRIMARY KEY NOT NULL,\n",
        "            Name Text NOT NULL, \n",
        "            Budget REAL NOT NULL\n",
        ");''')\n",
        "conn.commit()\n",
        "print(\"Departments table created\")"
      ],
      "metadata": {
        "colab": {
          "base_uri": "https://localhost:8080/"
        },
        "id": "p01uXiBIjxO0",
        "outputId": "63aded7e-c228-433a-f010-5c9089117e79"
      },
      "execution_count": null,
      "outputs": [
        {
          "output_type": "stream",
          "name": "stdout",
          "text": [
            "Departments table created\n"
          ]
        }
      ]
    },
    {
      "cell_type": "code",
      "source": [
        "# the name of two tables are Department & Employees\n",
        "# all datat based reserve words are in capital letters for clarification\n",
        "conn.execute('''\n",
        "CREATE TABLE IF NOT EXISTS Employees (\n",
        "            SID INTEGER PRIMARY KEY NOT NULL,\n",
        "            Name Text NOT NULL,\n",
        "            LastName VARCHAR NOT NULL,\n",
        "            Department INTEGER NOT NULL,\n",
        "            Salary INTEGER NOT NULL,\n",
        "            CONSTRAINT fk_Department_code FOREIGN KEY(Department) \n",
        "            REFERENCES Departments(Code)\n",
        ");''')\n",
        "conn.commit()\n",
        "print(\"Employees table created\")"
      ],
      "metadata": {
        "colab": {
          "base_uri": "https://localhost:8080/"
        },
        "id": "hIyb3t_cRMJw",
        "outputId": "0cc21428-b5cc-4967-b59e-1572aa973644"
      },
      "execution_count": null,
      "outputs": [
        {
          "output_type": "stream",
          "name": "stdout",
          "text": [
            "Employees table created\n"
          ]
        }
      ]
    },
    {
      "cell_type": "code",
      "source": [
        "# insert data into the Departments table\n",
        "# since the data is already there and the primary key will prevent a new entry witht the same key\n",
        "conn.execute(\"INSERT INTO Departments(Code, Name, Budget) VALUES(14, 'IT', 650000);\")\n",
        "conn.execute(\"INSERT INTO Departments(Code, Name, Budget) VALUES(37, 'Accounting', 150000);\")\n",
        "conn.execute(\"INSERT INTO Departments(Code, Name, Budget) VALUES(59, 'Human Resources', 250000);\")\n",
        "conn.execute(\"INSERT INTO Departments(Code, Name, Budget) VALUES(77, 'R&D', 550000);\")"
      ],
      "metadata": {
        "colab": {
          "base_uri": "https://localhost:8080/"
        },
        "id": "QS0MWiFaSi1-",
        "outputId": "d1b7b5c3-acac-45af-ad4c-4f4c61f312d8"
      },
      "execution_count": null,
      "outputs": [
        {
          "output_type": "execute_result",
          "data": {
            "text/plain": [
              "<sqlite3.Cursor at 0x7fc90b9c5a40>"
            ]
          },
          "metadata": {},
          "execution_count": 35
        }
      ]
    },
    {
      "cell_type": "code",
      "source": [
        "conn.execute(\"INSERT INTO Employees(SID, Name, LastName, Department, Salary) VALUES(1, 'John', 'Smith', 14, 85000);\")\n",
        "conn.execute(\"INSERT INTO Employees(SID, Name, LastName, Department, Salary) VALUES(2, 'Jim', 'Anderson', 14, 95000);\")\n",
        "conn.execute(\"INSERT INTO Employees(SID, Name, LastName, Department, Salary) VALUES(3, 'Jane', 'Doe', 37, 45000);\")\n",
        "conn.execute(\"INSERT INTO Employees(SID, Name, LastName, Department, Salary) VALUES(4, 'Sarah', 'Smith', 59, 55000);\")\n",
        "conn.execute(\"INSERT INTO Employees(SID, Name, LastName, Department, Salary) VALUES(5, 'Nick', 'Tesla', 77, 105000);\")"
      ],
      "metadata": {
        "colab": {
          "base_uri": "https://localhost:8080/"
        },
        "id": "5ernEdU8TzK-",
        "outputId": "4cb259c6-0aab-4a1d-bd53-a6a4b96733cb"
      },
      "execution_count": null,
      "outputs": [
        {
          "output_type": "execute_result",
          "data": {
            "text/plain": [
              "<sqlite3.Cursor at 0x7fc90b94bea0>"
            ]
          },
          "metadata": {},
          "execution_count": 36
        }
      ]
    },
    {
      "cell_type": "code",
      "source": [
        "# Use SQL command to retrieva all data\n",
        "outcome=conn.execute(\"SELECT * FROM Departments\")\n",
        "for row in outcome:\n",
        "    print(row)"
      ],
      "metadata": {
        "colab": {
          "base_uri": "https://localhost:8080/"
        },
        "id": "Te9IL76IlZuV",
        "outputId": "b1259733-6c21-4d98-820c-a42d9104feda"
      },
      "execution_count": null,
      "outputs": [
        {
          "output_type": "stream",
          "name": "stdout",
          "text": [
            "(14, 'IT', 650000.0)\n",
            "(37, 'Accounting', 150000.0)\n",
            "(59, 'Human Resources', 250000.0)\n",
            "(77, 'R&D', 550000.0)\n"
          ]
        }
      ]
    },
    {
      "cell_type": "code",
      "source": [
        "# Use SQL command to retrieva all data from the Employees table\n",
        "outcome=conn.execute(\"SELECT * FROM Employees\")\n",
        "for row in outcome:\n",
        "    print(row)"
      ],
      "metadata": {
        "colab": {
          "base_uri": "https://localhost:8080/"
        },
        "id": "UIxGlHn5Vc76",
        "outputId": "b89aa149-0cd4-46be-fb37-6f24b1ef1c49"
      },
      "execution_count": null,
      "outputs": [
        {
          "output_type": "stream",
          "name": "stdout",
          "text": [
            "(1, 'John', 'Smith', 14, 85000)\n",
            "(2, 'Jim', 'Anderson', 14, 95000)\n",
            "(3, 'Jane', 'Doe', 37, 45000)\n",
            "(4, 'Sarah', 'Smith', 59, 55000)\n",
            "(5, 'Nick', 'Tesla', 77, 105000)\n"
          ]
        }
      ]
    },
    {
      "cell_type": "code",
      "source": [
        "# 1. conditional SQL for all departments with annual budget over 500K \n",
        "outcome=conn.execute(\"SELECT * FROM Departments WHERE Budget > 500000\")\n",
        "for row in outcome:\n",
        "    print(row)"
      ],
      "metadata": {
        "colab": {
          "base_uri": "https://localhost:8080/"
        },
        "id": "jIrgUasZx_7D",
        "outputId": "6dc2f303-ebc2-4b1f-e331-c19764a28287"
      },
      "execution_count": null,
      "outputs": [
        {
          "output_type": "stream",
          "name": "stdout",
          "text": [
            "(14, 'IT', 650000.0)\n",
            "(77, 'R&D', 550000.0)\n"
          ]
        }
      ]
    },
    {
      "cell_type": "code",
      "source": [
        "# List all employees in the IT department\n",
        "# Note that the we already know the IT code is 14\n",
        "outcome=conn.execute(\"SELECT name, LastName FROM Employees WHERE Department = 14\")\n",
        "for row in outcome:\n",
        "    print(row)"
      ],
      "metadata": {
        "colab": {
          "base_uri": "https://localhost:8080/"
        },
        "id": "K-VoQo_sbBPT",
        "outputId": "2f4d50e2-3a3a-4e16-da4c-9f03261bce61"
      },
      "execution_count": null,
      "outputs": [
        {
          "output_type": "stream",
          "name": "stdout",
          "text": [
            "('John', 'Smith')\n",
            "('Jim', 'Anderson')\n"
          ]
        }
      ]
    },
    {
      "cell_type": "code",
      "source": [
        "# What if we don't know the IT code\n",
        "# We use JOIN ON to link two tables: Employees.Depart is linked to Departments.code\n",
        "\n",
        "outcome=conn.execute(\"SELECT Employees.Name, LastName FROM Employees JOIN Departments ON Employees.Department = Departments.code WHERE Departments.Name = 'IT'\")\n",
        "for row in outcome:\n",
        "    print(row)"
      ],
      "metadata": {
        "colab": {
          "base_uri": "https://localhost:8080/"
        },
        "id": "LgydclCib29a",
        "outputId": "fc4ce968-46cd-4616-b097-90b7e99794f3"
      },
      "execution_count": null,
      "outputs": [
        {
          "output_type": "stream",
          "name": "stdout",
          "text": [
            "('John', 'Smith')\n",
            "('Jim', 'Anderson')\n"
          ]
        }
      ]
    },
    {
      "cell_type": "code",
      "source": [
        "# 3. Sort all employees by department code\n",
        "# Your turn: finish the missing information\n",
        "# DESC for decending order\n",
        "outcome=conn.execute('''\n",
        "SELECT Departments.Name, Employees.Name, LastName \n",
        "FROM Employees JOIN Departments ON Employees.Department = Departments.code \n",
        "ORDER BY Departments.Code ASC;\n",
        "''')\n",
        "for row in outcome:\n",
        "    print(row)"
      ],
      "metadata": {
        "id": "yNDsnSI4fOsA",
        "colab": {
          "base_uri": "https://localhost:8080/"
        },
        "outputId": "474359ad-f9f8-4392-ae62-66a18b068dca"
      },
      "execution_count": null,
      "outputs": [
        {
          "output_type": "stream",
          "name": "stdout",
          "text": [
            "('IT', 'John', 'Smith')\n",
            "('IT', 'Jim', 'Anderson')\n",
            "('Accounting', 'Jane', 'Doe')\n",
            "('Human Resources', 'Sarah', 'Smith')\n",
            "('R&D', 'Nick', 'Tesla')\n"
          ]
        }
      ]
    },
    {
      "cell_type": "code",
      "source": [
        "# 5 Who is the highest paid employee\n",
        "# function MAX() is used \n",
        "outcome=conn.execute(\"SELECT Name, LastName, MAX(Salary) FROM Employees\")\n",
        "for row in outcome:\n",
        "    print(row)"
      ],
      "metadata": {
        "colab": {
          "base_uri": "https://localhost:8080/"
        },
        "id": "LS3c7J-nr1in",
        "outputId": "375a76a0-0400-4b56-81dd-1b6ef37a0c7b"
      },
      "execution_count": null,
      "outputs": [
        {
          "output_type": "stream",
          "name": "stdout",
          "text": [
            "('Nick', 'Tesla', 105000)\n"
          ]
        }
      ]
    },
    {
      "cell_type": "code",
      "source": [
        "# 6 How many employees in the research (R&D) department\n",
        "outcome=conn.execute('''\n",
        "SELECT COUNT(*)\n",
        "FROM Employees JOIN Departments ON Employees.Department = Departments.code \n",
        "WHERE Departments.Name = 'R&D';\n",
        "''')\n",
        "for row in outcome:\n",
        "    print(row)\n"
      ],
      "metadata": {
        "colab": {
          "base_uri": "https://localhost:8080/"
        },
        "id": "0jK8hKI1myyO",
        "outputId": "59111b39-ae14-4d03-ad95-1613fa309a20"
      },
      "execution_count": null,
      "outputs": [
        {
          "output_type": "stream",
          "name": "stdout",
          "text": [
            "(1,)\n"
          ]
        }
      ]
    },
    {
      "cell_type": "code",
      "source": [
        "# List employees in the All departments (in decending order)\n",
        "outcome=conn.execute('''\n",
        "SELECT Departments.Name, Employees.Name \n",
        "FROM Employees JOIN Departments ON Employees.Department = Departments.code \n",
        "ORDER BY Departments.Name DESC;\n",
        "''')\n",
        "for row in outcome:\n",
        "    print(row)"
      ],
      "metadata": {
        "colab": {
          "base_uri": "https://localhost:8080/"
        },
        "id": "uwSTgbGsodeA",
        "outputId": "6d6216fd-7c40-4258-e48b-f877a4a38f69"
      },
      "execution_count": null,
      "outputs": [
        {
          "output_type": "stream",
          "name": "stdout",
          "text": [
            "('R&D', 'Nick')\n",
            "('IT', 'John')\n",
            "('IT', 'Jim')\n",
            "('Human Resources', 'Sarah')\n",
            "('Accounting', 'Jane')\n"
          ]
        }
      ]
    },
    {
      "cell_type": "code",
      "source": [
        "# Count how many employees in the each departments\n",
        "outcome=conn.execute('''\n",
        "SELECT Departments.Name, COUNT(Employees.Name) \n",
        "FROM Employees JOIN Departments ON Employees.Department = Departments.code \n",
        "GROUP BY Departments.Name;\n",
        "''')\n",
        "for row in outcome:\n",
        "    print(row)"
      ],
      "metadata": {
        "colab": {
          "base_uri": "https://localhost:8080/"
        },
        "id": "7TPgpa3fqusr",
        "outputId": "5868e77d-bb94-496e-ba1e-626973d1de2a"
      },
      "execution_count": null,
      "outputs": [
        {
          "output_type": "stream",
          "name": "stdout",
          "text": [
            "('Accounting', 1)\n",
            "('Human Resources', 1)\n",
            "('IT', 2)\n",
            "('R&D', 1)\n"
          ]
        }
      ]
    }
  ]
}