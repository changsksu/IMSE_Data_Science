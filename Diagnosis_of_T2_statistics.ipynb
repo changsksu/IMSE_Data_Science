{
  "nbformat": 4,
  "nbformat_minor": 0,
  "metadata": {
    "colab": {
      "name": "Diagnosis of T2 statistics.ipynb",
      "provenance": [],
      "collapsed_sections": [],
      "authorship_tag": "ABX9TyNfivttroKx7XlCpzxULQ/s",
      "include_colab_link": true
    },
    "kernelspec": {
      "name": "python3",
      "display_name": "Python 3"
    },
    "language_info": {
      "name": "python"
    }
  },
  "cells": [
    {
      "cell_type": "markdown",
      "metadata": {
        "id": "view-in-github",
        "colab_type": "text"
      },
      "source": [
        "<a href=\"https://colab.research.google.com/github/changsksu/IMSE_Data_Science/blob/main/Diagnosis_of_T2_statistics.ipynb\" target=\"_parent\"><img src=\"https://colab.research.google.com/assets/colab-badge.svg\" alt=\"Open In Colab\"/></a>"
      ]
    },
    {
      "cell_type": "markdown",
      "metadata": {
        "id": "e-5Qgbn8Drpq"
      },
      "source": [
        "# This code demonstrates how you can identify which dimension contribute the most in T2 statistics\n",
        "---\n",
        "Note that this code should work for the Phase I of the control charting. Use the mean vector mean1 and covariance matrix cov1 estimated from the Phase I data set for the Phase II charting."
      ]
    },
    {
      "cell_type": "code",
      "metadata": {
        "id": "-3_WWwTZwrro"
      },
      "source": [
        "# Import required libraries\n",
        "from scipy.stats import beta\n",
        "from scipy.stats import f\n",
        "from scipy.stats import multivariate_normal\n",
        "import numpy as np\n",
        "import statistics\n",
        "import matplotlib.pyplot as plt\n",
        "from matplotlib.ticker import PercentFormatter\n",
        "import seaborn as sns\n",
        "import pandas as pd\n",
        "plt.style.use('seaborn-colorblind')"
      ],
      "execution_count": null,
      "outputs": []
    },
    {
      "cell_type": "markdown",
      "source": [
        "# Montgomery Intro to SQC 8ed 2020 Wiley. pp 469 Example\n",
        "\n",
        "---\n",
        "\n",
        "consider the standardized mean vector of [0,0,0] for p=3 and correlation matrix of 0.9 correlation element everywhere"
      ],
      "metadata": {
        "id": "qQpIhUvVAn2X"
      }
    },
    {
      "cell_type": "code",
      "source": [
        "mu=np.array([0,0,0])\n",
        "covAll = np.array([[1,0.9,0.9], [0.9,1,0.9], [0.9,0.9,1]])\n",
        "#Case A:\n",
        "x =np.array([2,0,0]) - mu\n",
        "# compute the \n",
        "matinv = np.linalg.inv(covAll)\n",
        "T2_all=matinv.dot(x.T).dot(x)\n",
        "print(\"T2_all=\", T2_all)\n",
        "# d1 \n",
        "x1 =np.array(x[1:3])\n",
        "covminus1=covAll[1:3, 1:3]\n",
        "matinv1 = np.linalg.inv(covminus1)\n",
        "T2_1=matinv1.dot(x1.T).dot(x1)\n",
        "d1=T2_all - T2_1\n",
        "print(\"T2(1)=\", T2_1)\n",
        "print(\"d1=\", d1)\n",
        "# d2\n",
        "x2 =np.array([x[0],x[2]])\n",
        "covminus2=np.array([covAll[0,0], covAll[0,2], covAll[2,0], covAll[2,2]])\n",
        "covminus2=np.reshape(covminus2, (2,2))\n",
        "matinv2 = np.linalg.inv(covminus2)\n",
        "T2_2=matinv2.dot(x2.T).dot(x2)\n",
        "d2=T2_all - T2_2\n",
        "print(\"T2(2)=\", T2_2)\n",
        "print(\"d2=\", d2)\n",
        "# d3\n",
        "x3 =np.array(x[0:2])\n",
        "covminus3=covAll[0:2, 0:2]\n",
        "matinv3 = np.linalg.inv(covminus3)\n",
        "T2_3=matinv3.dot(x3.T).dot(x3)\n",
        "d3=T2_all - T2_3\n",
        "print(\"T2(3)=\", T2_3)\n",
        "print(\"d3=\", d3)"
      ],
      "metadata": {
        "colab": {
          "base_uri": "https://localhost:8080/"
        },
        "id": "IyXebOwquWEK",
        "outputId": "30dc3f2b-05f8-4e08-b5ad-a111346fcf28"
      },
      "execution_count": null,
      "outputs": [
        {
          "output_type": "stream",
          "name": "stdout",
          "text": [
            "T2_all= 27.142857142857146\n",
            "T2(1)= 0.0\n",
            "d1= 27.142857142857146\n",
            "T2(2)= 21.052631578947373\n",
            "d2= 6.090225563909772\n",
            "T2(3)= 21.052631578947373\n",
            "d3= 6.090225563909772\n"
          ]
        }
      ]
    },
    {
      "cell_type": "code",
      "source": [
        "covAll = np.array([[1,0.9,0.9], [0.9,1,0.9], [0.9,0.9,1]])\n",
        "#Case B:\n",
        "x =np.array([1,1,-1]) \n",
        "# compute the \n",
        "matinv = np.linalg.inv(covAll)\n",
        "T2_all=matinv.dot(x.T).dot(x)\n",
        "print(\"T2_all=\", T2_all)\n",
        "# d1 \n",
        "x1 =np.array(x[1:3])\n",
        "covminus1=covAll[1:3, 1:3]\n",
        "matinv1 = np.linalg.inv(covminus1)\n",
        "T2_1=matinv1.dot(x1.T).dot(x1)\n",
        "d1=T2_all - T2_1\n",
        "print(\"T2(1)=\", T2_1)\n",
        "print(\"d1=\", d1)\n",
        "# d2\n",
        "x2 =np.array([x[0],x[2]])\n",
        "covminus2=np.array([covAll[0,0], covAll[0,2], covAll[2,0], covAll[2,2]])\n",
        "covminus2=np.reshape(covminus2, (2,2))\n",
        "matinv2 = np.linalg.inv(covminus2)\n",
        "T2_2=matinv2.dot(x2.T).dot(x2)\n",
        "d2=T2_all - T2_2\n",
        "print(\"T2(2)=\", T2_2)\n",
        "print(\"d2=\", d2)\n",
        "# d3\n",
        "x3 =np.array(x[0:2])\n",
        "covminus3=covAll[0:2, 0:2]\n",
        "matinv3 = np.linalg.inv(covminus3)\n",
        "T2_3=matinv3.dot(x3.T).dot(x3)\n",
        "d3=T2_all - T2_3\n",
        "print(\"T2(3)=\", T2_3)\n",
        "print(\"d3=\", d3)"
      ],
      "metadata": {
        "colab": {
          "base_uri": "https://localhost:8080/"
        },
        "id": "zUT726-8_ibN",
        "outputId": "1d1102e7-3d0a-49ab-b8ef-a79fe9421cd9"
      },
      "execution_count": null,
      "outputs": [
        {
          "output_type": "stream",
          "name": "stdout",
          "text": [
            "T2_all= 26.78571428571428\n",
            "T2(1)= 20.000000000000007\n",
            "d1= 6.785714285714274\n",
            "T2(2)= 20.000000000000007\n",
            "d2= 6.785714285714274\n",
            "T2(3)= 1.0526315789473681\n",
            "d3= 25.733082706766915\n"
          ]
        }
      ]
    },
    {
      "cell_type": "code",
      "metadata": {
        "id": "LEs7F25yhoUD"
      },
      "source": [
        "# retrive data for Drug Effect data k=3\n",
        "data = pd.read_csv('https://raw.githubusercontent.com/changsksu/K-State-IMSE641/master/Hotelling_T2.csv', sep=',', na_values=\".\")\n",
        "#generate the Phase I data using filter\n",
        "#use the first 18 observations to setup the control charts\n",
        "dataI= [data[['Fever', 'Pressure', 'Aches']][data['ID'] == \"Placebo\"]]\n",
        "\n",
        "#retrieve the Phase II data\n",
        "dataII= [data[['Fever', 'Pressure', 'Aches']][data['ID'] == \"Drug\"]]\n",
        "\n",
        "#all data points; the data type is a list\n",
        "dataAll=[data[['Fever', 'Pressure', 'Aches']]]\n"
      ],
      "execution_count": null,
      "outputs": []
    },
    {
      "cell_type": "code",
      "metadata": {
        "id": "9kwCuRwjlp4k"
      },
      "source": [
        "# this np.reshape convert the list dataI into the proper subgroup and m=30\n",
        "# sample size n=5 is used for X-bar and R or X-bar and S chart\n",
        "x1=np.reshape(dataI, (18,3))\n",
        "x2=np.reshape(dataII, (20,3))\n",
        "x3=np.reshape(dataAll, (38,3))"
      ],
      "execution_count": null,
      "outputs": []
    },
    {
      "cell_type": "code",
      "source": [
        "# compute column means\n",
        "mean1=np.mean(x1, axis=0)\n",
        "mean2=np.mean(x2, axis=0)\n",
        "diff=mean1-mean2 #this is the difference in the mean vectors\n",
        "diff\n"
      ],
      "metadata": {
        "id": "gYP6p3Y9LKx8",
        "colab": {
          "base_uri": "https://localhost:8080/"
        },
        "outputId": "4a0e8b51-07a4-4b09-9348-3d947ac08f21"
      },
      "execution_count": null,
      "outputs": [
        {
          "output_type": "execute_result",
          "data": {
            "text/plain": [
              "array([ 0.75444444, -6.17222222,  1.81111111])"
            ]
          },
          "metadata": {},
          "execution_count": 61
        }
      ]
    },
    {
      "cell_type": "code",
      "source": [
        "# glean the mean vector without the first dimension\n",
        "diffminus1=diff[1:3]\n",
        "diffminus1"
      ],
      "metadata": {
        "colab": {
          "base_uri": "https://localhost:8080/"
        },
        "id": "03RxWZoGl-25",
        "outputId": "52bc1236-f1d9-41b5-a47d-b100379fc981"
      },
      "execution_count": null,
      "outputs": [
        {
          "output_type": "execute_result",
          "data": {
            "text/plain": [
              "array([-6.17222222,  1.81111111])"
            ]
          },
          "metadata": {},
          "execution_count": 31
        }
      ]
    },
    {
      "cell_type": "code",
      "source": [
        "# glean the mean vector without the second dimension\n",
        "diffminus2=np.array([diff[0],diff[2]])\n",
        "diffminus2"
      ],
      "metadata": {
        "colab": {
          "base_uri": "https://localhost:8080/"
        },
        "id": "zaTZQm22bK1i",
        "outputId": "5617688f-ea3d-4b12-e3e4-e0d3e3be1d64"
      },
      "execution_count": null,
      "outputs": [
        {
          "output_type": "execute_result",
          "data": {
            "text/plain": [
              "array([0.75444444, 1.81111111])"
            ]
          },
          "metadata": {},
          "execution_count": 33
        }
      ]
    },
    {
      "cell_type": "code",
      "source": [
        "# glean the mean vector without the third dimension\n",
        "diffminus3=diff[0:2]\n",
        "diffminus3"
      ],
      "metadata": {
        "colab": {
          "base_uri": "https://localhost:8080/"
        },
        "id": "R4UbS6X-bgvQ",
        "outputId": "b039dbdc-0b58-458b-ffca-21d529df3293"
      },
      "execution_count": null,
      "outputs": [
        {
          "output_type": "execute_result",
          "data": {
            "text/plain": [
              "array([ 0.75444444, -6.17222222])"
            ]
          },
          "metadata": {},
          "execution_count": 34
        }
      ]
    },
    {
      "cell_type": "code",
      "source": [
        "# compute the covariance matrix assuming the covariance stay the same\n",
        "covAll = np.cov(x3.T)\n",
        "covAll"
      ],
      "metadata": {
        "colab": {
          "base_uri": "https://localhost:8080/"
        },
        "id": "eg-ledmjMFt9",
        "outputId": "b0196192-523b-49c4-d4e7-3d89d7c83fe2"
      },
      "execution_count": null,
      "outputs": [
        {
          "output_type": "execute_result",
          "data": {
            "text/plain": [
              "array([[  1.47877667, -11.09046942,   2.32475107],\n",
              "       [-11.09046942, 177.17496444, -35.65291607],\n",
              "       [  2.32475107, -35.65291607,  28.40682788]])"
            ]
          },
          "metadata": {},
          "execution_count": 62
        }
      ]
    },
    {
      "cell_type": "code",
      "source": [
        "# compute the inverse of the covariance matrix with p=3\n",
        "matinvAll = np.linalg.inv(covAll)\n",
        "matinvAll"
      ],
      "metadata": {
        "colab": {
          "base_uri": "https://localhost:8080/"
        },
        "id": "8hng0t3GMg-z",
        "outputId": "84ddffd1-c6c5-446e-8bab-7cee495a1dc5"
      },
      "execution_count": null,
      "outputs": [
        {
          "output_type": "execute_result",
          "data": {
            "text/plain": [
              "array([[ 1.27526853,  0.07870267, -0.00558677],\n",
              "       [ 0.07870267,  0.0124084 ,  0.00913271],\n",
              "       [-0.00558677,  0.00913271,  0.04712232]])"
            ]
          },
          "metadata": {},
          "execution_count": 63
        }
      ]
    },
    {
      "cell_type": "code",
      "source": [
        "# compute the T2 values with all dimensions\n",
        "T2_all=matinvAll.dot(diff.T).dot(diff)\n",
        "T2_all"
      ],
      "metadata": {
        "colab": {
          "base_uri": "https://localhost:8080/"
        },
        "id": "1GwC55BNb-jd",
        "outputId": "1c47d93b-9474-4fe8-af54-0bd21acdf33c"
      },
      "execution_count": null,
      "outputs": [
        {
          "output_type": "execute_result",
          "data": {
            "text/plain": [
              "0.4007245804210801"
            ]
          },
          "metadata": {},
          "execution_count": 64
        }
      ]
    },
    {
      "cell_type": "code",
      "source": [
        "# compute the T2 values with all dimensions\n",
        "covminus1=covAll[0:2, 0:2]\n",
        "matinv1 = np.linalg.inv(covminus1)\n",
        "covminus1"
      ],
      "metadata": {
        "colab": {
          "base_uri": "https://localhost:8080/"
        },
        "id": "yYVnjdNqcaNh",
        "outputId": "3d7fc282-15fd-4dbe-ed6a-fd2b0ceb7a4e"
      },
      "execution_count": null,
      "outputs": [
        {
          "output_type": "execute_result",
          "data": {
            "text/plain": [
              "array([[  1.47877667, -11.09046942],\n",
              "       [-11.09046942, 177.17496444]])"
            ]
          },
          "metadata": {},
          "execution_count": 40
        }
      ]
    },
    {
      "cell_type": "code",
      "source": [
        "T2_1=matinv1.dot(diffminus1.T).dot(diffminus1)\n",
        "T2_1"
      ],
      "metadata": {
        "colab": {
          "base_uri": "https://localhost:8080/"
        },
        "id": "CU575MBNk_Cj",
        "outputId": "d78e2bfa-75cf-454d-c447-8e2d7b5fb5ae"
      },
      "execution_count": null,
      "outputs": [
        {
          "output_type": "execute_result",
          "data": {
            "text/plain": [
              "46.80893340539867"
            ]
          },
          "metadata": {},
          "execution_count": 65
        }
      ]
    },
    {
      "cell_type": "code",
      "source": [
        "d1=T2_all - T2_1\n",
        "d1"
      ],
      "metadata": {
        "colab": {
          "base_uri": "https://localhost:8080/"
        },
        "id": "PEPrY_Kkn_AZ",
        "outputId": "0cbeeb7f-bc92-4641-febd-f9753a8db0c2"
      },
      "execution_count": null,
      "outputs": [
        {
          "output_type": "execute_result",
          "data": {
            "text/plain": [
              "-46.40820882497759"
            ]
          },
          "metadata": {},
          "execution_count": 66
        }
      ]
    },
    {
      "cell_type": "code",
      "source": [
        "# compute the T2 values with all dimensions except the second & d2\n",
        "covminus2=np.array([covAll[0,0], covAll[0,2], covAll[2,0], covAll[2,2]])\n",
        "covminus2=np.reshape(covminus2, (2,2))\n",
        "matinv2 = np.linalg.inv(covminus2)\n",
        "T2_2=matinv2.dot(diffminus2.T).dot(diffminus2)\n",
        "d2=T2_all - T2_2\n",
        "print(T2_2)\n",
        "print(\"d2=\", d2)"
      ],
      "metadata": {
        "colab": {
          "base_uri": "https://localhost:8080/"
        },
        "id": "z9ZM0mnrsp_E",
        "outputId": "e8b05e92-0645-44ac-93e7-7520e4a9c11a"
      },
      "execution_count": null,
      "outputs": [
        {
          "output_type": "stream",
          "name": "stdout",
          "text": [
            "0.40068837764699694\n",
            "d2= 3.620277408317163e-05\n"
          ]
        }
      ]
    },
    {
      "cell_type": "code",
      "source": [
        "# compute the T2 values with all dimensions except the third & d3\n",
        "covminus3=covAll[1:3, 1:3]\n",
        "matinv3 = np.linalg.inv(covminus3)\n",
        "T2_3=matinv3.dot(diffminus3.T).dot(diffminus3)\n",
        "d3=T2_all - T2_3\n",
        "print(T2_3)\n",
        "print(\"d3=\", d3)\n"
      ],
      "metadata": {
        "colab": {
          "base_uri": "https://localhost:8080/"
        },
        "id": "QWR66ubGuYkU",
        "outputId": "11d9e3fa-e450-4dc6-f9b0-669f7d8d6cf4"
      },
      "execution_count": null,
      "outputs": [
        {
          "output_type": "stream",
          "name": "stdout",
          "text": [
            "1.7102873471071467\n",
            "d3= -1.3095627666860665\n"
          ]
        }
      ]
    },
    {
      "cell_type": "markdown",
      "source": [
        "# Your turn: try other cases x=(1,-1,0) and (0.5,0.5,1)\n",
        "\n",
        "---\n",
        "Draw conclusions of these cases. Which cases do the proposed method fails to address?\n"
      ],
      "metadata": {
        "id": "Xns_MZBh_zCM"
      }
    }
  ]
}