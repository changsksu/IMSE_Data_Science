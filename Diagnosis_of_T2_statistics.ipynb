{
  "nbformat": 4,
  "nbformat_minor": 0,
  "metadata": {
    "colab": {
      "name": "Diagnosis of T2 statistics.ipynb",
      "provenance": [],
      "collapsed_sections": [],
      "authorship_tag": "ABX9TyNLQtRMBapdkxDziY8HOSrR",
      "include_colab_link": true
    },
    "kernelspec": {
      "name": "python3",
      "display_name": "Python 3"
    },
    "language_info": {
      "name": "python"
    }
  },
  "cells": [
    {
      "cell_type": "markdown",
      "metadata": {
        "id": "view-in-github",
        "colab_type": "text"
      },
      "source": [
        "<a href=\"https://colab.research.google.com/github/changsksu/IMSE_Data_Science/blob/main/Diagnosis_of_T2_statistics.ipynb\" target=\"_parent\"><img src=\"https://colab.research.google.com/assets/colab-badge.svg\" alt=\"Open In Colab\"/></a>"
      ]
    },
    {
      "cell_type": "markdown",
      "metadata": {
        "id": "e-5Qgbn8Drpq"
      },
      "source": [
        "# This code demonstrates how you can identify which dimensions contribute the most in T2 statistics\n",
        "---\n",
        "Note that this code should work for the Phase I of the control charting. Use the mean vector mean1 and covariance matrix cov1 estimated from the Phase I data set for the Phase II charting."
      ]
    },
    {
      "cell_type": "code",
      "metadata": {
        "id": "-3_WWwTZwrro"
      },
      "source": [
        "# Import required libraries\n",
        "from scipy.stats import beta\n",
        "from scipy.stats import f\n",
        "from scipy.stats import multivariate_normal\n",
        "import numpy as np\n",
        "import statistics\n",
        "import matplotlib.pyplot as plt\n",
        "from matplotlib.ticker import PercentFormatter\n",
        "import seaborn as sns\n",
        "import pandas as pd\n",
        "plt.style.use('seaborn-colorblind')"
      ],
      "execution_count": null,
      "outputs": []
    },
    {
      "cell_type": "markdown",
      "source": [
        "# Montgomery Intro to SQC 8ed 2020 Wiley. pp 469 Example\n",
        "\n",
        "---\n",
        "\n",
        "consider the standardized mean vector of [0,0,0] for p=3 and correlation matrix of 0.9 correlation element everywhere"
      ],
      "metadata": {
        "id": "qQpIhUvVAn2X"
      }
    },
    {
      "cell_type": "code",
      "source": [
        "mu=np.array([0,0,0])\n",
        "covAll = np.array([[1,0.9,0.9], [0.9,1,0.9], [0.9,0.9,1]])\n",
        "#Case A:\n",
        "x =np.array([2,0,0]) - mu\n",
        "# compute the \n",
        "matinv = np.linalg.inv(covAll)\n",
        "T2_all=matinv.dot(x.T).dot(x)\n",
        "print(\"T2_all=\", T2_all)\n",
        "# d1 \n",
        "x1 =np.array(x[1:3])\n",
        "covminus1=covAll[1:3, 1:3]\n",
        "matinv1 = np.linalg.inv(covminus1)\n",
        "T2_1=matinv1.dot(x1.T).dot(x1)\n",
        "d1=T2_all - T2_1\n",
        "print(\"T2(1)=\", T2_1)\n",
        "print(\"d1=\", d1)\n",
        "# d2\n",
        "x2 =np.array([x[0],x[2]])\n",
        "covminus2=np.array([covAll[0,0], covAll[0,2], covAll[2,0], covAll[2,2]])\n",
        "covminus2=np.reshape(covminus2, (2,2))\n",
        "matinv2 = np.linalg.inv(covminus2)\n",
        "T2_2=matinv2.dot(x2.T).dot(x2)\n",
        "d2=T2_all - T2_2\n",
        "print(\"T2(2)=\", T2_2)\n",
        "print(\"d2=\", d2)\n",
        "# d3\n",
        "x3 =np.array(x[0:2])\n",
        "covminus3=covAll[0:2, 0:2]\n",
        "matinv3 = np.linalg.inv(covminus3)\n",
        "T2_3=matinv3.dot(x3.T).dot(x3)\n",
        "d3=T2_all - T2_3\n",
        "print(\"T2(3)=\", T2_3)\n",
        "print(\"d3=\", d3)"
      ],
      "metadata": {
        "colab": {
          "base_uri": "https://localhost:8080/"
        },
        "id": "IyXebOwquWEK",
        "outputId": "30dc3f2b-05f8-4e08-b5ad-a111346fcf28"
      },
      "execution_count": null,
      "outputs": [
        {
          "output_type": "stream",
          "name": "stdout",
          "text": [
            "T2_all= 27.142857142857146\n",
            "T2(1)= 0.0\n",
            "d1= 27.142857142857146\n",
            "T2(2)= 21.052631578947373\n",
            "d2= 6.090225563909772\n",
            "T2(3)= 21.052631578947373\n",
            "d3= 6.090225563909772\n"
          ]
        }
      ]
    },
    {
      "cell_type": "code",
      "source": [
        "covAll = np.array([[1,0.9,0.9], [0.9,1,0.9], [0.9,0.9,1]])\n",
        "#Case B:\n",
        "x =np.array([1,1,-1]) \n",
        "# compute the \n",
        "matinv = np.linalg.inv(covAll)\n",
        "T2_all=matinv.dot(x.T).dot(x)\n",
        "print(\"T2_all=\", T2_all)\n",
        "# d1 \n",
        "x1 =np.array(x[1:3])\n",
        "covminus1=covAll[1:3, 1:3]\n",
        "matinv1 = np.linalg.inv(covminus1)\n",
        "T2_1=matinv1.dot(x1.T).dot(x1)\n",
        "d1=T2_all - T2_1\n",
        "print(\"T2(1)=\", T2_1)\n",
        "print(\"d1=\", d1)\n",
        "# d2\n",
        "x2 =np.array([x[0],x[2]])\n",
        "covminus2=np.array([covAll[0,0], covAll[0,2], covAll[2,0], covAll[2,2]])\n",
        "covminus2=np.reshape(covminus2, (2,2))\n",
        "matinv2 = np.linalg.inv(covminus2)\n",
        "T2_2=matinv2.dot(x2.T).dot(x2)\n",
        "d2=T2_all - T2_2\n",
        "print(\"T2(2)=\", T2_2)\n",
        "print(\"d2=\", d2)\n",
        "# d3\n",
        "x3 =np.array(x[0:2])\n",
        "covminus3=covAll[0:2, 0:2]\n",
        "matinv3 = np.linalg.inv(covminus3)\n",
        "T2_3=matinv3.dot(x3.T).dot(x3)\n",
        "d3=T2_all - T2_3\n",
        "print(\"T2(3)=\", T2_3)\n",
        "print(\"d3=\", d3)"
      ],
      "metadata": {
        "colab": {
          "base_uri": "https://localhost:8080/"
        },
        "id": "zUT726-8_ibN",
        "outputId": "1d1102e7-3d0a-49ab-b8ef-a79fe9421cd9"
      },
      "execution_count": null,
      "outputs": [
        {
          "output_type": "stream",
          "name": "stdout",
          "text": [
            "T2_all= 26.78571428571428\n",
            "T2(1)= 20.000000000000007\n",
            "d1= 6.785714285714274\n",
            "T2(2)= 20.000000000000007\n",
            "d2= 6.785714285714274\n",
            "T2(3)= 1.0526315789473681\n",
            "d3= 25.733082706766915\n"
          ]
        }
      ]
    },
    {
      "cell_type": "markdown",
      "source": [
        "# Your turn: try other cases x=(1,-1,0) and (0.5,0.5,1)\n",
        "\n",
        "---\n",
        "Draw conclusions of these cases. Which cases do the proposed method fails to address?\n"
      ],
      "metadata": {
        "id": "Xns_MZBh_zCM"
      }
    },
    {
      "cell_type": "markdown",
      "source": [
        "# The following case is not related to T2 chart but compare two groups of Samples: Placebo vs Drug using the same method\n",
        "\n",
        "---\n",
        "Which symption(s) does the drug contribute to the most?\n"
      ],
      "metadata": {
        "id": "CfZ2ZhynNaqp"
      }
    },
    {
      "cell_type": "code",
      "metadata": {
        "id": "LEs7F25yhoUD"
      },
      "source": [
        "# retrive data for Drug Effect data k=3\n",
        "data = pd.read_csv('https://raw.githubusercontent.com/changsksu/K-State-IMSE641/master/Hotelling_T2.csv', sep=',', na_values=\".\")\n",
        "#generate the Phase I data using filter\n",
        "#use the first 18 observations to setup the control charts\n",
        "dataI= [data[['Fever', 'Pressure', 'Aches']][data['ID'] == \"Placebo\"]]\n",
        "\n",
        "#retrieve the Phase II data\n",
        "dataII= [data[['Fever', 'Pressure', 'Aches']][data['ID'] == \"Drug\"]]\n",
        "\n",
        "#all data points; the data type is a list\n",
        "dataAll=[data[['Fever', 'Pressure', 'Aches']]]\n"
      ],
      "execution_count": 115,
      "outputs": []
    },
    {
      "cell_type": "code",
      "metadata": {
        "id": "9kwCuRwjlp4k"
      },
      "source": [
        "# this np.reshape convert the list dataI into the proper subgroup and m=30\n",
        "# sample size n=5 is used for X-bar and R or X-bar and S chart\n",
        "x1=np.reshape(dataI, (18,3))\n",
        "x2=np.reshape(dataII, (20,3))\n",
        "x3=np.reshape(dataAll, (38,3))"
      ],
      "execution_count": 116,
      "outputs": []
    },
    {
      "cell_type": "code",
      "source": [
        "# compute column means\n",
        "mean1=np.mean(x1, axis=0)\n",
        "mean2=np.mean(x2, axis=0)\n",
        "diff=mean1-mean2 #this is the difference in the mean vectors\n",
        "diff\n"
      ],
      "metadata": {
        "id": "gYP6p3Y9LKx8",
        "colab": {
          "base_uri": "https://localhost:8080/"
        },
        "outputId": "245bfcf8-8972-4490-9731-09b1c27522e4"
      },
      "execution_count": 117,
      "outputs": [
        {
          "output_type": "execute_result",
          "data": {
            "text/plain": [
              "array([ 0.75444444, -6.17222222,  1.81111111])"
            ]
          },
          "metadata": {},
          "execution_count": 117
        }
      ]
    },
    {
      "cell_type": "code",
      "source": [
        "# glean the mean vector without the first dimension\n",
        "diffminus1=diff[1:3]\n",
        "diffminus1"
      ],
      "metadata": {
        "colab": {
          "base_uri": "https://localhost:8080/"
        },
        "id": "03RxWZoGl-25",
        "outputId": "6e7b7844-11af-40fe-bc3a-f73726688598"
      },
      "execution_count": 118,
      "outputs": [
        {
          "output_type": "execute_result",
          "data": {
            "text/plain": [
              "array([-6.17222222,  1.81111111])"
            ]
          },
          "metadata": {},
          "execution_count": 118
        }
      ]
    },
    {
      "cell_type": "code",
      "source": [
        "# glean the mean vector without the second dimension\n",
        "diffminus2=np.array([diff[0],diff[2]])\n",
        "diffminus2"
      ],
      "metadata": {
        "colab": {
          "base_uri": "https://localhost:8080/"
        },
        "id": "zaTZQm22bK1i",
        "outputId": "203981b3-4c3c-4bc3-f20a-314d4042e149"
      },
      "execution_count": 119,
      "outputs": [
        {
          "output_type": "execute_result",
          "data": {
            "text/plain": [
              "array([0.75444444, 1.81111111])"
            ]
          },
          "metadata": {},
          "execution_count": 119
        }
      ]
    },
    {
      "cell_type": "code",
      "source": [
        "# glean the mean vector without the third dimension\n",
        "diffminus3=diff[0:2]\n",
        "diffminus3"
      ],
      "metadata": {
        "colab": {
          "base_uri": "https://localhost:8080/"
        },
        "id": "R4UbS6X-bgvQ",
        "outputId": "28e9f8d0-0975-40e8-dda1-4f027ef734be"
      },
      "execution_count": 120,
      "outputs": [
        {
          "output_type": "execute_result",
          "data": {
            "text/plain": [
              "array([ 0.75444444, -6.17222222])"
            ]
          },
          "metadata": {},
          "execution_count": 120
        }
      ]
    },
    {
      "cell_type": "code",
      "source": [
        "# compute the covariance matrix assuming the covariance stay the same\n",
        "covAll = np.cov(x3.T)\n",
        "covAll"
      ],
      "metadata": {
        "colab": {
          "base_uri": "https://localhost:8080/"
        },
        "id": "eg-ledmjMFt9",
        "outputId": "ea5517e2-c736-4b71-c4ac-1b54b8b7bd20"
      },
      "execution_count": 121,
      "outputs": [
        {
          "output_type": "execute_result",
          "data": {
            "text/plain": [
              "array([[  1.47877667, -11.09046942,   2.32475107],\n",
              "       [-11.09046942, 177.17496444, -35.65291607],\n",
              "       [  2.32475107, -35.65291607,  28.40682788]])"
            ]
          },
          "metadata": {},
          "execution_count": 121
        }
      ]
    },
    {
      "cell_type": "code",
      "source": [
        "# Compute correlation matrix\n",
        "cofAll=data.corr()\n",
        "print(cofAll)"
      ],
      "metadata": {
        "colab": {
          "base_uri": "https://localhost:8080/"
        },
        "id": "tu5t9scUFK82",
        "outputId": "551c72fe-81b3-4109-eb24-30b377c1918a"
      },
      "execution_count": 122,
      "outputs": [
        {
          "output_type": "stream",
          "name": "stdout",
          "text": [
            "             Fever  Pressure     Aches\n",
            "Fever     1.000000 -0.685169  0.358685\n",
            "Pressure -0.685169  1.000000 -0.502554\n",
            "Aches     0.358685 -0.502554  1.000000\n"
          ]
        }
      ]
    },
    {
      "cell_type": "code",
      "source": [
        "cofPlacebo=data[0:18].corr()\n",
        "print(cofPlacebo)"
      ],
      "metadata": {
        "colab": {
          "base_uri": "https://localhost:8080/"
        },
        "id": "en3O7OkOFy-q",
        "outputId": "7000f82d-809c-4438-e9d1-c8a54cd89384"
      },
      "execution_count": 123,
      "outputs": [
        {
          "output_type": "stream",
          "name": "stdout",
          "text": [
            "             Fever  Pressure     Aches\n",
            "Fever     1.000000 -0.644218  0.107054\n",
            "Pressure -0.644218  1.000000 -0.436390\n",
            "Aches     0.107054 -0.436390  1.000000\n"
          ]
        }
      ]
    },
    {
      "cell_type": "code",
      "source": [
        "cofDrug=data[18:39].corr()\n",
        "print(cofDrug)"
      ],
      "metadata": {
        "colab": {
          "base_uri": "https://localhost:8080/"
        },
        "id": "Mj0SGSANGDM0",
        "outputId": "8f8a4d52-7bae-4a49-c7f4-6495ce2fffd5"
      },
      "execution_count": 124,
      "outputs": [
        {
          "output_type": "stream",
          "name": "stdout",
          "text": [
            "             Fever  Pressure     Aches\n",
            "Fever     1.000000 -0.681607  0.516681\n",
            "Pressure -0.681607  1.000000 -0.521963\n",
            "Aches     0.516681 -0.521963  1.000000\n"
          ]
        }
      ]
    },
    {
      "cell_type": "code",
      "source": [
        "# compute the inverse of the covariance matrix with p=3\n",
        "matinvAll = np.linalg.inv(covAll)\n",
        "matinvAll"
      ],
      "metadata": {
        "colab": {
          "base_uri": "https://localhost:8080/"
        },
        "id": "8hng0t3GMg-z",
        "outputId": "821776d1-2e9a-4105-f215-c229a171614c"
      },
      "execution_count": 126,
      "outputs": [
        {
          "output_type": "execute_result",
          "data": {
            "text/plain": [
              "array([[ 1.27526853,  0.07870267, -0.00558677],\n",
              "       [ 0.07870267,  0.0124084 ,  0.00913271],\n",
              "       [-0.00558677,  0.00913271,  0.04712232]])"
            ]
          },
          "metadata": {},
          "execution_count": 126
        }
      ]
    },
    {
      "cell_type": "code",
      "source": [
        "# compute the T2 values with all dimensions\n",
        "T2_all=matinvAll.dot(diff.T).dot(diff)\n",
        "T2_all"
      ],
      "metadata": {
        "colab": {
          "base_uri": "https://localhost:8080/"
        },
        "id": "1GwC55BNb-jd",
        "outputId": "492314e2-f066-4894-e78f-48b4511d8fc9"
      },
      "execution_count": 127,
      "outputs": [
        {
          "output_type": "execute_result",
          "data": {
            "text/plain": [
              "0.4007245804210801"
            ]
          },
          "metadata": {},
          "execution_count": 127
        }
      ]
    },
    {
      "cell_type": "code",
      "source": [
        "# compute the T2 values with all dimensions\n",
        "covminus1=covAll[0:2, 0:2]\n",
        "matinv1 = np.linalg.inv(covminus1)\n",
        "covminus1"
      ],
      "metadata": {
        "colab": {
          "base_uri": "https://localhost:8080/"
        },
        "id": "yYVnjdNqcaNh",
        "outputId": "9ff6f950-1b89-466a-ba1d-2ecf684b0e66"
      },
      "execution_count": 128,
      "outputs": [
        {
          "output_type": "execute_result",
          "data": {
            "text/plain": [
              "array([[  1.47877667, -11.09046942],\n",
              "       [-11.09046942, 177.17496444]])"
            ]
          },
          "metadata": {},
          "execution_count": 128
        }
      ]
    },
    {
      "cell_type": "code",
      "source": [
        "T2_1=matinv1.dot(diffminus1.T).dot(diffminus1)\n",
        "T2_1"
      ],
      "metadata": {
        "colab": {
          "base_uri": "https://localhost:8080/"
        },
        "id": "CU575MBNk_Cj",
        "outputId": "b953e0d9-87e5-41ad-b3ed-1a1d4141abb3"
      },
      "execution_count": 129,
      "outputs": [
        {
          "output_type": "execute_result",
          "data": {
            "text/plain": [
              "46.80893340539867"
            ]
          },
          "metadata": {},
          "execution_count": 129
        }
      ]
    },
    {
      "cell_type": "code",
      "source": [
        "d1=T2_all - T2_1\n",
        "d1"
      ],
      "metadata": {
        "colab": {
          "base_uri": "https://localhost:8080/"
        },
        "id": "PEPrY_Kkn_AZ",
        "outputId": "a71995e0-0a58-461e-e3ed-5311dba5c418"
      },
      "execution_count": 130,
      "outputs": [
        {
          "output_type": "execute_result",
          "data": {
            "text/plain": [
              "-46.40820882497759"
            ]
          },
          "metadata": {},
          "execution_count": 130
        }
      ]
    },
    {
      "cell_type": "code",
      "source": [
        "# compute the T2 values with all dimensions except the second & d2\n",
        "covminus2=np.array([covAll[0,0], covAll[0,2], covAll[2,0], covAll[2,2]])\n",
        "covminus2=np.reshape(covminus2, (2,2))\n",
        "matinv2 = np.linalg.inv(covminus2)\n",
        "T2_2=matinv2.dot(diffminus2.T).dot(diffminus2)\n",
        "d2=T2_all - T2_2\n",
        "print(T2_2)\n",
        "print(\"d2=\", d2)"
      ],
      "metadata": {
        "colab": {
          "base_uri": "https://localhost:8080/"
        },
        "id": "z9ZM0mnrsp_E",
        "outputId": "d16b2a82-5de1-4693-8c69-540fcb0fccdf"
      },
      "execution_count": 131,
      "outputs": [
        {
          "output_type": "stream",
          "name": "stdout",
          "text": [
            "0.40068837764699694\n",
            "d2= 3.620277408317163e-05\n"
          ]
        }
      ]
    },
    {
      "cell_type": "code",
      "source": [
        "# compute the T2 values with all dimensions except the third & d3\n",
        "covminus3=covAll[1:3, 1:3]\n",
        "matinv3 = np.linalg.inv(covminus3)\n",
        "T2_3=matinv3.dot(diffminus3.T).dot(diffminus3)\n",
        "d3=T2_all - T2_3\n",
        "print(T2_3)\n",
        "print(\"d3=\", d3)\n"
      ],
      "metadata": {
        "colab": {
          "base_uri": "https://localhost:8080/"
        },
        "id": "QWR66ubGuYkU",
        "outputId": "2b47a646-ebf6-4607-aae7-9b197e9f6e40"
      },
      "execution_count": 132,
      "outputs": [
        {
          "output_type": "stream",
          "name": "stdout",
          "text": [
            "1.7102873471071467\n",
            "d3= -1.3095627666860665\n"
          ]
        }
      ]
    },
    {
      "cell_type": "code",
      "source": [
        "# compute standardized means and the difference vector\n",
        "mean1=np.mean(x1, axis=0)\n",
        "mean2=np.mean(x2, axis=0)\n",
        "std1=np.std(x1, axis=0)\n",
        "std2=np.std(x2, axis=0)\n",
        "z1=mean1/std1\n",
        "z2=mean2/std2\n",
        "diff=z1-z2 #this is the difference in the mean vectors\n",
        "diff"
      ],
      "metadata": {
        "colab": {
          "base_uri": "https://localhost:8080/"
        },
        "id": "dB3dezx6J2JU",
        "outputId": "30c5d917-c3a4-4d03-e066-760263fd11e6"
      },
      "execution_count": 133,
      "outputs": [
        {
          "output_type": "execute_result",
          "data": {
            "text/plain": [
              "array([-2.23296776, -0.55505442,  0.85500702])"
            ]
          },
          "metadata": {},
          "execution_count": 133
        }
      ]
    },
    {
      "cell_type": "code",
      "source": [
        "std1=np.std(x1, axis=0)\n",
        "z1=mean1/std1\n",
        "z1"
      ],
      "metadata": {
        "colab": {
          "base_uri": "https://localhost:8080/"
        },
        "id": "SCQ5brLLJ3U7",
        "outputId": "63212bfe-9ce4-49b7-aefb-fe467e6c4cb3"
      },
      "execution_count": 134,
      "outputs": [
        {
          "output_type": "execute_result",
          "data": {
            "text/plain": [
              "array([33.17612126,  4.84211803,  4.18448178])"
            ]
          },
          "metadata": {},
          "execution_count": 134
        }
      ]
    },
    {
      "cell_type": "code",
      "source": [
        "mean1"
      ],
      "metadata": {
        "colab": {
          "base_uri": "https://localhost:8080/"
        },
        "id": "rvclIjbSOk9p",
        "outputId": "0920923f-b4f3-4a33-b0b5-e02bcc764665"
      },
      "execution_count": 135,
      "outputs": [
        {
          "output_type": "execute_result",
          "data": {
            "text/plain": [
              "array([39.44444444, 62.27777778, 20.11111111])"
            ]
          },
          "metadata": {},
          "execution_count": 135
        }
      ]
    },
    {
      "cell_type": "code",
      "source": [
        "# use standardize mean difference correlation matrix for d1, d2, and d3\n",
        "# Compute correlation matrix\n",
        "cofAll=data.corr()\n",
        "print(\"Correlation Matrix =\")\n",
        "print(cofAll)\n",
        "covAll = cofAll.to_numpy()\n",
        "#Case Drug vs Placebo:\n",
        "x =diff\n",
        "# compute the \n",
        "matinv = np.linalg.inv(covAll)\n",
        "T2_all=matinv.dot(x.T).dot(x)\n",
        "print(\"T2_all=\", T2_all)\n",
        "# d1 \n",
        "x1 =np.array(x[1:3])\n",
        "covminus1=covAll[1:3, 1:3]\n",
        "matinv1 = np.linalg.inv(covminus1)\n",
        "T2_1=matinv1.dot(x1.T).dot(x1)\n",
        "d1=T2_all - T2_1\n",
        "print(\"T2(1)=\", T2_1)\n",
        "print(\"d1=\", d1)\n",
        "# d2\n",
        "x2 =np.array([x[0],x[2]])\n",
        "covminus2=np.array([covAll[0,0], covAll[0,2], covAll[2,0], covAll[2,2]])\n",
        "covminus2=np.reshape(covminus2, (2,2))\n",
        "matinv2 = np.linalg.inv(covminus2)\n",
        "T2_2=matinv2.dot(x2.T).dot(x2)\n",
        "d2=T2_all - T2_2\n",
        "print(\"T2(2)=\", T2_2)\n",
        "print(\"d2=\", d2)\n",
        "# d3\n",
        "x3 =np.array(x[0:2])\n",
        "covminus3=covAll[0:2, 0:2]\n",
        "matinv3 = np.linalg.inv(covminus3)\n",
        "T2_3=matinv3.dot(x3.T).dot(x3)\n",
        "d3=T2_all - T2_3\n",
        "print(\"T2(3)=\", T2_3)\n",
        "print(\"d3=\", d3)"
      ],
      "metadata": {
        "colab": {
          "base_uri": "https://localhost:8080/"
        },
        "id": "DtYJuH3qGWlN",
        "outputId": "0f929b06-4172-4871-eb17-f6d7e9a8b744"
      },
      "execution_count": 137,
      "outputs": [
        {
          "output_type": "stream",
          "name": "stdout",
          "text": [
            "Correlation Matrix =\n",
            "             Fever  Pressure     Aches\n",
            "Fever     1.000000 -0.685169  0.358685\n",
            "Pressure -0.685169  1.000000 -0.502554\n",
            "Aches     0.358685 -0.502554  1.000000\n",
            "T2_all= 13.740074439957088\n",
            "T2(1)= 0.7520647769278458\n",
            "d1= 12.988009663029242\n",
            "T2(2)= 8.133163143227653\n",
            "d2= 5.606911296729434\n",
            "T2(3)= 13.180154916829622\n",
            "d3= 0.5599195231274656\n"
          ]
        }
      ]
    },
    {
      "cell_type": "code",
      "source": [
        "# F dist critial value for the test\n",
        "f.ppf(1-0.05, 3, 38-1)"
      ],
      "metadata": {
        "colab": {
          "base_uri": "https://localhost:8080/"
        },
        "id": "ekgBdLGoQA-x",
        "outputId": "1d6c00c4-e3ab-4117-ea5d-60e544f72cf2"
      },
      "execution_count": 138,
      "outputs": [
        {
          "output_type": "execute_result",
          "data": {
            "text/plain": [
              "2.858796053950291"
            ]
          },
          "metadata": {},
          "execution_count": 138
        }
      ]
    },
    {
      "cell_type": "markdown",
      "source": [
        "# As shown in d1, d2 and d3, the drug affects fever the most followed by pressure. It does not seem to affect body aches. From the F test value, the drug effect is significant since the overall T2 values exceeds the critial F value."
      ],
      "metadata": {
        "id": "k2MPp8E2PQv4"
      }
    }
  ]
}