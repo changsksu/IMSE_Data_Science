{
  "nbformat": 4,
  "nbformat_minor": 0,
  "metadata": {
    "colab": {
      "provenance": [],
      "authorship_tag": "ABX9TyMpfpQuFEQkqVe1DXfJboB9",
      "include_colab_link": true
    },
    "kernelspec": {
      "name": "python3",
      "display_name": "Python 3"
    },
    "language_info": {
      "name": "python"
    }
  },
  "cells": [
    {
      "cell_type": "markdown",
      "metadata": {
        "id": "view-in-github",
        "colab_type": "text"
      },
      "source": [
        "<a href=\"https://colab.research.google.com/github/changsksu/IMSE_Data_Science/blob/main/Eigenvalues_and_vectors.ipynb\" target=\"_parent\"><img src=\"https://colab.research.google.com/assets/colab-badge.svg\" alt=\"Open In Colab\"/></a>"
      ]
    },
    {
      "cell_type": "markdown",
      "source": [
        "This script computes eigen values and vectors"
      ],
      "metadata": {
        "id": "wiGi3jq2js8P"
      }
    },
    {
      "cell_type": "code",
      "execution_count": 2,
      "metadata": {
        "colab": {
          "base_uri": "https://localhost:8080/"
        },
        "id": "whypBSRKjdHn",
        "outputId": "44518dc4-43fc-45c6-a9f5-d8234494c242"
      },
      "outputs": [
        {
          "output_type": "stream",
          "name": "stdout",
          "text": [
            "Eigenvalues: [2. 7.]\n"
          ]
        }
      ],
      "source": [
        "import numpy as np\n",
        "# Define your matrix\n",
        "\n",
        "A = np.array([[3, 2],\n",
        "              [2, 6]])\n",
        "# Compute eigenvalues\n",
        "eigenvalues = np.linalg.eigvals(A)\n",
        "\n",
        "print(\"Eigenvalues:\", eigenvalues)"
      ]
    },
    {
      "cell_type": "code",
      "source": [
        "eigenvalues, eigenvectors = np.linalg.eig(A)\n",
        "eigenvectors"
      ],
      "metadata": {
        "colab": {
          "base_uri": "https://localhost:8080/"
        },
        "id": "M2tpq3MBkADy",
        "outputId": "d32490de-40c4-4060-8637-a432d84caef8"
      },
      "execution_count": 4,
      "outputs": [
        {
          "output_type": "execute_result",
          "data": {
            "text/plain": [
              "array([[-0.89442719, -0.4472136 ],\n",
              "       [ 0.4472136 , -0.89442719]])"
            ]
          },
          "metadata": {},
          "execution_count": 4
        }
      ]
    }
  ]
}