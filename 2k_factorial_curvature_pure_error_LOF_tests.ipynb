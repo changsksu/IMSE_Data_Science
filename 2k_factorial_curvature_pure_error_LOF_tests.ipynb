{
  "nbformat": 4,
  "nbformat_minor": 0,
  "metadata": {
    "colab": {
      "name": "2k factorial curvature pure error LOF tests.ipynb",
      "provenance": [],
      "collapsed_sections": [],
      "authorship_tag": "ABX9TyOV6amDjtRDZRv3YCFe7D8X",
      "include_colab_link": true
    },
    "kernelspec": {
      "name": "python3",
      "display_name": "Python 3"
    },
    "language_info": {
      "name": "python"
    }
  },
  "cells": [
    {
      "cell_type": "markdown",
      "metadata": {
        "id": "view-in-github",
        "colab_type": "text"
      },
      "source": [
        "<a href=\"https://colab.research.google.com/github/changsksu/IMSE_Data_Science/blob/main/2k_factorial_curvature_pure_error_LOF_tests.ipynb\" target=\"_parent\"><img src=\"https://colab.research.google.com/assets/colab-badge.svg\" alt=\"Open In Colab\"/></a>"
      ]
    },
    {
      "cell_type": "markdown",
      "metadata": {
        "id": "dDVwl7w2Xknz"
      },
      "source": [
        "This Python notebook demonstrates the computation of Two-Level factorial experimental analysis with k=4 and center points. We take the advantage of the polynomial generation feature to generate full dimension of the design matrix x using sklearn PolynomialFeature. The example is from Montgomery Intro to SQC (7th ed chap 13 Ex 13.8 Etch Rate Experiment).  Ref.\n",
        "https://www.statsmodels.org/stable/regression.html#examples\n",
        "\n",
        "https://scikit-learn.org/stable/modules/generated/sklearn.preprocessing.PolynomialFeatures.html \n"
      ]
    },
    {
      "cell_type": "code",
      "metadata": {
        "id": "Rc7nYxvoWrGy",
        "colab": {
          "base_uri": "https://localhost:8080/"
        },
        "outputId": "650edb0e-2f9e-4257-8f37-216bd13aceed"
      },
      "source": [
        "import math\n",
        "import random\n",
        "import scipy\n",
        "import statistics\n",
        "import numpy as np\n",
        "import scipy.stats\n",
        "from scipy.special import comb\n",
        "from scipy import stats\n",
        "import pandas as pd\n",
        "import matplotlib.pyplot as plt\n",
        "from matplotlib import cm\n",
        "from matplotlib.ticker import LinearLocator\n",
        "import plotly.graph_objects as go\n",
        "import statsmodels.api as sm\n",
        "from statsmodels.formula.api import ols\n",
        "import statsmodels.stats.multicomp as mc\n",
        "from sklearn.linear_model import LinearRegression\n",
        "from sklearn.preprocessing import PolynomialFeatures"
      ],
      "execution_count": 1,
      "outputs": [
        {
          "output_type": "stream",
          "name": "stderr",
          "text": [
            "/usr/local/lib/python3.7/dist-packages/statsmodels/tools/_testing.py:19: FutureWarning:\n",
            "\n",
            "pandas.util.testing is deprecated. Use the functions in the public API at pandas.testing instead.\n",
            "\n"
          ]
        }
      ]
    },
    {
      "cell_type": "code",
      "metadata": {
        "colab": {
          "base_uri": "https://localhost:8080/"
        },
        "id": "CWWSKczxFCAS",
        "outputId": "a352a1c5-d4d6-41ca-b322-ef06cd6fafb3"
      },
      "source": [
        "# mount google drive\n",
        "from google.colab import drive\n",
        "drive.mount('/content/drive')"
      ],
      "execution_count": 2,
      "outputs": [
        {
          "output_type": "stream",
          "name": "stdout",
          "text": [
            "Mounted at /content/drive\n"
          ]
        }
      ]
    },
    {
      "cell_type": "code",
      "metadata": {
        "colab": {
          "base_uri": "https://localhost:8080/",
          "height": 676
        },
        "id": "yFZh17e5FMgn",
        "outputId": "94f995e2-b264-4dab-ed4f-e8b1829a2c4a"
      },
      "source": [
        "#use theread option where the data file is rignt under your default google drive directory\n",
        "#note that the path is case sensitive\n",
        "#use a text editor such as notepad to see the seperator dividing data\n",
        "#go the 1st read option for local file: see the Read data from local file notebook for an example\n",
        "# Four Factors A-D and the response is Etch Rate\n",
        "# the run_oder is the order when the combination was experimented which will be used for plotting residuals\n",
        "# the experiments also include four center points\n",
        "data = pd.read_csv('drive/My Drive/Colab Notebooks/IMSE_Data_Science/Data/EX 13.8 Etch Rate k=4 cpts.csv', sep=',', na_values=\".\")\n",
        "\n",
        "data  "
      ],
      "execution_count": 3,
      "outputs": [
        {
          "output_type": "execute_result",
          "data": {
            "text/html": [
              "<div>\n",
              "<style scoped>\n",
              "    .dataframe tbody tr th:only-of-type {\n",
              "        vertical-align: middle;\n",
              "    }\n",
              "\n",
              "    .dataframe tbody tr th {\n",
              "        vertical-align: top;\n",
              "    }\n",
              "\n",
              "    .dataframe thead th {\n",
              "        text-align: right;\n",
              "    }\n",
              "</style>\n",
              "<table border=\"1\" class=\"dataframe\">\n",
              "  <thead>\n",
              "    <tr style=\"text-align: right;\">\n",
              "      <th></th>\n",
              "      <th>stand_order</th>\n",
              "      <th>run_order</th>\n",
              "      <th>A_Gap</th>\n",
              "      <th>B_Pressure</th>\n",
              "      <th>C_Flow</th>\n",
              "      <th>D_Power</th>\n",
              "      <th>EtchRate</th>\n",
              "    </tr>\n",
              "  </thead>\n",
              "  <tbody>\n",
              "    <tr>\n",
              "      <th>0</th>\n",
              "      <td>1</td>\n",
              "      <td>10</td>\n",
              "      <td>-1</td>\n",
              "      <td>-1</td>\n",
              "      <td>-1</td>\n",
              "      <td>-1</td>\n",
              "      <td>550</td>\n",
              "    </tr>\n",
              "    <tr>\n",
              "      <th>1</th>\n",
              "      <td>2</td>\n",
              "      <td>13</td>\n",
              "      <td>1</td>\n",
              "      <td>-1</td>\n",
              "      <td>-1</td>\n",
              "      <td>-1</td>\n",
              "      <td>669</td>\n",
              "    </tr>\n",
              "    <tr>\n",
              "      <th>2</th>\n",
              "      <td>3</td>\n",
              "      <td>7</td>\n",
              "      <td>-1</td>\n",
              "      <td>1</td>\n",
              "      <td>-1</td>\n",
              "      <td>-1</td>\n",
              "      <td>604</td>\n",
              "    </tr>\n",
              "    <tr>\n",
              "      <th>3</th>\n",
              "      <td>4</td>\n",
              "      <td>3</td>\n",
              "      <td>1</td>\n",
              "      <td>1</td>\n",
              "      <td>-1</td>\n",
              "      <td>-1</td>\n",
              "      <td>650</td>\n",
              "    </tr>\n",
              "    <tr>\n",
              "      <th>4</th>\n",
              "      <td>5</td>\n",
              "      <td>9</td>\n",
              "      <td>-1</td>\n",
              "      <td>-1</td>\n",
              "      <td>1</td>\n",
              "      <td>-1</td>\n",
              "      <td>633</td>\n",
              "    </tr>\n",
              "    <tr>\n",
              "      <th>5</th>\n",
              "      <td>6</td>\n",
              "      <td>14</td>\n",
              "      <td>1</td>\n",
              "      <td>-1</td>\n",
              "      <td>1</td>\n",
              "      <td>-1</td>\n",
              "      <td>642</td>\n",
              "    </tr>\n",
              "    <tr>\n",
              "      <th>6</th>\n",
              "      <td>7</td>\n",
              "      <td>1</td>\n",
              "      <td>-1</td>\n",
              "      <td>1</td>\n",
              "      <td>1</td>\n",
              "      <td>-1</td>\n",
              "      <td>601</td>\n",
              "    </tr>\n",
              "    <tr>\n",
              "      <th>7</th>\n",
              "      <td>8</td>\n",
              "      <td>11</td>\n",
              "      <td>1</td>\n",
              "      <td>1</td>\n",
              "      <td>1</td>\n",
              "      <td>-1</td>\n",
              "      <td>635</td>\n",
              "    </tr>\n",
              "    <tr>\n",
              "      <th>8</th>\n",
              "      <td>9</td>\n",
              "      <td>16</td>\n",
              "      <td>-1</td>\n",
              "      <td>-1</td>\n",
              "      <td>-1</td>\n",
              "      <td>1</td>\n",
              "      <td>1037</td>\n",
              "    </tr>\n",
              "    <tr>\n",
              "      <th>9</th>\n",
              "      <td>10</td>\n",
              "      <td>4</td>\n",
              "      <td>1</td>\n",
              "      <td>-1</td>\n",
              "      <td>-1</td>\n",
              "      <td>1</td>\n",
              "      <td>749</td>\n",
              "    </tr>\n",
              "    <tr>\n",
              "      <th>10</th>\n",
              "      <td>11</td>\n",
              "      <td>15</td>\n",
              "      <td>-1</td>\n",
              "      <td>1</td>\n",
              "      <td>-1</td>\n",
              "      <td>1</td>\n",
              "      <td>1052</td>\n",
              "    </tr>\n",
              "    <tr>\n",
              "      <th>11</th>\n",
              "      <td>12</td>\n",
              "      <td>12</td>\n",
              "      <td>1</td>\n",
              "      <td>1</td>\n",
              "      <td>-1</td>\n",
              "      <td>1</td>\n",
              "      <td>868</td>\n",
              "    </tr>\n",
              "    <tr>\n",
              "      <th>12</th>\n",
              "      <td>13</td>\n",
              "      <td>6</td>\n",
              "      <td>-1</td>\n",
              "      <td>-1</td>\n",
              "      <td>1</td>\n",
              "      <td>1</td>\n",
              "      <td>1075</td>\n",
              "    </tr>\n",
              "    <tr>\n",
              "      <th>13</th>\n",
              "      <td>14</td>\n",
              "      <td>5</td>\n",
              "      <td>1</td>\n",
              "      <td>-1</td>\n",
              "      <td>1</td>\n",
              "      <td>1</td>\n",
              "      <td>860</td>\n",
              "    </tr>\n",
              "    <tr>\n",
              "      <th>14</th>\n",
              "      <td>15</td>\n",
              "      <td>8</td>\n",
              "      <td>-1</td>\n",
              "      <td>1</td>\n",
              "      <td>1</td>\n",
              "      <td>1</td>\n",
              "      <td>1063</td>\n",
              "    </tr>\n",
              "    <tr>\n",
              "      <th>15</th>\n",
              "      <td>16</td>\n",
              "      <td>2</td>\n",
              "      <td>1</td>\n",
              "      <td>1</td>\n",
              "      <td>1</td>\n",
              "      <td>1</td>\n",
              "      <td>729</td>\n",
              "    </tr>\n",
              "    <tr>\n",
              "      <th>16</th>\n",
              "      <td>17</td>\n",
              "      <td>17</td>\n",
              "      <td>0</td>\n",
              "      <td>0</td>\n",
              "      <td>0</td>\n",
              "      <td>0</td>\n",
              "      <td>706</td>\n",
              "    </tr>\n",
              "    <tr>\n",
              "      <th>17</th>\n",
              "      <td>18</td>\n",
              "      <td>18</td>\n",
              "      <td>0</td>\n",
              "      <td>0</td>\n",
              "      <td>0</td>\n",
              "      <td>0</td>\n",
              "      <td>764</td>\n",
              "    </tr>\n",
              "    <tr>\n",
              "      <th>18</th>\n",
              "      <td>19</td>\n",
              "      <td>19</td>\n",
              "      <td>0</td>\n",
              "      <td>0</td>\n",
              "      <td>0</td>\n",
              "      <td>0</td>\n",
              "      <td>780</td>\n",
              "    </tr>\n",
              "    <tr>\n",
              "      <th>19</th>\n",
              "      <td>20</td>\n",
              "      <td>20</td>\n",
              "      <td>0</td>\n",
              "      <td>0</td>\n",
              "      <td>0</td>\n",
              "      <td>0</td>\n",
              "      <td>761</td>\n",
              "    </tr>\n",
              "  </tbody>\n",
              "</table>\n",
              "</div>"
            ],
            "text/plain": [
              "    stand_order  run_order  A_Gap  B_Pressure  C_Flow  D_Power  EtchRate\n",
              "0             1         10     -1          -1      -1       -1       550\n",
              "1             2         13      1          -1      -1       -1       669\n",
              "2             3          7     -1           1      -1       -1       604\n",
              "3             4          3      1           1      -1       -1       650\n",
              "4             5          9     -1          -1       1       -1       633\n",
              "5             6         14      1          -1       1       -1       642\n",
              "6             7          1     -1           1       1       -1       601\n",
              "7             8         11      1           1       1       -1       635\n",
              "8             9         16     -1          -1      -1        1      1037\n",
              "9            10          4      1          -1      -1        1       749\n",
              "10           11         15     -1           1      -1        1      1052\n",
              "11           12         12      1           1      -1        1       868\n",
              "12           13          6     -1          -1       1        1      1075\n",
              "13           14          5      1          -1       1        1       860\n",
              "14           15          8     -1           1       1        1      1063\n",
              "15           16          2      1           1       1        1       729\n",
              "16           17         17      0           0       0        0       706\n",
              "17           18         18      0           0       0        0       764\n",
              "18           19         19      0           0       0        0       780\n",
              "19           20         20      0           0       0        0       761"
            ]
          },
          "metadata": {},
          "execution_count": 3
        }
      ]
    },
    {
      "cell_type": "code",
      "metadata": {
        "colab": {
          "base_uri": "https://localhost:8080/"
        },
        "id": "N-HZ4yDDTc0k",
        "outputId": "00016bb4-37a7-4a9f-ebb6-4ea82ff87727"
      },
      "source": [
        "df=data #df means data frame\n",
        "df.info()"
      ],
      "execution_count": 4,
      "outputs": [
        {
          "output_type": "stream",
          "name": "stdout",
          "text": [
            "<class 'pandas.core.frame.DataFrame'>\n",
            "RangeIndex: 20 entries, 0 to 19\n",
            "Data columns (total 7 columns):\n",
            " #   Column       Non-Null Count  Dtype\n",
            "---  ------       --------------  -----\n",
            " 0   stand_order  20 non-null     int64\n",
            " 1   run_order    20 non-null     int64\n",
            " 2   A_Gap        20 non-null     int64\n",
            " 3   B_Pressure   20 non-null     int64\n",
            " 4   C_Flow       20 non-null     int64\n",
            " 5   D_Power      20 non-null     int64\n",
            " 6   EtchRate     20 non-null     int64\n",
            "dtypes: int64(7)\n",
            "memory usage: 1.2 KB\n"
          ]
        }
      ]
    },
    {
      "cell_type": "code",
      "metadata": {
        "colab": {
          "base_uri": "https://localhost:8080/",
          "height": 676
        },
        "id": "eviaT0ByAqwy",
        "outputId": "fc51d388-69e1-4326-a9b8-7442cd878a65"
      },
      "source": [
        "Xmain=df[['A_Gap', 'B_Pressure', 'C_Flow', 'D_Power']]\n",
        "Xmain"
      ],
      "execution_count": 5,
      "outputs": [
        {
          "output_type": "execute_result",
          "data": {
            "text/html": [
              "<div>\n",
              "<style scoped>\n",
              "    .dataframe tbody tr th:only-of-type {\n",
              "        vertical-align: middle;\n",
              "    }\n",
              "\n",
              "    .dataframe tbody tr th {\n",
              "        vertical-align: top;\n",
              "    }\n",
              "\n",
              "    .dataframe thead th {\n",
              "        text-align: right;\n",
              "    }\n",
              "</style>\n",
              "<table border=\"1\" class=\"dataframe\">\n",
              "  <thead>\n",
              "    <tr style=\"text-align: right;\">\n",
              "      <th></th>\n",
              "      <th>A_Gap</th>\n",
              "      <th>B_Pressure</th>\n",
              "      <th>C_Flow</th>\n",
              "      <th>D_Power</th>\n",
              "    </tr>\n",
              "  </thead>\n",
              "  <tbody>\n",
              "    <tr>\n",
              "      <th>0</th>\n",
              "      <td>-1</td>\n",
              "      <td>-1</td>\n",
              "      <td>-1</td>\n",
              "      <td>-1</td>\n",
              "    </tr>\n",
              "    <tr>\n",
              "      <th>1</th>\n",
              "      <td>1</td>\n",
              "      <td>-1</td>\n",
              "      <td>-1</td>\n",
              "      <td>-1</td>\n",
              "    </tr>\n",
              "    <tr>\n",
              "      <th>2</th>\n",
              "      <td>-1</td>\n",
              "      <td>1</td>\n",
              "      <td>-1</td>\n",
              "      <td>-1</td>\n",
              "    </tr>\n",
              "    <tr>\n",
              "      <th>3</th>\n",
              "      <td>1</td>\n",
              "      <td>1</td>\n",
              "      <td>-1</td>\n",
              "      <td>-1</td>\n",
              "    </tr>\n",
              "    <tr>\n",
              "      <th>4</th>\n",
              "      <td>-1</td>\n",
              "      <td>-1</td>\n",
              "      <td>1</td>\n",
              "      <td>-1</td>\n",
              "    </tr>\n",
              "    <tr>\n",
              "      <th>5</th>\n",
              "      <td>1</td>\n",
              "      <td>-1</td>\n",
              "      <td>1</td>\n",
              "      <td>-1</td>\n",
              "    </tr>\n",
              "    <tr>\n",
              "      <th>6</th>\n",
              "      <td>-1</td>\n",
              "      <td>1</td>\n",
              "      <td>1</td>\n",
              "      <td>-1</td>\n",
              "    </tr>\n",
              "    <tr>\n",
              "      <th>7</th>\n",
              "      <td>1</td>\n",
              "      <td>1</td>\n",
              "      <td>1</td>\n",
              "      <td>-1</td>\n",
              "    </tr>\n",
              "    <tr>\n",
              "      <th>8</th>\n",
              "      <td>-1</td>\n",
              "      <td>-1</td>\n",
              "      <td>-1</td>\n",
              "      <td>1</td>\n",
              "    </tr>\n",
              "    <tr>\n",
              "      <th>9</th>\n",
              "      <td>1</td>\n",
              "      <td>-1</td>\n",
              "      <td>-1</td>\n",
              "      <td>1</td>\n",
              "    </tr>\n",
              "    <tr>\n",
              "      <th>10</th>\n",
              "      <td>-1</td>\n",
              "      <td>1</td>\n",
              "      <td>-1</td>\n",
              "      <td>1</td>\n",
              "    </tr>\n",
              "    <tr>\n",
              "      <th>11</th>\n",
              "      <td>1</td>\n",
              "      <td>1</td>\n",
              "      <td>-1</td>\n",
              "      <td>1</td>\n",
              "    </tr>\n",
              "    <tr>\n",
              "      <th>12</th>\n",
              "      <td>-1</td>\n",
              "      <td>-1</td>\n",
              "      <td>1</td>\n",
              "      <td>1</td>\n",
              "    </tr>\n",
              "    <tr>\n",
              "      <th>13</th>\n",
              "      <td>1</td>\n",
              "      <td>-1</td>\n",
              "      <td>1</td>\n",
              "      <td>1</td>\n",
              "    </tr>\n",
              "    <tr>\n",
              "      <th>14</th>\n",
              "      <td>-1</td>\n",
              "      <td>1</td>\n",
              "      <td>1</td>\n",
              "      <td>1</td>\n",
              "    </tr>\n",
              "    <tr>\n",
              "      <th>15</th>\n",
              "      <td>1</td>\n",
              "      <td>1</td>\n",
              "      <td>1</td>\n",
              "      <td>1</td>\n",
              "    </tr>\n",
              "    <tr>\n",
              "      <th>16</th>\n",
              "      <td>0</td>\n",
              "      <td>0</td>\n",
              "      <td>0</td>\n",
              "      <td>0</td>\n",
              "    </tr>\n",
              "    <tr>\n",
              "      <th>17</th>\n",
              "      <td>0</td>\n",
              "      <td>0</td>\n",
              "      <td>0</td>\n",
              "      <td>0</td>\n",
              "    </tr>\n",
              "    <tr>\n",
              "      <th>18</th>\n",
              "      <td>0</td>\n",
              "      <td>0</td>\n",
              "      <td>0</td>\n",
              "      <td>0</td>\n",
              "    </tr>\n",
              "    <tr>\n",
              "      <th>19</th>\n",
              "      <td>0</td>\n",
              "      <td>0</td>\n",
              "      <td>0</td>\n",
              "      <td>0</td>\n",
              "    </tr>\n",
              "  </tbody>\n",
              "</table>\n",
              "</div>"
            ],
            "text/plain": [
              "    A_Gap  B_Pressure  C_Flow  D_Power\n",
              "0      -1          -1      -1       -1\n",
              "1       1          -1      -1       -1\n",
              "2      -1           1      -1       -1\n",
              "3       1           1      -1       -1\n",
              "4      -1          -1       1       -1\n",
              "5       1          -1       1       -1\n",
              "6      -1           1       1       -1\n",
              "7       1           1       1       -1\n",
              "8      -1          -1      -1        1\n",
              "9       1          -1      -1        1\n",
              "10     -1           1      -1        1\n",
              "11      1           1      -1        1\n",
              "12     -1          -1       1        1\n",
              "13      1          -1       1        1\n",
              "14     -1           1       1        1\n",
              "15      1           1       1        1\n",
              "16      0           0       0        0\n",
              "17      0           0       0        0\n",
              "18      0           0       0        0\n",
              "19      0           0       0        0"
            ]
          },
          "metadata": {},
          "execution_count": 5
        }
      ]
    },
    {
      "cell_type": "code",
      "metadata": {
        "colab": {
          "base_uri": "https://localhost:8080/"
        },
        "id": "E7bIQbB82S6n",
        "outputId": "1d18c19e-188b-4c48-b62f-d880ae4f4993"
      },
      "source": [
        "x1x2x3x4=df['A_Gap'] * df['B_Pressure'] *df['C_Flow'] * df['D_Power']\n",
        "x1x2x3x4"
      ],
      "execution_count": 6,
      "outputs": [
        {
          "output_type": "execute_result",
          "data": {
            "text/plain": [
              "0     1\n",
              "1    -1\n",
              "2    -1\n",
              "3     1\n",
              "4    -1\n",
              "5     1\n",
              "6     1\n",
              "7    -1\n",
              "8    -1\n",
              "9     1\n",
              "10    1\n",
              "11   -1\n",
              "12    1\n",
              "13   -1\n",
              "14   -1\n",
              "15    1\n",
              "16    0\n",
              "17    0\n",
              "18    0\n",
              "19    0\n",
              "dtype: int64"
            ]
          },
          "metadata": {},
          "execution_count": 6
        }
      ]
    },
    {
      "cell_type": "code",
      "metadata": {
        "colab": {
          "base_uri": "https://localhost:8080/",
          "height": 676
        },
        "id": "sBhDegAVBafE",
        "outputId": "17bb41d3-31a3-4acd-cde9-368ea99b830d"
      },
      "source": [
        "# convert x1 and x2 input columns into a 2nd order polynomial matrix with intercept column \n",
        "# computation is done in numpy and convert it into Panda dataframe\n",
        "xx=Xmain.to_numpy()\n",
        "poly= PolynomialFeatures(degree=3, interaction_only=True)\n",
        "xxpd=pd.DataFrame(poly.fit_transform(xx), columns=['I', 'x1', 'x2', 'x3', 'x4','x1x2', 'x1x3', 'x1x4', 'x2x3', 'x2x4', 'x3x4', 'x1x2x3', 'x1x2x4', 'x1x3x4','x2x3x4'])\n",
        "xxpd['x1x2x3x4']=x1x2x3x4\n",
        "xxpd"
      ],
      "execution_count": 7,
      "outputs": [
        {
          "output_type": "execute_result",
          "data": {
            "text/html": [
              "<div>\n",
              "<style scoped>\n",
              "    .dataframe tbody tr th:only-of-type {\n",
              "        vertical-align: middle;\n",
              "    }\n",
              "\n",
              "    .dataframe tbody tr th {\n",
              "        vertical-align: top;\n",
              "    }\n",
              "\n",
              "    .dataframe thead th {\n",
              "        text-align: right;\n",
              "    }\n",
              "</style>\n",
              "<table border=\"1\" class=\"dataframe\">\n",
              "  <thead>\n",
              "    <tr style=\"text-align: right;\">\n",
              "      <th></th>\n",
              "      <th>I</th>\n",
              "      <th>x1</th>\n",
              "      <th>x2</th>\n",
              "      <th>x3</th>\n",
              "      <th>x4</th>\n",
              "      <th>x1x2</th>\n",
              "      <th>x1x3</th>\n",
              "      <th>x1x4</th>\n",
              "      <th>x2x3</th>\n",
              "      <th>x2x4</th>\n",
              "      <th>x3x4</th>\n",
              "      <th>x1x2x3</th>\n",
              "      <th>x1x2x4</th>\n",
              "      <th>x1x3x4</th>\n",
              "      <th>x2x3x4</th>\n",
              "      <th>x1x2x3x4</th>\n",
              "    </tr>\n",
              "  </thead>\n",
              "  <tbody>\n",
              "    <tr>\n",
              "      <th>0</th>\n",
              "      <td>1.0</td>\n",
              "      <td>-1.0</td>\n",
              "      <td>-1.0</td>\n",
              "      <td>-1.0</td>\n",
              "      <td>-1.0</td>\n",
              "      <td>1.0</td>\n",
              "      <td>1.0</td>\n",
              "      <td>1.0</td>\n",
              "      <td>1.0</td>\n",
              "      <td>1.0</td>\n",
              "      <td>1.0</td>\n",
              "      <td>-1.0</td>\n",
              "      <td>-1.0</td>\n",
              "      <td>-1.0</td>\n",
              "      <td>-1.0</td>\n",
              "      <td>1</td>\n",
              "    </tr>\n",
              "    <tr>\n",
              "      <th>1</th>\n",
              "      <td>1.0</td>\n",
              "      <td>1.0</td>\n",
              "      <td>-1.0</td>\n",
              "      <td>-1.0</td>\n",
              "      <td>-1.0</td>\n",
              "      <td>-1.0</td>\n",
              "      <td>-1.0</td>\n",
              "      <td>-1.0</td>\n",
              "      <td>1.0</td>\n",
              "      <td>1.0</td>\n",
              "      <td>1.0</td>\n",
              "      <td>1.0</td>\n",
              "      <td>1.0</td>\n",
              "      <td>1.0</td>\n",
              "      <td>-1.0</td>\n",
              "      <td>-1</td>\n",
              "    </tr>\n",
              "    <tr>\n",
              "      <th>2</th>\n",
              "      <td>1.0</td>\n",
              "      <td>-1.0</td>\n",
              "      <td>1.0</td>\n",
              "      <td>-1.0</td>\n",
              "      <td>-1.0</td>\n",
              "      <td>-1.0</td>\n",
              "      <td>1.0</td>\n",
              "      <td>1.0</td>\n",
              "      <td>-1.0</td>\n",
              "      <td>-1.0</td>\n",
              "      <td>1.0</td>\n",
              "      <td>1.0</td>\n",
              "      <td>1.0</td>\n",
              "      <td>-1.0</td>\n",
              "      <td>1.0</td>\n",
              "      <td>-1</td>\n",
              "    </tr>\n",
              "    <tr>\n",
              "      <th>3</th>\n",
              "      <td>1.0</td>\n",
              "      <td>1.0</td>\n",
              "      <td>1.0</td>\n",
              "      <td>-1.0</td>\n",
              "      <td>-1.0</td>\n",
              "      <td>1.0</td>\n",
              "      <td>-1.0</td>\n",
              "      <td>-1.0</td>\n",
              "      <td>-1.0</td>\n",
              "      <td>-1.0</td>\n",
              "      <td>1.0</td>\n",
              "      <td>-1.0</td>\n",
              "      <td>-1.0</td>\n",
              "      <td>1.0</td>\n",
              "      <td>1.0</td>\n",
              "      <td>1</td>\n",
              "    </tr>\n",
              "    <tr>\n",
              "      <th>4</th>\n",
              "      <td>1.0</td>\n",
              "      <td>-1.0</td>\n",
              "      <td>-1.0</td>\n",
              "      <td>1.0</td>\n",
              "      <td>-1.0</td>\n",
              "      <td>1.0</td>\n",
              "      <td>-1.0</td>\n",
              "      <td>1.0</td>\n",
              "      <td>-1.0</td>\n",
              "      <td>1.0</td>\n",
              "      <td>-1.0</td>\n",
              "      <td>1.0</td>\n",
              "      <td>-1.0</td>\n",
              "      <td>1.0</td>\n",
              "      <td>1.0</td>\n",
              "      <td>-1</td>\n",
              "    </tr>\n",
              "    <tr>\n",
              "      <th>5</th>\n",
              "      <td>1.0</td>\n",
              "      <td>1.0</td>\n",
              "      <td>-1.0</td>\n",
              "      <td>1.0</td>\n",
              "      <td>-1.0</td>\n",
              "      <td>-1.0</td>\n",
              "      <td>1.0</td>\n",
              "      <td>-1.0</td>\n",
              "      <td>-1.0</td>\n",
              "      <td>1.0</td>\n",
              "      <td>-1.0</td>\n",
              "      <td>-1.0</td>\n",
              "      <td>1.0</td>\n",
              "      <td>-1.0</td>\n",
              "      <td>1.0</td>\n",
              "      <td>1</td>\n",
              "    </tr>\n",
              "    <tr>\n",
              "      <th>6</th>\n",
              "      <td>1.0</td>\n",
              "      <td>-1.0</td>\n",
              "      <td>1.0</td>\n",
              "      <td>1.0</td>\n",
              "      <td>-1.0</td>\n",
              "      <td>-1.0</td>\n",
              "      <td>-1.0</td>\n",
              "      <td>1.0</td>\n",
              "      <td>1.0</td>\n",
              "      <td>-1.0</td>\n",
              "      <td>-1.0</td>\n",
              "      <td>-1.0</td>\n",
              "      <td>1.0</td>\n",
              "      <td>1.0</td>\n",
              "      <td>-1.0</td>\n",
              "      <td>1</td>\n",
              "    </tr>\n",
              "    <tr>\n",
              "      <th>7</th>\n",
              "      <td>1.0</td>\n",
              "      <td>1.0</td>\n",
              "      <td>1.0</td>\n",
              "      <td>1.0</td>\n",
              "      <td>-1.0</td>\n",
              "      <td>1.0</td>\n",
              "      <td>1.0</td>\n",
              "      <td>-1.0</td>\n",
              "      <td>1.0</td>\n",
              "      <td>-1.0</td>\n",
              "      <td>-1.0</td>\n",
              "      <td>1.0</td>\n",
              "      <td>-1.0</td>\n",
              "      <td>-1.0</td>\n",
              "      <td>-1.0</td>\n",
              "      <td>-1</td>\n",
              "    </tr>\n",
              "    <tr>\n",
              "      <th>8</th>\n",
              "      <td>1.0</td>\n",
              "      <td>-1.0</td>\n",
              "      <td>-1.0</td>\n",
              "      <td>-1.0</td>\n",
              "      <td>1.0</td>\n",
              "      <td>1.0</td>\n",
              "      <td>1.0</td>\n",
              "      <td>-1.0</td>\n",
              "      <td>1.0</td>\n",
              "      <td>-1.0</td>\n",
              "      <td>-1.0</td>\n",
              "      <td>-1.0</td>\n",
              "      <td>1.0</td>\n",
              "      <td>1.0</td>\n",
              "      <td>1.0</td>\n",
              "      <td>-1</td>\n",
              "    </tr>\n",
              "    <tr>\n",
              "      <th>9</th>\n",
              "      <td>1.0</td>\n",
              "      <td>1.0</td>\n",
              "      <td>-1.0</td>\n",
              "      <td>-1.0</td>\n",
              "      <td>1.0</td>\n",
              "      <td>-1.0</td>\n",
              "      <td>-1.0</td>\n",
              "      <td>1.0</td>\n",
              "      <td>1.0</td>\n",
              "      <td>-1.0</td>\n",
              "      <td>-1.0</td>\n",
              "      <td>1.0</td>\n",
              "      <td>-1.0</td>\n",
              "      <td>-1.0</td>\n",
              "      <td>1.0</td>\n",
              "      <td>1</td>\n",
              "    </tr>\n",
              "    <tr>\n",
              "      <th>10</th>\n",
              "      <td>1.0</td>\n",
              "      <td>-1.0</td>\n",
              "      <td>1.0</td>\n",
              "      <td>-1.0</td>\n",
              "      <td>1.0</td>\n",
              "      <td>-1.0</td>\n",
              "      <td>1.0</td>\n",
              "      <td>-1.0</td>\n",
              "      <td>-1.0</td>\n",
              "      <td>1.0</td>\n",
              "      <td>-1.0</td>\n",
              "      <td>1.0</td>\n",
              "      <td>-1.0</td>\n",
              "      <td>1.0</td>\n",
              "      <td>-1.0</td>\n",
              "      <td>1</td>\n",
              "    </tr>\n",
              "    <tr>\n",
              "      <th>11</th>\n",
              "      <td>1.0</td>\n",
              "      <td>1.0</td>\n",
              "      <td>1.0</td>\n",
              "      <td>-1.0</td>\n",
              "      <td>1.0</td>\n",
              "      <td>1.0</td>\n",
              "      <td>-1.0</td>\n",
              "      <td>1.0</td>\n",
              "      <td>-1.0</td>\n",
              "      <td>1.0</td>\n",
              "      <td>-1.0</td>\n",
              "      <td>-1.0</td>\n",
              "      <td>1.0</td>\n",
              "      <td>-1.0</td>\n",
              "      <td>-1.0</td>\n",
              "      <td>-1</td>\n",
              "    </tr>\n",
              "    <tr>\n",
              "      <th>12</th>\n",
              "      <td>1.0</td>\n",
              "      <td>-1.0</td>\n",
              "      <td>-1.0</td>\n",
              "      <td>1.0</td>\n",
              "      <td>1.0</td>\n",
              "      <td>1.0</td>\n",
              "      <td>-1.0</td>\n",
              "      <td>-1.0</td>\n",
              "      <td>-1.0</td>\n",
              "      <td>-1.0</td>\n",
              "      <td>1.0</td>\n",
              "      <td>1.0</td>\n",
              "      <td>1.0</td>\n",
              "      <td>-1.0</td>\n",
              "      <td>-1.0</td>\n",
              "      <td>1</td>\n",
              "    </tr>\n",
              "    <tr>\n",
              "      <th>13</th>\n",
              "      <td>1.0</td>\n",
              "      <td>1.0</td>\n",
              "      <td>-1.0</td>\n",
              "      <td>1.0</td>\n",
              "      <td>1.0</td>\n",
              "      <td>-1.0</td>\n",
              "      <td>1.0</td>\n",
              "      <td>1.0</td>\n",
              "      <td>-1.0</td>\n",
              "      <td>-1.0</td>\n",
              "      <td>1.0</td>\n",
              "      <td>-1.0</td>\n",
              "      <td>-1.0</td>\n",
              "      <td>1.0</td>\n",
              "      <td>-1.0</td>\n",
              "      <td>-1</td>\n",
              "    </tr>\n",
              "    <tr>\n",
              "      <th>14</th>\n",
              "      <td>1.0</td>\n",
              "      <td>-1.0</td>\n",
              "      <td>1.0</td>\n",
              "      <td>1.0</td>\n",
              "      <td>1.0</td>\n",
              "      <td>-1.0</td>\n",
              "      <td>-1.0</td>\n",
              "      <td>-1.0</td>\n",
              "      <td>1.0</td>\n",
              "      <td>1.0</td>\n",
              "      <td>1.0</td>\n",
              "      <td>-1.0</td>\n",
              "      <td>-1.0</td>\n",
              "      <td>-1.0</td>\n",
              "      <td>1.0</td>\n",
              "      <td>-1</td>\n",
              "    </tr>\n",
              "    <tr>\n",
              "      <th>15</th>\n",
              "      <td>1.0</td>\n",
              "      <td>1.0</td>\n",
              "      <td>1.0</td>\n",
              "      <td>1.0</td>\n",
              "      <td>1.0</td>\n",
              "      <td>1.0</td>\n",
              "      <td>1.0</td>\n",
              "      <td>1.0</td>\n",
              "      <td>1.0</td>\n",
              "      <td>1.0</td>\n",
              "      <td>1.0</td>\n",
              "      <td>1.0</td>\n",
              "      <td>1.0</td>\n",
              "      <td>1.0</td>\n",
              "      <td>1.0</td>\n",
              "      <td>1</td>\n",
              "    </tr>\n",
              "    <tr>\n",
              "      <th>16</th>\n",
              "      <td>1.0</td>\n",
              "      <td>0.0</td>\n",
              "      <td>0.0</td>\n",
              "      <td>0.0</td>\n",
              "      <td>0.0</td>\n",
              "      <td>0.0</td>\n",
              "      <td>0.0</td>\n",
              "      <td>0.0</td>\n",
              "      <td>0.0</td>\n",
              "      <td>0.0</td>\n",
              "      <td>0.0</td>\n",
              "      <td>0.0</td>\n",
              "      <td>0.0</td>\n",
              "      <td>0.0</td>\n",
              "      <td>0.0</td>\n",
              "      <td>0</td>\n",
              "    </tr>\n",
              "    <tr>\n",
              "      <th>17</th>\n",
              "      <td>1.0</td>\n",
              "      <td>0.0</td>\n",
              "      <td>0.0</td>\n",
              "      <td>0.0</td>\n",
              "      <td>0.0</td>\n",
              "      <td>0.0</td>\n",
              "      <td>0.0</td>\n",
              "      <td>0.0</td>\n",
              "      <td>0.0</td>\n",
              "      <td>0.0</td>\n",
              "      <td>0.0</td>\n",
              "      <td>0.0</td>\n",
              "      <td>0.0</td>\n",
              "      <td>0.0</td>\n",
              "      <td>0.0</td>\n",
              "      <td>0</td>\n",
              "    </tr>\n",
              "    <tr>\n",
              "      <th>18</th>\n",
              "      <td>1.0</td>\n",
              "      <td>0.0</td>\n",
              "      <td>0.0</td>\n",
              "      <td>0.0</td>\n",
              "      <td>0.0</td>\n",
              "      <td>0.0</td>\n",
              "      <td>0.0</td>\n",
              "      <td>0.0</td>\n",
              "      <td>0.0</td>\n",
              "      <td>0.0</td>\n",
              "      <td>0.0</td>\n",
              "      <td>0.0</td>\n",
              "      <td>0.0</td>\n",
              "      <td>0.0</td>\n",
              "      <td>0.0</td>\n",
              "      <td>0</td>\n",
              "    </tr>\n",
              "    <tr>\n",
              "      <th>19</th>\n",
              "      <td>1.0</td>\n",
              "      <td>0.0</td>\n",
              "      <td>0.0</td>\n",
              "      <td>0.0</td>\n",
              "      <td>0.0</td>\n",
              "      <td>0.0</td>\n",
              "      <td>0.0</td>\n",
              "      <td>0.0</td>\n",
              "      <td>0.0</td>\n",
              "      <td>0.0</td>\n",
              "      <td>0.0</td>\n",
              "      <td>0.0</td>\n",
              "      <td>0.0</td>\n",
              "      <td>0.0</td>\n",
              "      <td>0.0</td>\n",
              "      <td>0</td>\n",
              "    </tr>\n",
              "  </tbody>\n",
              "</table>\n",
              "</div>"
            ],
            "text/plain": [
              "      I   x1   x2   x3   x4  ...  x1x2x3  x1x2x4  x1x3x4  x2x3x4  x1x2x3x4\n",
              "0   1.0 -1.0 -1.0 -1.0 -1.0  ...    -1.0    -1.0    -1.0    -1.0         1\n",
              "1   1.0  1.0 -1.0 -1.0 -1.0  ...     1.0     1.0     1.0    -1.0        -1\n",
              "2   1.0 -1.0  1.0 -1.0 -1.0  ...     1.0     1.0    -1.0     1.0        -1\n",
              "3   1.0  1.0  1.0 -1.0 -1.0  ...    -1.0    -1.0     1.0     1.0         1\n",
              "4   1.0 -1.0 -1.0  1.0 -1.0  ...     1.0    -1.0     1.0     1.0        -1\n",
              "5   1.0  1.0 -1.0  1.0 -1.0  ...    -1.0     1.0    -1.0     1.0         1\n",
              "6   1.0 -1.0  1.0  1.0 -1.0  ...    -1.0     1.0     1.0    -1.0         1\n",
              "7   1.0  1.0  1.0  1.0 -1.0  ...     1.0    -1.0    -1.0    -1.0        -1\n",
              "8   1.0 -1.0 -1.0 -1.0  1.0  ...    -1.0     1.0     1.0     1.0        -1\n",
              "9   1.0  1.0 -1.0 -1.0  1.0  ...     1.0    -1.0    -1.0     1.0         1\n",
              "10  1.0 -1.0  1.0 -1.0  1.0  ...     1.0    -1.0     1.0    -1.0         1\n",
              "11  1.0  1.0  1.0 -1.0  1.0  ...    -1.0     1.0    -1.0    -1.0        -1\n",
              "12  1.0 -1.0 -1.0  1.0  1.0  ...     1.0     1.0    -1.0    -1.0         1\n",
              "13  1.0  1.0 -1.0  1.0  1.0  ...    -1.0    -1.0     1.0    -1.0        -1\n",
              "14  1.0 -1.0  1.0  1.0  1.0  ...    -1.0    -1.0    -1.0     1.0        -1\n",
              "15  1.0  1.0  1.0  1.0  1.0  ...     1.0     1.0     1.0     1.0         1\n",
              "16  1.0  0.0  0.0  0.0  0.0  ...     0.0     0.0     0.0     0.0         0\n",
              "17  1.0  0.0  0.0  0.0  0.0  ...     0.0     0.0     0.0     0.0         0\n",
              "18  1.0  0.0  0.0  0.0  0.0  ...     0.0     0.0     0.0     0.0         0\n",
              "19  1.0  0.0  0.0  0.0  0.0  ...     0.0     0.0     0.0     0.0         0\n",
              "\n",
              "[20 rows x 16 columns]"
            ]
          },
          "metadata": {},
          "execution_count": 7
        }
      ]
    },
    {
      "cell_type": "markdown",
      "metadata": {
        "id": "SqsyBC1KQfAS"
      },
      "source": [
        "Note that the x1^2 and X2^2 columns are all 1s. This phenomial is due the lack of center points and middle level points in the design matrix X. We will introduce a CCD (central composite design) to take care of it."
      ]
    },
    {
      "cell_type": "code",
      "metadata": {
        "colab": {
          "base_uri": "https://localhost:8080/"
        },
        "id": "I1AMmo5AEbKQ",
        "outputId": "6b73cb27-7267-47ff-94bd-5352ac0321a4"
      },
      "source": [
        "# reduce model using main effect and two-way interactions \n",
        "# predicted response using skleran LinearRegression fit\n",
        "#X=xxpd.drop(columns=['I'])\n",
        "X=xxpd[['x1','x2','x3','x4','x1x2', 'x1x3', 'x1x4', 'x2x3', 'x2x4', 'x3x4']]\n",
        "Y=df[['EtchRate']]\n",
        "regr=LinearRegression()\n",
        "regr.fit(X,Y)\n",
        "Yhat=regr.predict(X)\n",
        "Y=Y.to_numpy()\n",
        "eij=Y-Yhat\n",
        "print(eij)\n"
      ],
      "execution_count": 32,
      "outputs": [
        {
          "output_type": "stream",
          "name": "stdout",
          "text": [
            "[[  0.225]\n",
            " [ 34.475]\n",
            " [  3.475]\n",
            " [-19.525]\n",
            " [  4.975]\n",
            " [-21.025]\n",
            " [  9.975]\n",
            " [ 24.725]\n",
            " [ 24.725]\n",
            " [-40.775]\n",
            " [ -9.775]\n",
            " [ 44.475]\n",
            " [-11.275]\n",
            " [ 45.975]\n",
            " [ 14.975]\n",
            " [-31.025]\n",
            " [-65.4  ]\n",
            " [ -7.4  ]\n",
            " [  8.6  ]\n",
            " [-10.4  ]]\n"
          ]
        }
      ]
    },
    {
      "cell_type": "code",
      "metadata": {
        "colab": {
          "base_uri": "https://localhost:8080/"
        },
        "id": "62GycVbDaJnL",
        "outputId": "61ef659a-2d8e-4c53-afb8-7fc05dc9e32c"
      },
      "source": [
        "# use statsmodels for OLS fitting and t statistics\n",
        "# in this case, X is xxpd with the first column I\n",
        "X=xxpd[['I','x1','x2','x3','x4','x1x2', 'x1x3', 'x1x4', 'x2x3', 'x2x4', 'x3x4']]\n",
        "model = sm.OLS(Y, X)\n",
        "res=model.fit()\n",
        "print(res.summary())\n"
      ],
      "execution_count": 9,
      "outputs": [
        {
          "output_type": "stream",
          "name": "stdout",
          "text": [
            "                            OLS Regression Results                            \n",
            "==============================================================================\n",
            "Dep. Variable:                      y   R-squared:                       0.972\n",
            "Model:                            OLS   Adj. R-squared:                  0.941\n",
            "Method:                 Least Squares   F-statistic:                     31.17\n",
            "Date:                Wed, 27 Oct 2021   Prob (F-statistic):           8.99e-06\n",
            "Time:                        19:55:28   Log-Likelihood:                -94.612\n",
            "No. Observations:                  20   AIC:                             211.2\n",
            "Df Residuals:                       9   BIC:                             222.2\n",
            "Df Model:                          10                                         \n",
            "Covariance Type:            nonrobust                                         \n",
            "==============================================================================\n",
            "                 coef    std err          t      P>|t|      [0.025      0.975]\n",
            "------------------------------------------------------------------------------\n",
            "I            771.4000      9.144     84.366      0.000     750.716     792.084\n",
            "x1           -50.8125     10.223     -4.971      0.001     -73.938     -27.687\n",
            "x2            -0.8125     10.223     -0.079      0.938     -23.938      22.313\n",
            "x3             3.6875     10.223      0.361      0.727     -19.438      26.813\n",
            "x4           153.0625     10.223     14.973      0.000     129.937     176.188\n",
            "x1x2          -3.9375     10.223     -0.385      0.709     -27.063      19.188\n",
            "x1x3         -12.4375     10.223     -1.217      0.255     -35.563      10.688\n",
            "x1x4         -76.8125     10.223     -7.514      0.000     -99.938     -53.687\n",
            "x2x3         -21.9375     10.223     -2.146      0.060     -45.063       1.188\n",
            "x2x4          -0.3125     10.223     -0.031      0.976     -23.438      22.813\n",
            "x3x4          -1.0625     10.223     -0.104      0.920     -24.188      22.063\n",
            "==============================================================================\n",
            "Omnibus:                        0.790   Durbin-Watson:                   1.856\n",
            "Prob(Omnibus):                  0.674   Jarque-Bera (JB):                0.371\n",
            "Skew:                          -0.331   Prob(JB):                        0.831\n",
            "Kurtosis:                       2.912   Cond. No.                         1.12\n",
            "==============================================================================\n",
            "\n",
            "Warnings:\n",
            "[1] Standard Errors assume that the covariance matrix of the errors is correctly specified.\n"
          ]
        }
      ]
    },
    {
      "cell_type": "code",
      "metadata": {
        "colab": {
          "base_uri": "https://localhost:8080/"
        },
        "id": "xVVmlrhfahw8",
        "outputId": "60191718-d4f3-411b-a41a-4b5b3eb55954"
      },
      "source": [
        "# Reduced model with only factors A, D, and AD \n",
        "X=xxpd[['x1','x4','x1x4']]\n",
        "Y=df[['EtchRate']]\n",
        "regr2=LinearRegression()\n",
        "regr2.fit(X,Y)\n",
        "Yhat2=regr2.predict(X)\n",
        "X2=xxpd[['I','x1','x4','x1x4']]\n",
        "model2 = sm.OLS(Y, X2)\n",
        "res2=model2.fit()\n",
        "print(res2.summary())\n",
        "\n",
        "#Yhat"
      ],
      "execution_count": 10,
      "outputs": [
        {
          "output_type": "stream",
          "name": "stdout",
          "text": [
            "                            OLS Regression Results                            \n",
            "==============================================================================\n",
            "Dep. Variable:               EtchRate   R-squared:                       0.952\n",
            "Model:                            OLS   Adj. R-squared:                  0.943\n",
            "Method:                 Least Squares   F-statistic:                     105.9\n",
            "Date:                Wed, 27 Oct 2021   Prob (F-statistic):           9.14e-11\n",
            "Time:                        19:55:28   Log-Likelihood:                -99.972\n",
            "No. Observations:                  20   AIC:                             207.9\n",
            "Df Residuals:                      16   BIC:                             211.9\n",
            "Df Model:                           3                                         \n",
            "Covariance Type:            nonrobust                                         \n",
            "==============================================================================\n",
            "                 coef    std err          t      P>|t|      [0.025      0.975]\n",
            "------------------------------------------------------------------------------\n",
            "I            771.4000      8.965     86.044      0.000     752.395     790.405\n",
            "x1           -50.8125     10.023     -5.069      0.000     -72.061     -29.564\n",
            "x4           153.0625     10.023     15.271      0.000     131.814     174.311\n",
            "x1x4         -76.8125     10.023     -7.663      0.000     -98.061     -55.564\n",
            "==============================================================================\n",
            "Omnibus:                        0.166   Durbin-Watson:                   1.304\n",
            "Prob(Omnibus):                  0.920   Jarque-Bera (JB):                0.050\n",
            "Skew:                          -0.078   Prob(JB):                        0.975\n",
            "Kurtosis:                       2.811   Cond. No.                         1.12\n",
            "==============================================================================\n",
            "\n",
            "Warnings:\n",
            "[1] Standard Errors assume that the covariance matrix of the errors is correctly specified.\n"
          ]
        }
      ]
    },
    {
      "cell_type": "code",
      "metadata": {
        "colab": {
          "base_uri": "https://localhost:8080/"
        },
        "id": "ELZGcoLvGLeS",
        "outputId": "47fcf957-2cc0-4d6a-c1b4-40e2a196645c"
      },
      "source": [
        "#compute the MSE using pure error (i.e. repteated obs at center points)\n",
        "# this cell verify the result in the next cell\n",
        "ydata0=[706, 764,780,761]\n",
        "mse=statistics.variance(ydata0)\n",
        "print(mse)"
      ],
      "execution_count": 11,
      "outputs": [
        {
          "output_type": "stream",
          "name": "stdout",
          "text": [
            "1040.9166666666667\n"
          ]
        }
      ]
    },
    {
      "cell_type": "code",
      "metadata": {
        "colab": {
          "base_uri": "https://localhost:8080/"
        },
        "id": "2regiCLuNbTm",
        "outputId": "f2b4b0cc-adb6-4370-c4e6-72df09ffffb0"
      },
      "source": [
        "#pure error = variance of the center points\n",
        "from statistics import variance\n",
        "Ycenter=[df['EtchRate'][df['A_Gap']==0]]\n",
        "#Ydata0=np.array(Ycenter)\n",
        "#Yrow=Ydata0[0]\n",
        "Yrow=np.array(Ycenter)[0]\n",
        "#MSpe=statistics.variance(Yrow) somehow the output is integer\n",
        "MSpe=np.var(Yrow, ddof=1) # ddof = 0 gives biased estimator\n",
        "MSpe"
      ],
      "execution_count": 12,
      "outputs": [
        {
          "output_type": "execute_result",
          "data": {
            "text/plain": [
              "1040.9166666666667"
            ]
          },
          "metadata": {},
          "execution_count": 12
        }
      ]
    },
    {
      "cell_type": "code",
      "metadata": {
        "colab": {
          "base_uri": "https://localhost:8080/"
        },
        "id": "s2nlEEuxHuFl",
        "outputId": "c09005ba-d88f-460e-9044-9017a5e1339e"
      },
      "source": [
        "#pure quadratic = nF*nC*(yFbar - yCbar )^2/(nF + nC)\n",
        "# nF is the number of points in the factorial points and nC is the number of center points\n",
        "YC=[df['EtchRate'][df['A_Gap']==0]][0]\n",
        "YF=[df['EtchRate'][df['A_Gap']!=0]][0]\n",
        "nC=len(YC)\n",
        "nF=len(YF)\n",
        "#SSpq is SS pure qudratic or called SS curvature\n",
        "SSpq=nF*nC*(statistics.mean(YF)-statistics.mean(YC))**2/(nF + nC)\n",
        "print('SS pure qudratic or curvature', SSpq)"
      ],
      "execution_count": 13,
      "outputs": [
        {
          "output_type": "stream",
          "name": "stdout",
          "text": [
            "SS pure qudratic or curvature 1739.1125\n"
          ]
        }
      ]
    },
    {
      "cell_type": "code",
      "metadata": {
        "colab": {
          "base_uri": "https://localhost:8080/"
        },
        "id": "rX-cItM3y855",
        "outputId": "1a768f6d-ab5c-468c-e133-d9f1534294d1"
      },
      "source": [
        "# to verify the number of points  n* 2^k  for the factorial design\n",
        "len(YF)"
      ],
      "execution_count": 14,
      "outputs": [
        {
          "output_type": "execute_result",
          "data": {
            "text/plain": [
              "16"
            ]
          },
          "metadata": {},
          "execution_count": 14
        }
      ]
    },
    {
      "cell_type": "code",
      "metadata": {
        "colab": {
          "base_uri": "https://localhost:8080/"
        },
        "id": "33Iod1LE47ww",
        "outputId": "0b3de494-8ae8-4848-f18e-c1bb72961cf1"
      },
      "source": [
        "# obtain the beta coefficients\n",
        "beta=regr.coef_\n",
        "betas=beta.flatten()\n",
        "betas"
      ],
      "execution_count": 15,
      "outputs": [
        {
          "output_type": "execute_result",
          "data": {
            "text/plain": [
              "array([-50.8125,  -0.8125,   3.6875, 153.0625,  -3.9375, -12.4375,\n",
              "       -76.8125, -21.9375,  -0.3125,  -1.0625])"
            ]
          },
          "metadata": {},
          "execution_count": 15
        }
      ]
    },
    {
      "cell_type": "code",
      "metadata": {
        "colab": {
          "base_uri": "https://localhost:8080/"
        },
        "id": "XDCyoqxoEJlZ",
        "outputId": "9ec3cae7-3080-48a6-dd25-a20e4f633d72"
      },
      "source": [
        "#\n",
        "# reduced model 1 main + 2-way interactions: SS computation\n",
        "#\n",
        "# Lack of fit = (SSe - SSpe) the unaccounted error amount after pure error\n",
        "# F test for lack of fit = MSlof/MSpe\n",
        "# res.resid is the residuals based on design matrix X which can be a full or reduce model\n",
        "\n",
        "Y=df[['EtchRate']].to_numpy()\n",
        "SST = sum(Y**2) - (sum(Y))**2/len(Y)\n",
        "\n",
        "# all SS terms of main and 2-way interactions summed for SSR\n",
        "SSR=sum(betas[0:10]**2) * len(YF)\n",
        "DFm= 4\n",
        "DFR = DFm + comb(DFm, 2) \n",
        "print(\"SS Model (reduce model 1)\", SSR, \"DF=\", int(DFR))\n",
        "SSe=SST-SSR\n",
        "DFe = len(Y)-1 - DFR\n",
        "print(\"SS Residual\",SSe, \"DF=\", int(DFe))\n",
        "SSpe = MSpe * (len(Yrow)-1)\n",
        "SSlof = SSe - SSpe\n",
        "DFlof=int(DFe - (len(YC)-1))\n",
        "print('    SS lack of fit', SSlof, \"DF=\", DFlof)\n",
        "print(\"    SS pure error\", SSpe, \"DF=\", len(YC)-1)\n",
        "\n",
        "print(\"SS Total\", SST, \"DF=\", len(Y)-1)"
      ],
      "execution_count": 34,
      "outputs": [
        {
          "output_type": "stream",
          "name": "stdout",
          "text": [
            "SS Model (reduce model 1) 521234.1250000001 DF= 10\n",
            "SS Residual [15048.675] DF= 9\n",
            "    SS lack of fit [11925.925] DF= 6\n",
            "    SS pure error 3122.75 DF= 3\n",
            "SS Total [536282.8] DF= 19\n"
          ]
        }
      ]
    },
    {
      "cell_type": "code",
      "metadata": {
        "id": "86jFNun_ajsA",
        "colab": {
          "base_uri": "https://localhost:8080/"
        },
        "outputId": "69271fd0-1417-46b0-9b2f-55bb7dcfab12"
      },
      "source": [
        "# reduced model: main + 2 way interaction + curvature + residual error\n",
        "# see the disscussion in Montegomery 7ed Intro to SQC Example 13.9 Table 13.19\n",
        "# contrast = n * 2^k * beta\n",
        "from scipy.special import comb\n",
        "contrast = len(YF) * betas\n",
        "#print(contrast)\n",
        "\n",
        "# SS = contrast^2 / n * 2^k\n",
        "SSmodel= contrast**2 / len(YF)\n",
        "#print(SSmodel)\n",
        "# note that the index 4 is not included in the computation\n",
        "SSmain=sum(SSmodel[0:4])\n",
        "DFm= 4\n",
        "print(\"SS main effect           >\", SSmain, \"DF=\", DFm)\n",
        "\n",
        "SStwoint=sum(SSmodel[4:10])\n",
        "DF2w=comb(DFm, 2)\n",
        "print(\"SS Two-Way Interactions  >\", SStwoint, \"DF=\", int(DF2w))\n",
        "\n",
        "print(\"SS Curvature  >\", SSpq, \"DF=\", 1)\n",
        "\n",
        "SShiint=sum(SSmodel[10:]) \n",
        "\n",
        "SSe=SST-SSmain -SStwoint - SSpq\n",
        "SSlof = SSe - SSpe\n",
        "DFRes=len(Y)-1-DFm-int(DF2w)-1\n",
        "DFpe=len(YC)-1\n",
        "DFlof= DFRes - DFpe\n",
        "\n",
        "print(\"SS Residual error        >\", SSe, \"DF=\", DFRes)\n",
        "print('SS lack of fit           >', SSlof, \"DF=\", DFlof )\n",
        "print('SS pure error            >', SSpe, \"DF=\", DFpe)\n",
        "print('SS Total                 >', SST, \"DF=\", len(Y)-1)"
      ],
      "execution_count": 33,
      "outputs": [
        {
          "output_type": "stream",
          "name": "stdout",
          "text": [
            "SS main effect           > 416388.75 DF= 4\n",
            "SS Two-Way Interactions  > 104845.37500000009 DF= 6\n",
            "SS Curvature  > 1739.1125 DF= 1\n",
            "SS Residual error        > [13309.5625] DF= 8\n",
            "SS lack of fit           > [10186.8125] DF= 5\n",
            "SS pure error            > 3122.75 DF= 3\n",
            "SS Total                 > [536282.8] DF= 19\n"
          ]
        }
      ]
    },
    {
      "cell_type": "code",
      "metadata": {
        "colab": {
          "base_uri": "https://localhost:8080/"
        },
        "id": "hdFoGBlk09e0",
        "outputId": "5fe4e6fa-7569-4be0-b058-578cb5a8df22"
      },
      "source": [
        "# Lack of Fit test: F0= MSlof/MSpe\n",
        "from scipy.stats import f\n",
        "MSlof=(SSlof/DFlof)\n",
        "MSpe=(SSpe/(len(YC)-1))\n",
        "F0=MSlof/MSpe\n",
        "print(\"MSlof, MSpe, F0\", MSlof, MSpe, F0)\n",
        "pval=1-f.cdf(F0, DFlof, len(YC)-1)\n",
        "print(\"pvalue of F0=\", pval)\n",
        "                    \n"
      ],
      "execution_count": 21,
      "outputs": [
        {
          "output_type": "stream",
          "name": "stdout",
          "text": [
            "MSlof, MSpe, F0 [2037.3625] 1040.9166666666667 [1.95727724]\n",
            "pvalue of F0= [0.30791344]\n"
          ]
        }
      ]
    },
    {
      "cell_type": "code",
      "metadata": {
        "colab": {
          "base_uri": "https://localhost:8080/"
        },
        "id": "3Cuojpsb2U0Q",
        "outputId": "82fadcc1-6919-43d8-cdfe-b6973d6b548f"
      },
      "source": [
        "# Curvature Test\n",
        "MScuvature=SSpq/1\n",
        "MSe=SSe/DFRes\n",
        "F0=MScuvature/MSe\n",
        "print(\"MScurvature, MSe, F0\", MScuvature, MSe, F0)\n",
        "pval=1-f.cdf(F0, 1, DFRes)\n",
        "print(\"pvalue of F0=\", pval)\n"
      ],
      "execution_count": 22,
      "outputs": [
        {
          "output_type": "stream",
          "name": "stdout",
          "text": [
            "MScurvature, MSe, F0 1739.1125 [1663.6953125] [1.04533113]\n",
            "pvalue of F0= [0.3365043]\n"
          ]
        }
      ]
    },
    {
      "cell_type": "code",
      "metadata": {
        "colab": {
          "base_uri": "https://localhost:8080/"
        },
        "id": "fb8w6bOnU8Nq",
        "outputId": "f757f314-7c68-4f0c-c01c-ca54a325bee1"
      },
      "source": [
        "#\n",
        "# Reduced model 2 with A, D, and AD\n",
        "#\n",
        "\n",
        "#SSA= sum((betas[0:3]**2) * len(YF))\n",
        "SSA= (betas[0]**2) * len(YF)\n",
        "\n",
        "\n",
        "SSD= (betas[3]**2) * len(YF)\n",
        "\n",
        "SSAD= (betas[6]**2) * len(YF)\n",
        "\n",
        "# all SS terms summed\n",
        "SSR=SSA+SSD+SSAD\n",
        "print(\"SS Model >\", SSR, \"DF=\", 3)\n",
        "print(\"   SSA\", SSA, \"DF=1\")\n",
        "print('   SSD', SSD, \"DF=1\")\n",
        "print(\"   SSAD\", SSAD, \"DF=1\")\n",
        "SST = sum(Y**2) - (sum(Y))**2/len(Y)\n",
        "\n",
        "SSe2=SST-SSR\n",
        "print(\"SS Residual error\",SSe2, \"DF=\", len(Y)-1-3)\n",
        "print(\"SS Total\",SST, \"DF=\", len(Y)-1)\n",
        "\n"
      ],
      "execution_count": 23,
      "outputs": [
        {
          "output_type": "stream",
          "name": "stdout",
          "text": [
            "SS Model > 510563.1875000001 DF= 3\n",
            "   SSA 41310.562500000015 DF=1\n",
            "   SSD 374850.0625 DF=1\n",
            "   SSAD 94402.5625000001 DF=1\n",
            "SS Residual error [25719.6125] DF= 16\n",
            "SS Total [536282.8] DF= 19\n"
          ]
        }
      ]
    },
    {
      "cell_type": "markdown",
      "metadata": {
        "id": "wlkholPKge0j"
      },
      "source": [
        "from the t tests above, the significant factors are"
      ]
    },
    {
      "cell_type": "code",
      "metadata": {
        "colab": {
          "base_uri": "https://localhost:8080/",
          "height": 627
        },
        "id": "TvzP67M7U4sV",
        "outputId": "771d3f54-8d49-40ec-dec0-4417ad03f79d"
      },
      "source": [
        "# Residual Analysis of the reduced model\n",
        "# normal check\n",
        "\n",
        "fig = plt.figure(figsize= (10, 10))\n",
        "ax = fig.add_subplot(111)\n",
        "\n",
        "normality_plot, stat = stats.probplot(res.resid, plot= plt, rvalue= True)\n",
        "ax.set_title(\"Probability plot of model residual's\", fontsize= 20)\n",
        "ax.set\n",
        "\n",
        "plt.show()"
      ],
      "execution_count": 24,
      "outputs": [
        {
          "output_type": "display_data",
          "data": {
            "image/png": "[encoded data removed]",
            "text/plain": [
              "<Figure size 720x720 with 1 Axes>"
            ]
          },
          "metadata": {
            "needs_background": "light"
          }
        }
      ]
    },
    {
      "cell_type": "code",
      "metadata": {
        "colab": {
          "base_uri": "https://localhost:8080/",
          "height": 627
        },
        "id": "TNMLsSjiXGlG",
        "outputId": "080e70e2-8716-4fe9-c054-17d3edd722d1"
      },
      "source": [
        "# Residual Analysis of the reduced model 2\n",
        "# normal check\n",
        "\n",
        "fig = plt.figure(figsize= (10, 10))\n",
        "ax = fig.add_subplot(111)\n",
        "\n",
        "normality_plot, stat = stats.probplot(res2.resid, plot= plt, rvalue= True)\n",
        "ax.set_title(\"Probability plot of model residual's\", fontsize= 20)\n",
        "ax.set\n",
        "\n",
        "plt.show()"
      ],
      "execution_count": 35,
      "outputs": [
        {
          "output_type": "display_data",
          "data": {
            "image/png": "[encoded data removed]",
            "text/plain": [
              "<Figure size 720x720 with 1 Axes>"
            ]
          },
          "metadata": {
            "needs_background": "light"
          }
        }
      ]
    },
    {
      "cell_type": "markdown",
      "metadata": {
        "id": "AHikasSeWudu"
      },
      "source": [
        "The above probably plot shows that the residuals are not normal "
      ]
    },
    {
      "cell_type": "code",
      "metadata": {
        "colab": {
          "base_uri": "https://localhost:8080/"
        },
        "id": "NmlcL6VBVjcD",
        "outputId": "23a57cde-6e87-4425-bed8-de1c073b04f3"
      },
      "source": [
        "# Homogeneity of Variance check for Factor A\n",
        "# if the p value is small, reject H0 that the residuals have equal variance\n",
        "# if the p value is large, cannot reject H0\n",
        "\n",
        "stats.levene(df['EtchRate'][df['A_Gap'] == -1],\n",
        "             df['EtchRate'][df['A_Gap'] == 1])\n",
        "            "
      ],
      "execution_count": 25,
      "outputs": [
        {
          "output_type": "execute_result",
          "data": {
            "text/plain": [
              "LeveneResult(statistic=49.13441332422498, pvalue=6.15384201158034e-06)"
            ]
          },
          "metadata": {},
          "execution_count": 25
        }
      ]
    },
    {
      "cell_type": "markdown",
      "metadata": {
        "id": "rIR3x4p3hWka"
      },
      "source": [
        "Since p value is very large, we fail to reject that factor A has equal variance"
      ]
    },
    {
      "cell_type": "code",
      "metadata": {
        "colab": {
          "base_uri": "https://localhost:8080/"
        },
        "id": "z2Pw_3CbhrKG",
        "outputId": "c30e51ba-f365-4061-d7b5-92d677262fd0"
      },
      "source": [
        "# Homogeneity of Variance check for Factor D\n",
        "# if the p value is small, reject H0 that the residuals have equal variance\n",
        "# if the p value is large, cannot reject H0\n",
        "\n",
        "stats.levene(df['EtchRate'][df['D_Power'] == -1],\n",
        "             df['EtchRate'][df['D_Power'] == 1])"
      ],
      "execution_count": 36,
      "outputs": [
        {
          "output_type": "execute_result",
          "data": {
            "text/plain": [
              "LeveneResult(statistic=22.076979601574614, pvalue=0.0003420853626576388)"
            ]
          },
          "metadata": {},
          "execution_count": 36
        }
      ]
    },
    {
      "cell_type": "markdown",
      "metadata": {
        "id": "Ezkcd3SzXTd7"
      },
      "source": [
        "Since p value is very large, we fail to reject that factor A has equal variance"
      ]
    },
    {
      "cell_type": "markdown",
      "metadata": {
        "id": "p2n_II8VWS6g"
      },
      "source": [
        "The p value of the Levene is very large. We don't have evidence to conclude that the variances from different primer type are different"
      ]
    },
    {
      "cell_type": "code",
      "metadata": {
        "colab": {
          "base_uri": "https://localhost:8080/",
          "height": 627
        },
        "id": "u0t70uvdWgUd",
        "outputId": "1f666a19-bb43-46a5-859c-1aac898f2689"
      },
      "source": [
        "# Box plots by factor A'\n",
        "# If the IRQ=75% quartitle - 25% quartile are very different, then question the constant variance assumption\n",
        "# If the F test p value is very small, we reject H0 and can use this box plot to identify the best factor level\n",
        "\n",
        "fig = plt.figure(figsize= (10, 10))\n",
        "ax = fig.add_subplot(111)\n",
        "\n",
        "ax.set_title(\"Box Plot of Vibration by A \", fontsize= 20)\n",
        "ax.set\n",
        "\n",
        "data2 = [df['EtchRate'][df['A_Gap'] == -1],\n",
        "             df['EtchRate'][df['A_Gap'] == 1]]\n",
        "\n",
        "\n",
        "ax.boxplot(data2,\n",
        "           labels= ['A= low', 'A=high'],\n",
        "           showmeans= True)\n",
        "\n",
        "plt.xlabel(\"A - Gap\")\n",
        "plt.ylabel(\"Etch Rate\")\n",
        "\n",
        "plt.show()"
      ],
      "execution_count": 27,
      "outputs": [
        {
          "output_type": "display_data",
          "data": {
            "image/png": "[encoded data removed]",
            "text/plain": [
              "<Figure size 720x720 with 1 Axes>"
            ]
          },
          "metadata": {
            "needs_background": "light"
          }
        }
      ]
    },
    {
      "cell_type": "markdown",
      "metadata": {
        "id": "wDJcyRoeJIx6"
      },
      "source": [
        "There is not much difference in variation. The largest adhesion strength is due to type 2 primer type."
      ]
    },
    {
      "cell_type": "code",
      "metadata": {
        "id": "h6ArZLGF1jco",
        "colab": {
          "base_uri": "https://localhost:8080/",
          "height": 627
        },
        "outputId": "21033a32-52c9-47f0-a5d9-2eb187a56a8d"
      },
      "source": [
        "# Box plots by factor D\n",
        "# same instruction as the previous factor \n",
        "\n",
        "fig = plt.figure(figsize= (10, 10))\n",
        "ax = fig.add_subplot(111)\n",
        "\n",
        "ax.set_title(\"Box Plot of Surface Finish by B \", fontsize= 20)\n",
        "ax.set\n",
        "\n",
        "data2 = [df['EtchRate'][df['D_Power'] == -1],\n",
        "         df['EtchRate'][df['D_Power'] == +1]]\n",
        "\n",
        "\n",
        "ax.boxplot(data2,\n",
        "           labels= ['D=Low', 'D=High'],\n",
        "           showmeans= True)\n",
        "\n",
        "plt.xlabel(\"D - Power\")\n",
        "plt.ylabel(\"Etch Rate\")\n",
        "\n",
        "plt.show()"
      ],
      "execution_count": 28,
      "outputs": [
        {
          "output_type": "display_data",
          "data": {
            "image/png": "[encoded data removed]",
            "text/plain": [
              "<Figure size 720x720 with 1 Axes>"
            ]
          },
          "metadata": {
            "needs_background": "light"
          }
        }
      ]
    },
    {
      "cell_type": "markdown",
      "metadata": {
        "id": "_YU26vtVJiQc"
      },
      "source": [
        "There is not much difference in variation by application method. The largest adhesion strength is due to spraying method."
      ]
    },
    {
      "cell_type": "code",
      "metadata": {
        "colab": {
          "base_uri": "https://localhost:8080/"
        },
        "id": "3PQt1nUq6NcF",
        "outputId": "a4f6f4c1-6ffc-4923-dedc-2c7db0c032b4"
      },
      "source": [
        "# testing the random order for collecting observations \n",
        "# Minitab calls the order variable, run order\n",
        "# the following code generate a random order\n",
        "# you should conduct your experiments using the random order generated\n",
        "# for example, the first number is 5, it means that you will run the setting 5 in the experimentation table\n",
        "# observation label 5 is primier type 3 and application method 2 (spraying)\n",
        "# the run observation 11 and so on until all observations are collected\n",
        "# import random (see the first cell)\n",
        "N = len(Y)\n",
        "#c = list(range(0, N))\n",
        "#xorder = random.sample(c, N) # this should be replaced by the exact run order if the random order is not used\n",
        "\n",
        "order=df[['run_order']]\n",
        "order=order.to_numpy() \n",
        "#the following step reduces the index in run_order by 1 so that the python index from 0 can function properly\n",
        "order2=np.zeros(N) #order 2 is a list of zero\n",
        "for i in range(N):\n",
        "    order2[i]=order[i]-1 #assign the value of element in an array into the list\n",
        "\n",
        "\n",
        "print('order of observations/residuals is')\n",
        "print(order2)\n",
        "# convert the array into a list for indexing\n",
        "#order=order.reshape((1,N))\n",
        "#order=order.tolist()\n",
        "#print(order)\n",
        "\n"
      ],
      "execution_count": 29,
      "outputs": [
        {
          "output_type": "stream",
          "name": "stdout",
          "text": [
            "order of observations/residuals is\n",
            "[ 9. 12.  6.  2.  8. 13.  0. 10. 15.  3. 14. 11.  5.  4.  7.  1. 16. 17.\n",
            " 18. 19.]\n"
          ]
        }
      ]
    },
    {
      "cell_type": "code",
      "metadata": {
        "colab": {
          "base_uri": "https://localhost:8080/",
          "height": 283
        },
        "id": "jR0HlHpg6kUA",
        "outputId": "fecd391d-01e4-4ac4-e0a4-4b49231bbb3d"
      },
      "source": [
        "# Use the run order to reflect the sequence that we collected the data \n",
        "# if there is no pattern in the scatter plot, then don't reject independence assumption\n",
        "\n",
        "eij=res2.resid\n",
        "\n",
        "x = range(0,N) # from the first collected obs to the last in order\n",
        "y = eij[order2] # assign run order (see the previous code box)\n",
        "\n",
        "plt.scatter(x, y)"
      ],
      "execution_count": 37,
      "outputs": [
        {
          "output_type": "execute_result",
          "data": {
            "text/plain": [
              "<matplotlib.collections.PathCollection at 0x7fcc26b20a50>"
            ]
          },
          "metadata": {},
          "execution_count": 37
        },
        {
          "output_type": "display_data",
          "data": {
            "image/png": "[encoded data removed]",
            "text/plain": [
              "<Figure size 432x288 with 1 Axes>"
            ]
          },
          "metadata": {
            "needs_background": "light"
          }
        }
      ]
    },
    {
      "cell_type": "markdown",
      "metadata": {
        "id": "dexpHCLKZgmZ"
      },
      "source": [
        "The random order from the scatter plot above shows no pattern. If the data in the first half of the experiments are lower than 0 while those of the second half are above 0. Then there is a bias in data collection. If the residuals are small in the beginning but graduately increase. Or vice versa. It is a concern as well. In these cases, independence assumption is violated.\n",
        "Your Turn: Try the same plot on res.resid for the reduced model 1. The above figure is for reduced model 2 (A + D +AD)"
      ]
    }
  ]
}