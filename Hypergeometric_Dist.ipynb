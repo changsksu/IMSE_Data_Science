{
  "nbformat": 4,
  "nbformat_minor": 0,
  "metadata": {
    "colab": {
      "provenance": [],
      "authorship_tag": "ABX9TyPhBvgewJElh5j0LH9JEhLd",
      "include_colab_link": true
    },
    "kernelspec": {
      "name": "python3",
      "display_name": "Python 3"
    },
    "language_info": {
      "name": "python"
    }
  },
  "cells": [
    {
      "cell_type": "markdown",
      "metadata": {
        "id": "view-in-github",
        "colab_type": "text"
      },
      "source": [
        "<a href=\"https://colab.research.google.com/github/changsksu/IMSE_Data_Science/blob/main/Hypergeometric_Dist.ipynb\" target=\"_parent\"><img src=\"https://colab.research.google.com/assets/colab-badge.svg\" alt=\"Open In Colab\"/></a>"
      ]
    },
    {
      "cell_type": "markdown",
      "source": [
        "# This code demonstrates how Hypergeometric distribution pmf is calculated\n",
        "ref. https://towardsdatascience.com/hypergeometric-distribution-explained-with-python-2c80bc613bf4"
      ],
      "metadata": {
        "id": "4YXSr1he8jjj"
      }
    },
    {
      "cell_type": "markdown",
      "source": [
        "# I. Compute hypergeometric pmf and pdf manually"
      ],
      "metadata": {
        "id": "l3bPbP9Ajuml"
      }
    },
    {
      "cell_type": "code",
      "execution_count": 3,
      "metadata": {
        "id": "am4akXhb8hJh"
      },
      "outputs": [],
      "source": [
        "\n",
        "import numpy as np\n",
        "import matplotlib.pyplot as plt\n",
        "from scipy.special import comb\n",
        "\n",
        "def hypergeom_pmf(N, D, n, x):\n",
        "\n",
        "    '''\n",
        "    Probability Mass Function for Hypergeometric Distribution\n",
        "    :param N: population size\n",
        "    :param D: total number of desired items in N\n",
        "    :param n: number of draws made from N\n",
        "    :param x: number of desired items in our draw of n items\n",
        "    :returns: PMF computed at x\n",
        "    '''\n",
        "    Dchoosex = comb(D,x)\n",
        "    NDchoosenx = comb(N-D, n-x)\n",
        "    Nchoosen = comb(N,n)\n",
        "\n",
        "    return (Dchoosex)*NDchoosenx/Nchoosen"
      ]
    },
    {
      "cell_type": "code",
      "source": [
        "px0=hypergeom_pmf(100, 5,10,0)\n",
        "px0"
      ],
      "metadata": {
        "colab": {
          "base_uri": "https://localhost:8080/"
        },
        "id": "Nl8Iajrh9Vy0",
        "outputId": "113b12be-04f3-4af6-8e42-dd8a68399a60"
      },
      "execution_count": null,
      "outputs": [
        {
          "output_type": "execute_result",
          "data": {
            "text/plain": [
              "0.583752366926152"
            ]
          },
          "metadata": {},
          "execution_count": 4
        }
      ]
    },
    {
      "cell_type": "code",
      "source": [
        "px1=hypergeom_pmf(100, 5,10,1)\n",
        "px1"
      ],
      "metadata": {
        "colab": {
          "base_uri": "https://localhost:8080/"
        },
        "id": "-k2A7mL29tns",
        "outputId": "396d5319-7e4b-44df-bc99-ae5daf2637a3"
      },
      "execution_count": null,
      "outputs": [
        {
          "output_type": "execute_result",
          "data": {
            "text/plain": [
              "0.3393909110035767"
            ]
          },
          "metadata": {},
          "execution_count": 5
        }
      ]
    },
    {
      "cell_type": "code",
      "source": [
        "px0+px1"
      ],
      "metadata": {
        "colab": {
          "base_uri": "https://localhost:8080/"
        },
        "id": "OXdIkzDx9xz0",
        "outputId": "2d5d7206-6e53-4b23-b858-1f163a2fd971"
      },
      "execution_count": null,
      "outputs": [
        {
          "output_type": "execute_result",
          "data": {
            "text/plain": [
              "0.9231432779297286"
            ]
          },
          "metadata": {},
          "execution_count": 6
        }
      ]
    },
    {
      "cell_type": "code",
      "source": [
        "# compute and print the pmf and cdf values\n",
        "hgcdf=0\n",
        "for x in range(11):\n",
        "  hgpmf=hypergeom_pmf(100, 5,10,x)\n",
        "  hgcdf=hgcdf+hgpmf\n",
        "  print(x, \"   \", hgpmf, \"   \", hgcdf)"
      ],
      "metadata": {
        "colab": {
          "base_uri": "https://localhost:8080/"
        },
        "id": "QSaAAn76-Ij_",
        "outputId": "1480b360-f3dc-459d-9b49-9de38e0f4bcc"
      },
      "execution_count": null,
      "outputs": [
        {
          "output_type": "stream",
          "name": "stdout",
          "text": [
            "0     0.583752366926152     0.583752366926152\n",
            "1     0.3393909110035767     0.9231432779297286\n",
            "2     0.0702188091731538     0.9933620871028824\n",
            "3     0.006383528106650345     0.9997456152095328\n",
            "4     0.0002510376221716428     0.9999966528317044\n",
            "5     3.347168295621904e-06     1.0\n",
            "6     0.0     1.0\n",
            "7     0.0     1.0\n",
            "8     0.0     1.0\n",
            "9     0.0     1.0\n",
            "10     0.0     1.0\n"
          ]
        }
      ]
    },
    {
      "cell_type": "code",
      "source": [
        "def hypergeom_plot(N, D, n):\n",
        "\n",
        "    '''\n",
        "    Visualization of Hypergeometric Distribution for given parameters\n",
        "    :param N: population size\n",
        "    :param A: total number of desired items in N\n",
        "    :param n: number of draws made from N\n",
        "    :returns: Plot of Hypergeometric Distribution for given parameters\n",
        "    '''\n",
        "\n",
        "    x = np.arange(0, n+1)\n",
        "    y = [hypergeom_pmf(N, D, n, x) for x in range(n+1)]\n",
        "    plt.plot(x, y, 'bo')\n",
        "    plt.vlines(x, 0, y, lw=2)\n",
        "    plt.xlabel('# of outcomes in the sample n')\n",
        "    plt.ylabel('Probablities')\n",
        "    plt.title('Hypergeometric Distribution Plot')\n",
        "    plt.show()"
      ],
      "metadata": {
        "id": "87naHYbr_wza"
      },
      "execution_count": null,
      "outputs": []
    },
    {
      "cell_type": "code",
      "source": [
        "hypergeom_plot(100, 5, 10)"
      ],
      "metadata": {
        "colab": {
          "base_uri": "https://localhost:8080/",
          "height": 472
        },
        "id": "0VjXHdlsAMPt",
        "outputId": "ea9d2ca9-abc8-4351-b364-1b5e0a525a7d"
      },
      "execution_count": null,
      "outputs": [
        {
          "output_type": "display_data",
          "data": {
            "text/plain": [
              "<Figure size 640x480 with 1 Axes>"
            ],
            "image/png": "[encoded data removed]"
          },
          "metadata": {}
        }
      ]
    },
    {
      "cell_type": "markdown",
      "source": [
        "# **II. Using Scipy for hypergeom functions**"
      ],
      "metadata": {
        "id": "t1Yxq1pHjjCp"
      }
    },
    {
      "cell_type": "markdown",
      "source": [
        "Your Turn: try the following function in scipy\n",
        "https://docs.scipy.org/doc/scipy/reference/generated/scipy.stats.hypergeom.html\n"
      ],
      "metadata": {
        "id": "_IbjfzTSB9wc"
      }
    },
    {
      "cell_type": "code",
      "source": [
        "from scipy.stats import hypergeom\n",
        "import numpy as np\n",
        "import matplotlib.pyplot as plt"
      ],
      "metadata": {
        "id": "6Yw8eV4kVOEa"
      },
      "execution_count": 4,
      "outputs": []
    },
    {
      "cell_type": "code",
      "source": [
        "# In Scipy hypogeomtric function  M is N and N is D.\n",
        "# the order of the function is different from above as well\n",
        "# populstion M=100 out of which D=5 defects if sample n=10, then\n",
        "# define a random variable rv as hypogeometric distribution\n",
        "[M, n, N] = [100, 10, 5]\n",
        "rv = hypergeom(M, n, N)\n",
        "x = np.arange(0, n+1)\n",
        "pmf_defects = rv.pmf(x)\n",
        "cdf_defects = rv.cdf(x)"
      ],
      "metadata": {
        "id": "4CQF-LUjVQet"
      },
      "execution_count": 5,
      "outputs": []
    },
    {
      "cell_type": "code",
      "source": [
        "# N=100, D=5, n=10 solve P(x=0)=there is no defect\n",
        "hypergeom(100,10,5).pmf(0)"
      ],
      "metadata": {
        "colab": {
          "base_uri": "https://localhost:8080/"
        },
        "id": "4030CnrF4YWz",
        "outputId": "e7ba3f71-1175-4909-fd6d-9f414ce8c5c5"
      },
      "execution_count": 6,
      "outputs": [
        {
          "output_type": "execute_result",
          "data": {
            "text/plain": [
              "0.583752366926152"
            ]
          },
          "metadata": {},
          "execution_count": 6
        }
      ]
    },
    {
      "cell_type": "code",
      "source": [
        "# pmf cdf tables\n",
        "for i in range(n+1):\n",
        "  hgpmf=rv.pmf(i)\n",
        "  hgcdf=rv.cdf(i)\n",
        "  format_pmf = \"{:.3f}\".format(hgpmf)\n",
        "  format_cdf= \"{:.3f}\".format(hgcdf)\n",
        "  print(i, format_pmf, format_cdf)\n",
        "  #print(i, \"   \", hgpmf, \"   \", hgcdf)\n"
      ],
      "metadata": {
        "colab": {
          "base_uri": "https://localhost:8080/"
        },
        "id": "v9laz2byW0oj",
        "outputId": "c7d32377-6c90-4440-f007-864283486f54"
      },
      "execution_count": null,
      "outputs": [
        {
          "output_type": "stream",
          "name": "stdout",
          "text": [
            "0 0.584 0.584\n",
            "1 0.339 0.923\n",
            "2 0.070 0.993\n",
            "3 0.006 1.000\n",
            "4 0.000 1.000\n",
            "5 0.000 1.000\n",
            "6 0.000 1.000\n",
            "7 0.000 1.000\n",
            "8 0.000 1.000\n",
            "9 0.000 1.000\n",
            "10 0.000 1.000\n"
          ]
        }
      ]
    },
    {
      "cell_type": "code",
      "source": [
        "# pmf plot\n",
        "fig = plt.figure()\n",
        "ax = fig.add_subplot(111)\n",
        "ax.plot(x, pmf_defects, 'bo')\n",
        "ax.vlines(x, 0, pmf_defects, lw=2)\n",
        "ax.set_xlabel('# of defects in the chosen sample n')\n",
        "ax.set_ylabel('hypergeom PMF')\n",
        "plt.show()"
      ],
      "metadata": {
        "colab": {
          "base_uri": "https://localhost:8080/",
          "height": 449
        },
        "id": "d5jlinkJV_cv",
        "outputId": "fd4b71ea-9708-41fa-b0c3-d1d9678d27ea"
      },
      "execution_count": null,
      "outputs": [
        {
          "output_type": "display_data",
          "data": {
            "text/plain": [
              "<Figure size 640x480 with 1 Axes>"
            ],
            "image/png": "[encoded data removed]"
          },
          "metadata": {}
        }
      ]
    },
    {
      "cell_type": "code",
      "source": [
        "# cdf plot\n",
        "fig = plt.figure()\n",
        "ax = fig.add_subplot(111)\n",
        "ax.plot(x, cdf_defects, 'bo')\n",
        "ax.vlines(x, 0, cdf_defects, lw=2)\n",
        "ax.set_xlabel('# of defects in the chosen sample n')\n",
        "ax.set_ylabel('hypergeom CDF')\n",
        "plt.show()"
      ],
      "metadata": {
        "colab": {
          "base_uri": "https://localhost:8080/",
          "height": 449
        },
        "id": "s0RwEG6BXiqE",
        "outputId": "f297444b-cec4-47b5-b52c-42c65f6c2548"
      },
      "execution_count": null,
      "outputs": [
        {
          "output_type": "display_data",
          "data": {
            "text/plain": [
              "<Figure size 640x480 with 1 Axes>"
            ],
            "image/png": "[encoded data removed]"
          },
          "metadata": {}
        }
      ]
    },
    {
      "cell_type": "markdown",
      "source": [
        "**Ref. You can also use scipy for various discrete distribution function**"
      ],
      "metadata": {
        "id": "p3H7Th6RjMfz"
      }
    },
    {
      "cell_type": "markdown",
      "source": [
        "Use the scipy functions for other discrete distributions:\n",
        "Binomial: https://docs.scipy.org/doc/scipy/reference/generated/scipy.stats.binom.html#scipy.stats.binom\n",
        "Poisson:"
      ],
      "metadata": {
        "id": "gWqf0WdAcPuY"
      }
    },
    {
      "cell_type": "code",
      "source": [
        "from scipy.stats.morestats import distributions\n",
        "\n",
        "\n"
      ],
      "metadata": {
        "id": "57R0eYBDcGcC"
      },
      "execution_count": null,
      "outputs": []
    }
  ]
}