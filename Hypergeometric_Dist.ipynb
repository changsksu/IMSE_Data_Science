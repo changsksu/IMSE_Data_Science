{
  "nbformat": 4,
  "nbformat_minor": 0,
  "metadata": {
    "colab": {
      "name": "Hypergeometric Dist.ipynb",
      "provenance": [],
      "collapsed_sections": [],
      "authorship_tag": "ABX9TyNuXleG2iHKMmGqQEvW8nxV",
      "include_colab_link": true
    },
    "kernelspec": {
      "name": "python3",
      "display_name": "Python 3"
    },
    "language_info": {
      "name": "python"
    }
  },
  "cells": [
    {
      "cell_type": "markdown",
      "metadata": {
        "id": "view-in-github",
        "colab_type": "text"
      },
      "source": [
        "<a href=\"https://colab.research.google.com/github/changsksu/IMSE_Data_Science/blob/main/Hypergeometric_Dist.ipynb\" target=\"_parent\"><img src=\"https://colab.research.google.com/assets/colab-badge.svg\" alt=\"Open In Colab\"/></a>"
      ]
    },
    {
      "cell_type": "markdown",
      "source": [
        "# This code demonstrates how Hypergeometric distribution pmf is calculated\n",
        "ref. https://towardsdatascience.com/hypergeometric-distribution-explained-with-python-2c80bc613bf4"
      ],
      "metadata": {
        "id": "4YXSr1he8jjj"
      }
    },
    {
      "cell_type": "code",
      "execution_count": null,
      "metadata": {
        "id": "am4akXhb8hJh"
      },
      "outputs": [],
      "source": [
        "\n",
        "import numpy as np\n",
        "import matplotlib.pyplot as plt\n",
        "from scipy.special import comb\n",
        "\n",
        "def hypergeom_pmf(N, D, n, x):\n",
        "    \n",
        "    '''\n",
        "    Probability Mass Function for Hypergeometric Distribution\n",
        "    :param N: population size\n",
        "    :param D: total number of desired items in N\n",
        "    :param n: number of draws made from N\n",
        "    :param x: number of desired items in our draw of n items\n",
        "    :returns: PMF computed at x\n",
        "    '''\n",
        "    Dchoosex = comb(D,x)\n",
        "    NDchoosenx = comb(N-D, n-x)\n",
        "    Nchoosen = comb(N,n)\n",
        "    \n",
        "    return (Dchoosex)*NDchoosenx/Nchoosen"
      ]
    },
    {
      "cell_type": "code",
      "source": [
        "px0=hypergeom_pmf(100, 5,10,0)\n",
        "px0"
      ],
      "metadata": {
        "colab": {
          "base_uri": "https://localhost:8080/"
        },
        "id": "Nl8Iajrh9Vy0",
        "outputId": "113b12be-04f3-4af6-8e42-dd8a68399a60"
      },
      "execution_count": null,
      "outputs": [
        {
          "output_type": "execute_result",
          "data": {
            "text/plain": [
              "0.583752366926152"
            ]
          },
          "metadata": {},
          "execution_count": 4
        }
      ]
    },
    {
      "cell_type": "code",
      "source": [
        "px1=hypergeom_pmf(100, 5,10,1)\n",
        "px1"
      ],
      "metadata": {
        "colab": {
          "base_uri": "https://localhost:8080/"
        },
        "id": "-k2A7mL29tns",
        "outputId": "396d5319-7e4b-44df-bc99-ae5daf2637a3"
      },
      "execution_count": null,
      "outputs": [
        {
          "output_type": "execute_result",
          "data": {
            "text/plain": [
              "0.3393909110035767"
            ]
          },
          "metadata": {},
          "execution_count": 5
        }
      ]
    },
    {
      "cell_type": "code",
      "source": [
        "px0+px1"
      ],
      "metadata": {
        "colab": {
          "base_uri": "https://localhost:8080/"
        },
        "id": "OXdIkzDx9xz0",
        "outputId": "2d5d7206-6e53-4b23-b858-1f163a2fd971"
      },
      "execution_count": null,
      "outputs": [
        {
          "output_type": "execute_result",
          "data": {
            "text/plain": [
              "0.9231432779297286"
            ]
          },
          "metadata": {},
          "execution_count": 6
        }
      ]
    },
    {
      "cell_type": "code",
      "source": [
        "# compute and print the pmf and cdf values\n",
        "hgcdf=0\n",
        "for x in range(11):\n",
        "  hgpmf=hypergeom_pmf(100, 5,10,x)\n",
        "  hgcdf=hgcdf+hgpmf\n",
        "  print(x, \"   \", hgpmf, \"   \", hgcdf)"
      ],
      "metadata": {
        "colab": {
          "base_uri": "https://localhost:8080/"
        },
        "id": "QSaAAn76-Ij_",
        "outputId": "b2bbe4bf-bb3e-4eca-ead9-5d9aee8731c6"
      },
      "execution_count": null,
      "outputs": [
        {
          "output_type": "stream",
          "name": "stdout",
          "text": [
            "0     0.583752366926152     0.583752366926152\n",
            "1     0.3393909110035767     0.9231432779297286\n",
            "2     0.0702188091731538     0.9933620871028824\n",
            "3     0.006383528106650345     0.9997456152095328\n",
            "4     0.0002510376221716428     0.9999966528317044\n",
            "5     3.347168295621904e-06     1.0\n",
            "6     0.0     1.0\n",
            "7     0.0     1.0\n",
            "8     0.0     1.0\n",
            "9     0.0     1.0\n",
            "10     0.0     1.0\n"
          ]
        }
      ]
    },
    {
      "cell_type": "code",
      "source": [
        "def hypergeom_plot(N, D, n):\n",
        "    \n",
        "    '''\n",
        "    Visualization of Hypergeometric Distribution for given parameters\n",
        "    :param N: population size\n",
        "    :param A: total number of desired items in N\n",
        "    :param n: number of draws made from N\n",
        "    :returns: Plot of Hypergeometric Distribution for given parameters\n",
        "    '''\n",
        "    \n",
        "    x = np.arange(0, n+1)\n",
        "    y = [hypergeom_pmf(N, D, n, x) for x in range(n+1)]\n",
        "    plt.plot(x, y, 'bo')\n",
        "    plt.vlines(x, 0, y, lw=2)\n",
        "    plt.xlabel('# of outcomes in the sample n')\n",
        "    plt.ylabel('Probablities')\n",
        "    plt.title('Hypergeometric Distribution Plot')\n",
        "    plt.show()"
      ],
      "metadata": {
        "id": "87naHYbr_wza"
      },
      "execution_count": null,
      "outputs": []
    },
    {
      "cell_type": "code",
      "source": [
        "hypergeom_plot(100, 5, 10)"
      ],
      "metadata": {
        "colab": {
          "base_uri": "https://localhost:8080/",
          "height": 295
        },
        "id": "0VjXHdlsAMPt",
        "outputId": "c15da4f9-2270-4c3e-da9e-fa775182bd7a"
      },
      "execution_count": null,
      "outputs": [
        {
          "output_type": "display_data",
          "data": {
            "text/plain": [
              "<Figure size 432x288 with 1 Axes>"
            ],
            "image/png": "[encoded data removed]"
          },
          "metadata": {
            "needs_background": "light"
          }
        }
      ]
    }
  ]
}