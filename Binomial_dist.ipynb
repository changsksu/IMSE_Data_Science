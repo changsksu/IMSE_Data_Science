{
  "nbformat": 4,
  "nbformat_minor": 0,
  "metadata": {
    "colab": {
      "name": "Binomial dist.ipynb",
      "provenance": [],
      "collapsed_sections": [],
      "authorship_tag": "ABX9TyNz0qjzUu7w+C1A4KeJ9cwr",
      "include_colab_link": true
    },
    "kernelspec": {
      "name": "python3",
      "display_name": "Python 3"
    },
    "language_info": {
      "name": "python"
    }
  },
  "cells": [
    {
      "cell_type": "markdown",
      "metadata": {
        "id": "view-in-github",
        "colab_type": "text"
      },
      "source": [
        "<a href=\"https://colab.research.google.com/github/changsksu/IMSE_Data_Science/blob/main/Binomial_dist.ipynb\" target=\"_parent\"><img src=\"https://colab.research.google.com/assets/colab-badge.svg\" alt=\"Open In Colab\"/></a>"
      ]
    },
    {
      "cell_type": "markdown",
      "source": [
        "**Binomial distribtion using scipy**"
      ],
      "metadata": {
        "id": "AAafT8f1e5R0"
      }
    },
    {
      "cell_type": "code",
      "execution_count": 11,
      "metadata": {
        "id": "R9ACG1YRe35p"
      },
      "outputs": [],
      "source": [
        "from scipy.stats import binom\n",
        "import matplotlib.pyplot as plt\n",
        "import numpy as np"
      ]
    },
    {
      "cell_type": "markdown",
      "source": [
        "Example, a defense missle has a success rate of 0.7. Three missiles are launched to intercept the incoming missile. Let x be the number of missiles that hit the incoming one. x=0, 1, 2, and 3"
      ],
      "metadata": {
        "id": "2lKD42g1jg6S"
      }
    },
    {
      "cell_type": "code",
      "source": [
        "# compute the first four moments\n",
        "n, p = 3, 0.7\n",
        "mean, var, skew, kurt = binom.stats(n, p, moments='mvsk')\n",
        "print(\"mean=\", mean)\n",
        "print(\"variance\", var)"
      ],
      "metadata": {
        "colab": {
          "base_uri": "https://localhost:8080/"
        },
        "id": "zsRmfyNafG4X",
        "outputId": "9ac8b441-a06e-462d-c192-1450bbbebf7a"
      },
      "execution_count": 4,
      "outputs": [
        {
          "output_type": "stream",
          "name": "stdout",
          "text": [
            "mean= 2.0999999999999996\n",
            "variance 0.63\n"
          ]
        }
      ]
    },
    {
      "cell_type": "code",
      "source": [
        "# define rv as binormial\n",
        "rv = binom(n, p)\n",
        "# pmf cdf tables\n",
        "print(\"Binomial distribution with n=\",n, \" and p=\", p)\n",
        "print(\"x   pmf  cdf\")\n",
        "for x in range(n+1):\n",
        "  bnpmf=rv.pmf(x)\n",
        "  bncdf=rv.cdf(x)\n",
        "  format_pmf = \"{:.3f}\".format(bnpmf)\n",
        "  format_cdf= \"{:.3f}\".format(bncdf)\n",
        "  print(x, format_pmf, format_cdf)"
      ],
      "metadata": {
        "colab": {
          "base_uri": "https://localhost:8080/"
        },
        "id": "PtmKBP4tfrbM",
        "outputId": "7940c83b-e76b-4a2d-f706-eb1c06080f41"
      },
      "execution_count": 9,
      "outputs": [
        {
          "output_type": "stream",
          "name": "stdout",
          "text": [
            "Binomial distribution with n= 3  and p= 0.7\n",
            "x   pmf  cdf\n",
            "0 0.027 0.027\n",
            "1 0.189 0.216\n",
            "2 0.441 0.657\n",
            "3 0.343 1.000\n"
          ]
        }
      ]
    },
    {
      "cell_type": "code",
      "source": [
        "x = np.arange(0, n+1)\n",
        "bnpmf=rv.pmf(x)\n",
        "# pmf plot\n",
        "fig = plt.figure()\n",
        "ax = fig.add_subplot(111)\n",
        "ax.plot(x, bnpmf, 'bo')\n",
        "ax.vlines(x, 0, bnpmf, lw=2)\n",
        "ax.set_xlabel('# of defects in the chosen sample n')\n",
        "ax.set_ylabel('binomial PMF')\n",
        "plt.show()"
      ],
      "metadata": {
        "colab": {
          "base_uri": "https://localhost:8080/",
          "height": 279
        },
        "id": "FwIzXi2Oh81R",
        "outputId": "eb1a15a4-ecd9-4255-e7f5-139cea90578e"
      },
      "execution_count": 15,
      "outputs": [
        {
          "output_type": "display_data",
          "data": {
            "text/plain": [
              "<Figure size 432x288 with 1 Axes>"
            ],
            "image/png": "[encoded data removed]"
          },
          "metadata": {
            "needs_background": "light"
          }
        }
      ]
    },
    {
      "cell_type": "code",
      "source": [
        "x = np.arange(0, n+1)\n",
        "bncdf=rv.cdf(x)\n",
        "# CDF plot\n",
        "fig = plt.figure()\n",
        "ax = fig.add_subplot(111)\n",
        "ax.plot(x, bncdf, 'bo')\n",
        "ax.vlines(x, 0, bncdf, lw=2)\n",
        "ax.set_xlabel('# of defects in the chosen sample n')\n",
        "ax.set_ylabel('binomial CDF')\n",
        "plt.show()"
      ],
      "metadata": {
        "colab": {
          "base_uri": "https://localhost:8080/",
          "height": 279
        },
        "id": "Jp_AlbEijHYV",
        "outputId": "441b5cae-d819-42dd-9dcf-f0c5bc1f2804"
      },
      "execution_count": 16,
      "outputs": [
        {
          "output_type": "display_data",
          "data": {
            "text/plain": [
              "<Figure size 432x288 with 1 Axes>"
            ],
            "image/png": "[encoded data removed]"
          },
          "metadata": {
            "needs_background": "light"
          }
        }
      ]
    }
  ]
}