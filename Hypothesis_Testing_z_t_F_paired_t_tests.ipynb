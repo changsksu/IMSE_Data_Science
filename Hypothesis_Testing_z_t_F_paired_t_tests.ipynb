{
  "nbformat": 4,
  "nbformat_minor": 0,
  "metadata": {
    "colab": {
      "provenance": [],
      "authorship_tag": "ABX9TyOxNMm1kAlPptE2hPy6uSev",
      "include_colab_link": true
    },
    "kernelspec": {
      "name": "python3",
      "display_name": "Python 3"
    },
    "language_info": {
      "name": "python"
    }
  },
  "cells": [
    {
      "cell_type": "markdown",
      "metadata": {
        "id": "view-in-github",
        "colab_type": "text"
      },
      "source": [
        "<a href=\"https://colab.research.google.com/github/changsksu/IMSE_Data_Science/blob/main/Hypothesis_Testing_z_t_F_paired_t_tests.ipynb\" target=\"_parent\"><img src=\"https://colab.research.google.com/assets/colab-badge.svg\" alt=\"Open In Colab\"/></a>"
      ]
    },
    {
      "cell_type": "markdown",
      "metadata": {
        "id": "NFXPRPA2d7I-"
      },
      "source": [
        "# This nb demonstrates the use of scipy ttest function.\n",
        "\n",
        "**scipy.stats.ttest_1samp(a, popmean, axis=0, nan_policy='propagate')**\n",
        "Ref. https://www.kite.com/python/docs/scipy.stats.ttest_1samp"
      ]
    },
    {
      "cell_type": "code",
      "metadata": {
        "id": "Rc7nYxvoWrGy"
      },
      "source": [
        "import math\n",
        "import statistics\n",
        "import numpy as np\n",
        "import scipy.stats\n",
        "import pandas as pd\n",
        "from statsmodels.stats import weightstats as stests\n",
        "import scipy.stats as stats\n",
        "from scipy.stats import norm\n",
        "from scipy.stats import t\n",
        "import matplotlib.pyplot as plt"
      ],
      "execution_count": 9,
      "outputs": []
    },
    {
      "cell_type": "code",
      "metadata": {
        "colab": {
          "base_uri": "https://localhost:8080/"
        },
        "id": "WalnA3Gt_bGr",
        "outputId": "28b881f9-1b0c-488f-bede-a98667f7dd6f"
      },
      "source": [
        "import platform\n",
        "print(platform.python_version())"
      ],
      "execution_count": null,
      "outputs": [
        {
          "output_type": "stream",
          "name": "stdout",
          "text": [
            "3.10.12\n"
          ]
        }
      ]
    },
    {
      "cell_type": "code",
      "metadata": {
        "colab": {
          "base_uri": "https://localhost:8080/"
        },
        "id": "PZkxjciTGKEH",
        "outputId": "0c704136-8f71-4775-f21d-477060802e6c"
      },
      "source": [
        "scipy.version"
      ],
      "execution_count": null,
      "outputs": [
        {
          "output_type": "execute_result",
          "data": {
            "text/plain": [
              "<module 'scipy.version' from '/usr/local/lib/python3.10/dist-packages/scipy/version.py'>"
            ]
          },
          "metadata": {},
          "execution_count": 3
        }
      ]
    },
    {
      "cell_type": "code",
      "metadata": {
        "colab": {
          "base_uri": "https://localhost:8080/"
        },
        "id": "_sjTjemNXIIa",
        "outputId": "a494bbee-77dd-44d2-f487-fc083b40940f"
      },
      "source": [
        "# mount google drive\n",
        "from google.colab import drive\n",
        "drive.mount('/content/drive')"
      ],
      "execution_count": 2,
      "outputs": [
        {
          "output_type": "stream",
          "name": "stdout",
          "text": [
            "Mounted at /content/drive\n"
          ]
        }
      ]
    },
    {
      "cell_type": "code",
      "metadata": {
        "id": "d_RyJ4BbXvS_",
        "colab": {
          "base_uri": "https://localhost:8080/",
          "height": 1000
        },
        "outputId": "63c911b0-e8b1-4983-ac19-b143299a89ba"
      },
      "source": [
        "#the 2nd read option assume that the data file is rignt under your default google drive directory\n",
        "# the sep-',' argument in the read statement should be used in some cases if ; does not work\n",
        "data = pd.read_csv('drive/My Drive/Colab Notebooks/IMSE_Data_Science/brain_size.csv', sep=';', na_values=\".\")\n",
        "data"
      ],
      "execution_count": 3,
      "outputs": [
        {
          "output_type": "execute_result",
          "data": {
            "text/plain": [
              "    Unnamed: 0  Gender  FSIQ  VIQ  PIQ  Weight  Height  MRI_Count\n",
              "0            1  Female   133  132  124   118.0    64.5     816932\n",
              "1            2    Male   140  150  124     NaN    72.5    1001121\n",
              "2            3    Male   139  123  150   143.0    73.3    1038437\n",
              "3            4    Male   133  129  128   172.0    68.8     965353\n",
              "4            5  Female   137  132  134   147.0    65.0     951545\n",
              "5            6  Female    99   90  110   146.0    69.0     928799\n",
              "6            7  Female   138  136  131   138.0    64.5     991305\n",
              "7            8  Female    92   90   98   175.0    66.0     854258\n",
              "8            9    Male    89   93   84   134.0    66.3     904858\n",
              "9           10    Male   133  114  147   172.0    68.8     955466\n",
              "10          11  Female   132  129  124   118.0    64.5     833868\n",
              "11          12    Male   141  150  128   151.0    70.0    1079549\n",
              "12          13    Male   135  129  124   155.0    69.0     924059\n",
              "13          14  Female   140  120  147   155.0    70.5     856472\n",
              "14          15  Female    96  100   90   146.0    66.0     878897\n",
              "15          16  Female    83   71   96   135.0    68.0     865363\n",
              "16          17  Female   132  132  120   127.0    68.5     852244\n",
              "17          18    Male   100   96  102   178.0    73.5     945088\n",
              "18          19  Female   101  112   84   136.0    66.3     808020\n",
              "19          20    Male    80   77   86   180.0    70.0     889083\n",
              "20          21    Male    83   83   86     NaN     NaN     892420\n",
              "21          22    Male    97  107   84   186.0    76.5     905940\n",
              "22          23  Female   135  129  134   122.0    62.0     790619\n",
              "23          24    Male   139  145  128   132.0    68.0     955003\n",
              "24          25  Female    91   86  102   114.0    63.0     831772\n",
              "25          26    Male   141  145  131   171.0    72.0     935494\n",
              "26          27  Female    85   90   84   140.0    68.0     798612\n",
              "27          28    Male   103   96  110   187.0    77.0    1062462\n",
              "28          29  Female    77   83   72   106.0    63.0     793549\n",
              "29          30  Female   130  126  124   159.0    66.5     866662\n",
              "30          31  Female   133  126  132   127.0    62.5     857782\n",
              "31          32    Male   144  145  137   191.0    67.0     949589\n",
              "32          33    Male   103   96  110   192.0    75.5     997925\n",
              "33          34    Male    90   96   86   181.0    69.0     879987\n",
              "34          35  Female    83   90   81   143.0    66.5     834344\n",
              "35          36  Female   133  129  128   153.0    66.5     948066\n",
              "36          37    Male   140  150  124   144.0    70.5     949395\n",
              "37          38  Female    88   86   94   139.0    64.5     893983\n",
              "38          39    Male    81   90   74   148.0    74.0     930016\n",
              "39          40    Male    89   91   89   179.0    75.5     935863"
            ],
            "text/html": [
              "\n",
              "  <div id=\"df-76187eec-a5a0-487a-9819-18fa3663e57a\" class=\"colab-df-container\">\n",
              "    <div>\n",
              "<style scoped>\n",
              "    .dataframe tbody tr th:only-of-type {\n",
              "        vertical-align: middle;\n",
              "    }\n",
              "\n",
              "    .dataframe tbody tr th {\n",
              "        vertical-align: top;\n",
              "    }\n",
              "\n",
              "    .dataframe thead th {\n",
              "        text-align: right;\n",
              "    }\n",
              "</style>\n",
              "<table border=\"1\" class=\"dataframe\">\n",
              "  <thead>\n",
              "    <tr style=\"text-align: right;\">\n",
              "      <th></th>\n",
              "      <th>Unnamed: 0</th>\n",
              "      <th>Gender</th>\n",
              "      <th>FSIQ</th>\n",
              "      <th>VIQ</th>\n",
              "      <th>PIQ</th>\n",
              "      <th>Weight</th>\n",
              "      <th>Height</th>\n",
              "      <th>MRI_Count</th>\n",
              "    </tr>\n",
              "  </thead>\n",
              "  <tbody>\n",
              "    <tr>\n",
              "      <th>0</th>\n",
              "      <td>1</td>\n",
              "      <td>Female</td>\n",
              "      <td>133</td>\n",
              "      <td>132</td>\n",
              "      <td>124</td>\n",
              "      <td>118.0</td>\n",
              "      <td>64.5</td>\n",
              "      <td>816932</td>\n",
              "    </tr>\n",
              "    <tr>\n",
              "      <th>1</th>\n",
              "      <td>2</td>\n",
              "      <td>Male</td>\n",
              "      <td>140</td>\n",
              "      <td>150</td>\n",
              "      <td>124</td>\n",
              "      <td>NaN</td>\n",
              "      <td>72.5</td>\n",
              "      <td>1001121</td>\n",
              "    </tr>\n",
              "    <tr>\n",
              "      <th>2</th>\n",
              "      <td>3</td>\n",
              "      <td>Male</td>\n",
              "      <td>139</td>\n",
              "      <td>123</td>\n",
              "      <td>150</td>\n",
              "      <td>143.0</td>\n",
              "      <td>73.3</td>\n",
              "      <td>1038437</td>\n",
              "    </tr>\n",
              "    <tr>\n",
              "      <th>3</th>\n",
              "      <td>4</td>\n",
              "      <td>Male</td>\n",
              "      <td>133</td>\n",
              "      <td>129</td>\n",
              "      <td>128</td>\n",
              "      <td>172.0</td>\n",
              "      <td>68.8</td>\n",
              "      <td>965353</td>\n",
              "    </tr>\n",
              "    <tr>\n",
              "      <th>4</th>\n",
              "      <td>5</td>\n",
              "      <td>Female</td>\n",
              "      <td>137</td>\n",
              "      <td>132</td>\n",
              "      <td>134</td>\n",
              "      <td>147.0</td>\n",
              "      <td>65.0</td>\n",
              "      <td>951545</td>\n",
              "    </tr>\n",
              "    <tr>\n",
              "      <th>5</th>\n",
              "      <td>6</td>\n",
              "      <td>Female</td>\n",
              "      <td>99</td>\n",
              "      <td>90</td>\n",
              "      <td>110</td>\n",
              "      <td>146.0</td>\n",
              "      <td>69.0</td>\n",
              "      <td>928799</td>\n",
              "    </tr>\n",
              "    <tr>\n",
              "      <th>6</th>\n",
              "      <td>7</td>\n",
              "      <td>Female</td>\n",
              "      <td>138</td>\n",
              "      <td>136</td>\n",
              "      <td>131</td>\n",
              "      <td>138.0</td>\n",
              "      <td>64.5</td>\n",
              "      <td>991305</td>\n",
              "    </tr>\n",
              "    <tr>\n",
              "      <th>7</th>\n",
              "      <td>8</td>\n",
              "      <td>Female</td>\n",
              "      <td>92</td>\n",
              "      <td>90</td>\n",
              "      <td>98</td>\n",
              "      <td>175.0</td>\n",
              "      <td>66.0</td>\n",
              "      <td>854258</td>\n",
              "    </tr>\n",
              "    <tr>\n",
              "      <th>8</th>\n",
              "      <td>9</td>\n",
              "      <td>Male</td>\n",
              "      <td>89</td>\n",
              "      <td>93</td>\n",
              "      <td>84</td>\n",
              "      <td>134.0</td>\n",
              "      <td>66.3</td>\n",
              "      <td>904858</td>\n",
              "    </tr>\n",
              "    <tr>\n",
              "      <th>9</th>\n",
              "      <td>10</td>\n",
              "      <td>Male</td>\n",
              "      <td>133</td>\n",
              "      <td>114</td>\n",
              "      <td>147</td>\n",
              "      <td>172.0</td>\n",
              "      <td>68.8</td>\n",
              "      <td>955466</td>\n",
              "    </tr>\n",
              "    <tr>\n",
              "      <th>10</th>\n",
              "      <td>11</td>\n",
              "      <td>Female</td>\n",
              "      <td>132</td>\n",
              "      <td>129</td>\n",
              "      <td>124</td>\n",
              "      <td>118.0</td>\n",
              "      <td>64.5</td>\n",
              "      <td>833868</td>\n",
              "    </tr>\n",
              "    <tr>\n",
              "      <th>11</th>\n",
              "      <td>12</td>\n",
              "      <td>Male</td>\n",
              "      <td>141</td>\n",
              "      <td>150</td>\n",
              "      <td>128</td>\n",
              "      <td>151.0</td>\n",
              "      <td>70.0</td>\n",
              "      <td>1079549</td>\n",
              "    </tr>\n",
              "    <tr>\n",
              "      <th>12</th>\n",
              "      <td>13</td>\n",
              "      <td>Male</td>\n",
              "      <td>135</td>\n",
              "      <td>129</td>\n",
              "      <td>124</td>\n",
              "      <td>155.0</td>\n",
              "      <td>69.0</td>\n",
              "      <td>924059</td>\n",
              "    </tr>\n",
              "    <tr>\n",
              "      <th>13</th>\n",
              "      <td>14</td>\n",
              "      <td>Female</td>\n",
              "      <td>140</td>\n",
              "      <td>120</td>\n",
              "      <td>147</td>\n",
              "      <td>155.0</td>\n",
              "      <td>70.5</td>\n",
              "      <td>856472</td>\n",
              "    </tr>\n",
              "    <tr>\n",
              "      <th>14</th>\n",
              "      <td>15</td>\n",
              "      <td>Female</td>\n",
              "      <td>96</td>\n",
              "      <td>100</td>\n",
              "      <td>90</td>\n",
              "      <td>146.0</td>\n",
              "      <td>66.0</td>\n",
              "      <td>878897</td>\n",
              "    </tr>\n",
              "    <tr>\n",
              "      <th>15</th>\n",
              "      <td>16</td>\n",
              "      <td>Female</td>\n",
              "      <td>83</td>\n",
              "      <td>71</td>\n",
              "      <td>96</td>\n",
              "      <td>135.0</td>\n",
              "      <td>68.0</td>\n",
              "      <td>865363</td>\n",
              "    </tr>\n",
              "    <tr>\n",
              "      <th>16</th>\n",
              "      <td>17</td>\n",
              "      <td>Female</td>\n",
              "      <td>132</td>\n",
              "      <td>132</td>\n",
              "      <td>120</td>\n",
              "      <td>127.0</td>\n",
              "      <td>68.5</td>\n",
              "      <td>852244</td>\n",
              "    </tr>\n",
              "    <tr>\n",
              "      <th>17</th>\n",
              "      <td>18</td>\n",
              "      <td>Male</td>\n",
              "      <td>100</td>\n",
              "      <td>96</td>\n",
              "      <td>102</td>\n",
              "      <td>178.0</td>\n",
              "      <td>73.5</td>\n",
              "      <td>945088</td>\n",
              "    </tr>\n",
              "    <tr>\n",
              "      <th>18</th>\n",
              "      <td>19</td>\n",
              "      <td>Female</td>\n",
              "      <td>101</td>\n",
              "      <td>112</td>\n",
              "      <td>84</td>\n",
              "      <td>136.0</td>\n",
              "      <td>66.3</td>\n",
              "      <td>808020</td>\n",
              "    </tr>\n",
              "    <tr>\n",
              "      <th>19</th>\n",
              "      <td>20</td>\n",
              "      <td>Male</td>\n",
              "      <td>80</td>\n",
              "      <td>77</td>\n",
              "      <td>86</td>\n",
              "      <td>180.0</td>\n",
              "      <td>70.0</td>\n",
              "      <td>889083</td>\n",
              "    </tr>\n",
              "    <tr>\n",
              "      <th>20</th>\n",
              "      <td>21</td>\n",
              "      <td>Male</td>\n",
              "      <td>83</td>\n",
              "      <td>83</td>\n",
              "      <td>86</td>\n",
              "      <td>NaN</td>\n",
              "      <td>NaN</td>\n",
              "      <td>892420</td>\n",
              "    </tr>\n",
              "    <tr>\n",
              "      <th>21</th>\n",
              "      <td>22</td>\n",
              "      <td>Male</td>\n",
              "      <td>97</td>\n",
              "      <td>107</td>\n",
              "      <td>84</td>\n",
              "      <td>186.0</td>\n",
              "      <td>76.5</td>\n",
              "      <td>905940</td>\n",
              "    </tr>\n",
              "    <tr>\n",
              "      <th>22</th>\n",
              "      <td>23</td>\n",
              "      <td>Female</td>\n",
              "      <td>135</td>\n",
              "      <td>129</td>\n",
              "      <td>134</td>\n",
              "      <td>122.0</td>\n",
              "      <td>62.0</td>\n",
              "      <td>790619</td>\n",
              "    </tr>\n",
              "    <tr>\n",
              "      <th>23</th>\n",
              "      <td>24</td>\n",
              "      <td>Male</td>\n",
              "      <td>139</td>\n",
              "      <td>145</td>\n",
              "      <td>128</td>\n",
              "      <td>132.0</td>\n",
              "      <td>68.0</td>\n",
              "      <td>955003</td>\n",
              "    </tr>\n",
              "    <tr>\n",
              "      <th>24</th>\n",
              "      <td>25</td>\n",
              "      <td>Female</td>\n",
              "      <td>91</td>\n",
              "      <td>86</td>\n",
              "      <td>102</td>\n",
              "      <td>114.0</td>\n",
              "      <td>63.0</td>\n",
              "      <td>831772</td>\n",
              "    </tr>\n",
              "    <tr>\n",
              "      <th>25</th>\n",
              "      <td>26</td>\n",
              "      <td>Male</td>\n",
              "      <td>141</td>\n",
              "      <td>145</td>\n",
              "      <td>131</td>\n",
              "      <td>171.0</td>\n",
              "      <td>72.0</td>\n",
              "      <td>935494</td>\n",
              "    </tr>\n",
              "    <tr>\n",
              "      <th>26</th>\n",
              "      <td>27</td>\n",
              "      <td>Female</td>\n",
              "      <td>85</td>\n",
              "      <td>90</td>\n",
              "      <td>84</td>\n",
              "      <td>140.0</td>\n",
              "      <td>68.0</td>\n",
              "      <td>798612</td>\n",
              "    </tr>\n",
              "    <tr>\n",
              "      <th>27</th>\n",
              "      <td>28</td>\n",
              "      <td>Male</td>\n",
              "      <td>103</td>\n",
              "      <td>96</td>\n",
              "      <td>110</td>\n",
              "      <td>187.0</td>\n",
              "      <td>77.0</td>\n",
              "      <td>1062462</td>\n",
              "    </tr>\n",
              "    <tr>\n",
              "      <th>28</th>\n",
              "      <td>29</td>\n",
              "      <td>Female</td>\n",
              "      <td>77</td>\n",
              "      <td>83</td>\n",
              "      <td>72</td>\n",
              "      <td>106.0</td>\n",
              "      <td>63.0</td>\n",
              "      <td>793549</td>\n",
              "    </tr>\n",
              "    <tr>\n",
              "      <th>29</th>\n",
              "      <td>30</td>\n",
              "      <td>Female</td>\n",
              "      <td>130</td>\n",
              "      <td>126</td>\n",
              "      <td>124</td>\n",
              "      <td>159.0</td>\n",
              "      <td>66.5</td>\n",
              "      <td>866662</td>\n",
              "    </tr>\n",
              "    <tr>\n",
              "      <th>30</th>\n",
              "      <td>31</td>\n",
              "      <td>Female</td>\n",
              "      <td>133</td>\n",
              "      <td>126</td>\n",
              "      <td>132</td>\n",
              "      <td>127.0</td>\n",
              "      <td>62.5</td>\n",
              "      <td>857782</td>\n",
              "    </tr>\n",
              "    <tr>\n",
              "      <th>31</th>\n",
              "      <td>32</td>\n",
              "      <td>Male</td>\n",
              "      <td>144</td>\n",
              "      <td>145</td>\n",
              "      <td>137</td>\n",
              "      <td>191.0</td>\n",
              "      <td>67.0</td>\n",
              "      <td>949589</td>\n",
              "    </tr>\n",
              "    <tr>\n",
              "      <th>32</th>\n",
              "      <td>33</td>\n",
              "      <td>Male</td>\n",
              "      <td>103</td>\n",
              "      <td>96</td>\n",
              "      <td>110</td>\n",
              "      <td>192.0</td>\n",
              "      <td>75.5</td>\n",
              "      <td>997925</td>\n",
              "    </tr>\n",
              "    <tr>\n",
              "      <th>33</th>\n",
              "      <td>34</td>\n",
              "      <td>Male</td>\n",
              "      <td>90</td>\n",
              "      <td>96</td>\n",
              "      <td>86</td>\n",
              "      <td>181.0</td>\n",
              "      <td>69.0</td>\n",
              "      <td>879987</td>\n",
              "    </tr>\n",
              "    <tr>\n",
              "      <th>34</th>\n",
              "      <td>35</td>\n",
              "      <td>Female</td>\n",
              "      <td>83</td>\n",
              "      <td>90</td>\n",
              "      <td>81</td>\n",
              "      <td>143.0</td>\n",
              "      <td>66.5</td>\n",
              "      <td>834344</td>\n",
              "    </tr>\n",
              "    <tr>\n",
              "      <th>35</th>\n",
              "      <td>36</td>\n",
              "      <td>Female</td>\n",
              "      <td>133</td>\n",
              "      <td>129</td>\n",
              "      <td>128</td>\n",
              "      <td>153.0</td>\n",
              "      <td>66.5</td>\n",
              "      <td>948066</td>\n",
              "    </tr>\n",
              "    <tr>\n",
              "      <th>36</th>\n",
              "      <td>37</td>\n",
              "      <td>Male</td>\n",
              "      <td>140</td>\n",
              "      <td>150</td>\n",
              "      <td>124</td>\n",
              "      <td>144.0</td>\n",
              "      <td>70.5</td>\n",
              "      <td>949395</td>\n",
              "    </tr>\n",
              "    <tr>\n",
              "      <th>37</th>\n",
              "      <td>38</td>\n",
              "      <td>Female</td>\n",
              "      <td>88</td>\n",
              "      <td>86</td>\n",
              "      <td>94</td>\n",
              "      <td>139.0</td>\n",
              "      <td>64.5</td>\n",
              "      <td>893983</td>\n",
              "    </tr>\n",
              "    <tr>\n",
              "      <th>38</th>\n",
              "      <td>39</td>\n",
              "      <td>Male</td>\n",
              "      <td>81</td>\n",
              "      <td>90</td>\n",
              "      <td>74</td>\n",
              "      <td>148.0</td>\n",
              "      <td>74.0</td>\n",
              "      <td>930016</td>\n",
              "    </tr>\n",
              "    <tr>\n",
              "      <th>39</th>\n",
              "      <td>40</td>\n",
              "      <td>Male</td>\n",
              "      <td>89</td>\n",
              "      <td>91</td>\n",
              "      <td>89</td>\n",
              "      <td>179.0</td>\n",
              "      <td>75.5</td>\n",
              "      <td>935863</td>\n",
              "    </tr>\n",
              "  </tbody>\n",
              "</table>\n",
              "</div>\n",
              "    <div class=\"colab-df-buttons\">\n",
              "\n",
              "  <div class=\"colab-df-container\">\n",
              "    <button class=\"colab-df-convert\" onclick=\"convertToInteractive('df-76187eec-a5a0-487a-9819-18fa3663e57a')\"\n",
              "            title=\"Convert this dataframe to an interactive table.\"\n",
              "            style=\"display:none;\">\n",
              "\n",
              "  <svg xmlns=\"http://www.w3.org/2000/svg\" height=\"24px\" viewBox=\"0 -960 960 960\">\n",
              "    <path d=\"M120-120v-720h720v720H120Zm60-500h600v-160H180v160Zm220 220h160v-160H400v160Zm0 220h160v-160H400v160ZM180-400h160v-160H180v160Zm440 0h160v-160H620v160ZM180-180h160v-160H180v160Zm440 0h160v-160H620v160Z\"/>\n",
              "  </svg>\n",
              "    </button>\n",
              "\n",
              "  <style>\n",
              "    .colab-df-container {\n",
              "      display:flex;\n",
              "      gap: 12px;\n",
              "    }\n",
              "\n",
              "    .colab-df-convert {\n",
              "      background-color: #E8F0FE;\n",
              "      border: none;\n",
              "      border-radius: 50%;\n",
              "      cursor: pointer;\n",
              "      display: none;\n",
              "      fill: #1967D2;\n",
              "      height: 32px;\n",
              "      padding: 0 0 0 0;\n",
              "      width: 32px;\n",
              "    }\n",
              "\n",
              "    .colab-df-convert:hover {\n",
              "      background-color: #E2EBFA;\n",
              "      box-shadow: 0px 1px 2px rgba(60, 64, 67, 0.3), 0px 1px 3px 1px rgba(60, 64, 67, 0.15);\n",
              "      fill: #174EA6;\n",
              "    }\n",
              "\n",
              "    .colab-df-buttons div {\n",
              "      margin-bottom: 4px;\n",
              "    }\n",
              "\n",
              "    [theme=dark] .colab-df-convert {\n",
              "      background-color: #3B4455;\n",
              "      fill: #D2E3FC;\n",
              "    }\n",
              "\n",
              "    [theme=dark] .colab-df-convert:hover {\n",
              "      background-color: #434B5C;\n",
              "      box-shadow: 0px 1px 3px 1px rgba(0, 0, 0, 0.15);\n",
              "      filter: drop-shadow(0px 1px 2px rgba(0, 0, 0, 0.3));\n",
              "      fill: #FFFFFF;\n",
              "    }\n",
              "  </style>\n",
              "\n",
              "    <script>\n",
              "      const buttonEl =\n",
              "        document.querySelector('#df-76187eec-a5a0-487a-9819-18fa3663e57a button.colab-df-convert');\n",
              "      buttonEl.style.display =\n",
              "        google.colab.kernel.accessAllowed ? 'block' : 'none';\n",
              "\n",
              "      async function convertToInteractive(key) {\n",
              "        const element = document.querySelector('#df-76187eec-a5a0-487a-9819-18fa3663e57a');\n",
              "        const dataTable =\n",
              "          await google.colab.kernel.invokeFunction('convertToInteractive',\n",
              "                                                    [key], {});\n",
              "        if (!dataTable) return;\n",
              "\n",
              "        const docLinkHtml = 'Like what you see? Visit the ' +\n",
              "          '<a target=\"_blank\" href=https://colab.research.google.com/notebooks/data_table.ipynb>data table notebook</a>'\n",
              "          + ' to learn more about interactive tables.';\n",
              "        element.innerHTML = '';\n",
              "        dataTable['output_type'] = 'display_data';\n",
              "        await google.colab.output.renderOutput(dataTable, element);\n",
              "        const docLink = document.createElement('div');\n",
              "        docLink.innerHTML = docLinkHtml;\n",
              "        element.appendChild(docLink);\n",
              "      }\n",
              "    </script>\n",
              "  </div>\n",
              "\n",
              "\n",
              "<div id=\"df-2b21868d-bc6c-4664-8c69-3850f3d99400\">\n",
              "  <button class=\"colab-df-quickchart\" onclick=\"quickchart('df-2b21868d-bc6c-4664-8c69-3850f3d99400')\"\n",
              "            title=\"Suggest charts.\"\n",
              "            style=\"display:none;\">\n",
              "\n",
              "<svg xmlns=\"http://www.w3.org/2000/svg\" height=\"24px\"viewBox=\"0 0 24 24\"\n",
              "     width=\"24px\">\n",
              "    <g>\n",
              "        <path d=\"M19 3H5c-1.1 0-2 .9-2 2v14c0 1.1.9 2 2 2h14c1.1 0 2-.9 2-2V5c0-1.1-.9-2-2-2zM9 17H7v-7h2v7zm4 0h-2V7h2v10zm4 0h-2v-4h2v4z\"/>\n",
              "    </g>\n",
              "</svg>\n",
              "  </button>\n",
              "\n",
              "<style>\n",
              "  .colab-df-quickchart {\n",
              "      --bg-color: #E8F0FE;\n",
              "      --fill-color: #1967D2;\n",
              "      --hover-bg-color: #E2EBFA;\n",
              "      --hover-fill-color: #174EA6;\n",
              "      --disabled-fill-color: #AAA;\n",
              "      --disabled-bg-color: #DDD;\n",
              "  }\n",
              "\n",
              "  [theme=dark] .colab-df-quickchart {\n",
              "      --bg-color: #3B4455;\n",
              "      --fill-color: #D2E3FC;\n",
              "      --hover-bg-color: #434B5C;\n",
              "      --hover-fill-color: #FFFFFF;\n",
              "      --disabled-bg-color: #3B4455;\n",
              "      --disabled-fill-color: #666;\n",
              "  }\n",
              "\n",
              "  .colab-df-quickchart {\n",
              "    background-color: var(--bg-color);\n",
              "    border: none;\n",
              "    border-radius: 50%;\n",
              "    cursor: pointer;\n",
              "    display: none;\n",
              "    fill: var(--fill-color);\n",
              "    height: 32px;\n",
              "    padding: 0;\n",
              "    width: 32px;\n",
              "  }\n",
              "\n",
              "  .colab-df-quickchart:hover {\n",
              "    background-color: var(--hover-bg-color);\n",
              "    box-shadow: 0 1px 2px rgba(60, 64, 67, 0.3), 0 1px 3px 1px rgba(60, 64, 67, 0.15);\n",
              "    fill: var(--button-hover-fill-color);\n",
              "  }\n",
              "\n",
              "  .colab-df-quickchart-complete:disabled,\n",
              "  .colab-df-quickchart-complete:disabled:hover {\n",
              "    background-color: var(--disabled-bg-color);\n",
              "    fill: var(--disabled-fill-color);\n",
              "    box-shadow: none;\n",
              "  }\n",
              "\n",
              "  .colab-df-spinner {\n",
              "    border: 2px solid var(--fill-color);\n",
              "    border-color: transparent;\n",
              "    border-bottom-color: var(--fill-color);\n",
              "    animation:\n",
              "      spin 1s steps(1) infinite;\n",
              "  }\n",
              "\n",
              "  @keyframes spin {\n",
              "    0% {\n",
              "      border-color: transparent;\n",
              "      border-bottom-color: var(--fill-color);\n",
              "      border-left-color: var(--fill-color);\n",
              "    }\n",
              "    20% {\n",
              "      border-color: transparent;\n",
              "      border-left-color: var(--fill-color);\n",
              "      border-top-color: var(--fill-color);\n",
              "    }\n",
              "    30% {\n",
              "      border-color: transparent;\n",
              "      border-left-color: var(--fill-color);\n",
              "      border-top-color: var(--fill-color);\n",
              "      border-right-color: var(--fill-color);\n",
              "    }\n",
              "    40% {\n",
              "      border-color: transparent;\n",
              "      border-right-color: var(--fill-color);\n",
              "      border-top-color: var(--fill-color);\n",
              "    }\n",
              "    60% {\n",
              "      border-color: transparent;\n",
              "      border-right-color: var(--fill-color);\n",
              "    }\n",
              "    80% {\n",
              "      border-color: transparent;\n",
              "      border-right-color: var(--fill-color);\n",
              "      border-bottom-color: var(--fill-color);\n",
              "    }\n",
              "    90% {\n",
              "      border-color: transparent;\n",
              "      border-bottom-color: var(--fill-color);\n",
              "    }\n",
              "  }\n",
              "</style>\n",
              "\n",
              "  <script>\n",
              "    async function quickchart(key) {\n",
              "      const quickchartButtonEl =\n",
              "        document.querySelector('#' + key + ' button');\n",
              "      quickchartButtonEl.disabled = true;  // To prevent multiple clicks.\n",
              "      quickchartButtonEl.classList.add('colab-df-spinner');\n",
              "      try {\n",
              "        const charts = await google.colab.kernel.invokeFunction(\n",
              "            'suggestCharts', [key], {});\n",
              "      } catch (error) {\n",
              "        console.error('Error during call to suggestCharts:', error);\n",
              "      }\n",
              "      quickchartButtonEl.classList.remove('colab-df-spinner');\n",
              "      quickchartButtonEl.classList.add('colab-df-quickchart-complete');\n",
              "    }\n",
              "    (() => {\n",
              "      let quickchartButtonEl =\n",
              "        document.querySelector('#df-2b21868d-bc6c-4664-8c69-3850f3d99400 button');\n",
              "      quickchartButtonEl.style.display =\n",
              "        google.colab.kernel.accessAllowed ? 'block' : 'none';\n",
              "    })();\n",
              "  </script>\n",
              "</div>\n",
              "    </div>\n",
              "  </div>\n"
            ]
          },
          "metadata": {},
          "execution_count": 3
        }
      ]
    },
    {
      "cell_type": "markdown",
      "source": [
        "# I. One-Sample Tests\n",
        "**Ia Ztest when variance is known: Compute p-value via the scipy norm function**"
      ],
      "metadata": {
        "id": "NiByqOFZ7ni7"
      }
    },
    {
      "cell_type": "code",
      "metadata": {
        "colab": {
          "base_uri": "https://localhost:8080/"
        },
        "id": "qYd6JIwTei8I",
        "outputId": "6ba7fceb-3a84-44f3-9cb9-533b1c7494dd"
      },
      "source": [
        "viqmean=np.mean(data['VIQ'])\n",
        "viqmean"
      ],
      "execution_count": 4,
      "outputs": [
        {
          "output_type": "execute_result",
          "data": {
            "text/plain": [
              "112.35"
            ]
          },
          "metadata": {},
          "execution_count": 4
        }
      ]
    },
    {
      "cell_type": "code",
      "source": [
        "# np.std\n",
        "# ddof is the degrees of freedom, which is 1 for sample standard deviation and 0 for population standard deviation\n",
        "viqstd=np.std(data['VIQ'], ddof=1)\n",
        "viqstd"
      ],
      "metadata": {
        "id": "xoB6tVICUNRo",
        "colab": {
          "base_uri": "https://localhost:8080/"
        },
        "outputId": "f6f9f87e-334b-4af8-b019-5ff5a29b9acf"
      },
      "execution_count": 5,
      "outputs": [
        {
          "output_type": "execute_result",
          "data": {
            "text/plain": [
              "23.616107063199742"
            ]
          },
          "metadata": {},
          "execution_count": 5
        }
      ]
    },
    {
      "cell_type": "code",
      "source": [
        "# assuming the variance of VIQ is known\n",
        "# H0: mu = 110\n",
        "# H1: mu > 110\n",
        "# std=20 (known)\n",
        "pval=1-norm.cdf((viqmean-110)/20)\n",
        "pval"
      ],
      "metadata": {
        "colab": {
          "base_uri": "https://localhost:8080/"
        },
        "id": "6KiGb3096RdJ",
        "outputId": "f4421d0f-5867-4761-b9f1-e642157f9936"
      },
      "execution_count": null,
      "outputs": [
        {
          "output_type": "execute_result",
          "data": {
            "text/plain": [
              "0.4532319220221439"
            ]
          },
          "metadata": {},
          "execution_count": 9
        }
      ]
    },
    {
      "cell_type": "markdown",
      "source": [
        "Since pval is larger than 0.05, we fail to reject H0. Another way to cite this result is that reject H0 at (1-pval)*100% significant level"
      ],
      "metadata": {
        "id": "KE7jVv8xG_77"
      }
    },
    {
      "cell_type": "markdown",
      "source": [
        "**Ib. t test when variance is unknown: Compute p-value via the scipy t function**"
      ],
      "metadata": {
        "id": "mklhHVxsJf0I"
      }
    },
    {
      "cell_type": "code",
      "source": [
        "# assuming the variance of VIQ is unknown\n",
        "# H0: mu = 110\n",
        "# H1: mu > 110\n",
        "# std should be estimated\n",
        "n=len(data['VIQ'])\n",
        "viqstd=np.std(data['VIQ'], ddof=1)\n",
        "cdf = t.cdf((viqmean-110)/viqstd, df=(n-1))\n",
        "pval=1-cdf\n",
        "pval\n"
      ],
      "metadata": {
        "colab": {
          "base_uri": "https://localhost:8080/"
        },
        "id": "c1A4EXzxUnY-",
        "outputId": "f8e32161-6113-4ba2-f37c-f1b3e322a893"
      },
      "execution_count": 12,
      "outputs": [
        {
          "output_type": "execute_result",
          "data": {
            "text/plain": [
              "0.46062220112849017"
            ]
          },
          "metadata": {},
          "execution_count": 12
        }
      ]
    },
    {
      "cell_type": "markdown",
      "source": [
        "# Analysis:\n",
        "if one sided test H1>110, since pval is larger than 0.05, we cannot reject H0\n",
        "if H1<110, then pval=norm.cdf((viqmean-110)/viqstd)\n",
        "if two sided test and pval is smaller than 0.025, we would have reject H0.\n",
        "Replace norm.cdf by t.cdf if standard deviation is estimated"
      ],
      "metadata": {
        "id": "NTbSU6rDVq8B"
      }
    },
    {
      "cell_type": "markdown",
      "source": [
        "**Ic. using scipy ttest_1samp function**"
      ],
      "metadata": {
        "id": "Y3jOExjAiKkK"
      }
    },
    {
      "cell_type": "code",
      "source": [
        "# one sample t test (default two sided test)\n",
        "# there are two ways to run this one sample t test\n",
        "stats.ttest_1samp(data['VIQ'], 110)\n",
        "#scipy.stats.ttest_1samp(a=data['VIQ'], popmean=110)"
      ],
      "metadata": {
        "colab": {
          "base_uri": "https://localhost:8080/"
        },
        "id": "tooEF7aniFy1",
        "outputId": "06b50303-aaaf-465d-a7e1-5a9c0e181b9c"
      },
      "execution_count": 28,
      "outputs": [
        {
          "output_type": "execute_result",
          "data": {
            "text/plain": [
              "TtestResult(statistic=0.6293461053092636, pvalue=0.5327920500038905, df=39)"
            ]
          },
          "metadata": {},
          "execution_count": 28
        }
      ]
    },
    {
      "cell_type": "markdown",
      "source": [
        "Note that the default is two-side here. The method in 1b is one sided test"
      ],
      "metadata": {
        "id": "Gr0_U_Mjibew"
      }
    },
    {
      "cell_type": "markdown",
      "source": [
        "**Id. One Sample Test: using statsmodel's weightstats function**"
      ],
      "metadata": {
        "id": "7ov_YvWW8OUR"
      }
    },
    {
      "cell_type": "markdown",
      "source": [
        "ztest(x, y, value=110, alternative='two-sided')\n",
        "\n",
        "\n",
        "*   x is the first sample\n",
        "*   y is the second sample; set it at None for one sample test\n",
        "*   alternative is the alternative hypothesis, which can be 'two-sided', 'larger', or 'smaller'; default alternative='two-sided'"
      ],
      "metadata": {
        "id": "8jfloKmyQLOQ"
      }
    },
    {
      "cell_type": "markdown",
      "source": [
        "Ref. https://www.statsmodels.org/dev/generated/statsmodels.stats.weightstats.ztest.html"
      ],
      "metadata": {
        "id": "ervGO2dqTwwv"
      }
    },
    {
      "cell_type": "code",
      "source": [
        "# this function can also be used to test two samples!\n",
        "# assuming the variance of VIQ is known or n > 30\n",
        "ztest, propability_value = stests.ztest(data['VIQ'], x2=None, value=110, alternative=\"larger\")\n",
        "print(float(propability_value))\n",
        "if propability_value<0.05:\n",
        "  print(\"Null hyphothesis rejected\")\n",
        "else:\n",
        "  print(\"Cannot reject the Null hyphothesis accepted \")"
      ],
      "metadata": {
        "colab": {
          "base_uri": "https://localhost:8080/"
        },
        "id": "TOBczU4Yy8lx",
        "outputId": "48052a15-b6e7-4f98-e89a-8f1080a77f4d"
      },
      "execution_count": 29,
      "outputs": [
        {
          "output_type": "stream",
          "name": "stdout",
          "text": [
            "0.26456124668392544\n",
            "Cannot reject the Null hyphothesis accepted \n"
          ]
        }
      ]
    },
    {
      "cell_type": "markdown",
      "source": [
        "Please note that this result is very different from the \"hand\" calculation. It is not sure which variance was used for this computation."
      ],
      "metadata": {
        "id": "IP_q86VkXNFr"
      }
    },
    {
      "cell_type": "markdown",
      "source": [
        "Until we understand more of the Statmodel weightstats function, we should use hand computations or scipy ttest"
      ],
      "metadata": {
        "id": "-dHCk4ktbefF"
      }
    },
    {
      "cell_type": "markdown",
      "source": [
        "# II. Two Sample Tests"
      ],
      "metadata": {
        "id": "6z39WsO083S1"
      }
    },
    {
      "cell_type": "markdown",
      "source": [
        "**II.a Case I. Pooled variances of two populations**"
      ],
      "metadata": {
        "id": "_ukq6IW28-0R"
      }
    },
    {
      "cell_type": "code",
      "metadata": {
        "colab": {
          "base_uri": "https://localhost:8080/"
        },
        "id": "0395SDj6HRR5",
        "outputId": "185e04b0-0364-41d0-8bf0-b902d2940834"
      },
      "source": [
        "#two sample t-test 1: assume the variance is the same (default)\n",
        "male_viq=data[data['Gender']=='Male']['VIQ']\n",
        "female_viq=data[data['Gender']=='Female']['VIQ']\n",
        "stats.ttest_ind(female_viq, male_viq, equal_var=True)"
      ],
      "execution_count": 16,
      "outputs": [
        {
          "output_type": "execute_result",
          "data": {
            "text/plain": [
              "TtestResult(statistic=-0.7726161723275012, pvalue=0.44452876778583217, df=38.0)"
            ]
          },
          "metadata": {},
          "execution_count": 16
        }
      ]
    },
    {
      "cell_type": "markdown",
      "source": [
        "**II.b Case II. Reject equal variance assumptions**"
      ],
      "metadata": {
        "id": "6T-4lyZqZW77"
      }
    },
    {
      "cell_type": "code",
      "metadata": {
        "colab": {
          "base_uri": "https://localhost:8080/"
        },
        "id": "86ODq07slKzs",
        "outputId": "2dd44a47-08be-4ef8-b57e-4311985f396a"
      },
      "source": [
        "#two sample t-test method 2: the variances are not the same\n",
        "stats.ttest_ind(female_viq, male_viq, equal_var=False)"
      ],
      "execution_count": 17,
      "outputs": [
        {
          "output_type": "execute_result",
          "data": {
            "text/plain": [
              "TtestResult(statistic=-0.7726161723275012, pvalue=0.44466074519419074, df=36.973150284539706)"
            ]
          },
          "metadata": {},
          "execution_count": 17
        }
      ]
    },
    {
      "cell_type": "markdown",
      "source": [
        "Analysis: in both cases, the pvalues are large. We cannot reject H0."
      ],
      "metadata": {
        "id": "y2md8qQnY1hC"
      }
    },
    {
      "cell_type": "markdown",
      "source": [
        "# **III F test to judge Case I or Case II should be used**"
      ],
      "metadata": {
        "id": "cW7CCrBcawiF"
      }
    },
    {
      "cell_type": "code",
      "metadata": {
        "colab": {
          "base_uri": "https://localhost:8080/"
        },
        "id": "fMDdmGYLItal",
        "outputId": "d7687c15-c843-4b14-c0c6-4cb6b77927dd"
      },
      "source": [
        "#F test for variances of two populations\n",
        "# the following function is user defined\n",
        "def f_test(x,y):\n",
        "  x=np.array(x)\n",
        "  y=np.array(y)\n",
        "  f=np.var(x,ddof=1)/np.var(y, ddof=1) # cal F test statistic\n",
        "  dfn=x.size-1\n",
        "  dfd=y.size-1\n",
        "  p=1-scipy.stats.f.cdf(f,dfn, dfd) #find p-value of F test statistics\n",
        "  return f, p\n",
        "\n",
        "f_test(male_viq, female_viq)"
      ],
      "execution_count": null,
      "outputs": [
        {
          "output_type": "execute_result",
          "data": {
            "text/plain": [
              "(1.3999574131873427, 0.23514586725149234)"
            ]
          },
          "metadata": {},
          "execution_count": 49
        }
      ]
    },
    {
      "cell_type": "markdown",
      "source": [
        "Since the pvalue is large, we cannot reject H0: var1=var2. Therefore, the variances of two populations should be pooled."
      ],
      "metadata": {
        "id": "a1mK8jwDbCdT"
      }
    },
    {
      "cell_type": "markdown",
      "source": [
        "# **IV. Paired T-Test**"
      ],
      "metadata": {
        "id": "lz8_3YE0cg6k"
      }
    },
    {
      "cell_type": "code",
      "metadata": {
        "colab": {
          "base_uri": "https://localhost:8080/"
        },
        "id": "E_hsR5YeKiIk",
        "outputId": "d6bc5ec1-03ca-4dfa-cc44-9e71d64d4653"
      },
      "source": [
        "#Paired t-Test method 1: using one sample t test\n",
        "#Test if FISQ and PIQ are signficantly different\n",
        "#The data for the pair (FISQ, PIQ) are obtained for the same subject\n",
        "diff=data['FSIQ']-data['VIQ']\n",
        "stats.ttest_1samp(diff, 0)\n"
      ],
      "execution_count": null,
      "outputs": [
        {
          "output_type": "execute_result",
          "data": {
            "text/plain": [
              "Ttest_1sampResult(statistic=0.8913911665594247, pvalue=0.37818604189634275)"
            ]
          },
          "metadata": {},
          "execution_count": 50
        }
      ]
    },
    {
      "cell_type": "markdown",
      "metadata": {
        "id": "7XmIgnCIMf5j"
      },
      "source": [
        "The above p-value is large, which suggests H0 can not be rejected."
      ]
    },
    {
      "cell_type": "code",
      "metadata": {
        "colab": {
          "base_uri": "https://localhost:8080/"
        },
        "id": "uEYj54e1M_o3",
        "outputId": "771cb2d9-f680-42d0-d5fa-2d8fa0e0188f"
      },
      "source": [
        "#Paired t-Test method 2: using repeated measures test\n",
        "#Test if FISQ and PIQ are signficantly different\n",
        "#The data for the pair (FISQ, PIQ) are obtained for the same subject\n",
        "\n",
        "stats.ttest_rel(data['FSIQ'],data['VIQ'])"
      ],
      "execution_count": null,
      "outputs": [
        {
          "output_type": "execute_result",
          "data": {
            "text/plain": [
              "Ttest_relResult(statistic=0.8913911665594247, pvalue=0.37818604189634275)"
            ]
          },
          "metadata": {},
          "execution_count": 51
        }
      ]
    },
    {
      "cell_type": "markdown",
      "source": [
        "# **V. Critical Values of a t Distribution**"
      ],
      "metadata": {
        "id": "fzE9oQoVdE0m"
      }
    },
    {
      "cell_type": "code",
      "metadata": {
        "colab": {
          "base_uri": "https://localhost:8080/"
        },
        "id": "9joYnYxfg_jE",
        "outputId": "51242304-9692-4f82-905a-7f77b873d708"
      },
      "source": [
        "# critcal values of a t distribution\n",
        "# for two sided 95% CI, the left critical value can be optained\n",
        "x=data['VIQ']\n",
        "df1=len(x) -1\n",
        "stats.t.ppf(q=0.025, df=df1)\n"
      ],
      "execution_count": null,
      "outputs": [
        {
          "output_type": "execute_result",
          "data": {
            "text/plain": [
              "-2.0226909117347285"
            ]
          },
          "metadata": {},
          "execution_count": 54
        }
      ]
    },
    {
      "cell_type": "code",
      "metadata": {
        "colab": {
          "base_uri": "https://localhost:8080/"
        },
        "id": "Uz5Tm2xmiGux",
        "outputId": "dbec89e8-89b5-4130-e993-db1210a995c1"
      },
      "source": [
        "# critcal values of a t distribution\n",
        "# for two sided 95% CI, the right critical value can be optained\n",
        "\n",
        "stats.t.ppf(q=0.975, df=df1)\n"
      ],
      "execution_count": null,
      "outputs": [
        {
          "output_type": "execute_result",
          "data": {
            "text/plain": [
              "2.022690911734728"
            ]
          },
          "metadata": {},
          "execution_count": 57
        }
      ]
    },
    {
      "cell_type": "code",
      "metadata": {
        "colab": {
          "base_uri": "https://localhost:8080/"
        },
        "id": "L-V9DDqPimLk",
        "outputId": "b5890fa9-bf4c-42e7-b54c-ed64e29fd2f4"
      },
      "source": [
        "# critcal values of a t distribution\n",
        "# for one sided 95% CI, the right critical value can be optained\n",
        "# Ha u > u0\n",
        "\n",
        "stats.t.ppf(q=0.95, df=df1)"
      ],
      "execution_count": null,
      "outputs": [
        {
          "output_type": "execute_result",
          "data": {
            "text/plain": [
              "1.6848751194973992"
            ]
          },
          "metadata": {},
          "execution_count": 56
        }
      ]
    },
    {
      "cell_type": "markdown",
      "source": [],
      "metadata": {
        "id": "0FKzhxRCeEJW"
      }
    },
    {
      "cell_type": "markdown",
      "source": [
        "# **VI. Construct a Confidence Interval of a Sample**"
      ],
      "metadata": {
        "id": "nEWZSDKkeGkZ"
      }
    },
    {
      "cell_type": "code",
      "metadata": {
        "colab": {
          "base_uri": "https://localhost:8080/"
        },
        "id": "x3MFDQDQjr2i",
        "outputId": "4308f7af-8d6d-4c8a-faa2-a9b87f6fea84"
      },
      "source": [
        "# 95% confidence interval\n",
        "x=data['VIQ']\n",
        "df1=len(x) -1\n",
        "mean1=np.mean(x)\n",
        "sigma1=np.std(x, ddof=1)\n",
        "stats.t.interval(0.95, df=df1, loc=mean1, scale=sigma1)"
      ],
      "execution_count": 18,
      "outputs": [
        {
          "output_type": "execute_result",
          "data": {
            "text/plain": [
              "(64.58191487271156, 160.11808512728842)"
            ]
          },
          "metadata": {},
          "execution_count": 18
        }
      ]
    },
    {
      "cell_type": "code",
      "source": [
        "sigma1"
      ],
      "metadata": {
        "colab": {
          "base_uri": "https://localhost:8080/"
        },
        "id": "8KQsVkDnfT4Q",
        "outputId": "30200b84-5e89-415f-be91-4ca4ec34d34f"
      },
      "execution_count": 22,
      "outputs": [
        {
          "output_type": "execute_result",
          "data": {
            "text/plain": [
              "23.616107063199742"
            ]
          },
          "metadata": {},
          "execution_count": 22
        }
      ]
    },
    {
      "cell_type": "code",
      "source": [
        "# 95% confidence interval\n",
        "# known std=20\n",
        "x=data['VIQ']\n",
        "mean1=np.mean(x)\n",
        "stats.norm.interval(0.95, loc=mean1, scale=20)"
      ],
      "metadata": {
        "colab": {
          "base_uri": "https://localhost:8080/"
        },
        "id": "oa6oFb5me3Pw",
        "outputId": "c73e896a-003e-4be0-c6ba-50b6af288df0"
      },
      "execution_count": 26,
      "outputs": [
        {
          "output_type": "execute_result",
          "data": {
            "text/plain": [
              "(73.15072030919892, 151.5492796908011)"
            ]
          },
          "metadata": {},
          "execution_count": 26
        }
      ]
    },
    {
      "cell_type": "markdown",
      "metadata": {
        "id": "xP1PVPZ6khZm"
      },
      "source": [
        "Your turn: can you constuct a 99% CI of x?"
      ]
    }
  ]
}