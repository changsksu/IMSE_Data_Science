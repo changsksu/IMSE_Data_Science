{
  "nbformat": 4,
  "nbformat_minor": 0,
  "metadata": {
    "colab": {
      "provenance": [],
      "authorship_tag": "ABX9TyMTZwl6GEY7u3jKuhxdj1Ej",
      "include_colab_link": true
    },
    "kernelspec": {
      "name": "python3",
      "display_name": "Python 3"
    },
    "language_info": {
      "name": "python"
    }
  },
  "cells": [
    {
      "cell_type": "markdown",
      "metadata": {
        "id": "view-in-github",
        "colab_type": "text"
      },
      "source": [
        "<a href=\"https://colab.research.google.com/github/changsksu/IMSE_Data_Science/blob/main/Perceptron.ipynb\" target=\"_parent\"><img src=\"https://colab.research.google.com/assets/colab-badge.svg\" alt=\"Open In Colab\"/></a>"
      ]
    },
    {
      "cell_type": "markdown",
      "source": [
        "# mempirate/simple-neural-network\n",
        "\n",
        "*   Perceptron is a neural network without any hidden layer\n",
        "*   The neural_net.py tries to predict the output given 3 binary inputs. If the first input is 1, the output should be one. Otherwise the output should be 0.\n",
        "\n",
        "\n",
        "ref https://github.com/mempirate/simple-neural-network"
      ],
      "metadata": {
        "id": "qNy36qJ2G0mD"
      }
    },
    {
      "cell_type": "code",
      "source": [
        "import numpy as np\n",
        "\n",
        "# sigmoid function to normalize inputs\n",
        "def sigmoid(x):\n",
        "    return 1 / (1 + np.exp(-x))\n",
        "\n",
        "# sigmoid derivatives to adjust synaptic weights\n",
        "def sigmoid_derivative(x):\n",
        "    return x * (1 - x)"
      ],
      "metadata": {
        "id": "hVRRLkc_G6gr"
      },
      "execution_count": 1,
      "outputs": []
    },
    {
      "cell_type": "code",
      "source": [
        "# input dataset\n",
        "training_inputs = np.array([[0,0,1],\n",
        "                            [1,1,1],\n",
        "                            [1,0,1],\n",
        "                            [0,1,1]])\n",
        "\n",
        "# output dataset\n",
        "training_outputs = np.array([[0,1,1,0]]).T"
      ],
      "metadata": {
        "id": "BuuqaOcWHbUw"
      },
      "execution_count": 2,
      "outputs": []
    },
    {
      "cell_type": "code",
      "source": [
        "# seed random numbers to make calculation\n",
        "np.random.seed(1)\n",
        "\n",
        "# initialize weights randomly with mean 0 to create weight matrix, synaptic weights\n",
        "synaptic_weights = 2 * np.random.random((3,1)) - 1\n",
        "\n",
        "print('Random starting synaptic weights: ')\n",
        "print(synaptic_weights)\n"
      ],
      "metadata": {
        "colab": {
          "base_uri": "https://localhost:8080/"
        },
        "id": "JNRN5XkQHf4V",
        "outputId": "80cdbd36-f6ac-45b4-98ff-4db1284d1e30"
      },
      "execution_count": 3,
      "outputs": [
        {
          "output_type": "stream",
          "name": "stdout",
          "text": [
            "Random starting synaptic weights: \n",
            "[[-0.16595599]\n",
            " [ 0.44064899]\n",
            " [-0.99977125]]\n"
          ]
        }
      ]
    },
    {
      "cell_type": "code",
      "source": [
        "# Iterate 10,000 times\n",
        "for iteration in range(10000):\n",
        "\n",
        "    # Define input layer\n",
        "    input_layer = training_inputs\n",
        "    # Normalize the product of the input layer with the synaptic weights\n",
        "    outputs = sigmoid(np.dot(input_layer, synaptic_weights))\n",
        "\n",
        "    # how much did we miss?\n",
        "    error = training_outputs - outputs\n",
        "\n",
        "    # multiply how much we missed by the\n",
        "    # slope of the sigmoid at the values in outputs\n",
        "    adjustments = error * sigmoid_derivative(outputs)\n",
        "\n",
        "    # update weights\n",
        "    synaptic_weights += np.dot(input_layer.T, adjustments)\n",
        "\n",
        "print('Synaptic weights after training: ')\n",
        "print(synaptic_weights)\n",
        "\n",
        "print(\"Output After Training:\")\n",
        "print(outputs)"
      ],
      "metadata": {
        "colab": {
          "base_uri": "https://localhost:8080/"
        },
        "id": "9dMVXEJAHqOX",
        "outputId": "3b587319-5352-4f94-ab44-d8a548907663"
      },
      "execution_count": 4,
      "outputs": [
        {
          "output_type": "stream",
          "name": "stdout",
          "text": [
            "Synaptic weights after training: \n",
            "[[ 9.67299303]\n",
            " [-0.2078435 ]\n",
            " [-4.62963669]]\n",
            "Output After Training:\n",
            "[[0.00966449]\n",
            " [0.99211957]\n",
            " [0.99358898]\n",
            " [0.00786506]]\n"
          ]
        }
      ]
    }
  ]
}