{
  "nbformat": 4,
  "nbformat_minor": 0,
  "metadata": {
    "colab": {
      "provenance": [],
      "authorship_tag": "ABX9TyOo84UNkJr75DNi6Tvd5kUc",
      "include_colab_link": true
    },
    "kernelspec": {
      "name": "python3",
      "display_name": "Python 3"
    },
    "language_info": {
      "name": "python"
    }
  },
  "cells": [
    {
      "cell_type": "markdown",
      "metadata": {
        "id": "view-in-github",
        "colab_type": "text"
      },
      "source": [
        "<a href=\"https://colab.research.google.com/github/changsksu/IMSE_Data_Science/blob/main/Hypothesis_Testings_z_t_F_paired_t_Chiefs_example.ipynb\" target=\"_parent\"><img src=\"https://colab.research.google.com/assets/colab-badge.svg\" alt=\"Open In Colab\"/></a>"
      ]
    },
    {
      "cell_type": "markdown",
      "metadata": {
        "id": "NFXPRPA2d7I-"
      },
      "source": [
        "# This nb demonstrates One-Sample and Two-Sample hypothesis tests via the use of direct codes, statsmodels weightstats, and scipy ttest functions.\n",
        "\n",
        "\n"
      ]
    },
    {
      "cell_type": "markdown",
      "source": [
        "In addition, codes to compute critical values for z and t tests, confidence intervals, and pair-t-test are also included."
      ],
      "metadata": {
        "id": "B7n7DdhhX-1F"
      }
    },
    {
      "cell_type": "markdown",
      "source": [
        "Ref. https://k-state.instructure.com/courses/144373/modules/items/4455306\n",
        "Ref. https://www.kite.com/python/docs/scipy.stats.ttest_1samp\n"
      ],
      "metadata": {
        "id": "uo304nvkl8Zf"
      }
    },
    {
      "cell_type": "code",
      "metadata": {
        "id": "Rc7nYxvoWrGy"
      },
      "source": [
        "import math\n",
        "import statistics\n",
        "import numpy as np\n",
        "import scipy.stats\n",
        "import pandas as pd\n",
        "from statsmodels.stats import weightstats as stests\n",
        "import scipy.stats as stats\n",
        "from scipy.stats import norm\n",
        "from scipy.stats import t\n",
        "import matplotlib.pyplot as plt"
      ],
      "execution_count": 1,
      "outputs": []
    },
    {
      "cell_type": "code",
      "source": [
        "# Use this cell and next if your data is on your local machine\n",
        "# click on Choose File to read in a data file from you local machine\n",
        "from google.colab import files\n",
        "\n",
        "uploaded = files.upload()\n",
        "\n",
        "for fn in uploaded.keys():\n",
        "  print('User uploaded file \"{name}\" with length {length} bytes'.format(\n",
        "      name=fn, length=len(uploaded[fn])))"
      ],
      "metadata": {
        "colab": {
          "base_uri": "https://localhost:8080/",
          "height": 90
        },
        "id": "_pujkC1ycPho",
        "outputId": "503edc4a-e950-476c-c976-501302fc9469"
      },
      "execution_count": null,
      "outputs": [
        {
          "output_type": "display_data",
          "data": {
            "text/plain": [
              "<IPython.core.display.HTML object>"
            ],
            "text/html": [
              "\n",
              "     <input type=\"file\" id=\"files-d8c97c04-c596-4314-93ca-374438c2e8c7\" name=\"files[]\" multiple disabled\n",
              "        style=\"border:none\" />\n",
              "     <output id=\"result-d8c97c04-c596-4314-93ca-374438c2e8c7\">\n",
              "      Upload widget is only available when the cell has been executed in the\n",
              "      current browser session. Please rerun this cell to enable.\n",
              "      </output>\n",
              "      <script>// Copyright 2017 Google LLC\n",
              "//\n",
              "// Licensed under the Apache License, Version 2.0 (the \"License\");\n",
              "// you may not use this file except in compliance with the License.\n",
              "// You may obtain a copy of the License at\n",
              "//\n",
              "//      http://www.apache.org/licenses/LICENSE-2.0\n",
              "//\n",
              "// Unless required by applicable law or agreed to in writing, software\n",
              "// distributed under the License is distributed on an \"AS IS\" BASIS,\n",
              "// WITHOUT WARRANTIES OR CONDITIONS OF ANY KIND, either express or implied.\n",
              "// See the License for the specific language governing permissions and\n",
              "// limitations under the License.\n",
              "\n",
              "/**\n",
              " * @fileoverview Helpers for google.colab Python module.\n",
              " */\n",
              "(function(scope) {\n",
              "function span(text, styleAttributes = {}) {\n",
              "  const element = document.createElement('span');\n",
              "  element.textContent = text;\n",
              "  for (const key of Object.keys(styleAttributes)) {\n",
              "    element.style[key] = styleAttributes[key];\n",
              "  }\n",
              "  return element;\n",
              "}\n",
              "\n",
              "// Max number of bytes which will be uploaded at a time.\n",
              "const MAX_PAYLOAD_SIZE = 100 * 1024;\n",
              "\n",
              "function _uploadFiles(inputId, outputId) {\n",
              "  const steps = uploadFilesStep(inputId, outputId);\n",
              "  const outputElement = document.getElementById(outputId);\n",
              "  // Cache steps on the outputElement to make it available for the next call\n",
              "  // to uploadFilesContinue from Python.\n",
              "  outputElement.steps = steps;\n",
              "\n",
              "  return _uploadFilesContinue(outputId);\n",
              "}\n",
              "\n",
              "// This is roughly an async generator (not supported in the browser yet),\n",
              "// where there are multiple asynchronous steps and the Python side is going\n",
              "// to poll for completion of each step.\n",
              "// This uses a Promise to block the python side on completion of each step,\n",
              "// then passes the result of the previous step as the input to the next step.\n",
              "function _uploadFilesContinue(outputId) {\n",
              "  const outputElement = document.getElementById(outputId);\n",
              "  const steps = outputElement.steps;\n",
              "\n",
              "  const next = steps.next(outputElement.lastPromiseValue);\n",
              "  return Promise.resolve(next.value.promise).then((value) => {\n",
              "    // Cache the last promise value to make it available to the next\n",
              "    // step of the generator.\n",
              "    outputElement.lastPromiseValue = value;\n",
              "    return next.value.response;\n",
              "  });\n",
              "}\n",
              "\n",
              "/**\n",
              " * Generator function which is called between each async step of the upload\n",
              " * process.\n",
              " * @param {string} inputId Element ID of the input file picker element.\n",
              " * @param {string} outputId Element ID of the output display.\n",
              " * @return {!Iterable<!Object>} Iterable of next steps.\n",
              " */\n",
              "function* uploadFilesStep(inputId, outputId) {\n",
              "  const inputElement = document.getElementById(inputId);\n",
              "  inputElement.disabled = false;\n",
              "\n",
              "  const outputElement = document.getElementById(outputId);\n",
              "  outputElement.innerHTML = '';\n",
              "\n",
              "  const pickedPromise = new Promise((resolve) => {\n",
              "    inputElement.addEventListener('change', (e) => {\n",
              "      resolve(e.target.files);\n",
              "    });\n",
              "  });\n",
              "\n",
              "  const cancel = document.createElement('button');\n",
              "  inputElement.parentElement.appendChild(cancel);\n",
              "  cancel.textContent = 'Cancel upload';\n",
              "  const cancelPromise = new Promise((resolve) => {\n",
              "    cancel.onclick = () => {\n",
              "      resolve(null);\n",
              "    };\n",
              "  });\n",
              "\n",
              "  // Wait for the user to pick the files.\n",
              "  const files = yield {\n",
              "    promise: Promise.race([pickedPromise, cancelPromise]),\n",
              "    response: {\n",
              "      action: 'starting',\n",
              "    }\n",
              "  };\n",
              "\n",
              "  cancel.remove();\n",
              "\n",
              "  // Disable the input element since further picks are not allowed.\n",
              "  inputElement.disabled = true;\n",
              "\n",
              "  if (!files) {\n",
              "    return {\n",
              "      response: {\n",
              "        action: 'complete',\n",
              "      }\n",
              "    };\n",
              "  }\n",
              "\n",
              "  for (const file of files) {\n",
              "    const li = document.createElement('li');\n",
              "    li.append(span(file.name, {fontWeight: 'bold'}));\n",
              "    li.append(span(\n",
              "        `(${file.type || 'n/a'}) - ${file.size} bytes, ` +\n",
              "        `last modified: ${\n",
              "            file.lastModifiedDate ? file.lastModifiedDate.toLocaleDateString() :\n",
              "                                    'n/a'} - `));\n",
              "    const percent = span('0% done');\n",
              "    li.appendChild(percent);\n",
              "\n",
              "    outputElement.appendChild(li);\n",
              "\n",
              "    const fileDataPromise = new Promise((resolve) => {\n",
              "      const reader = new FileReader();\n",
              "      reader.onload = (e) => {\n",
              "        resolve(e.target.result);\n",
              "      };\n",
              "      reader.readAsArrayBuffer(file);\n",
              "    });\n",
              "    // Wait for the data to be ready.\n",
              "    let fileData = yield {\n",
              "      promise: fileDataPromise,\n",
              "      response: {\n",
              "        action: 'continue',\n",
              "      }\n",
              "    };\n",
              "\n",
              "    // Use a chunked sending to avoid message size limits. See b/62115660.\n",
              "    let position = 0;\n",
              "    do {\n",
              "      const length = Math.min(fileData.byteLength - position, MAX_PAYLOAD_SIZE);\n",
              "      const chunk = new Uint8Array(fileData, position, length);\n",
              "      position += length;\n",
              "\n",
              "      const base64 = btoa(String.fromCharCode.apply(null, chunk));\n",
              "      yield {\n",
              "        response: {\n",
              "          action: 'append',\n",
              "          file: file.name,\n",
              "          data: base64,\n",
              "        },\n",
              "      };\n",
              "\n",
              "      let percentDone = fileData.byteLength === 0 ?\n",
              "          100 :\n",
              "          Math.round((position / fileData.byteLength) * 100);\n",
              "      percent.textContent = `${percentDone}% done`;\n",
              "\n",
              "    } while (position < fileData.byteLength);\n",
              "  }\n",
              "\n",
              "  // All done.\n",
              "  yield {\n",
              "    response: {\n",
              "      action: 'complete',\n",
              "    }\n",
              "  };\n",
              "}\n",
              "\n",
              "scope.google = scope.google || {};\n",
              "scope.google.colab = scope.google.colab || {};\n",
              "scope.google.colab._files = {\n",
              "  _uploadFiles,\n",
              "  _uploadFilesContinue,\n",
              "};\n",
              "})(self);\n",
              "</script> "
            ]
          },
          "metadata": {}
        },
        {
          "output_type": "stream",
          "name": "stdout",
          "text": [
            "Saving chiefs-vs-ravens.csv to chiefs-vs-ravens (1).csv\n",
            "User uploaded file \"chiefs-vs-ravens (1).csv\" with length 121 bytes\n"
          ]
        }
      ]
    },
    {
      "cell_type": "code",
      "source": [
        "# pandas provides a better view of structured data with headings\n",
        "# data is assigned to the pandas object called data1\n",
        "import pandas as pd\n",
        "data = pd.read_csv('chiefs-vs-ravens.csv', sep=',', na_values=\".\")\n",
        "data.head()"
      ],
      "metadata": {
        "colab": {
          "base_uri": "https://localhost:8080/",
          "height": 206
        },
        "id": "RgFv_n69cafF",
        "outputId": "6cdbe92c-a90c-464e-df72-0ba1ceced97e"
      },
      "execution_count": null,
      "outputs": [
        {
          "output_type": "execute_result",
          "data": {
            "text/plain": [
              "        Date  Chiefs  Ravens\n",
              "0  12/9/2018      27      24\n",
              "1  9/22/2019      33      28\n",
              "2  9/28/2020      34      20\n",
              "3  9/19/2021      35      36\n",
              "4  1/24/2024      17      10"
            ],
            "text/html": [
              "\n",
              "  <div id=\"df-008fac69-112d-4455-9a27-9dd8c4af7b17\" class=\"colab-df-container\">\n",
              "    <div>\n",
              "<style scoped>\n",
              "    .dataframe tbody tr th:only-of-type {\n",
              "        vertical-align: middle;\n",
              "    }\n",
              "\n",
              "    .dataframe tbody tr th {\n",
              "        vertical-align: top;\n",
              "    }\n",
              "\n",
              "    .dataframe thead th {\n",
              "        text-align: right;\n",
              "    }\n",
              "</style>\n",
              "<table border=\"1\" class=\"dataframe\">\n",
              "  <thead>\n",
              "    <tr style=\"text-align: right;\">\n",
              "      <th></th>\n",
              "      <th>Date</th>\n",
              "      <th>Chiefs</th>\n",
              "      <th>Ravens</th>\n",
              "    </tr>\n",
              "  </thead>\n",
              "  <tbody>\n",
              "    <tr>\n",
              "      <th>0</th>\n",
              "      <td>12/9/2018</td>\n",
              "      <td>27</td>\n",
              "      <td>24</td>\n",
              "    </tr>\n",
              "    <tr>\n",
              "      <th>1</th>\n",
              "      <td>9/22/2019</td>\n",
              "      <td>33</td>\n",
              "      <td>28</td>\n",
              "    </tr>\n",
              "    <tr>\n",
              "      <th>2</th>\n",
              "      <td>9/28/2020</td>\n",
              "      <td>34</td>\n",
              "      <td>20</td>\n",
              "    </tr>\n",
              "    <tr>\n",
              "      <th>3</th>\n",
              "      <td>9/19/2021</td>\n",
              "      <td>35</td>\n",
              "      <td>36</td>\n",
              "    </tr>\n",
              "    <tr>\n",
              "      <th>4</th>\n",
              "      <td>1/24/2024</td>\n",
              "      <td>17</td>\n",
              "      <td>10</td>\n",
              "    </tr>\n",
              "  </tbody>\n",
              "</table>\n",
              "</div>\n",
              "    <div class=\"colab-df-buttons\">\n",
              "\n",
              "  <div class=\"colab-df-container\">\n",
              "    <button class=\"colab-df-convert\" onclick=\"convertToInteractive('df-008fac69-112d-4455-9a27-9dd8c4af7b17')\"\n",
              "            title=\"Convert this dataframe to an interactive table.\"\n",
              "            style=\"display:none;\">\n",
              "\n",
              "  <svg xmlns=\"http://www.w3.org/2000/svg\" height=\"24px\" viewBox=\"0 -960 960 960\">\n",
              "    <path d=\"M120-120v-720h720v720H120Zm60-500h600v-160H180v160Zm220 220h160v-160H400v160Zm0 220h160v-160H400v160ZM180-400h160v-160H180v160Zm440 0h160v-160H620v160ZM180-180h160v-160H180v160Zm440 0h160v-160H620v160Z\"/>\n",
              "  </svg>\n",
              "    </button>\n",
              "\n",
              "  <style>\n",
              "    .colab-df-container {\n",
              "      display:flex;\n",
              "      gap: 12px;\n",
              "    }\n",
              "\n",
              "    .colab-df-convert {\n",
              "      background-color: #E8F0FE;\n",
              "      border: none;\n",
              "      border-radius: 50%;\n",
              "      cursor: pointer;\n",
              "      display: none;\n",
              "      fill: #1967D2;\n",
              "      height: 32px;\n",
              "      padding: 0 0 0 0;\n",
              "      width: 32px;\n",
              "    }\n",
              "\n",
              "    .colab-df-convert:hover {\n",
              "      background-color: #E2EBFA;\n",
              "      box-shadow: 0px 1px 2px rgba(60, 64, 67, 0.3), 0px 1px 3px 1px rgba(60, 64, 67, 0.15);\n",
              "      fill: #174EA6;\n",
              "    }\n",
              "\n",
              "    .colab-df-buttons div {\n",
              "      margin-bottom: 4px;\n",
              "    }\n",
              "\n",
              "    [theme=dark] .colab-df-convert {\n",
              "      background-color: #3B4455;\n",
              "      fill: #D2E3FC;\n",
              "    }\n",
              "\n",
              "    [theme=dark] .colab-df-convert:hover {\n",
              "      background-color: #434B5C;\n",
              "      box-shadow: 0px 1px 3px 1px rgba(0, 0, 0, 0.15);\n",
              "      filter: drop-shadow(0px 1px 2px rgba(0, 0, 0, 0.3));\n",
              "      fill: #FFFFFF;\n",
              "    }\n",
              "  </style>\n",
              "\n",
              "    <script>\n",
              "      const buttonEl =\n",
              "        document.querySelector('#df-008fac69-112d-4455-9a27-9dd8c4af7b17 button.colab-df-convert');\n",
              "      buttonEl.style.display =\n",
              "        google.colab.kernel.accessAllowed ? 'block' : 'none';\n",
              "\n",
              "      async function convertToInteractive(key) {\n",
              "        const element = document.querySelector('#df-008fac69-112d-4455-9a27-9dd8c4af7b17');\n",
              "        const dataTable =\n",
              "          await google.colab.kernel.invokeFunction('convertToInteractive',\n",
              "                                                    [key], {});\n",
              "        if (!dataTable) return;\n",
              "\n",
              "        const docLinkHtml = 'Like what you see? Visit the ' +\n",
              "          '<a target=\"_blank\" href=https://colab.research.google.com/notebooks/data_table.ipynb>data table notebook</a>'\n",
              "          + ' to learn more about interactive tables.';\n",
              "        element.innerHTML = '';\n",
              "        dataTable['output_type'] = 'display_data';\n",
              "        await google.colab.output.renderOutput(dataTable, element);\n",
              "        const docLink = document.createElement('div');\n",
              "        docLink.innerHTML = docLinkHtml;\n",
              "        element.appendChild(docLink);\n",
              "      }\n",
              "    </script>\n",
              "  </div>\n",
              "\n",
              "\n",
              "<div id=\"df-09ca7b61-26a4-4417-810a-53e0b56bdc30\">\n",
              "  <button class=\"colab-df-quickchart\" onclick=\"quickchart('df-09ca7b61-26a4-4417-810a-53e0b56bdc30')\"\n",
              "            title=\"Suggest charts\"\n",
              "            style=\"display:none;\">\n",
              "\n",
              "<svg xmlns=\"http://www.w3.org/2000/svg\" height=\"24px\"viewBox=\"0 0 24 24\"\n",
              "     width=\"24px\">\n",
              "    <g>\n",
              "        <path d=\"M19 3H5c-1.1 0-2 .9-2 2v14c0 1.1.9 2 2 2h14c1.1 0 2-.9 2-2V5c0-1.1-.9-2-2-2zM9 17H7v-7h2v7zm4 0h-2V7h2v10zm4 0h-2v-4h2v4z\"/>\n",
              "    </g>\n",
              "</svg>\n",
              "  </button>\n",
              "\n",
              "<style>\n",
              "  .colab-df-quickchart {\n",
              "      --bg-color: #E8F0FE;\n",
              "      --fill-color: #1967D2;\n",
              "      --hover-bg-color: #E2EBFA;\n",
              "      --hover-fill-color: #174EA6;\n",
              "      --disabled-fill-color: #AAA;\n",
              "      --disabled-bg-color: #DDD;\n",
              "  }\n",
              "\n",
              "  [theme=dark] .colab-df-quickchart {\n",
              "      --bg-color: #3B4455;\n",
              "      --fill-color: #D2E3FC;\n",
              "      --hover-bg-color: #434B5C;\n",
              "      --hover-fill-color: #FFFFFF;\n",
              "      --disabled-bg-color: #3B4455;\n",
              "      --disabled-fill-color: #666;\n",
              "  }\n",
              "\n",
              "  .colab-df-quickchart {\n",
              "    background-color: var(--bg-color);\n",
              "    border: none;\n",
              "    border-radius: 50%;\n",
              "    cursor: pointer;\n",
              "    display: none;\n",
              "    fill: var(--fill-color);\n",
              "    height: 32px;\n",
              "    padding: 0;\n",
              "    width: 32px;\n",
              "  }\n",
              "\n",
              "  .colab-df-quickchart:hover {\n",
              "    background-color: var(--hover-bg-color);\n",
              "    box-shadow: 0 1px 2px rgba(60, 64, 67, 0.3), 0 1px 3px 1px rgba(60, 64, 67, 0.15);\n",
              "    fill: var(--button-hover-fill-color);\n",
              "  }\n",
              "\n",
              "  .colab-df-quickchart-complete:disabled,\n",
              "  .colab-df-quickchart-complete:disabled:hover {\n",
              "    background-color: var(--disabled-bg-color);\n",
              "    fill: var(--disabled-fill-color);\n",
              "    box-shadow: none;\n",
              "  }\n",
              "\n",
              "  .colab-df-spinner {\n",
              "    border: 2px solid var(--fill-color);\n",
              "    border-color: transparent;\n",
              "    border-bottom-color: var(--fill-color);\n",
              "    animation:\n",
              "      spin 1s steps(1) infinite;\n",
              "  }\n",
              "\n",
              "  @keyframes spin {\n",
              "    0% {\n",
              "      border-color: transparent;\n",
              "      border-bottom-color: var(--fill-color);\n",
              "      border-left-color: var(--fill-color);\n",
              "    }\n",
              "    20% {\n",
              "      border-color: transparent;\n",
              "      border-left-color: var(--fill-color);\n",
              "      border-top-color: var(--fill-color);\n",
              "    }\n",
              "    30% {\n",
              "      border-color: transparent;\n",
              "      border-left-color: var(--fill-color);\n",
              "      border-top-color: var(--fill-color);\n",
              "      border-right-color: var(--fill-color);\n",
              "    }\n",
              "    40% {\n",
              "      border-color: transparent;\n",
              "      border-right-color: var(--fill-color);\n",
              "      border-top-color: var(--fill-color);\n",
              "    }\n",
              "    60% {\n",
              "      border-color: transparent;\n",
              "      border-right-color: var(--fill-color);\n",
              "    }\n",
              "    80% {\n",
              "      border-color: transparent;\n",
              "      border-right-color: var(--fill-color);\n",
              "      border-bottom-color: var(--fill-color);\n",
              "    }\n",
              "    90% {\n",
              "      border-color: transparent;\n",
              "      border-bottom-color: var(--fill-color);\n",
              "    }\n",
              "  }\n",
              "</style>\n",
              "\n",
              "  <script>\n",
              "    async function quickchart(key) {\n",
              "      const quickchartButtonEl =\n",
              "        document.querySelector('#' + key + ' button');\n",
              "      quickchartButtonEl.disabled = true;  // To prevent multiple clicks.\n",
              "      quickchartButtonEl.classList.add('colab-df-spinner');\n",
              "      try {\n",
              "        const charts = await google.colab.kernel.invokeFunction(\n",
              "            'suggestCharts', [key], {});\n",
              "      } catch (error) {\n",
              "        console.error('Error during call to suggestCharts:', error);\n",
              "      }\n",
              "      quickchartButtonEl.classList.remove('colab-df-spinner');\n",
              "      quickchartButtonEl.classList.add('colab-df-quickchart-complete');\n",
              "    }\n",
              "    (() => {\n",
              "      let quickchartButtonEl =\n",
              "        document.querySelector('#df-09ca7b61-26a4-4417-810a-53e0b56bdc30 button');\n",
              "      quickchartButtonEl.style.display =\n",
              "        google.colab.kernel.accessAllowed ? 'block' : 'none';\n",
              "    })();\n",
              "  </script>\n",
              "</div>\n",
              "\n",
              "    </div>\n",
              "  </div>\n"
            ],
            "application/vnd.google.colaboratory.intrinsic+json": {
              "type": "dataframe",
              "variable_name": "data1",
              "summary": "{\n  \"name\": \"data1\",\n  \"rows\": 6,\n  \"fields\": [\n    {\n      \"column\": \"Date\",\n      \"properties\": {\n        \"dtype\": \"object\",\n        \"num_unique_values\": 6,\n        \"samples\": [\n          \"12/9/2018\",\n          \"9/22/2019\",\n          \"9/5/2024\"\n        ],\n        \"semantic_type\": \"\",\n        \"description\": \"\"\n      }\n    },\n    {\n      \"column\": \"Chiefs\",\n      \"properties\": {\n        \"dtype\": \"number\",\n        \"std\": 6,\n        \"min\": 17,\n        \"max\": 35,\n        \"num_unique_values\": 5,\n        \"samples\": [\n          33,\n          17,\n          34\n        ],\n        \"semantic_type\": \"\",\n        \"description\": \"\"\n      }\n    },\n    {\n      \"column\": \"Ravens\",\n      \"properties\": {\n        \"dtype\": \"number\",\n        \"std\": 8,\n        \"min\": 10,\n        \"max\": 36,\n        \"num_unique_values\": 5,\n        \"samples\": [\n          28,\n          10,\n          20\n        ],\n        \"semantic_type\": \"\",\n        \"description\": \"\"\n      }\n    }\n  ]\n}"
            }
          },
          "metadata": {},
          "execution_count": 25
        }
      ]
    },
    {
      "cell_type": "code",
      "source": [
        "# make sure that you use the raw format in Github\n",
        "# the data is under Dr. Chang's github changsksu folder KState_IMSE541\n",
        "# use the URL once you find or store the data file (use the raw tab)\n",
        "# the following input statement is needed to use pandas dataframe feature\n",
        "import pandas as pd\n",
        "data = pd.read_csv('https://raw.githubusercontent.com/changsksu/KState_IMSE541/main/chiefs-vs-ravens.csv', sep=',', na_values=\".\")\n",
        "# the foloowing statement only retrieves the first 5 obs\n",
        "data"
      ],
      "metadata": {
        "colab": {
          "base_uri": "https://localhost:8080/",
          "height": 238
        },
        "id": "ulNi14KnTdE1",
        "outputId": "4b16914c-af29-4e21-f88e-3a502f82f97b"
      },
      "execution_count": 3,
      "outputs": [
        {
          "output_type": "execute_result",
          "data": {
            "text/plain": [
              "        Date  Chiefs  Ravens\n",
              "0  12/9/2018      27      24\n",
              "1  9/22/2019      33      28\n",
              "2  9/28/2020      34      20\n",
              "3  9/19/2021      35      36\n",
              "4  1/24/2024      17      10\n",
              "5   9/5/2024      27      20"
            ],
            "text/html": [
              "\n",
              "  <div id=\"df-becb8442-9299-4fa6-9ebd-7d9aeb89ea17\" class=\"colab-df-container\">\n",
              "    <div>\n",
              "<style scoped>\n",
              "    .dataframe tbody tr th:only-of-type {\n",
              "        vertical-align: middle;\n",
              "    }\n",
              "\n",
              "    .dataframe tbody tr th {\n",
              "        vertical-align: top;\n",
              "    }\n",
              "\n",
              "    .dataframe thead th {\n",
              "        text-align: right;\n",
              "    }\n",
              "</style>\n",
              "<table border=\"1\" class=\"dataframe\">\n",
              "  <thead>\n",
              "    <tr style=\"text-align: right;\">\n",
              "      <th></th>\n",
              "      <th>Date</th>\n",
              "      <th>Chiefs</th>\n",
              "      <th>Ravens</th>\n",
              "    </tr>\n",
              "  </thead>\n",
              "  <tbody>\n",
              "    <tr>\n",
              "      <th>0</th>\n",
              "      <td>12/9/2018</td>\n",
              "      <td>27</td>\n",
              "      <td>24</td>\n",
              "    </tr>\n",
              "    <tr>\n",
              "      <th>1</th>\n",
              "      <td>9/22/2019</td>\n",
              "      <td>33</td>\n",
              "      <td>28</td>\n",
              "    </tr>\n",
              "    <tr>\n",
              "      <th>2</th>\n",
              "      <td>9/28/2020</td>\n",
              "      <td>34</td>\n",
              "      <td>20</td>\n",
              "    </tr>\n",
              "    <tr>\n",
              "      <th>3</th>\n",
              "      <td>9/19/2021</td>\n",
              "      <td>35</td>\n",
              "      <td>36</td>\n",
              "    </tr>\n",
              "    <tr>\n",
              "      <th>4</th>\n",
              "      <td>1/24/2024</td>\n",
              "      <td>17</td>\n",
              "      <td>10</td>\n",
              "    </tr>\n",
              "    <tr>\n",
              "      <th>5</th>\n",
              "      <td>9/5/2024</td>\n",
              "      <td>27</td>\n",
              "      <td>20</td>\n",
              "    </tr>\n",
              "  </tbody>\n",
              "</table>\n",
              "</div>\n",
              "    <div class=\"colab-df-buttons\">\n",
              "\n",
              "  <div class=\"colab-df-container\">\n",
              "    <button class=\"colab-df-convert\" onclick=\"convertToInteractive('df-becb8442-9299-4fa6-9ebd-7d9aeb89ea17')\"\n",
              "            title=\"Convert this dataframe to an interactive table.\"\n",
              "            style=\"display:none;\">\n",
              "\n",
              "  <svg xmlns=\"http://www.w3.org/2000/svg\" height=\"24px\" viewBox=\"0 -960 960 960\">\n",
              "    <path d=\"M120-120v-720h720v720H120Zm60-500h600v-160H180v160Zm220 220h160v-160H400v160Zm0 220h160v-160H400v160ZM180-400h160v-160H180v160Zm440 0h160v-160H620v160ZM180-180h160v-160H180v160Zm440 0h160v-160H620v160Z\"/>\n",
              "  </svg>\n",
              "    </button>\n",
              "\n",
              "  <style>\n",
              "    .colab-df-container {\n",
              "      display:flex;\n",
              "      gap: 12px;\n",
              "    }\n",
              "\n",
              "    .colab-df-convert {\n",
              "      background-color: #E8F0FE;\n",
              "      border: none;\n",
              "      border-radius: 50%;\n",
              "      cursor: pointer;\n",
              "      display: none;\n",
              "      fill: #1967D2;\n",
              "      height: 32px;\n",
              "      padding: 0 0 0 0;\n",
              "      width: 32px;\n",
              "    }\n",
              "\n",
              "    .colab-df-convert:hover {\n",
              "      background-color: #E2EBFA;\n",
              "      box-shadow: 0px 1px 2px rgba(60, 64, 67, 0.3), 0px 1px 3px 1px rgba(60, 64, 67, 0.15);\n",
              "      fill: #174EA6;\n",
              "    }\n",
              "\n",
              "    .colab-df-buttons div {\n",
              "      margin-bottom: 4px;\n",
              "    }\n",
              "\n",
              "    [theme=dark] .colab-df-convert {\n",
              "      background-color: #3B4455;\n",
              "      fill: #D2E3FC;\n",
              "    }\n",
              "\n",
              "    [theme=dark] .colab-df-convert:hover {\n",
              "      background-color: #434B5C;\n",
              "      box-shadow: 0px 1px 3px 1px rgba(0, 0, 0, 0.15);\n",
              "      filter: drop-shadow(0px 1px 2px rgba(0, 0, 0, 0.3));\n",
              "      fill: #FFFFFF;\n",
              "    }\n",
              "  </style>\n",
              "\n",
              "    <script>\n",
              "      const buttonEl =\n",
              "        document.querySelector('#df-becb8442-9299-4fa6-9ebd-7d9aeb89ea17 button.colab-df-convert');\n",
              "      buttonEl.style.display =\n",
              "        google.colab.kernel.accessAllowed ? 'block' : 'none';\n",
              "\n",
              "      async function convertToInteractive(key) {\n",
              "        const element = document.querySelector('#df-becb8442-9299-4fa6-9ebd-7d9aeb89ea17');\n",
              "        const dataTable =\n",
              "          await google.colab.kernel.invokeFunction('convertToInteractive',\n",
              "                                                    [key], {});\n",
              "        if (!dataTable) return;\n",
              "\n",
              "        const docLinkHtml = 'Like what you see? Visit the ' +\n",
              "          '<a target=\"_blank\" href=https://colab.research.google.com/notebooks/data_table.ipynb>data table notebook</a>'\n",
              "          + ' to learn more about interactive tables.';\n",
              "        element.innerHTML = '';\n",
              "        dataTable['output_type'] = 'display_data';\n",
              "        await google.colab.output.renderOutput(dataTable, element);\n",
              "        const docLink = document.createElement('div');\n",
              "        docLink.innerHTML = docLinkHtml;\n",
              "        element.appendChild(docLink);\n",
              "      }\n",
              "    </script>\n",
              "  </div>\n",
              "\n",
              "\n",
              "<div id=\"df-105e0013-45f1-41de-9501-136dc2ace031\">\n",
              "  <button class=\"colab-df-quickchart\" onclick=\"quickchart('df-105e0013-45f1-41de-9501-136dc2ace031')\"\n",
              "            title=\"Suggest charts\"\n",
              "            style=\"display:none;\">\n",
              "\n",
              "<svg xmlns=\"http://www.w3.org/2000/svg\" height=\"24px\"viewBox=\"0 0 24 24\"\n",
              "     width=\"24px\">\n",
              "    <g>\n",
              "        <path d=\"M19 3H5c-1.1 0-2 .9-2 2v14c0 1.1.9 2 2 2h14c1.1 0 2-.9 2-2V5c0-1.1-.9-2-2-2zM9 17H7v-7h2v7zm4 0h-2V7h2v10zm4 0h-2v-4h2v4z\"/>\n",
              "    </g>\n",
              "</svg>\n",
              "  </button>\n",
              "\n",
              "<style>\n",
              "  .colab-df-quickchart {\n",
              "      --bg-color: #E8F0FE;\n",
              "      --fill-color: #1967D2;\n",
              "      --hover-bg-color: #E2EBFA;\n",
              "      --hover-fill-color: #174EA6;\n",
              "      --disabled-fill-color: #AAA;\n",
              "      --disabled-bg-color: #DDD;\n",
              "  }\n",
              "\n",
              "  [theme=dark] .colab-df-quickchart {\n",
              "      --bg-color: #3B4455;\n",
              "      --fill-color: #D2E3FC;\n",
              "      --hover-bg-color: #434B5C;\n",
              "      --hover-fill-color: #FFFFFF;\n",
              "      --disabled-bg-color: #3B4455;\n",
              "      --disabled-fill-color: #666;\n",
              "  }\n",
              "\n",
              "  .colab-df-quickchart {\n",
              "    background-color: var(--bg-color);\n",
              "    border: none;\n",
              "    border-radius: 50%;\n",
              "    cursor: pointer;\n",
              "    display: none;\n",
              "    fill: var(--fill-color);\n",
              "    height: 32px;\n",
              "    padding: 0;\n",
              "    width: 32px;\n",
              "  }\n",
              "\n",
              "  .colab-df-quickchart:hover {\n",
              "    background-color: var(--hover-bg-color);\n",
              "    box-shadow: 0 1px 2px rgba(60, 64, 67, 0.3), 0 1px 3px 1px rgba(60, 64, 67, 0.15);\n",
              "    fill: var(--button-hover-fill-color);\n",
              "  }\n",
              "\n",
              "  .colab-df-quickchart-complete:disabled,\n",
              "  .colab-df-quickchart-complete:disabled:hover {\n",
              "    background-color: var(--disabled-bg-color);\n",
              "    fill: var(--disabled-fill-color);\n",
              "    box-shadow: none;\n",
              "  }\n",
              "\n",
              "  .colab-df-spinner {\n",
              "    border: 2px solid var(--fill-color);\n",
              "    border-color: transparent;\n",
              "    border-bottom-color: var(--fill-color);\n",
              "    animation:\n",
              "      spin 1s steps(1) infinite;\n",
              "  }\n",
              "\n",
              "  @keyframes spin {\n",
              "    0% {\n",
              "      border-color: transparent;\n",
              "      border-bottom-color: var(--fill-color);\n",
              "      border-left-color: var(--fill-color);\n",
              "    }\n",
              "    20% {\n",
              "      border-color: transparent;\n",
              "      border-left-color: var(--fill-color);\n",
              "      border-top-color: var(--fill-color);\n",
              "    }\n",
              "    30% {\n",
              "      border-color: transparent;\n",
              "      border-left-color: var(--fill-color);\n",
              "      border-top-color: var(--fill-color);\n",
              "      border-right-color: var(--fill-color);\n",
              "    }\n",
              "    40% {\n",
              "      border-color: transparent;\n",
              "      border-right-color: var(--fill-color);\n",
              "      border-top-color: var(--fill-color);\n",
              "    }\n",
              "    60% {\n",
              "      border-color: transparent;\n",
              "      border-right-color: var(--fill-color);\n",
              "    }\n",
              "    80% {\n",
              "      border-color: transparent;\n",
              "      border-right-color: var(--fill-color);\n",
              "      border-bottom-color: var(--fill-color);\n",
              "    }\n",
              "    90% {\n",
              "      border-color: transparent;\n",
              "      border-bottom-color: var(--fill-color);\n",
              "    }\n",
              "  }\n",
              "</style>\n",
              "\n",
              "  <script>\n",
              "    async function quickchart(key) {\n",
              "      const quickchartButtonEl =\n",
              "        document.querySelector('#' + key + ' button');\n",
              "      quickchartButtonEl.disabled = true;  // To prevent multiple clicks.\n",
              "      quickchartButtonEl.classList.add('colab-df-spinner');\n",
              "      try {\n",
              "        const charts = await google.colab.kernel.invokeFunction(\n",
              "            'suggestCharts', [key], {});\n",
              "      } catch (error) {\n",
              "        console.error('Error during call to suggestCharts:', error);\n",
              "      }\n",
              "      quickchartButtonEl.classList.remove('colab-df-spinner');\n",
              "      quickchartButtonEl.classList.add('colab-df-quickchart-complete');\n",
              "    }\n",
              "    (() => {\n",
              "      let quickchartButtonEl =\n",
              "        document.querySelector('#df-105e0013-45f1-41de-9501-136dc2ace031 button');\n",
              "      quickchartButtonEl.style.display =\n",
              "        google.colab.kernel.accessAllowed ? 'block' : 'none';\n",
              "    })();\n",
              "  </script>\n",
              "</div>\n",
              "\n",
              "  <div id=\"id_d4ceebf8-da95-43f8-9587-fd460e5b2e69\">\n",
              "    <style>\n",
              "      .colab-df-generate {\n",
              "        background-color: #E8F0FE;\n",
              "        border: none;\n",
              "        border-radius: 50%;\n",
              "        cursor: pointer;\n",
              "        display: none;\n",
              "        fill: #1967D2;\n",
              "        height: 32px;\n",
              "        padding: 0 0 0 0;\n",
              "        width: 32px;\n",
              "      }\n",
              "\n",
              "      .colab-df-generate:hover {\n",
              "        background-color: #E2EBFA;\n",
              "        box-shadow: 0px 1px 2px rgba(60, 64, 67, 0.3), 0px 1px 3px 1px rgba(60, 64, 67, 0.15);\n",
              "        fill: #174EA6;\n",
              "      }\n",
              "\n",
              "      [theme=dark] .colab-df-generate {\n",
              "        background-color: #3B4455;\n",
              "        fill: #D2E3FC;\n",
              "      }\n",
              "\n",
              "      [theme=dark] .colab-df-generate:hover {\n",
              "        background-color: #434B5C;\n",
              "        box-shadow: 0px 1px 3px 1px rgba(0, 0, 0, 0.15);\n",
              "        filter: drop-shadow(0px 1px 2px rgba(0, 0, 0, 0.3));\n",
              "        fill: #FFFFFF;\n",
              "      }\n",
              "    </style>\n",
              "    <button class=\"colab-df-generate\" onclick=\"generateWithVariable('data')\"\n",
              "            title=\"Generate code using this dataframe.\"\n",
              "            style=\"display:none;\">\n",
              "\n",
              "  <svg xmlns=\"http://www.w3.org/2000/svg\" height=\"24px\"viewBox=\"0 0 24 24\"\n",
              "       width=\"24px\">\n",
              "    <path d=\"M7,19H8.4L18.45,9,17,7.55,7,17.6ZM5,21V16.75L18.45,3.32a2,2,0,0,1,2.83,0l1.4,1.43a1.91,1.91,0,0,1,.58,1.4,1.91,1.91,0,0,1-.58,1.4L9.25,21ZM18.45,9,17,7.55Zm-12,3A5.31,5.31,0,0,0,4.9,8.1,5.31,5.31,0,0,0,1,6.5,5.31,5.31,0,0,0,4.9,4.9,5.31,5.31,0,0,0,6.5,1,5.31,5.31,0,0,0,8.1,4.9,5.31,5.31,0,0,0,12,6.5,5.46,5.46,0,0,0,6.5,12Z\"/>\n",
              "  </svg>\n",
              "    </button>\n",
              "    <script>\n",
              "      (() => {\n",
              "      const buttonEl =\n",
              "        document.querySelector('#id_d4ceebf8-da95-43f8-9587-fd460e5b2e69 button.colab-df-generate');\n",
              "      buttonEl.style.display =\n",
              "        google.colab.kernel.accessAllowed ? 'block' : 'none';\n",
              "\n",
              "      buttonEl.onclick = () => {\n",
              "        google.colab.notebook.generateWithVariable('data');\n",
              "      }\n",
              "      })();\n",
              "    </script>\n",
              "  </div>\n",
              "\n",
              "    </div>\n",
              "  </div>\n"
            ],
            "application/vnd.google.colaboratory.intrinsic+json": {
              "type": "dataframe",
              "variable_name": "data",
              "summary": "{\n  \"name\": \"data\",\n  \"rows\": 6,\n  \"fields\": [\n    {\n      \"column\": \"Date\",\n      \"properties\": {\n        \"dtype\": \"object\",\n        \"num_unique_values\": 6,\n        \"samples\": [\n          \"12/9/2018\",\n          \"9/22/2019\",\n          \"9/5/2024\"\n        ],\n        \"semantic_type\": \"\",\n        \"description\": \"\"\n      }\n    },\n    {\n      \"column\": \"Chiefs\",\n      \"properties\": {\n        \"dtype\": \"number\",\n        \"std\": 6,\n        \"min\": 17,\n        \"max\": 35,\n        \"num_unique_values\": 5,\n        \"samples\": [\n          33,\n          17,\n          34\n        ],\n        \"semantic_type\": \"\",\n        \"description\": \"\"\n      }\n    },\n    {\n      \"column\": \"Ravens\",\n      \"properties\": {\n        \"dtype\": \"number\",\n        \"std\": 8,\n        \"min\": 10,\n        \"max\": 36,\n        \"num_unique_values\": 5,\n        \"samples\": [\n          28,\n          10,\n          20\n        ],\n        \"semantic_type\": \"\",\n        \"description\": \"\"\n      }\n    }\n  ]\n}"
            }
          },
          "metadata": {},
          "execution_count": 3
        }
      ]
    },
    {
      "cell_type": "markdown",
      "source": [
        "# I. One-Sample Tests\n",
        "**Ia Ztest when variance is known: Compute p-value via the scipy norm function**"
      ],
      "metadata": {
        "id": "NiByqOFZ7ni7"
      }
    },
    {
      "cell_type": "code",
      "metadata": {
        "colab": {
          "base_uri": "https://localhost:8080/"
        },
        "id": "qYd6JIwTei8I",
        "outputId": "cd2f13b4-96f1-4226-f5d0-6fecc8dce344"
      },
      "source": [
        "Chiefs_mean=np.mean(data['Chiefs'])\n",
        "Chiefs_mean"
      ],
      "execution_count": 4,
      "outputs": [
        {
          "output_type": "execute_result",
          "data": {
            "text/plain": [
              "28.833333333333332"
            ]
          },
          "metadata": {},
          "execution_count": 4
        }
      ]
    },
    {
      "cell_type": "code",
      "source": [
        "# np.std\n",
        "# ddof is the degrees of freedom, which is 1 for sample standard deviation and 0 for population standard deviation\n",
        "Chiefs_std=np.std(data['Chiefs'], ddof=1)\n",
        "Chiefs_std"
      ],
      "metadata": {
        "id": "xoB6tVICUNRo",
        "colab": {
          "base_uri": "https://localhost:8080/"
        },
        "outputId": "c91efe1e-219c-4552-e08a-167a306fec6e"
      },
      "execution_count": 5,
      "outputs": [
        {
          "output_type": "execute_result",
          "data": {
            "text/plain": [
              "6.76510655249913"
            ]
          },
          "metadata": {},
          "execution_count": 5
        }
      ]
    },
    {
      "cell_type": "code",
      "source": [
        "# assuming the variance of VIQ is known\n",
        "# H0: mu = 28\n",
        "# H1: mu > 28\n",
        "# std=7 (known)\n",
        "n=len(data['Chiefs'])\n",
        "pval=1-norm.cdf((Chiefs_mean-28)/(7/np.sqrt(n)))\n",
        "pval"
      ],
      "metadata": {
        "colab": {
          "base_uri": "https://localhost:8080/"
        },
        "id": "6KiGb3096RdJ",
        "outputId": "0a3c6e27-ed9b-4d0a-9615-ba4a559989e2"
      },
      "execution_count": 6,
      "outputs": [
        {
          "output_type": "execute_result",
          "data": {
            "text/plain": [
              "0.38529397361274786"
            ]
          },
          "metadata": {},
          "execution_count": 6
        }
      ]
    },
    {
      "cell_type": "markdown",
      "source": [
        "Since pval is larger than 0.05, we fail to reject H0. Another way to cite this result is that reject H0 at (1-pval)*100% significant level"
      ],
      "metadata": {
        "id": "KE7jVv8xG_77"
      }
    },
    {
      "cell_type": "markdown",
      "source": [
        "**Ib. t test when variance is unknown: Compute p-value via the scipy t function**"
      ],
      "metadata": {
        "id": "mklhHVxsJf0I"
      }
    },
    {
      "cell_type": "code",
      "source": [
        "# assuming the variance of the score is unknown\n",
        "# H0: mu = 28\n",
        "# H1: mu > 28\n",
        "# std should be estimated\n",
        "n=len(data['Chiefs'])\n",
        "Chiefs_std=np.std(data['Chiefs'], ddof=1)\n",
        "cdf = t.cdf((Chiefs_mean-28)/(Chiefs_std/np.sqrt(n)), df=(n-1))\n",
        "pval=1-cdf\n",
        "pval"
      ],
      "metadata": {
        "colab": {
          "base_uri": "https://localhost:8080/"
        },
        "id": "c1A4EXzxUnY-",
        "outputId": "0b26cead-2240-47b9-fb95-fc7cace16ccf"
      },
      "execution_count": 14,
      "outputs": [
        {
          "output_type": "execute_result",
          "data": {
            "text/plain": [
              "0.3875019046961431"
            ]
          },
          "metadata": {},
          "execution_count": 14
        }
      ]
    },
    {
      "cell_type": "code",
      "source": [
        "#Two-side p-value\n",
        "2*pval"
      ],
      "metadata": {
        "colab": {
          "base_uri": "https://localhost:8080/"
        },
        "id": "aDWMMZ3JDcu2",
        "outputId": "a1f5ecb3-3442-4d8d-e349-101828dcfdcf"
      },
      "execution_count": 8,
      "outputs": [
        {
          "output_type": "execute_result",
          "data": {
            "text/plain": [
              "0.7750038093922862"
            ]
          },
          "metadata": {},
          "execution_count": 8
        }
      ]
    },
    {
      "cell_type": "markdown",
      "source": [
        "# Analysis:\n",
        "if one sided test H1>28, since pval is larger than 0.05, we cannot reject H0\n",
        "if H1<28, then pval=norm.cdf((viqmean-28)/(viqstd/np.sqrt(n)))\n",
        "if two sided test and pval is smaller than 0.025, we would have reject H0. Or multiply the pval*2 and use 0.05 as the criterion.\n",
        "Replace norm.cdf by t.cdf if standard deviation is estimated"
      ],
      "metadata": {
        "id": "NTbSU6rDVq8B"
      }
    },
    {
      "cell_type": "markdown",
      "source": [
        "**Ic. using scipy ttest_1samp function**"
      ],
      "metadata": {
        "id": "Y3jOExjAiKkK"
      }
    },
    {
      "cell_type": "code",
      "source": [
        "# one sample t test (default two sided test)\n",
        "# there are two ways to run this one sample t test\n",
        "stats.ttest_1samp(data['Chiefs'], 28)\n",
        "#scipy.stats.ttest_1samp(a=data['Chiefs'], popmean=28)"
      ],
      "metadata": {
        "colab": {
          "base_uri": "https://localhost:8080/"
        },
        "id": "tooEF7aniFy1",
        "outputId": "e0d129b2-ecbf-4bfb-906e-865d24349238"
      },
      "execution_count": 9,
      "outputs": [
        {
          "output_type": "execute_result",
          "data": {
            "text/plain": [
              "TtestResult(statistic=0.301730865061578, pvalue=0.7750038093922862, df=5)"
            ]
          },
          "metadata": {},
          "execution_count": 9
        }
      ]
    },
    {
      "cell_type": "markdown",
      "source": [
        "Note that the default is two-side here. The method in 1b is one sided test"
      ],
      "metadata": {
        "id": "Gr0_U_Mjibew"
      }
    },
    {
      "cell_type": "markdown",
      "source": [
        "**Id. One Sample Test: using statsmodel's weightstats function**"
      ],
      "metadata": {
        "id": "7ov_YvWW8OUR"
      }
    },
    {
      "cell_type": "markdown",
      "source": [
        "ztest(x, y, value=28, alternative='two-sided')\n",
        "\n",
        "\n",
        "*   x is the first sample\n",
        "*   y is the second sample; set it at None for one sample test\n",
        "*   alternative is the alternative hypothesis, which can be 'two-sided', 'larger', or 'smaller'; default alternative='two-sided'"
      ],
      "metadata": {
        "id": "8jfloKmyQLOQ"
      }
    },
    {
      "cell_type": "markdown",
      "source": [
        "Ref. https://www.statsmodels.org/dev/generated/statsmodels.stats.weightstats.ztest.html"
      ],
      "metadata": {
        "id": "ervGO2dqTwwv"
      }
    },
    {
      "cell_type": "code",
      "source": [
        "# this function can also be used to test two samples!\n",
        "# assuming the variance of the score is known or n > 30\n",
        "# one-side H1 test is demonstrated here\n",
        "ztest, propability_value = stests.ztest(data['Chiefs'], x2=None, value=28, alternative=\"larger\")\n",
        "print(float(propability_value))\n",
        "if propability_value<0.05:\n",
        "  print(\"Null hyphothesis rejected\")\n",
        "else:\n",
        "  print(\"Cannot reject the Null hyphothesis\")"
      ],
      "metadata": {
        "colab": {
          "base_uri": "https://localhost:8080/"
        },
        "id": "TOBczU4Yy8lx",
        "outputId": "5851d1ee-d38f-4539-989b-77ebd65d84d0"
      },
      "execution_count": 11,
      "outputs": [
        {
          "output_type": "stream",
          "name": "stdout",
          "text": [
            "0.38142861865579125\n",
            "Cannot reject the Null hyphothesis\n"
          ]
        }
      ]
    },
    {
      "cell_type": "code",
      "source": [
        "# this function can also be used to test two samples!\n",
        "# please note that stests.ztest does not offer you a way enter given std\n",
        "# assuming the variance of the score is known or n > 30\n",
        "# two-sided test H1 is demonstrated here\n",
        "ztest, propability_value = stests.ztest(data['Chiefs'], x2=None, value=28, alternative=\"two-sided\")\n",
        "print(float(propability_value))\n",
        "if propability_value<0.05:\n",
        "  print(\"Null hyphothesis rejected\")\n",
        "else:\n",
        "  print(\"Cannot reject the Null hyphothesis\")"
      ],
      "metadata": {
        "colab": {
          "base_uri": "https://localhost:8080/"
        },
        "id": "xvqRkSq0EClg",
        "outputId": "5c21e70b-606c-47ae-ec05-20f353d21cc9"
      },
      "execution_count": 17,
      "outputs": [
        {
          "output_type": "stream",
          "name": "stdout",
          "text": [
            "0.7628572373115825\n",
            "Cannot reject the Null hyphothesis\n"
          ]
        }
      ]
    },
    {
      "cell_type": "markdown",
      "source": [
        "Please note that this result is slightly different from the \"hand\" calculation. The reason is that the \"known\" std is not provided when 1-sample z test is used."
      ],
      "metadata": {
        "id": "IP_q86VkXNFr"
      }
    },
    {
      "cell_type": "code",
      "source": [
        "# std.score is not computed but z test (not t-test) is used\n",
        "# this result is close to the t test result when n is large (i.e.  > 30)\n",
        "# in this case, std should be given since n<30\n",
        "n=len(data['Chiefs'])\n",
        "Chiefs_std=7\n",
        "pval1 = norm.cdf((Chiefs_mean-28)/(Chiefs_std/np.sqrt(n)))\n",
        "pval2=1-pval1\n",
        "pval2"
      ],
      "metadata": {
        "colab": {
          "base_uri": "https://localhost:8080/"
        },
        "id": "tp7CEWFJF-6P",
        "outputId": "7a46736c-88a2-46a2-aad7-6021e3737cfd"
      },
      "execution_count": 15,
      "outputs": [
        {
          "output_type": "execute_result",
          "data": {
            "text/plain": [
              "0.38529397361274786"
            ]
          },
          "metadata": {},
          "execution_count": 15
        }
      ]
    },
    {
      "cell_type": "markdown",
      "source": [
        "**Until we understand more of the Statmodel weightstats function, we should use hand computations or scipy ttest!**"
      ],
      "metadata": {
        "id": "-dHCk4ktbefF"
      }
    },
    {
      "cell_type": "markdown",
      "source": [
        "# II. Two Sample Tests"
      ],
      "metadata": {
        "id": "6z39WsO083S1"
      }
    },
    {
      "cell_type": "code",
      "source": [
        "# Perform two-sided t-test\n",
        "data1=data['Chiefs']\n",
        "data2=data['Ravens']\n",
        "t_stat, p_value_two_sided = stats.ttest_ind(data1, data2)\n",
        "# the following is the z test results (You can use this when N >30)\n",
        "ztest, propability_value = stests.ztest(x1=data1, x2=data2, value=0, alternative=\"larger\", usevar=\"pooled\")\n",
        "\n",
        "# Convert to one-sided p-value for the alternative hypothesis:\n",
        "# H0: mean(data1) == mean(data2)\n",
        "# H1: mean(data1) > mean(data2)\n",
        "p_value_one_sided= p_value_two_sided / 2\n",
        "\n",
        "# If the alternative is mean(data1) < mean(data2), use:\n",
        "# p_value_one_sided = 1 - (p_value_two_sided / 2)"
      ],
      "metadata": {
        "id": "gZzLPo3EJMcJ"
      },
      "execution_count": 31,
      "outputs": []
    },
    {
      "cell_type": "code",
      "source": [
        "#z test result\n",
        "propability_value"
      ],
      "metadata": {
        "colab": {
          "base_uri": "https://localhost:8080/"
        },
        "id": "0O3FvokDik64",
        "outputId": "2177c5e4-c524-41c2-ea1b-1d98ab58c1d0"
      },
      "execution_count": 27,
      "outputs": [
        {
          "output_type": "execute_result",
          "data": {
            "text/plain": [
              "0.09804799143321918"
            ]
          },
          "metadata": {},
          "execution_count": 27
        }
      ]
    },
    {
      "cell_type": "code",
      "source": [
        "# t_test result\n",
        "p_value_one_sided"
      ],
      "metadata": {
        "colab": {
          "base_uri": "https://localhost:8080/"
        },
        "id": "Mfwc8Je3iqDG",
        "outputId": "8700f90c-5bbc-4a95-8031-7b8498e71da6"
      },
      "execution_count": 30,
      "outputs": [
        {
          "output_type": "execute_result",
          "data": {
            "text/plain": [
              "0.11258263671345052"
            ]
          },
          "metadata": {},
          "execution_count": 30
        }
      ]
    },
    {
      "cell_type": "markdown",
      "source": [
        "**Case I. Pooled variances of two populations**"
      ],
      "metadata": {
        "id": "_ukq6IW28-0R"
      }
    },
    {
      "cell_type": "markdown",
      "source": [
        "**# Question: Is Chiefs better than Ravens in the Mahomes era? Six data points were given**"
      ],
      "metadata": {
        "id": "evKvT6Zbii-J"
      }
    },
    {
      "cell_type": "code",
      "source": [
        "#using scipy\n",
        "#two sample t-test 1: assume the variance is the same (default)\n",
        "Chiefs=data['Chiefs']\n",
        "Ravens=data['Ravens']\n",
        "stats.ttest_ind(Chiefs, Ravens, equal_var=True)"
      ],
      "metadata": {
        "colab": {
          "base_uri": "https://localhost:8080/"
        },
        "id": "vTCh1vj3fUnd",
        "outputId": "121e752f-2813-41bd-86ae-a8cdbea3d97a"
      },
      "execution_count": 21,
      "outputs": [
        {
          "output_type": "execute_result",
          "data": {
            "text/plain": [
              "TtestResult(statistic=1.292754496517956, pvalue=0.22516527342690104, df=10.0)"
            ]
          },
          "metadata": {},
          "execution_count": 21
        }
      ]
    },
    {
      "cell_type": "code",
      "source": [
        "# H0: Chiefs = Ravens Ha: Chiefs > Ravens\n",
        "# compute the p-value of one-sided test\n",
        "t0, pval2=stats.ttest_ind(Chiefs, Ravens, equal_var=True)\n",
        "pval1=pval2/2\n",
        "# One sided test H1: Chiefs > Ravens\n",
        "pval1"
      ],
      "metadata": {
        "colab": {
          "base_uri": "https://localhost:8080/"
        },
        "id": "yi1QUxadhNPV",
        "outputId": "fc38a598-c87b-418d-abcc-9875e4413dd1"
      },
      "execution_count": 32,
      "outputs": [
        {
          "output_type": "execute_result",
          "data": {
            "text/plain": [
              "0.11258263671345052"
            ]
          },
          "metadata": {},
          "execution_count": 32
        }
      ]
    },
    {
      "cell_type": "markdown",
      "source": [
        "from the above analysis, H0: Chiefs = Ravens vs H1: Chiefs > Ravens\n",
        "this is a one-sided test. We would reject H0 at 89% significant.\n"
      ],
      "metadata": {
        "id": "-x1kQ8RzgM4v"
      }
    },
    {
      "cell_type": "markdown",
      "source": [
        "# You turn: how do you answer the question: Is Ravens better than Chiefs in the Jackson era? (Hint: how to frame Ha?)"
      ],
      "metadata": {
        "id": "DvC70wPViFxk"
      }
    },
    {
      "cell_type": "markdown",
      "source": [
        "**Case II. Reject equal variance assumptions**"
      ],
      "metadata": {
        "id": "6T-4lyZqZW77"
      }
    },
    {
      "cell_type": "code",
      "metadata": {
        "colab": {
          "base_uri": "https://localhost:8080/"
        },
        "id": "86ODq07slKzs",
        "outputId": "516018de-6f1a-4bbe-85a3-1df21409feee"
      },
      "source": [
        "#two sample t-test method 2: the variances are not the same\n",
        "stats.ttest_ind(Chiefs, Ravens, equal_var=False)\n",
        "pval1=pval2/2\n",
        "# One sided test H1: Chiefs > Ravens\n",
        "pval1"
      ],
      "execution_count": 34,
      "outputs": [
        {
          "output_type": "execute_result",
          "data": {
            "text/plain": [
              "0.11258263671345052"
            ]
          },
          "metadata": {},
          "execution_count": 34
        }
      ]
    },
    {
      "cell_type": "markdown",
      "source": [
        "Analysis: in both cases, we reject H0 at 89% significant level! H0: Chiefs = Ravens"
      ],
      "metadata": {
        "id": "y2md8qQnY1hC"
      }
    },
    {
      "cell_type": "markdown",
      "source": [
        "# III. F test\n",
        "**To judge Case I or Case II should be used**"
      ],
      "metadata": {
        "id": "cW7CCrBcawiF"
      }
    },
    {
      "cell_type": "code",
      "metadata": {
        "colab": {
          "base_uri": "https://localhost:8080/"
        },
        "id": "fMDdmGYLItal",
        "outputId": "80a549d1-b775-4a0f-9277-d583b48541cf"
      },
      "source": [
        "#F test for variances of two populations\n",
        "# the following function is user defined\n",
        "def f_test(x,y):\n",
        "  x=np.array(x)\n",
        "  y=np.array(y)\n",
        "  f=np.var(x,ddof=1)/np.var(y, ddof=1) # cal F test statistic\n",
        "  dfn=x.size-1\n",
        "  dfd=y.size-1\n",
        "  p=1-scipy.stats.f.cdf(f,dfn, dfd) #find p-value of F test statistics\n",
        "  return f, p\n",
        "\n",
        "f_test(Chiefs, Ravens)"
      ],
      "execution_count": 35,
      "outputs": [
        {
          "output_type": "execute_result",
          "data": {
            "text/plain": [
              "(0.5990401396160558, 0.7062157442298039)"
            ]
          },
          "metadata": {},
          "execution_count": 35
        }
      ]
    },
    {
      "cell_type": "markdown",
      "source": [
        "The first output is the F statistic and the second is the p-value. Since the p-value is large, we cannot reject H0: var1=var2. Therefore, the variances of two populations should be pooled."
      ],
      "metadata": {
        "id": "a1mK8jwDbCdT"
      }
    },
    {
      "cell_type": "markdown",
      "source": [
        "# **IV. Paired T-Test**"
      ],
      "metadata": {
        "id": "lz8_3YE0cg6k"
      }
    },
    {
      "cell_type": "code",
      "metadata": {
        "colab": {
          "base_uri": "https://localhost:8080/"
        },
        "id": "E_hsR5YeKiIk",
        "outputId": "554a4fe9-ab29-43f5-ae5c-2bb8a6825cfb"
      },
      "source": [
        "#Paired t-Test method 1: using one sample t test\n",
        "#Test if FISQ and PIQ are signficantly different\n",
        "#The data for the pair (FISQ, PIQ) are obtained for the same subject\n",
        "diff=data1 - data2\n",
        "stats.ttest_1samp(diff, 0)\n"
      ],
      "execution_count": 36,
      "outputs": [
        {
          "output_type": "execute_result",
          "data": {
            "text/plain": [
              "TtestResult(statistic=2.859645099213876, pvalue=0.0354211906599179, df=5)"
            ]
          },
          "metadata": {},
          "execution_count": 36
        }
      ]
    },
    {
      "cell_type": "markdown",
      "metadata": {
        "id": "7XmIgnCIMf5j"
      },
      "source": [
        "The above p-value is large, which suggests H0 can not be rejected."
      ]
    },
    {
      "cell_type": "code",
      "metadata": {
        "colab": {
          "base_uri": "https://localhost:8080/"
        },
        "id": "uEYj54e1M_o3",
        "outputId": "7704fce3-65d3-4294-9b81-c7ebc590a359"
      },
      "source": [
        "#Paired t-Test method 2: using repeated measures test\n",
        "#The observations in data1 and data2 are paired\n",
        "\n",
        "stats.ttest_rel(data1, data2)"
      ],
      "execution_count": 38,
      "outputs": [
        {
          "output_type": "execute_result",
          "data": {
            "text/plain": [
              "TtestResult(statistic=2.859645099213876, pvalue=0.0354211906599179, df=5)"
            ]
          },
          "metadata": {},
          "execution_count": 38
        }
      ]
    },
    {
      "cell_type": "markdown",
      "source": [
        "# Question: Is Chiefs better than Ravens in the Mahomes era? Is paired t test better than the two sample T-test?"
      ],
      "metadata": {
        "id": "zgamPZ-6jD3x"
      }
    },
    {
      "cell_type": "code",
      "source": [
        "# to answer this question, the spread is 0\n",
        "spread=0\n",
        "diff2=data['Chiefs']-data['Ravens']\n",
        "stat3,pval3=stats.ttest_1samp(diff2, spread)\n",
        "pval4=pval3/2\n",
        "pval4"
      ],
      "metadata": {
        "colab": {
          "base_uri": "https://localhost:8080/"
        },
        "id": "-wdFSx-jjCIz",
        "outputId": "00090b46-2a78-4d3e-90eb-157c81891e28"
      },
      "execution_count": 40,
      "outputs": [
        {
          "output_type": "execute_result",
          "data": {
            "text/plain": [
              "0.01771059532995895"
            ]
          },
          "metadata": {},
          "execution_count": 40
        }
      ]
    },
    {
      "cell_type": "markdown",
      "source": [
        "When the spread is 0, then we will reject the hypothesis Chiefs and Ravens are equal at (1-0.0177)100% significant level. We are confident that Chiefs are better."
      ],
      "metadata": {
        "id": "3T2xF24ij4kI"
      }
    },
    {
      "cell_type": "markdown",
      "source": [
        "# **Question: Is Chiefs at least 3 points better than Ravens in the Mahomes era?**"
      ],
      "metadata": {
        "id": "eXpIB7i2kDxc"
      }
    },
    {
      "cell_type": "code",
      "source": [
        "# H0: mu_chiefs-mu_ravens=spread vs H1: mu_chiefs-mu_ravens <> spread\n",
        "# note that the above H1 is a two sided test\n",
        "spread=3\n",
        "diff2=data['Chiefs']-data['Ravens']\n",
        "# \"`alternative` must be 'less', 'greater', or 'two-sided'.\"\n",
        "stat5,pval5=stats.ttest_1samp(diff2, spread, alternative=\"two-sided\")\n",
        "pval6=pval5/2\n",
        "print(f\"p value: {pval6}\")\n",
        "\n",
        "#  another way to do the same computation\n",
        "stats.ttest_1samp(diff2, spread, alternative=\"greater\")"
      ],
      "metadata": {
        "colab": {
          "base_uri": "https://localhost:8080/"
        },
        "id": "bAaMEC-SkJ1e",
        "outputId": "0c7c291b-280d-46a2-8276-3716ce665e84"
      },
      "execution_count": 41,
      "outputs": [
        {
          "output_type": "stream",
          "name": "stdout",
          "text": [
            "p value: 0.11176459569837864\n"
          ]
        },
        {
          "output_type": "execute_result",
          "data": {
            "text/plain": [
              "TtestResult(statistic=1.3889704767610254, pvalue=0.11176459569837864, df=5)"
            ]
          },
          "metadata": {},
          "execution_count": 41
        }
      ]
    },
    {
      "cell_type": "markdown",
      "source": [
        "As shown in the above computations, both methods generate the same  p-value."
      ],
      "metadata": {
        "id": "02w8OZBxHrGA"
      }
    },
    {
      "cell_type": "markdown",
      "source": [
        "# **How do you make a proper conclusion based on the p-values of spread=0 and 3?**"
      ],
      "metadata": {
        "id": "8Jy7UtMHkfu6"
      }
    },
    {
      "cell_type": "markdown",
      "source": [
        "# **V. Critical Values of a t Distribution**"
      ],
      "metadata": {
        "id": "fzE9oQoVdE0m"
      }
    },
    {
      "cell_type": "code",
      "metadata": {
        "colab": {
          "base_uri": "https://localhost:8080/"
        },
        "id": "9joYnYxfg_jE",
        "outputId": "a8524fcb-e094-45e1-cc36-d6565dfc6a3f"
      },
      "source": [
        "# critcal values of a t distribution\n",
        "# for two-sided 95% CI, the left critical value can be optained\n",
        "x=data['Chiefs']\n",
        "df1=len(x) -1\n",
        "stats.t.ppf(q=0.025, df=df1)\n"
      ],
      "execution_count": 42,
      "outputs": [
        {
          "output_type": "execute_result",
          "data": {
            "text/plain": [
              "-2.5705818356363146"
            ]
          },
          "metadata": {},
          "execution_count": 42
        }
      ]
    },
    {
      "cell_type": "code",
      "metadata": {
        "colab": {
          "base_uri": "https://localhost:8080/"
        },
        "id": "Uz5Tm2xmiGux",
        "outputId": "a1818e32-c260-4b03-fcfb-b5ba02fe5b81"
      },
      "source": [
        "# critcal values of a t distribution\n",
        "# for two sided 95% CI, the right critical value can be optained\n",
        "\n",
        "stats.t.ppf(q=0.975, df=df1)\n"
      ],
      "execution_count": 43,
      "outputs": [
        {
          "output_type": "execute_result",
          "data": {
            "text/plain": [
              "2.570581835636314"
            ]
          },
          "metadata": {},
          "execution_count": 43
        }
      ]
    },
    {
      "cell_type": "code",
      "metadata": {
        "colab": {
          "base_uri": "https://localhost:8080/"
        },
        "id": "L-V9DDqPimLk",
        "outputId": "a009a7bc-5844-4f87-e43b-7060f0835d89"
      },
      "source": [
        "# critcal values of a t distribution\n",
        "# for one sided 95% CI, the right critical value can be optained\n",
        "# Ha u > u0\n",
        "\n",
        "stats.t.ppf(q=0.95, df=df1)"
      ],
      "execution_count": 44,
      "outputs": [
        {
          "output_type": "execute_result",
          "data": {
            "text/plain": [
              "2.0150483733330233"
            ]
          },
          "metadata": {},
          "execution_count": 44
        }
      ]
    },
    {
      "cell_type": "code",
      "source": [
        "stats.t.cdf(2,6-1)"
      ],
      "metadata": {
        "colab": {
          "base_uri": "https://localhost:8080/"
        },
        "id": "n545sft5FB2d",
        "outputId": "b2bbfe5d-b26b-4b92-8a9b-64cfc6f5a8fe"
      },
      "execution_count": 46,
      "outputs": [
        {
          "output_type": "execute_result",
          "data": {
            "text/plain": [
              "0.9490302605850709"
            ]
          },
          "metadata": {},
          "execution_count": 46
        }
      ]
    },
    {
      "cell_type": "markdown",
      "source": [
        "# **VI. Construct a Confidence Interval of a Sample**"
      ],
      "metadata": {
        "id": "nEWZSDKkeGkZ"
      }
    },
    {
      "cell_type": "code",
      "metadata": {
        "colab": {
          "base_uri": "https://localhost:8080/"
        },
        "id": "x3MFDQDQjr2i",
        "outputId": "ad2ba86e-b568-42b9-cd86-1860cc4f9b60"
      },
      "source": [
        "# 95% confidence interval (variance estimated)\n",
        "x=data['Chiefs']\n",
        "n=len(x)\n",
        "df1=n-1\n",
        "mean1=np.mean(x)\n",
        "sigma1=np.std(x, ddof=1)/np.sqrt(n)\n",
        "stats.t.interval(0.95, df=df1, loc=mean1, scale=sigma1)"
      ],
      "execution_count": 47,
      "outputs": [
        {
          "output_type": "execute_result",
          "data": {
            "text/plain": [
              "(21.733789409446892, 35.93287725721977)"
            ]
          },
          "metadata": {},
          "execution_count": 47
        }
      ]
    },
    {
      "cell_type": "code",
      "source": [
        "# hand calculation to verify the upper confidence interval limit\n",
        "\n",
        "t0975=stats.t.ppf(q=0.975, df=df1)\n",
        "UCL= mean1 + t0975 * sigma1\n",
        "UCL"
      ],
      "metadata": {
        "colab": {
          "base_uri": "https://localhost:8080/"
        },
        "id": "8KQsVkDnfT4Q",
        "outputId": "5bb2c01d-eb98-41c7-d8b1-7fd8b8a1022d"
      },
      "execution_count": 48,
      "outputs": [
        {
          "output_type": "execute_result",
          "data": {
            "text/plain": [
              "35.93287725721977"
            ]
          },
          "metadata": {},
          "execution_count": 48
        }
      ]
    },
    {
      "cell_type": "markdown",
      "source": [
        "Your turn: can you compute the lower confidence interval limit?"
      ],
      "metadata": {
        "id": "LL051RV2KCwa"
      }
    },
    {
      "cell_type": "code",
      "source": [
        "# 95% confidence interval (variance known)\n",
        "# known std=20\n",
        "x=data['Chiefs']\n",
        "mean1=np.mean(x)\n",
        "stats.norm.interval(0.95, loc=mean1, scale=20/np.sqrt(n))"
      ],
      "metadata": {
        "colab": {
          "base_uri": "https://localhost:8080/"
        },
        "id": "oa6oFb5me3Pw",
        "outputId": "0f054114-e1a1-4dc2-a6bf-6b45fea5ea68"
      },
      "execution_count": 49,
      "outputs": [
        {
          "output_type": "execute_result",
          "data": {
            "text/plain": [
              "(12.830294412148966, 44.8363722545177)"
            ]
          },
          "metadata": {},
          "execution_count": 49
        }
      ]
    },
    {
      "cell_type": "markdown",
      "metadata": {
        "id": "xP1PVPZ6khZm"
      },
      "source": [
        "Your turn: can you constuct a 99% CI of x?"
      ]
    },
    {
      "cell_type": "markdown",
      "source": [
        "# VII. Critical Value of Chi-square distribution"
      ],
      "metadata": {
        "id": "Swk5ABfx25YO"
      }
    },
    {
      "cell_type": "code",
      "source": [
        "from scipy.stats import chi2\n",
        "\n",
        "alpha = 0.05  # significance level\n",
        "df = 10       # degrees of freedom\n",
        "\n",
        "critical_value = chi2.ppf(1 - alpha, df)\n",
        "print(f\"Critical value: {critical_value}\")\n",
        "\n"
      ],
      "metadata": {
        "colab": {
          "base_uri": "https://localhost:8080/"
        },
        "id": "7kD9OFqW2tPJ",
        "outputId": "77a4df73-a6d6-47c3-aaec-3f69cd4535d4"
      },
      "execution_count": 50,
      "outputs": [
        {
          "output_type": "stream",
          "name": "stdout",
          "text": [
            "Critical value: 18.307038053275146\n"
          ]
        }
      ]
    },
    {
      "cell_type": "markdown",
      "source": [
        "# VIII. Critical Value of F distribution"
      ],
      "metadata": {
        "id": "rTk8Ul3-E7l3"
      }
    },
    {
      "cell_type": "code",
      "source": [
        "from scipy.stats import f\n",
        "\n",
        "alpha = 0.05  # significance level\n",
        "dfn = 5       # degrees of freedom for numeritor\n",
        "dfd = 5       # degrees of freedom for denominator\n",
        "\n",
        "# f.cdf(x, dfn, dfd) computes the CDF at value x with numerator df (dfn) and denominator df (dfd)\n",
        "\n",
        "critical_value = f.ppf(1 - alpha, dfn, dfd)\n",
        "print(f\"Critical value: {critical_value}\")\n",
        "\n",
        "# assuming the ratio is F0, report the CDF value up to F0\n",
        "F0=2\n",
        "cdf_value = f.cdf(F0, dfn, dfd)\n",
        "print(f\"CDF value: {cdf_value}\")"
      ],
      "metadata": {
        "colab": {
          "base_uri": "https://localhost:8080/"
        },
        "id": "iqBOTwHME-_w",
        "outputId": "15dda459-0745-4a69-fd68-d69d98d787ab"
      },
      "execution_count": 51,
      "outputs": [
        {
          "output_type": "stream",
          "name": "stdout",
          "text": [
            "Critical value: 5.050329057632646\n",
            "CDF value: 0.7674886808696213\n"
          ]
        }
      ]
    }
  ]
}